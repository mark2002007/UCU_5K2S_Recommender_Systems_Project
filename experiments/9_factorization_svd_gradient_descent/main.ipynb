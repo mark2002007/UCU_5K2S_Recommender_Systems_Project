{
      "cells": [
            {
                  "cell_type": "code",
                  "execution_count": 1,
                  "metadata": {
                        "ExecuteTime": {
                              "end_time": "2024-06-16T08:15:59.615835Z",
                              "start_time": "2024-06-16T08:15:57.800229Z"
                        }
                  },
                  "outputs": [],
                  "source": [
                        "import os\n",
                        "ROOT = os.path.join('..', '..')\n",
                        "import sys\n",
                        "sys.path.append(ROOT)\n",
                        "# \n",
                        "import numpy as np\n",
                        "np.random.seed(42)\n",
                        "\n",
                        "from src.models import SVDGradientDescentRecommender"
                  ]
            },
            {
                  "cell_type": "code",
                  "execution_count": 2,
                  "metadata": {},
                  "outputs": [],
                  "source": [
                        "from src.utils import read_ml, ml_train_test_split\n",
                        "\n",
                        "ml_complete_df, ml_users_df, ml_ratings_df, ml_movies_df, ml_genres_df = read_ml()\n",
                        "\n",
                        "MAX_K = 20\n",
                        "ml_ratings_train_df, ml_ratings_test_df = ml_train_test_split(ml_ratings_df=ml_ratings_df, min_user_test_samples=MAX_K)"
                  ]
            },
            {
                  "cell_type": "code",
                  "execution_count": 3,
                  "metadata": {},
                  "outputs": [
                        {
                              "name": "stderr",
                              "output_type": "stream",
                              "text": [
                                    " 10%|█         | 1/10 [00:07<01:09,  7.72s/it]"
                              ]
                        },
                        {
                              "name": "stdout",
                              "output_type": "stream",
                              "text": [
                                    "Iteration 1: MSE = 4.267623667905121\n"
                              ]
                        },
                        {
                              "name": "stderr",
                              "output_type": "stream",
                              "text": [
                                    " 20%|██        | 2/10 [00:16<01:05,  8.18s/it]"
                              ]
                        },
                        {
                              "name": "stdout",
                              "output_type": "stream",
                              "text": [
                                    "Iteration 2: MSE = 1.1732784036861301\n"
                              ]
                        },
                        {
                              "name": "stderr",
                              "output_type": "stream",
                              "text": [
                                    " 30%|███       | 3/10 [00:23<00:53,  7.69s/it]"
                              ]
                        },
                        {
                              "name": "stdout",
                              "output_type": "stream",
                              "text": [
                                    "Iteration 3: MSE = 0.9317998736051232\n"
                              ]
                        },
                        {
                              "name": "stderr",
                              "output_type": "stream",
                              "text": [
                                    " 40%|████      | 4/10 [00:33<00:52,  8.69s/it]"
                              ]
                        },
                        {
                              "name": "stdout",
                              "output_type": "stream",
                              "text": [
                                    "Iteration 4: MSE = 0.8727704652719667\n"
                              ]
                        },
                        {
                              "name": "stderr",
                              "output_type": "stream",
                              "text": [
                                    " 50%|█████     | 5/10 [00:43<00:46,  9.32s/it]"
                              ]
                        },
                        {
                              "name": "stdout",
                              "output_type": "stream",
                              "text": [
                                    "Iteration 5: MSE = 0.8443738548329147\n"
                              ]
                        },
                        {
                              "name": "stderr",
                              "output_type": "stream",
                              "text": [
                                    " 60%|██████    | 6/10 [00:53<00:37,  9.27s/it]"
                              ]
                        },
                        {
                              "name": "stdout",
                              "output_type": "stream",
                              "text": [
                                    "Iteration 6: MSE = 0.8268161370930831\n"
                              ]
                        },
                        {
                              "name": "stderr",
                              "output_type": "stream",
                              "text": [
                                    " 70%|███████   | 7/10 [01:01<00:26,  8.83s/it]"
                              ]
                        },
                        {
                              "name": "stdout",
                              "output_type": "stream",
                              "text": [
                                    "Iteration 7: MSE = 0.8139520032418841\n"
                              ]
                        },
                        {
                              "name": "stderr",
                              "output_type": "stream",
                              "text": [
                                    " 80%|████████  | 8/10 [01:05<00:14,  7.47s/it]"
                              ]
                        },
                        {
                              "name": "stdout",
                              "output_type": "stream",
                              "text": [
                                    "Iteration 8: MSE = 0.8032601364890378\n"
                              ]
                        },
                        {
                              "name": "stderr",
                              "output_type": "stream",
                              "text": [
                                    " 90%|█████████ | 9/10 [01:10<00:06,  6.53s/it]"
                              ]
                        },
                        {
                              "name": "stdout",
                              "output_type": "stream",
                              "text": [
                                    "Iteration 9: MSE = 0.7936506278037382\n"
                              ]
                        },
                        {
                              "name": "stderr",
                              "output_type": "stream",
                              "text": [
                                    "100%|██████████| 10/10 [01:14<00:00,  7.46s/it]"
                              ]
                        },
                        {
                              "name": "stdout",
                              "output_type": "stream",
                              "text": [
                                    "Iteration 10: MSE = 0.7847327910840812\n"
                              ]
                        },
                        {
                              "name": "stderr",
                              "output_type": "stream",
                              "text": [
                                    "\n"
                              ]
                        }
                  ],
                  "source": [
                        "recommender = SVDGradientDescentRecommender(ml_movies_df, ml_users_df)\n",
                        "recommender.fit(ml_ratings_train_df)"
                  ]
            },
            {
                  "cell_type": "code",
                  "execution_count": 4,
                  "metadata": {},
                  "outputs": [
                        {
                              "name": "stderr",
                              "output_type": "stream",
                              "text": [
                                    "100%|██████████| 769/769 [00:22<00:00, 33.60it/s]\n"
                              ]
                        }
                  ],
                  "source": [
                        "metrics = recommender.evaluate(ml_ratings_test_df, k=MAX_K)"
                  ]
            },
            {
                  "cell_type": "code",
                  "execution_count": 5,
                  "metadata": {},
                  "outputs": [
                        {
                              "name": "stdout",
                              "output_type": "stream",
                              "text": [
                                    "Predictive metrics\n",
                                    "Average Precision@K: 0.151\n",
                                    "Average Recall@K: 0.0298\n",
                                    "Average F1@K: 0.0442\n",
                                    "Average Average Precision: 0.1796\n",
                                    "\n",
                                    "Best Precision@K: 0.95\n",
                                    "Best Recall@K: 0.2609\n",
                                    "Best F1@K: 0.339\n",
                                    "Best Average Precision 0.9975\n",
                                    "\n",
                                    "Ranking metrics\n",
                                    "MRR: 0.5649\n",
                                    "Average NDCG: 0.4657\n"
                              ]
                        }
                  ],
                  "source": [
                        "print(\"Predictive metrics\")\n",
                        "print(\"Average Precision@K:\", round(np.mean(metrics[\"precision@k\"]), 4))\n",
                        "print(\"Average Recall@K:\", round(np.mean(metrics[\"recall@k\"]), 4))\n",
                        "print(\"Average F1@K:\", round(np.mean(metrics[\"f1@k\"]), 4))\n",
                        "print(\"Average Average Precision:\", round(np.mean(metrics[\"average_precision\"]), 4))\n",
                        "print()\n",
                        "print(\"Best Precision@K:\", round(np.max(metrics[\"precision@k\"]), 4))\n",
                        "print(\"Best Recall@K:\", round(np.max(metrics[\"recall@k\"]), 4))\n",
                        "print(\"Best F1@K:\", round(np.max(metrics[\"f1@k\"]), 4))\n",
                        "print(\"Best Average Precision\", round(np.max(metrics[\"average_precision\"]), 4))\n",
                        "print()\n",
                        "print(\"Ranking metrics\")\n",
                        "print(\"MRR:\", round(np.mean(metrics[\"reciprocal_rank\"]), 4))\n",
                        "print(\"Average NDCG:\", round(np.mean(metrics[\"ndcg\"]), 4))"
                  ]
            },
            {
                  "cell_type": "code",
                  "execution_count": null,
                  "metadata": {},
                  "outputs": [],
                  "source": []
            }
      ],
      "metadata": {
            "kernelspec": {
                  "display_name": "venv",
                  "language": "python",
                  "name": "python3"
            },
            "language_info": {
                  "codemirror_mode": {
                        "name": "ipython",
                        "version": 3
                  },
                  "file_extension": ".py",
                  "mimetype": "text/x-python",
                  "name": "python",
                  "nbconvert_exporter": "python",
                  "pygments_lexer": "ipython3",
                  "version": "3.9.19"
            }
      },
      "nbformat": 4,
      "nbformat_minor": 2
}
