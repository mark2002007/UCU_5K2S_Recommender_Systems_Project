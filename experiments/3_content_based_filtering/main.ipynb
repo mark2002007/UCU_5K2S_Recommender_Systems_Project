{
 "cells": [
  {
   "cell_type": "code",
   "metadata": {
    "ExecuteTime": {
     "end_time": "2024-06-16T10:35:50.185890Z",
     "start_time": "2024-06-16T10:35:49.389140Z"
    }
   },
   "source": [
    "import os\n",
    "ROOT = os.path.join('..', '..')\n",
    "import sys\n",
    "sys.path.append(ROOT)\n",
    "#\n",
    "import numpy as np\n",
    "import polars as pl\n",
    "import altair as alt\n",
    "\n",
    "from src.metrics import ml_precision_at_k, ml_recall_at_k, ml_f1_at_k\n",
    "\n",
    "alt.data_transformers.disable_max_rows()"
   ],
   "outputs": [
    {
     "name": "stderr",
     "output_type": "stream",
     "text": [
      "C:\\Users\\38097\\anaconda3\\Lib\\site-packages\\pandas\\core\\arrays\\masked.py:60: UserWarning: Pandas requires version '1.3.6' or newer of 'bottleneck' (version '1.3.5' currently installed).\n",
      "  from pandas.core import (\n"
     ]
    },
    {
     "data": {
      "text/plain": [
       "DataTransformerRegistry.enable('default')"
      ]
     },
     "execution_count": 1,
     "metadata": {},
     "output_type": "execute_result"
    }
   ],
   "execution_count": 1
  },
  {
   "cell_type": "markdown",
   "metadata": {},
   "source": [
    "# Train - Test Split"
   ]
  },
  {
   "cell_type": "code",
   "metadata": {
    "ExecuteTime": {
     "end_time": "2024-06-16T10:35:52.399370Z",
     "start_time": "2024-06-16T10:35:51.835337Z"
    }
   },
   "source": [
    "from src.utils import read_ml, ml_train_test_split\n",
    "\n",
    "ml_complete_df, ml_users_df, ml_ratings_df, ml_movies_df, ml_genres_df = read_ml()\n",
    "\n",
    "MAX_K = 30\n",
    "ml_ratings_train_df, ml_ratings_test_df = ml_train_test_split(ml_ratings_df=ml_ratings_df, min_user_test_samples=MAX_K)"
   ],
   "outputs": [],
   "execution_count": 2
  },
  {
   "cell_type": "markdown",
   "metadata": {},
   "source": [
    "# Content Based Filtering"
   ]
  },
  {
   "cell_type": "code",
   "execution_count": 3,
   "metadata": {},
   "source": [
    "ml_test_user_id = 5245"
   ],
   "outputs": []
  },
  {
   "cell_type": "code",
   "execution_count": 4,
   "metadata": {},
   "source": [
    "def create_user_profile(user_id):\n",
    "    user_ratings = ml_ratings_train_df.filter(pl.col(\"UserID\") == user_id)\n",
    "    user_movies = user_ratings.join(ml_movies_df, on=\"MovieID\")\n",
    "    user_profile = user_movies.select([\n",
    "        pl.sum(\"Is\" + genre[0]).alias(genre[0])\n",
    "        for genre in ml_genres_df.rows() if genre[0] is not None\n",
    "    ])\n",
    "    return user_profile\n",
    "\n",
    "create_user_profile(ml_test_user_id).collect()"
   ],
   "outputs": []
  },
  {
   "cell_type": "code",
   "execution_count": 5,
   "metadata": {},
   "source": [
    "def ml_content_based_recommendation(user_id, n_recommendations=5):\n",
    "    \"\"\"\n",
    "    Calculates scores as the cosine similarity between the user profile and the movie profiles. \n",
    "    NOTE: I haven't found a way to use polars' native functions to calculate cosine similarity, so this stuff is highty inefficient\n",
    "    \"\"\"\n",
    "    user_profile = create_user_profile(user_id)\n",
    "    movie_profiles = ml_movies_df.select([\n",
    "        pl.col(\"Is\" + genre[0]).cast(pl.UInt32) \n",
    "        for genre in ml_genres_df.rows() if genre[0] is not None\n",
    "    ])\n",
    "    u = user_profile.collect().to_numpy()[0]\n",
    "    ms = movie_profiles.collect().to_numpy()\n",
    "    s = ms.dot(u) / (np.linalg.norm(u) * np.linalg.norm(ms, axis=1)+1e-12)\n",
    "    scores = ml_movies_df.with_columns(pl.Series(name=\"score\", values=s)).sort(\"score\", descending=True)\n",
    "    return scores.head(n_recommendations)\n",
    "\n",
    "ml_recommendation = ml_content_based_recommendation(ml_test_user_id, 20)"
   ],
   "outputs": []
  },
  {
   "cell_type": "code",
   "execution_count": 6,
   "metadata": {},
   "source": [
    "print(f\"Precision@5 : {ml_precision_at_k(5, ml_recommendation, ml_ratings_test_df, ml_test_user_id)}\")\n",
    "print(f\"Precision@10: {ml_precision_at_k(10, ml_recommendation, ml_ratings_test_df,  ml_test_user_id)}\")\n",
    "print(f\"Precision@15: {ml_precision_at_k(15, ml_recommendation, ml_ratings_test_df, ml_test_user_id)}\")"
   ],
   "outputs": []
  },
  {
   "cell_type": "code",
   "execution_count": 7,
   "metadata": {},
   "source": [
    "print(f\"Recall@5: {ml_recall_at_k(5, ml_recommendation, ml_ratings_test_df, ml_test_user_id)}\")\n",
    "print(f\"Recall@10: {ml_recall_at_k(10, ml_recommendation, ml_ratings_test_df, ml_test_user_id)}\")\n",
    "print(f\"Recall@15: {ml_recall_at_k(15, ml_recommendation, ml_ratings_test_df, ml_test_user_id)}\")"
   ],
   "outputs": []
  },
  {
   "cell_type": "code",
   "execution_count": 8,
   "metadata": {},
   "source": [
    "print(f\"F1@5: {ml_f1_at_k(5,   ml_recommendation, ml_ratings_test_df, ml_test_user_id)}\")\n",
    "print(f\"F1@10: {ml_f1_at_k(10, ml_recommendation, ml_ratings_test_df, ml_test_user_id)}\")\n",
    "print(f\"F1@15: {ml_f1_at_k(15, ml_recommendation, ml_ratings_test_df, ml_test_user_id)}\")"
   ],
   "outputs": []
  }
 ],
 "metadata": {
  "kernelspec": {
   "display_name": "venv",
   "language": "python",
   "name": "python3"
  },
  "language_info": {
   "codemirror_mode": {
    "name": "ipython",
    "version": 3
   },
   "file_extension": ".py",
   "mimetype": "text/x-python",
   "name": "python",
   "nbconvert_exporter": "python",
   "pygments_lexer": "ipython3",
   "version": "3.11.9"
  }
 },
 "nbformat": 4,
 "nbformat_minor": 2
}
