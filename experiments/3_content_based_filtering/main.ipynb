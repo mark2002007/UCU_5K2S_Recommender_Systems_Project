{
 "cells": [
  {
   "cell_type": "code",
   "execution_count": 1,
   "metadata": {},
   "outputs": [
    {
     "data": {
      "text/plain": [
       "DataTransformerRegistry.enable('default')"
      ]
     },
     "execution_count": 1,
     "metadata": {},
     "output_type": "execute_result"
    }
   ],
   "source": [
    "import os\n",
    "ROOT = os.path.join('..', '..')\n",
    "import sys\n",
    "sys.path.append(ROOT)\n",
    "#\n",
    "import numpy as np\n",
    "import polars as pl\n",
    "import altair as alt\n",
    "from tqdm import tqdm\n",
    "\n",
    "from scripts.data import (\n",
    "    ml_ratings_df, ml_movies_df, ml_users_df, ml_df, ml_genres,\n",
    "    bc_ratings_df, bc_books_df, bc_users_df, bc_df,\n",
    ")\n",
    "from src.metrics import (\n",
    "    ml_precision_at_k, ml_recall_at_k, ml_f1_at_k\n",
    ")\n",
    "from src.models.simple import ml_popularity_based_recommendation\n",
    "\n",
    "alt.data_transformers.disable_max_rows()"
   ]
  },
  {
   "cell_type": "markdown",
   "metadata": {},
   "source": [
    "# Train - Test Split"
   ]
  },
  {
   "cell_type": "code",
   "execution_count": 2,
   "metadata": {},
   "outputs": [],
   "source": [
    "ml_ratings_df = ml_ratings_df.sort(\"Timestamp\")\n",
    "ml_ratings_df_len = ml_df.select(pl.len()).collect().item()\n",
    "train_size = int(ml_ratings_df_len * 0.8)\n",
    "ml_ratings_train_df = ml_df.head(train_size)\n",
    "ml_ratings_test_df = ml_df.tail(ml_ratings_df_len - train_size)"
   ]
  },
  {
   "cell_type": "markdown",
   "metadata": {},
   "source": [
    "# Content Based Filtering"
   ]
  },
  {
   "cell_type": "code",
   "execution_count": 3,
   "metadata": {},
   "outputs": [],
   "source": [
    "ml_test_user_id = 5245"
   ]
  },
  {
   "cell_type": "code",
   "execution_count": 4,
   "metadata": {},
   "outputs": [
    {
     "data": {
      "text/html": [
       "<div><style>\n",
       ".dataframe > thead > tr,\n",
       ".dataframe > tbody > tr {\n",
       "  text-align: right;\n",
       "  white-space: pre-wrap;\n",
       "}\n",
       "</style>\n",
       "<small>shape: (1, 18)</small><table border=\"1\" class=\"dataframe\"><thead><tr><th>Western</th><th>Documentary</th><th>Crime</th><th>Action</th><th>Mystery</th><th>Horror</th><th>Comedy</th><th>Adventure</th><th>Thriller</th><th>Romance</th><th>Drama</th><th>Children&#x27;s</th><th>Sci-Fi</th><th>Animation</th><th>Film-Noir</th><th>Fantasy</th><th>War</th><th>Musical</th></tr><tr><td>u32</td><td>u32</td><td>u32</td><td>u32</td><td>u32</td><td>u32</td><td>u32</td><td>u32</td><td>u32</td><td>u32</td><td>u32</td><td>u32</td><td>u32</td><td>u32</td><td>u32</td><td>u32</td><td>u32</td><td>u32</td></tr></thead><tbody><tr><td>0</td><td>0</td><td>0</td><td>0</td><td>0</td><td>0</td><td>0</td><td>0</td><td>0</td><td>0</td><td>0</td><td>0</td><td>0</td><td>0</td><td>0</td><td>0</td><td>0</td><td>0</td></tr></tbody></table></div>"
      ],
      "text/plain": [
       "shape: (1, 18)\n",
       "┌─────────┬─────────────┬───────┬────────┬───┬───────────┬─────────┬─────┬─────────┐\n",
       "│ Western ┆ Documentary ┆ Crime ┆ Action ┆ … ┆ Film-Noir ┆ Fantasy ┆ War ┆ Musical │\n",
       "│ ---     ┆ ---         ┆ ---   ┆ ---    ┆   ┆ ---       ┆ ---     ┆ --- ┆ ---     │\n",
       "│ u32     ┆ u32         ┆ u32   ┆ u32    ┆   ┆ u32       ┆ u32     ┆ u32 ┆ u32     │\n",
       "╞═════════╪═════════════╪═══════╪════════╪═══╪═══════════╪═════════╪═════╪═════════╡\n",
       "│ 0       ┆ 0           ┆ 0     ┆ 0      ┆ … ┆ 0         ┆ 0       ┆ 0   ┆ 0       │\n",
       "└─────────┴─────────────┴───────┴────────┴───┴───────────┴─────────┴─────┴─────────┘"
      ]
     },
     "execution_count": 4,
     "metadata": {},
     "output_type": "execute_result"
    }
   ],
   "source": [
    "def create_user_profile(user_id):\n",
    "    user_ratings = ml_ratings_train_df.filter(pl.col(\"UserID\") == user_id)\n",
    "    user_movies = user_ratings.join(ml_movies_df, on=\"MovieID\")\n",
    "    user_profile = user_movies.select([\n",
    "        pl.sum(\"Is\" + genre[0]).alias(genre[0])\n",
    "        for genre in ml_genres.rows() if genre[0] is not None\n",
    "    ])\n",
    "    return user_profile\n",
    "\n",
    "create_user_profile(ml_test_user_id).collect()"
   ]
  },
  {
   "cell_type": "code",
   "execution_count": 5,
   "metadata": {},
   "outputs": [],
   "source": [
    "def ml_content_based_recommendation(user_id, n_recommendations=5):\n",
    "    \"\"\"\n",
    "    Calculates scores as the cosine similarity between the user profile and the movie profiles. \n",
    "    NOTE: I haven't found a way to use polars' native functions to calculate cosine similarity, so this stuff is highty inefficient\n",
    "    \"\"\"\n",
    "    user_profile = create_user_profile(user_id)\n",
    "    movie_profiles = ml_movies_df.select([\n",
    "        pl.col(\"Is\" + genre[0]).cast(pl.UInt32) \n",
    "        for genre in ml_genres.rows() if genre[0] is not None\n",
    "    ])\n",
    "    u = user_profile.collect().to_numpy()[0]\n",
    "    ms = movie_profiles.collect().to_numpy()\n",
    "    s = ms.dot(u) / (np.linalg.norm(u) * np.linalg.norm(ms, axis=1)+1e-12)\n",
    "    scores = ml_movies_df.with_columns(pl.Series(name=\"score\", values=s)).sort(\"score\", descending=True)\n",
    "    return scores.head(n_recommendations)\n",
    "\n",
    "ml_recommendation = ml_content_based_recommendation(ml_test_user_id, 20)"
   ]
  },
  {
   "cell_type": "code",
   "execution_count": 6,
   "metadata": {},
   "outputs": [
    {
     "name": "stdout",
     "output_type": "stream",
     "text": [
      "Precision@5 : 0.4\n",
      "Precision@10: 0.2\n",
      "Precision@15: 0.13333333333333333\n"
     ]
    }
   ],
   "source": [
    "print(f\"Precision@5 : {ml_precision_at_k(5, ml_recommendation, ml_ratings_test_df, ml_test_user_id)}\")\n",
    "print(f\"Precision@10: {ml_precision_at_k(10, ml_recommendation, ml_ratings_test_df,  ml_test_user_id)}\")\n",
    "print(f\"Precision@15: {ml_precision_at_k(15, ml_recommendation, ml_ratings_test_df, ml_test_user_id)}\")"
   ]
  },
  {
   "cell_type": "code",
   "execution_count": 7,
   "metadata": {},
   "outputs": [
    {
     "name": "stdout",
     "output_type": "stream",
     "text": [
      "Recall@5: 0.06666666666666667\n",
      "Recall@10: 0.06666666666666667\n",
      "Recall@15: 0.06666666666666667\n"
     ]
    }
   ],
   "source": [
    "print(f\"Recall@5: {ml_recall_at_k(5, ml_recommendation, ml_ratings_test_df, ml_test_user_id)}\")\n",
    "print(f\"Recall@10: {ml_recall_at_k(10, ml_recommendation, ml_ratings_test_df, ml_test_user_id)}\")\n",
    "print(f\"Recall@15: {ml_recall_at_k(15, ml_recommendation, ml_ratings_test_df, ml_test_user_id)}\")"
   ]
  },
  {
   "cell_type": "code",
   "execution_count": 8,
   "metadata": {},
   "outputs": [
    {
     "name": "stdout",
     "output_type": "stream",
     "text": [
      "F1@5: 0.1142857142854694\n",
      "F1@10: 0.09999999999962501\n",
      "F1@15: 0.08888888888844444\n"
     ]
    }
   ],
   "source": [
    "print(f\"F1@5: {ml_f1_at_k(5,   ml_recommendation, ml_ratings_test_df, ml_test_user_id)}\")\n",
    "print(f\"F1@10: {ml_f1_at_k(10, ml_recommendation, ml_ratings_test_df, ml_test_user_id)}\")\n",
    "print(f\"F1@15: {ml_f1_at_k(15, ml_recommendation, ml_ratings_test_df, ml_test_user_id)}\")"
   ]
  }
 ],
 "metadata": {
  "kernelspec": {
   "display_name": "venv",
   "language": "python",
   "name": "python3"
  },
  "language_info": {
   "codemirror_mode": {
    "name": "ipython",
    "version": 3
   },
   "file_extension": ".py",
   "mimetype": "text/x-python",
   "name": "python",
   "nbconvert_exporter": "python",
   "pygments_lexer": "ipython3",
   "version": "3.11.9"
  }
 },
 "nbformat": 4,
 "nbformat_minor": 2
}
