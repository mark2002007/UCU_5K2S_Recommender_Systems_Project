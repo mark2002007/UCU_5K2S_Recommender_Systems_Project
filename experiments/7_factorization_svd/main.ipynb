{
 "cells": [
  {
   "cell_type": "code",
   "execution_count": 1,
   "metadata": {
    "ExecuteTime": {
     "end_time": "2024-06-16T08:15:59.615835Z",
     "start_time": "2024-06-16T08:15:57.800229Z"
    }
   },
   "outputs": [],
   "source": [
    "import os\n",
    "ROOT = os.path.join('..', '..')\n",
    "import sys\n",
    "sys.path.append(ROOT)\n",
    "# \n",
    "import numpy as np\n",
    "\n",
    "from src.models import SVDCollaborativeFiltering"
   ]
  },
  {
   "cell_type": "code",
   "execution_count": 12,
   "metadata": {},
   "outputs": [],
   "source": [
    "from src.utils import read_ml, ml_train_test_split\n",
    "\n",
    "ml_complete_df, ml_users_df, ml_ratings_df, ml_movies_df, ml_genres_df = read_ml()\n",
    "\n",
    "MAX_K = 20\n",
    "ml_ratings_train_df, ml_ratings_test_df = ml_train_test_split(ml_ratings_df=ml_ratings_df, min_user_test_samples=MAX_K)"
   ]
  },
  {
   "cell_type": "code",
   "execution_count": 13,
   "metadata": {},
   "outputs": [
    {
     "name": "stderr",
     "output_type": "stream",
     "text": [
      "c:\\Users\\UADulinaTe\\Desktop\\UCU_5K2S_Recommender_Systems_Project\\experiments\\7_factorization_svd\\..\\..\\src\\models\\factorization_svd.py:27: FutureWarning: Downcasting object dtype arrays on .fillna, .ffill, .bfill is deprecated and will change in a future version. Call result.infer_objects(copy=False) instead. To opt-in to the future behavior, set `pd.set_option('future.no_silent_downcasting', True)`\n",
      "  utility_matrix_df = utility_matrix_df.fillna(global_mean)\n"
     ]
    }
   ],
   "source": [
    "recommender = SVDCollaborativeFiltering(ml_movies_df, ml_users_df)\n",
    "recommender.fit(ml_ratings_train_df, n_features=10)"
   ]
  },
  {
   "cell_type": "code",
   "execution_count": 14,
   "metadata": {},
   "outputs": [
    {
     "name": "stderr",
     "output_type": "stream",
     "text": [
      "100%|██████████| 769/769 [00:08<00:00, 87.69it/s]\n"
     ]
    }
   ],
   "source": [
    "metrics = recommender.evaluate(ml_ratings_test_df, k=MAX_K)"
   ]
  },
  {
   "cell_type": "code",
   "execution_count": 15,
   "metadata": {},
   "outputs": [
    {
     "name": "stdout",
     "output_type": "stream",
     "text": [
      "Predictive metrics\n",
      "Average Precision@K: 0.346\n",
      "Average Recall@K: 0.0706\n",
      "Average F1@K: 0.1046\n",
      "Average precision: 0.3907\n",
      "Average num of relevant items in test: 140.8283\n",
      "\n",
      "Best Precision@K: 1.0\n",
      "Best Recall@K: 0.36\n",
      "Best F1@K: 0.4\n",
      "Best average precision 1.0\n",
      "\n",
      "Ranking metrics\n",
      "MRR: 0.6665\n",
      "Average NDCG: 0.6692\n"
     ]
    }
   ],
   "source": [
    "print(\"Predictive metrics\")\n",
    "print(\"Average Precision@K:\", round(np.mean(metrics[\"precision@k\"]), 4))\n",
    "print(\"Average Recall@K:\", round(np.mean(metrics[\"recall@k\"]), 4))\n",
    "print(\"Average F1@K:\", round(np.mean(metrics[\"f1@k\"]), 4))\n",
    "print(\"Average precision:\", round(np.mean(metrics[\"average_precision\"]), 4))\n",
    "print(\"Average num of relevant items in test:\", round(np.mean(metrics[\"relevant items\"]), 4))\n",
    "print()\n",
    "print(\"Best Precision@K:\", round(np.max(metrics[\"precision@k\"]), 4))\n",
    "print(\"Best Recall@K:\", round(np.max(metrics[\"recall@k\"]), 4))\n",
    "print(\"Best F1@K:\", round(np.max(metrics[\"f1@k\"]), 4))\n",
    "print(\"Best average precision\", round(np.max(metrics[\"average_precision\"]), 4))\n",
    "print()\n",
    "print(\"Ranking metrics\")\n",
    "print(\"MRR:\", round(np.mean(metrics[\"reciprocal_rank\"]), 4))\n",
    "print(\"Average NDCG:\", round(np.mean(metrics[\"NDCG\"]), 4))"
   ]
  },
  {
   "cell_type": "code",
   "execution_count": 17,
   "metadata": {},
   "outputs": [
    {
     "data": {
      "text/plain": [
       "0.36"
      ]
     },
     "execution_count": 17,
     "metadata": {},
     "output_type": "execute_result"
    }
   ],
   "source": [
    "np.max(metrics[\"recall@k\"])\n"
   ]
  },
  {
   "cell_type": "code",
   "execution_count": null,
   "metadata": {},
   "outputs": [],
   "source": []
  }
 ],
 "metadata": {
  "kernelspec": {
   "display_name": "venv",
   "language": "python",
   "name": "python3"
  },
  "language_info": {
   "codemirror_mode": {
    "name": "ipython",
    "version": 3
   },
   "file_extension": ".py",
   "mimetype": "text/x-python",
   "name": "python",
   "nbconvert_exporter": "python",
   "pygments_lexer": "ipython3",
   "version": "3.11.9"
  }
 },
 "nbformat": 4,
 "nbformat_minor": 2
}
