{
 "cells": [
  {
   "cell_type": "code",
   "execution_count": 1,
   "metadata": {},
   "outputs": [
    {
     "data": {
      "text/plain": [
       "DataTransformerRegistry.enable('default')"
      ]
     },
     "execution_count": 1,
     "metadata": {},
     "output_type": "execute_result"
    }
   ],
   "source": [
    "import os\n",
    "ROOT = os.path.join('..', '..')\n",
    "import sys\n",
    "sys.path.append(ROOT)\n",
    "#\n",
    "import numpy as np\n",
    "import polars as pl\n",
    "import altair as alt\n",
    "from tqdm import tqdm\n",
    "\n",
    "from scripts.data import (\n",
    "    ml_ratings_df, ml_movies_df, ml_users_df, ml_df, ml_genres,\n",
    "    bc_ratings_df, bc_books_df, bc_users_df, bc_df,\n",
    ")\n",
    "from src.metrics import (\n",
    "    ml_precision_at_k, ml_recall_at_k, ml_f1_at_k\n",
    ")\n",
    "from src.models.simple import ml_popularity_based_recommendation\n",
    "\n",
    "alt.data_transformers.disable_max_rows()"
   ]
  },
  {
   "cell_type": "markdown",
   "metadata": {},
   "source": [
    "# Train - Test Split"
   ]
  },
  {
   "cell_type": "code",
   "execution_count": 2,
   "metadata": {},
   "outputs": [],
   "source": [
    "ml_ratings_df = ml_ratings_df.sort(\"Timestamp\")\n",
    "ml_ratings_df_len = ml_df.select(pl.len()).collect().item()\n",
    "train_size = int(ml_ratings_df_len * 0.8)\n",
    "ml_ratings_train_df = ml_df.head(train_size)\n",
    "ml_ratings_test_df = ml_df.tail(ml_ratings_df_len - train_size)"
   ]
  },
  {
   "cell_type": "markdown",
   "metadata": {},
   "source": [
    "# User-User Colaborative Filtering"
   ]
  },
  {
   "cell_type": "code",
   "execution_count": 3,
   "metadata": {},
   "outputs": [
    {
     "name": "stdout",
     "output_type": "stream",
     "text": [
      "shape: (1, 5)\n",
      "┌────────┬────────┬─────┬───────────────┬──────────┐\n",
      "│ UserID ┆ Gender ┆ Age ┆ Occupation    ┆ Zip-code │\n",
      "│ ---    ┆ ---    ┆ --- ┆ ---           ┆ ---      │\n",
      "│ i32    ┆ str    ┆ i32 ┆ str           ┆ str      │\n",
      "╞════════╪════════╪═════╪═══════════════╪══════════╡\n",
      "│ 2      ┆ M      ┆ 56  ┆ self-employed ┆ 70072    │\n",
      "└────────┴────────┴─────┴───────────────┴──────────┘\n"
     ]
    }
   ],
   "source": [
    "def ml_user_user_colaborative_filtering_recommendation(user_id, n_recommendations=5):\n",
    "    # Get user\n",
    "    user = ml_users_df.filter(pl.col(\"UserID\") == user_id)\n",
    "    # Get similar users\n",
    "    print(user.collect())\n",
    "\n",
    "ml_user_user_colaborative_filtering_recommendation(2, 20)"
   ]
  },
  {
   "cell_type": "code",
   "execution_count": 4,
   "metadata": {},
   "outputs": [
    {
     "data": {
      "text/html": [
       "<div><style>\n",
       ".dataframe > thead > tr,\n",
       ".dataframe > tbody > tr {\n",
       "  text-align: right;\n",
       "  white-space: pre-wrap;\n",
       "}\n",
       "</style>\n",
       "<small>shape: (6_040, 5)</small><table border=\"1\" class=\"dataframe\"><thead><tr><th>UserID</th><th>Gender</th><th>Age</th><th>Occupation</th><th>Zip-code</th></tr><tr><td>i32</td><td>str</td><td>i32</td><td>str</td><td>str</td></tr></thead><tbody><tr><td>1</td><td>&quot;F&quot;</td><td>1</td><td>&quot;K-12 student&quot;</td><td>&quot;48067&quot;</td></tr><tr><td>2</td><td>&quot;M&quot;</td><td>56</td><td>&quot;self-employed&quot;</td><td>&quot;70072&quot;</td></tr><tr><td>3</td><td>&quot;M&quot;</td><td>25</td><td>&quot;scientist&quot;</td><td>&quot;55117&quot;</td></tr><tr><td>4</td><td>&quot;M&quot;</td><td>45</td><td>&quot;executive/managerial&quot;</td><td>&quot;02460&quot;</td></tr><tr><td>5</td><td>&quot;M&quot;</td><td>25</td><td>&quot;writer&quot;</td><td>&quot;55455&quot;</td></tr><tr><td>&hellip;</td><td>&hellip;</td><td>&hellip;</td><td>&hellip;</td><td>&hellip;</td></tr><tr><td>6036</td><td>&quot;F&quot;</td><td>25</td><td>&quot;scientist&quot;</td><td>&quot;32603&quot;</td></tr><tr><td>6037</td><td>&quot;F&quot;</td><td>45</td><td>&quot;academic/educator&quot;</td><td>&quot;76006&quot;</td></tr><tr><td>6038</td><td>&quot;F&quot;</td><td>56</td><td>&quot;academic/educator&quot;</td><td>&quot;14706&quot;</td></tr><tr><td>6039</td><td>&quot;F&quot;</td><td>45</td><td>&quot;other&quot;</td><td>&quot;01060&quot;</td></tr><tr><td>6040</td><td>&quot;M&quot;</td><td>25</td><td>&quot;doctor/health care&quot;</td><td>&quot;11106&quot;</td></tr></tbody></table></div>"
      ],
      "text/plain": [
       "shape: (6_040, 5)\n",
       "┌────────┬────────┬─────┬──────────────────────┬──────────┐\n",
       "│ UserID ┆ Gender ┆ Age ┆ Occupation           ┆ Zip-code │\n",
       "│ ---    ┆ ---    ┆ --- ┆ ---                  ┆ ---      │\n",
       "│ i32    ┆ str    ┆ i32 ┆ str                  ┆ str      │\n",
       "╞════════╪════════╪═════╪══════════════════════╪══════════╡\n",
       "│ 1      ┆ F      ┆ 1   ┆ K-12 student         ┆ 48067    │\n",
       "│ 2      ┆ M      ┆ 56  ┆ self-employed        ┆ 70072    │\n",
       "│ 3      ┆ M      ┆ 25  ┆ scientist            ┆ 55117    │\n",
       "│ 4      ┆ M      ┆ 45  ┆ executive/managerial ┆ 02460    │\n",
       "│ 5      ┆ M      ┆ 25  ┆ writer               ┆ 55455    │\n",
       "│ …      ┆ …      ┆ …   ┆ …                    ┆ …        │\n",
       "│ 6036   ┆ F      ┆ 25  ┆ scientist            ┆ 32603    │\n",
       "│ 6037   ┆ F      ┆ 45  ┆ academic/educator    ┆ 76006    │\n",
       "│ 6038   ┆ F      ┆ 56  ┆ academic/educator    ┆ 14706    │\n",
       "│ 6039   ┆ F      ┆ 45  ┆ other                ┆ 01060    │\n",
       "│ 6040   ┆ M      ┆ 25  ┆ doctor/health care   ┆ 11106    │\n",
       "└────────┴────────┴─────┴──────────────────────┴──────────┘"
      ]
     },
     "execution_count": 4,
     "metadata": {},
     "output_type": "execute_result"
    }
   ],
   "source": [
    "ml_users_df.collect()"
   ]
  },
  {
   "cell_type": "code",
   "execution_count": 5,
   "metadata": {},
   "outputs": [
    {
     "data": {
      "text/html": [
       "<div><style>\n",
       ".dataframe > thead > tr,\n",
       ".dataframe > tbody > tr {\n",
       "  text-align: right;\n",
       "  white-space: pre-wrap;\n",
       "}\n",
       "</style>\n",
       "<small>shape: (6_040, 5)</small><table border=\"1\" class=\"dataframe\"><thead><tr><th>UserID</th><th>Gender</th><th>Age</th><th>Occupation</th><th>Zip-code</th></tr><tr><td>i32</td><td>str</td><td>i32</td><td>str</td><td>str</td></tr></thead><tbody><tr><td>1</td><td>&quot;F&quot;</td><td>1</td><td>&quot;K-12 student&quot;</td><td>&quot;48067&quot;</td></tr><tr><td>2</td><td>&quot;M&quot;</td><td>56</td><td>&quot;self-employed&quot;</td><td>&quot;70072&quot;</td></tr><tr><td>3</td><td>&quot;M&quot;</td><td>25</td><td>&quot;scientist&quot;</td><td>&quot;55117&quot;</td></tr><tr><td>4</td><td>&quot;M&quot;</td><td>45</td><td>&quot;executive/managerial&quot;</td><td>&quot;02460&quot;</td></tr><tr><td>5</td><td>&quot;M&quot;</td><td>25</td><td>&quot;writer&quot;</td><td>&quot;55455&quot;</td></tr><tr><td>&hellip;</td><td>&hellip;</td><td>&hellip;</td><td>&hellip;</td><td>&hellip;</td></tr><tr><td>6036</td><td>&quot;F&quot;</td><td>25</td><td>&quot;scientist&quot;</td><td>&quot;32603&quot;</td></tr><tr><td>6037</td><td>&quot;F&quot;</td><td>45</td><td>&quot;academic/educator&quot;</td><td>&quot;76006&quot;</td></tr><tr><td>6038</td><td>&quot;F&quot;</td><td>56</td><td>&quot;academic/educator&quot;</td><td>&quot;14706&quot;</td></tr><tr><td>6039</td><td>&quot;F&quot;</td><td>45</td><td>&quot;other&quot;</td><td>&quot;01060&quot;</td></tr><tr><td>6040</td><td>&quot;M&quot;</td><td>25</td><td>&quot;doctor/health care&quot;</td><td>&quot;11106&quot;</td></tr></tbody></table></div>"
      ],
      "text/plain": [
       "shape: (6_040, 5)\n",
       "┌────────┬────────┬─────┬──────────────────────┬──────────┐\n",
       "│ UserID ┆ Gender ┆ Age ┆ Occupation           ┆ Zip-code │\n",
       "│ ---    ┆ ---    ┆ --- ┆ ---                  ┆ ---      │\n",
       "│ i32    ┆ str    ┆ i32 ┆ str                  ┆ str      │\n",
       "╞════════╪════════╪═════╪══════════════════════╪══════════╡\n",
       "│ 1      ┆ F      ┆ 1   ┆ K-12 student         ┆ 48067    │\n",
       "│ 2      ┆ M      ┆ 56  ┆ self-employed        ┆ 70072    │\n",
       "│ 3      ┆ M      ┆ 25  ┆ scientist            ┆ 55117    │\n",
       "│ 4      ┆ M      ┆ 45  ┆ executive/managerial ┆ 02460    │\n",
       "│ 5      ┆ M      ┆ 25  ┆ writer               ┆ 55455    │\n",
       "│ …      ┆ …      ┆ …   ┆ …                    ┆ …        │\n",
       "│ 6036   ┆ F      ┆ 25  ┆ scientist            ┆ 32603    │\n",
       "│ 6037   ┆ F      ┆ 45  ┆ academic/educator    ┆ 76006    │\n",
       "│ 6038   ┆ F      ┆ 56  ┆ academic/educator    ┆ 14706    │\n",
       "│ 6039   ┆ F      ┆ 45  ┆ other                ┆ 01060    │\n",
       "│ 6040   ┆ M      ┆ 25  ┆ doctor/health care   ┆ 11106    │\n",
       "└────────┴────────┴─────┴──────────────────────┴──────────┘"
      ]
     },
     "execution_count": 5,
     "metadata": {},
     "output_type": "execute_result"
    }
   ],
   "source": [
    "ml_users_df.collect()"
   ]
  },
  {
   "cell_type": "code",
   "execution_count": 6,
   "metadata": {},
   "outputs": [],
   "source": [
    "# d(item, item)\n",
    "# user: item1, item2, item3"
   ]
  },
  {
   "cell_type": "code",
   "execution_count": 7,
   "metadata": {},
   "outputs": [
    {
     "data": {
      "text/html": [
       "<div><style>\n",
       ".dataframe > thead > tr,\n",
       ".dataframe > tbody > tr {\n",
       "  text-align: right;\n",
       "  white-space: pre-wrap;\n",
       "}\n",
       "</style>\n",
       "<small>shape: (3_883, 22)</small><table border=\"1\" class=\"dataframe\"><thead><tr><th>MovieID</th><th>Title</th><th>Genres</th><th>Year</th><th>IsWar</th><th>IsMusical</th><th>IsAnimation</th><th>IsDocumentary</th><th>IsDrama</th><th>IsCrime</th><th>IsThriller</th><th>IsFilm-Noir</th><th>IsAdventure</th><th>IsComedy</th><th>IsWestern</th><th>IsAction</th><th>IsChildren&#x27;s</th><th>IsFantasy</th><th>IsHorror</th><th>IsMystery</th><th>IsSci-Fi</th><th>IsRomance</th></tr><tr><td>i32</td><td>str</td><td>list[str]</td><td>i32</td><td>bool</td><td>bool</td><td>bool</td><td>bool</td><td>bool</td><td>bool</td><td>bool</td><td>bool</td><td>bool</td><td>bool</td><td>bool</td><td>bool</td><td>bool</td><td>bool</td><td>bool</td><td>bool</td><td>bool</td><td>bool</td></tr></thead><tbody><tr><td>1</td><td>&quot;Toy Story&quot;</td><td>[&quot;Animation&quot;, &quot;Children&#x27;s&quot;, &quot;Comedy&quot;]</td><td>1995</td><td>false</td><td>false</td><td>true</td><td>false</td><td>false</td><td>false</td><td>false</td><td>false</td><td>false</td><td>true</td><td>false</td><td>false</td><td>true</td><td>false</td><td>false</td><td>false</td><td>false</td><td>false</td></tr><tr><td>2</td><td>&quot;Jumanji&quot;</td><td>[&quot;Adventure&quot;, &quot;Children&#x27;s&quot;, &quot;Fantasy&quot;]</td><td>1995</td><td>false</td><td>false</td><td>false</td><td>false</td><td>false</td><td>false</td><td>false</td><td>false</td><td>true</td><td>false</td><td>false</td><td>false</td><td>true</td><td>true</td><td>false</td><td>false</td><td>false</td><td>false</td></tr><tr><td>3</td><td>&quot;Grumpier Old Men&quot;</td><td>[&quot;Comedy&quot;, &quot;Romance&quot;]</td><td>1995</td><td>false</td><td>false</td><td>false</td><td>false</td><td>false</td><td>false</td><td>false</td><td>false</td><td>false</td><td>true</td><td>false</td><td>false</td><td>false</td><td>false</td><td>false</td><td>false</td><td>false</td><td>true</td></tr><tr><td>4</td><td>&quot;Waiting to Exhale&quot;</td><td>[&quot;Comedy&quot;, &quot;Drama&quot;]</td><td>1995</td><td>false</td><td>false</td><td>false</td><td>false</td><td>true</td><td>false</td><td>false</td><td>false</td><td>false</td><td>true</td><td>false</td><td>false</td><td>false</td><td>false</td><td>false</td><td>false</td><td>false</td><td>false</td></tr><tr><td>5</td><td>&quot;Father of the Bride Part II&quot;</td><td>[&quot;Comedy&quot;]</td><td>1995</td><td>false</td><td>false</td><td>false</td><td>false</td><td>false</td><td>false</td><td>false</td><td>false</td><td>false</td><td>true</td><td>false</td><td>false</td><td>false</td><td>false</td><td>false</td><td>false</td><td>false</td><td>false</td></tr><tr><td>&hellip;</td><td>&hellip;</td><td>&hellip;</td><td>&hellip;</td><td>&hellip;</td><td>&hellip;</td><td>&hellip;</td><td>&hellip;</td><td>&hellip;</td><td>&hellip;</td><td>&hellip;</td><td>&hellip;</td><td>&hellip;</td><td>&hellip;</td><td>&hellip;</td><td>&hellip;</td><td>&hellip;</td><td>&hellip;</td><td>&hellip;</td><td>&hellip;</td><td>&hellip;</td><td>&hellip;</td></tr><tr><td>3948</td><td>&quot;Meet the Parents&quot;</td><td>[&quot;Comedy&quot;]</td><td>2000</td><td>false</td><td>false</td><td>false</td><td>false</td><td>false</td><td>false</td><td>false</td><td>false</td><td>false</td><td>true</td><td>false</td><td>false</td><td>false</td><td>false</td><td>false</td><td>false</td><td>false</td><td>false</td></tr><tr><td>3949</td><td>&quot;Requiem for a Dream&quot;</td><td>[&quot;Drama&quot;]</td><td>2000</td><td>false</td><td>false</td><td>false</td><td>false</td><td>true</td><td>false</td><td>false</td><td>false</td><td>false</td><td>false</td><td>false</td><td>false</td><td>false</td><td>false</td><td>false</td><td>false</td><td>false</td><td>false</td></tr><tr><td>3950</td><td>&quot;Tigerland&quot;</td><td>[&quot;Drama&quot;]</td><td>2000</td><td>false</td><td>false</td><td>false</td><td>false</td><td>true</td><td>false</td><td>false</td><td>false</td><td>false</td><td>false</td><td>false</td><td>false</td><td>false</td><td>false</td><td>false</td><td>false</td><td>false</td><td>false</td></tr><tr><td>3951</td><td>&quot;Two Family House&quot;</td><td>[&quot;Drama&quot;]</td><td>2000</td><td>false</td><td>false</td><td>false</td><td>false</td><td>true</td><td>false</td><td>false</td><td>false</td><td>false</td><td>false</td><td>false</td><td>false</td><td>false</td><td>false</td><td>false</td><td>false</td><td>false</td><td>false</td></tr><tr><td>3952</td><td>&quot;Contender&quot;</td><td>null</td><td>null</td><td>false</td><td>false</td><td>false</td><td>false</td><td>false</td><td>false</td><td>false</td><td>false</td><td>false</td><td>false</td><td>false</td><td>false</td><td>false</td><td>false</td><td>false</td><td>false</td><td>false</td><td>false</td></tr></tbody></table></div>"
      ],
      "text/plain": [
       "shape: (3_883, 22)\n",
       "┌─────────┬───────────────┬───────────────┬──────┬───┬──────────┬───────────┬──────────┬───────────┐\n",
       "│ MovieID ┆ Title         ┆ Genres        ┆ Year ┆ … ┆ IsHorror ┆ IsMystery ┆ IsSci-Fi ┆ IsRomance │\n",
       "│ ---     ┆ ---           ┆ ---           ┆ ---  ┆   ┆ ---      ┆ ---       ┆ ---      ┆ ---       │\n",
       "│ i32     ┆ str           ┆ list[str]     ┆ i32  ┆   ┆ bool     ┆ bool      ┆ bool     ┆ bool      │\n",
       "╞═════════╪═══════════════╪═══════════════╪══════╪═══╪══════════╪═══════════╪══════════╪═══════════╡\n",
       "│ 1       ┆ Toy Story     ┆ [\"Animation\", ┆ 1995 ┆ … ┆ false    ┆ false     ┆ false    ┆ false     │\n",
       "│         ┆               ┆ \"Children's\", ┆      ┆   ┆          ┆           ┆          ┆           │\n",
       "│         ┆               ┆ \"C…           ┆      ┆   ┆          ┆           ┆          ┆           │\n",
       "│ 2       ┆ Jumanji       ┆ [\"Adventure\", ┆ 1995 ┆ … ┆ false    ┆ false     ┆ false    ┆ false     │\n",
       "│         ┆               ┆ \"Children's\", ┆      ┆   ┆          ┆           ┆          ┆           │\n",
       "│         ┆               ┆ \"F…           ┆      ┆   ┆          ┆           ┆          ┆           │\n",
       "│ 3       ┆ Grumpier Old  ┆ [\"Comedy\",    ┆ 1995 ┆ … ┆ false    ┆ false     ┆ false    ┆ true      │\n",
       "│         ┆ Men           ┆ \"Romance\"]    ┆      ┆   ┆          ┆           ┆          ┆           │\n",
       "│ 4       ┆ Waiting to    ┆ [\"Comedy\",    ┆ 1995 ┆ … ┆ false    ┆ false     ┆ false    ┆ false     │\n",
       "│         ┆ Exhale        ┆ \"Drama\"]      ┆      ┆   ┆          ┆           ┆          ┆           │\n",
       "│ 5       ┆ Father of the ┆ [\"Comedy\"]    ┆ 1995 ┆ … ┆ false    ┆ false     ┆ false    ┆ false     │\n",
       "│         ┆ Bride Part II ┆               ┆      ┆   ┆          ┆           ┆          ┆           │\n",
       "│ …       ┆ …             ┆ …             ┆ …    ┆ … ┆ …        ┆ …         ┆ …        ┆ …         │\n",
       "│ 3948    ┆ Meet the      ┆ [\"Comedy\"]    ┆ 2000 ┆ … ┆ false    ┆ false     ┆ false    ┆ false     │\n",
       "│         ┆ Parents       ┆               ┆      ┆   ┆          ┆           ┆          ┆           │\n",
       "│ 3949    ┆ Requiem for a ┆ [\"Drama\"]     ┆ 2000 ┆ … ┆ false    ┆ false     ┆ false    ┆ false     │\n",
       "│         ┆ Dream         ┆               ┆      ┆   ┆          ┆           ┆          ┆           │\n",
       "│ 3950    ┆ Tigerland     ┆ [\"Drama\"]     ┆ 2000 ┆ … ┆ false    ┆ false     ┆ false    ┆ false     │\n",
       "│ 3951    ┆ Two Family    ┆ [\"Drama\"]     ┆ 2000 ┆ … ┆ false    ┆ false     ┆ false    ┆ false     │\n",
       "│         ┆ House         ┆               ┆      ┆   ┆          ┆           ┆          ┆           │\n",
       "│ 3952    ┆ Contender     ┆ null          ┆ null ┆ … ┆ false    ┆ false     ┆ false    ┆ false     │\n",
       "└─────────┴───────────────┴───────────────┴──────┴───┴──────────┴───────────┴──────────┴───────────┘"
      ]
     },
     "execution_count": 7,
     "metadata": {},
     "output_type": "execute_result"
    }
   ],
   "source": [
    "ml_movies_df.collect()"
   ]
  },
  {
   "cell_type": "code",
   "execution_count": null,
   "metadata": {},
   "outputs": [],
   "source": []
  }
 ],
 "metadata": {
  "kernelspec": {
   "display_name": "venv",
   "language": "python",
   "name": "python3"
  },
  "language_info": {
   "codemirror_mode": {
    "name": "ipython",
    "version": 3
   },
   "file_extension": ".py",
   "mimetype": "text/x-python",
   "name": "python",
   "nbconvert_exporter": "python",
   "pygments_lexer": "ipython3",
   "version": "3.11.9"
  }
 },
 "nbformat": 4,
 "nbformat_minor": 2
}
