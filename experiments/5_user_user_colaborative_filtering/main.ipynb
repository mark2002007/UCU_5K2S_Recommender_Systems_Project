{
 "cells": [
  {
   "cell_type": "code",
   "execution_count": 1,
   "metadata": {},
   "outputs": [
    {
     "data": {
      "text/plain": [
       "DataTransformerRegistry.enable('default')"
      ]
     },
     "execution_count": 1,
     "metadata": {},
     "output_type": "execute_result"
    }
   ],
   "source": [
    "import os\n",
    "ROOT = os.path.join('..', '..')\n",
    "import sys\n",
    "sys.path.append(ROOT)\n",
    "#\n",
    "import numpy as np\n",
    "import polars as pl\n",
    "import altair as alt\n",
    "from tqdm import tqdm\n",
    "\n",
    "from scripts.data import (\n",
    "    ml_ratings_df, ml_movies_df, ml_users_df, ml_df, ml_genres,\n",
    "    bc_ratings_df, bc_books_df, bc_users_df, bc_df,\n",
    ")\n",
    "from src.metrics import (\n",
    "    ml_precision_at_k, ml_recall_at_k, ml_f1_at_k\n",
    ")\n",
    "from src.models.simple import ml_popularity_based_recommendation\n",
    "\n",
    "alt.data_transformers.disable_max_rows()"
   ]
  },
  {
   "cell_type": "markdown",
   "metadata": {},
   "source": [
    "# Train - Test Split"
   ]
  },
  {
   "cell_type": "code",
   "execution_count": 2,
   "metadata": {},
   "outputs": [
    {
     "data": {
      "text/plain": [
       "(800167, 200042)"
      ]
     },
     "execution_count": 2,
     "metadata": {},
     "output_type": "execute_result"
    }
   ],
   "source": [
    "idx = pl.Series(range(ml_ratings_df.select(pl.len()).collect().item()))\n",
    "idx = idx.shuffle(seed=42)\n",
    "train_size = int(len(idx) * 0.8)\n",
    "train_idx = idx[:train_size]\n",
    "test_idx = idx[train_size:]\n",
    "\n",
    "ml_ratings_train_df = ml_ratings_df.collect()[train_idx, :].lazy()\n",
    "ml_ratings_test_df = ml_ratings_df.collect()[test_idx, :].lazy()\n",
    "ml_ratings_train_df.select(pl.len()).collect().item(), ml_ratings_test_df.select(pl.len()).collect().item()"
   ]
  },
  {
   "cell_type": "markdown",
   "metadata": {},
   "source": [
    "# User-User Colaborative Filtering"
   ]
  },
  {
   "cell_type": "code",
   "execution_count": 3,
   "metadata": {},
   "outputs": [
    {
     "data": {
      "text/html": [
       "<div><style>\n",
       ".dataframe > thead > tr,\n",
       ".dataframe > tbody > tr {\n",
       "  text-align: right;\n",
       "  white-space: pre-wrap;\n",
       "}\n",
       "</style>\n",
       "<small>shape: (5, 2)</small><table border=\"1\" class=\"dataframe\"><thead><tr><th>UserID</th><th>Similarity</th></tr><tr><td>i32</td><td>f64</td></tr></thead><tbody><tr><td>5</td><td>1.0</td></tr><tr><td>1091</td><td>0.283548</td></tr><tr><td>5429</td><td>0.270789</td></tr><tr><td>91</td><td>0.269771</td></tr><tr><td>835</td><td>0.261522</td></tr></tbody></table></div>"
      ],
      "text/plain": [
       "shape: (5, 2)\n",
       "┌────────┬────────────┐\n",
       "│ UserID ┆ Similarity │\n",
       "│ ---    ┆ ---        │\n",
       "│ i32    ┆ f64        │\n",
       "╞════════╪════════════╡\n",
       "│ 5      ┆ 1.0        │\n",
       "│ 1091   ┆ 0.283548   │\n",
       "│ 5429   ┆ 0.270789   │\n",
       "│ 91     ┆ 0.269771   │\n",
       "│ 835    ┆ 0.261522   │\n",
       "└────────┴────────────┘"
      ]
     },
     "execution_count": 3,
     "metadata": {},
     "output_type": "execute_result"
    }
   ],
   "source": [
    "from sklearn.metrics.pairwise import cosine_similarity\n",
    "user_item_df = ml_ratings_train_df.sort(by=['UserID']).collect().pivot(index='UserID', columns='MovieID', values='Rating').fill_null(0)\n",
    "user_item_matrix = user_item_df.select(pl.exclude('UserID')).to_numpy()\n",
    "user_similarity_matrix = cosine_similarity(user_item_matrix)\n",
    "\n",
    "def get_top_k_similar_users(user_id, k=5):\n",
    "    similar_user_indices = np.argsort(user_similarity_matrix[user_id])[::-1][:k]\n",
    "    similarities = user_similarity_matrix[user_id][similar_user_indices]\n",
    "    return pl.DataFrame({'UserID': similar_user_indices, 'Similarity': similarities}).lazy().with_columns(pl.col('UserID').cast(pl.Int32))\n",
    "    \n",
    "top5users = get_top_k_similar_users(5)\n",
    "top5users.collect()"
   ]
  },
  {
   "cell_type": "code",
   "execution_count": 19,
   "metadata": {},
   "outputs": [],
   "source": [
    "def ml_user_user_colaborative_filtering(user_id, n_users, n_recommendations):\n",
    "    similar_users = get_top_k_similar_users(user_id, n_users+1).collect()\n",
    "    similar_users_ids = similar_users['UserID']\n",
    "    similar_users_ratings = user_item_df.filter(pl.col('UserID').is_in(similar_users_ids)) \\\n",
    "        .join(similar_users, on='UserID') \\\n",
    "        .sort(by='Similarity', descending=True)\n",
    "    similar_users_ratings_pd = similar_users_ratings.to_pandas()\n",
    "    cols_with_zero = similar_users_ratings_pd[similar_users_ratings_pd[\"UserID\"] == user_id] == 0\n",
    "    cols_with_zero[[\"UserID\", \"Similarity\"]] = True\n",
    "    similar_users_ratings_pd = similar_users_ratings_pd.loc[:, cols_with_zero.iloc[0]]\n",
    "    similar_users_ratings_pd = similar_users_ratings_pd[similar_users_ratings_pd[\"UserID\"] != user_id]\n",
    "    sum_of_similarities = similar_users_ratings_pd[\"Similarity\"].sum()\n",
    "    similar_users_ratings_pd[\"Similarity\"] = similar_users_ratings_pd[\"Similarity\"] / sum_of_similarities\n",
    "    return pl.DataFrame(similar_users_ratings_pd).select([\n",
    "        pl.exclude([\"UserID\", \"Similarity\"]) / 5 * pl.col('Similarity')\n",
    "    ]).sum().melt().select(\n",
    "        pl.col('variable').alias(\"MovieID\").cast(pl.Int32),\n",
    "        pl.col('value').alias(\"Rating\").cast(pl.Float64)\n",
    "    ).sort(by='Rating', descending=True).head(n_recommendations).lazy()\n"
   ]
  },
  {
   "cell_type": "code",
   "execution_count": 18,
   "metadata": {},
   "outputs": [
    {
     "name": "stdout",
     "output_type": "stream",
     "text": [
      "New best user: 0 with score: 0.1333333333328889\n",
      "New best user: 2 with score: 0.15384615384568048\n",
      "New best user: 11 with score: 0.24999999999953126\n",
      "New best user: 12 with score: 0.27586206896523185\n",
      "New best user: 38 with score: 0.3999999999995556\n",
      "New best user: 69 with score: 0.42105263157855943\n",
      "New best user: 105 with score: 0.5333333333328889\n",
      "New best user: 491 with score: 0.615384615384142\n",
      "New best user: 824 with score: 0.6666666666661727\n",
      "New best user: 2203 with score: 0.7272727272722312\n"
     ]
    }
   ],
   "source": [
    "best_user_id = 0\n",
    "best_user_score = 0\n",
    "for user_id in ml_users_df.select('UserID').collect().to_numpy().flatten(): \n",
    "    ml_recommendation = ml_user_user_colaborative_filtering(user_id, 5, 100)\n",
    "    score = ml_f1_at_k(5, ml_recommendation, ml_ratings_test_df, user_id)\n",
    "    if score > best_user_score:\n",
    "        best_user_id = user_id\n",
    "        best_user_score = score\n",
    "        print(f\"New best user: {best_user_id} with score: {best_user_score}\")"
   ]
  },
  {
   "cell_type": "code",
   "execution_count": 20,
   "metadata": {},
   "outputs": [
    {
     "data": {
      "text/html": [
       "<div><style>\n",
       ".dataframe > thead > tr,\n",
       ".dataframe > tbody > tr {\n",
       "  text-align: right;\n",
       "  white-space: pre-wrap;\n",
       "}\n",
       "</style>\n",
       "<small>shape: (100, 23)</small><table border=\"1\" class=\"dataframe\"><thead><tr><th>MovieID</th><th>Rating</th><th>Title</th><th>Genres</th><th>Year</th><th>IsChildren&#x27;s</th><th>IsFantasy</th><th>IsAnimation</th><th>IsSci-Fi</th><th>IsAction</th><th>IsCrime</th><th>IsWar</th><th>IsMystery</th><th>IsHorror</th><th>IsAdventure</th><th>IsFilm-Noir</th><th>IsWestern</th><th>IsDrama</th><th>IsMusical</th><th>IsRomance</th><th>IsComedy</th><th>IsThriller</th><th>IsDocumentary</th></tr><tr><td>i32</td><td>f64</td><td>str</td><td>list[str]</td><td>i32</td><td>bool</td><td>bool</td><td>bool</td><td>bool</td><td>bool</td><td>bool</td><td>bool</td><td>bool</td><td>bool</td><td>bool</td><td>bool</td><td>bool</td><td>bool</td><td>bool</td><td>bool</td><td>bool</td><td>bool</td><td>bool</td></tr></thead><tbody><tr><td>2286</td><td>0.646202</td><td>&quot;Them!&quot;</td><td>[&quot;Sci-Fi&quot;, &quot;Thriller&quot;, &quot;War&quot;]</td><td>1954</td><td>false</td><td>false</td><td>false</td><td>true</td><td>false</td><td>false</td><td>true</td><td>false</td><td>false</td><td>false</td><td>false</td><td>false</td><td>false</td><td>false</td><td>false</td><td>false</td><td>true</td><td>false</td></tr><tr><td>1923</td><td>0.643134</td><td>&quot;Plan 9 from Outer Space&quot;</td><td>[&quot;Horror&quot;, &quot;Sci-Fi&quot;]</td><td>1958</td><td>false</td><td>false</td><td>false</td><td>true</td><td>false</td><td>false</td><td>false</td><td>false</td><td>true</td><td>false</td><td>false</td><td>false</td><td>false</td><td>false</td><td>false</td><td>false</td><td>false</td><td>false</td></tr><tr><td>967</td><td>0.573312</td><td>&quot;Night of the Living Dead&quot;</td><td>[&quot;Horror&quot;, &quot;Sci-Fi&quot;]</td><td>1968</td><td>false</td><td>false</td><td>false</td><td>true</td><td>false</td><td>false</td><td>false</td><td>false</td><td>true</td><td>false</td><td>false</td><td>false</td><td>false</td><td>false</td><td>false</td><td>false</td><td>false</td><td>false</td></tr><tr><td>1018</td><td>0.542865</td><td>&quot;20&quot;</td><td>null</td><td>null</td><td>false</td><td>false</td><td>false</td><td>false</td><td>false</td><td>false</td><td>false</td><td>false</td><td>false</td><td>false</td><td>false</td><td>false</td><td>false</td><td>false</td><td>false</td><td>false</td><td>false</td><td>false</td></tr><tr><td>2660</td><td>0.500794</td><td>&quot;It Came from Outer Space&quot;</td><td>[&quot;Sci-Fi&quot;]</td><td>1953</td><td>false</td><td>false</td><td>false</td><td>true</td><td>false</td><td>false</td><td>false</td><td>false</td><td>false</td><td>false</td><td>false</td><td>false</td><td>false</td><td>false</td><td>false</td><td>false</td><td>false</td><td>false</td></tr><tr><td>&hellip;</td><td>&hellip;</td><td>&hellip;</td><td>&hellip;</td><td>&hellip;</td><td>&hellip;</td><td>&hellip;</td><td>&hellip;</td><td>&hellip;</td><td>&hellip;</td><td>&hellip;</td><td>&hellip;</td><td>&hellip;</td><td>&hellip;</td><td>&hellip;</td><td>&hellip;</td><td>&hellip;</td><td>&hellip;</td><td>&hellip;</td><td>&hellip;</td><td>&hellip;</td><td>&hellip;</td><td>&hellip;</td></tr><tr><td>1355</td><td>0.14096</td><td>&quot;Star Trek: First Contact&quot;</td><td>[&quot;Action&quot;, &quot;Adventure&quot;, &quot;Sci-Fi&quot;]</td><td>1996</td><td>false</td><td>false</td><td>false</td><td>true</td><td>true</td><td>false</td><td>false</td><td>false</td><td>false</td><td>true</td><td>false</td><td>false</td><td>false</td><td>false</td><td>false</td><td>false</td><td>false</td><td>false</td></tr><tr><td>2011</td><td>0.14096</td><td>&quot;Back to the Future Part III&quot;</td><td>[&quot;Comedy&quot;, &quot;Sci-Fi&quot;, &quot;Western&quot;]</td><td>1990</td><td>false</td><td>false</td><td>false</td><td>true</td><td>false</td><td>false</td><td>false</td><td>false</td><td>false</td><td>false</td><td>false</td><td>true</td><td>false</td><td>false</td><td>false</td><td>true</td><td>false</td><td>false</td></tr><tr><td>2205</td><td>0.14096</td><td>&quot;Suspicion&quot;</td><td>[&quot;Mystery&quot;, &quot;Thriller&quot;]</td><td>1941</td><td>false</td><td>false</td><td>false</td><td>false</td><td>false</td><td>false</td><td>false</td><td>true</td><td>false</td><td>false</td><td>false</td><td>false</td><td>false</td><td>false</td><td>false</td><td>false</td><td>true</td><td>false</td></tr><tr><td>3073</td><td>0.14096</td><td>&quot;Jeremiah Johnson&quot;</td><td>[&quot;Western&quot;]</td><td>1972</td><td>false</td><td>false</td><td>false</td><td>false</td><td>false</td><td>false</td><td>false</td><td>false</td><td>false</td><td>false</td><td>false</td><td>true</td><td>false</td><td>false</td><td>false</td><td>false</td><td>false</td><td>false</td></tr><tr><td>1096</td><td>0.140279</td><td>&quot;E.T. the Extra-Terrestrial&quot;</td><td>[&quot;Children&#x27;s&quot;, &quot;Drama&quot;, … &quot;Sci-Fi&quot;]</td><td>1982</td><td>true</td><td>true</td><td>false</td><td>true</td><td>false</td><td>false</td><td>false</td><td>false</td><td>false</td><td>false</td><td>false</td><td>false</td><td>true</td><td>false</td><td>false</td><td>false</td><td>false</td><td>false</td></tr></tbody></table></div>"
      ],
      "text/plain": [
       "shape: (100, 23)\n",
       "┌─────────┬──────────┬────────────┬────────────┬───┬───────────┬──────────┬────────────┬───────────┐\n",
       "│ MovieID ┆ Rating   ┆ Title      ┆ Genres     ┆ … ┆ IsRomance ┆ IsComedy ┆ IsThriller ┆ IsDocumen │\n",
       "│ ---     ┆ ---      ┆ ---        ┆ ---        ┆   ┆ ---       ┆ ---      ┆ ---        ┆ tary      │\n",
       "│ i32     ┆ f64      ┆ str        ┆ list[str]  ┆   ┆ bool      ┆ bool     ┆ bool       ┆ ---       │\n",
       "│         ┆          ┆            ┆            ┆   ┆           ┆          ┆            ┆ bool      │\n",
       "╞═════════╪══════════╪════════════╪════════════╪═══╪═══════════╪══════════╪════════════╪═══════════╡\n",
       "│ 2286    ┆ 0.646202 ┆ Them!      ┆ [\"Sci-Fi\", ┆ … ┆ false     ┆ false    ┆ true       ┆ false     │\n",
       "│         ┆          ┆            ┆ \"Thriller\" ┆   ┆           ┆          ┆            ┆           │\n",
       "│         ┆          ┆            ┆ , \"War\"]   ┆   ┆           ┆          ┆            ┆           │\n",
       "│ 1923    ┆ 0.643134 ┆ Plan 9     ┆ [\"Horror\", ┆ … ┆ false     ┆ false    ┆ false      ┆ false     │\n",
       "│         ┆          ┆ from Outer ┆ \"Sci-Fi\"]  ┆   ┆           ┆          ┆            ┆           │\n",
       "│         ┆          ┆ Space      ┆            ┆   ┆           ┆          ┆            ┆           │\n",
       "│ 967     ┆ 0.573312 ┆ Night of   ┆ [\"Horror\", ┆ … ┆ false     ┆ false    ┆ false      ┆ false     │\n",
       "│         ┆          ┆ the Living ┆ \"Sci-Fi\"]  ┆   ┆           ┆          ┆            ┆           │\n",
       "│         ┆          ┆ Dead       ┆            ┆   ┆           ┆          ┆            ┆           │\n",
       "│ 1018    ┆ 0.542865 ┆ 20         ┆ null       ┆ … ┆ false     ┆ false    ┆ false      ┆ false     │\n",
       "│ 2660    ┆ 0.500794 ┆ It Came    ┆ [\"Sci-Fi\"] ┆ … ┆ false     ┆ false    ┆ false      ┆ false     │\n",
       "│         ┆          ┆ from Outer ┆            ┆   ┆           ┆          ┆            ┆           │\n",
       "│         ┆          ┆ Space      ┆            ┆   ┆           ┆          ┆            ┆           │\n",
       "│ …       ┆ …        ┆ …          ┆ …          ┆ … ┆ …         ┆ …        ┆ …          ┆ …         │\n",
       "│ 1355    ┆ 0.14096  ┆ Star Trek: ┆ [\"Action\", ┆ … ┆ false     ┆ false    ┆ false      ┆ false     │\n",
       "│         ┆          ┆ First      ┆ \"Adventure ┆   ┆           ┆          ┆            ┆           │\n",
       "│         ┆          ┆ Contact    ┆ \", \"Sci-F… ┆   ┆           ┆          ┆            ┆           │\n",
       "│ 2011    ┆ 0.14096  ┆ Back to    ┆ [\"Comedy\", ┆ … ┆ false     ┆ true     ┆ false      ┆ false     │\n",
       "│         ┆          ┆ the Future ┆ \"Sci-Fi\",  ┆   ┆           ┆          ┆            ┆           │\n",
       "│         ┆          ┆ Part III   ┆ \"Western\"… ┆   ┆           ┆          ┆            ┆           │\n",
       "│ 2205    ┆ 0.14096  ┆ Suspicion  ┆ [\"Mystery\" ┆ … ┆ false     ┆ false    ┆ true       ┆ false     │\n",
       "│         ┆          ┆            ┆ , \"Thrille ┆   ┆           ┆          ┆            ┆           │\n",
       "│         ┆          ┆            ┆ r\"]        ┆   ┆           ┆          ┆            ┆           │\n",
       "│ 3073    ┆ 0.14096  ┆ Jeremiah   ┆ [\"Western\" ┆ … ┆ false     ┆ false    ┆ false      ┆ false     │\n",
       "│         ┆          ┆ Johnson    ┆ ]          ┆   ┆           ┆          ┆            ┆           │\n",
       "│ 1096    ┆ 0.140279 ┆ E.T. the   ┆ [\"Children ┆ … ┆ false     ┆ false    ┆ false      ┆ false     │\n",
       "│         ┆          ┆ Extra-Terr ┆ 's\",       ┆   ┆           ┆          ┆            ┆           │\n",
       "│         ┆          ┆ estrial    ┆ \"Drama\", … ┆   ┆           ┆          ┆            ┆           │\n",
       "│         ┆          ┆            ┆ \"Sci…      ┆   ┆           ┆          ┆            ┆           │\n",
       "└─────────┴──────────┴────────────┴────────────┴───┴───────────┴──────────┴────────────┴───────────┘"
      ]
     },
     "execution_count": 20,
     "metadata": {},
     "output_type": "execute_result"
    }
   ],
   "source": [
    "ml_test_user_id = 2203\n",
    "ml_recommendation = ml_user_user_colaborative_filtering(ml_test_user_id, 5, 100)\n",
    "ml_recommendation = ml_recommendation.join(ml_movies_df, on='MovieID').sort(by='Rating', descending=True)\n",
    "ml_recommendation.collect()"
   ]
  },
  {
   "cell_type": "code",
   "execution_count": 21,
   "metadata": {},
   "outputs": [
    {
     "name": "stdout",
     "output_type": "stream",
     "text": [
      "Precision@5 : 0.8\n",
      "Precision@10: 0.4\n",
      "Precision@15: 0.26666666666666666\n"
     ]
    }
   ],
   "source": [
    "print(f\"Precision@5 : {ml_precision_at_k(5, ml_recommendation, ml_ratings_test_df, ml_test_user_id)}\")\n",
    "print(f\"Precision@10: {ml_precision_at_k(10, ml_recommendation, ml_ratings_test_df,  ml_test_user_id)}\")\n",
    "print(f\"Precision@15: {ml_precision_at_k(15, ml_recommendation, ml_ratings_test_df, ml_test_user_id)}\")"
   ]
  },
  {
   "cell_type": "code",
   "execution_count": 22,
   "metadata": {},
   "outputs": [
    {
     "name": "stdout",
     "output_type": "stream",
     "text": [
      "Recall@5: 0.6666666666666666\n",
      "Recall@10: 0.6666666666666666\n",
      "Recall@15: 0.6666666666666666\n",
      "Recall@100: 0.8333333333333334\n"
     ]
    }
   ],
   "source": [
    "print(f\"Recall@5: {ml_recall_at_k(5, ml_recommendation, ml_ratings_test_df, ml_test_user_id)}\")\n",
    "print(f\"Recall@10: {ml_recall_at_k(10, ml_recommendation, ml_ratings_test_df, ml_test_user_id)}\")\n",
    "print(f\"Recall@15: {ml_recall_at_k(15, ml_recommendation, ml_ratings_test_df, ml_test_user_id)}\")\n",
    "print(f\"Recall@100: {ml_recall_at_k(100, ml_recommendation, ml_ratings_test_df, ml_test_user_id)}\")"
   ]
  },
  {
   "cell_type": "code",
   "execution_count": 23,
   "metadata": {},
   "outputs": [
    {
     "name": "stdout",
     "output_type": "stream",
     "text": [
      "F1@5: 0.7272727272722312\n",
      "F1@10: 0.4999999999995312\n",
      "F1@15: 0.38095238095197276\n",
      "F1@100: 0.09433962264140264\n"
     ]
    }
   ],
   "source": [
    "print(f\"F1@5: {ml_f1_at_k(5,   ml_recommendation, ml_ratings_test_df, ml_test_user_id)}\")\n",
    "print(f\"F1@10: {ml_f1_at_k(10, ml_recommendation, ml_ratings_test_df, ml_test_user_id)}\")\n",
    "print(f\"F1@15: {ml_f1_at_k(15, ml_recommendation, ml_ratings_test_df, ml_test_user_id)}\")\n",
    "print(f\"F1@100: {ml_f1_at_k(100, ml_recommendation, ml_ratings_test_df, ml_test_user_id)}\")"
   ]
  }
 ],
 "metadata": {
  "kernelspec": {
   "display_name": "venv",
   "language": "python",
   "name": "python3"
  },
  "language_info": {
   "codemirror_mode": {
    "name": "ipython",
    "version": 3
   },
   "file_extension": ".py",
   "mimetype": "text/x-python",
   "name": "python",
   "nbconvert_exporter": "python",
   "pygments_lexer": "ipython3",
   "version": "3.11.9"
  }
 },
 "nbformat": 4,
 "nbformat_minor": 2
}
