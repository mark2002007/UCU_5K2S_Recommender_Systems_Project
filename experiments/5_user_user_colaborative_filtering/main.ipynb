{
 "cells": [
  {
   "cell_type": "code",
   "execution_count": 1,
   "metadata": {},
   "outputs": [
    {
     "data": {
      "text/plain": [
       "DataTransformerRegistry.enable('default')"
      ]
     },
     "execution_count": 1,
     "metadata": {},
     "output_type": "execute_result"
    }
   ],
   "source": [
    "import os\n",
    "ROOT = os.path.join('..', '..')\n",
    "import sys\n",
    "sys.path.append(ROOT)\n",
    "#\n",
    "import numpy as np\n",
    "import polars as pl\n",
    "import altair as alt\n",
    "from tqdm import tqdm\n",
    "\n",
    "from scripts.data import (\n",
    "    ml_ratings_df, ml_movies_df, ml_users_df, ml_df, ml_genres,\n",
    "    bc_ratings_df, bc_books_df, bc_users_df, bc_df,\n",
    ")\n",
    "from src.metrics import (\n",
    "    ml_precision_at_k, ml_recall_at_k, ml_f1_at_k\n",
    ")\n",
    "from src.models.simple import ml_popularity_based_recommendation\n",
    "\n",
    "alt.data_transformers.disable_max_rows()"
   ]
  },
  {
   "cell_type": "markdown",
   "metadata": {},
   "source": [
    "# Train - Test Split"
   ]
  },
  {
   "cell_type": "code",
   "execution_count": 2,
   "metadata": {},
   "outputs": [
    {
     "data": {
      "text/plain": [
       "(800167, 200042)"
      ]
     },
     "execution_count": 2,
     "metadata": {},
     "output_type": "execute_result"
    }
   ],
   "source": [
    "idx = pl.Series(range(ml_ratings_df.select(pl.len()).collect().item()))\n",
    "idx = idx.shuffle(seed=42)\n",
    "train_size = int(len(idx) * 0.8)\n",
    "train_idx = idx[:train_size]\n",
    "test_idx = idx[train_size:]\n",
    "\n",
    "ml_ratings_train_df = ml_ratings_df.collect()[train_idx, :].lazy()\n",
    "ml_ratings_test_df = ml_ratings_df.collect()[test_idx, :].lazy()\n",
    "ml_ratings_train_df.select(pl.len()).collect().item(), ml_ratings_test_df.select(pl.len()).collect().item()"
   ]
  },
  {
   "cell_type": "markdown",
   "metadata": {},
   "source": [
    "# User-User Colaborative Filtering"
   ]
  },
  {
   "cell_type": "code",
   "execution_count": 3,
   "metadata": {},
   "outputs": [
    {
     "data": {
      "text/html": [
       "<div><style>\n",
       ".dataframe > thead > tr,\n",
       ".dataframe > tbody > tr {\n",
       "  text-align: right;\n",
       "  white-space: pre-wrap;\n",
       "}\n",
       "</style>\n",
       "<small>shape: (5, 2)</small><table border=\"1\" class=\"dataframe\"><thead><tr><th>UserID</th><th>Similarity</th></tr><tr><td>i32</td><td>f64</td></tr></thead><tbody><tr><td>5</td><td>1.0</td></tr><tr><td>1091</td><td>0.283548</td></tr><tr><td>5429</td><td>0.270789</td></tr><tr><td>91</td><td>0.269771</td></tr><tr><td>835</td><td>0.261522</td></tr></tbody></table></div>"
      ],
      "text/plain": [
       "shape: (5, 2)\n",
       "┌────────┬────────────┐\n",
       "│ UserID ┆ Similarity │\n",
       "│ ---    ┆ ---        │\n",
       "│ i32    ┆ f64        │\n",
       "╞════════╪════════════╡\n",
       "│ 5      ┆ 1.0        │\n",
       "│ 1091   ┆ 0.283548   │\n",
       "│ 5429   ┆ 0.270789   │\n",
       "│ 91     ┆ 0.269771   │\n",
       "│ 835    ┆ 0.261522   │\n",
       "└────────┴────────────┘"
      ]
     },
     "execution_count": 3,
     "metadata": {},
     "output_type": "execute_result"
    }
   ],
   "source": [
    "from sklearn.metrics.pairwise import cosine_similarity\n",
    "user_item_df = ml_ratings_train_df.sort(by=['UserID']).collect().pivot(index='UserID', columns='MovieID', values='Rating').fill_null(0)\n",
    "user_item_matrix = user_item_df.select(pl.exclude('UserID')).to_numpy()\n",
    "user_similarity_matrix = cosine_similarity(user_item_matrix)\n",
    "\n",
    "def get_top_k_similar_users(user_id, k=5):\n",
    "    similar_user_indices = np.argsort(user_similarity_matrix[user_id])[::-1][:k]\n",
    "    similarities = user_similarity_matrix[user_id][similar_user_indices]\n",
    "    return pl.DataFrame({'UserID': similar_user_indices, 'Similarity': similarities}).lazy().with_columns(pl.col('UserID').cast(pl.Int32))\n",
    "    \n",
    "top5users = get_top_k_similar_users(5)\n",
    "top5users.collect()"
   ]
  },
  {
   "cell_type": "code",
   "execution_count": 4,
   "metadata": {},
   "outputs": [
    {
     "data": {
      "text/html": [
       "<div><style>\n",
       ".dataframe > thead > tr,\n",
       ".dataframe > tbody > tr {\n",
       "  text-align: right;\n",
       "  white-space: pre-wrap;\n",
       "}\n",
       "</style>\n",
       "<small>shape: (100, 23)</small><table border=\"1\" class=\"dataframe\"><thead><tr><th>MovieID</th><th>Rating</th><th>Title</th><th>Genres</th><th>Year</th><th>IsChildren&#x27;s</th><th>IsFantasy</th><th>IsAnimation</th><th>IsSci-Fi</th><th>IsAction</th><th>IsCrime</th><th>IsWar</th><th>IsMystery</th><th>IsHorror</th><th>IsAdventure</th><th>IsFilm-Noir</th><th>IsWestern</th><th>IsDrama</th><th>IsMusical</th><th>IsRomance</th><th>IsComedy</th><th>IsThriller</th><th>IsDocumentary</th></tr><tr><td>i32</td><td>f64</td><td>str</td><td>list[str]</td><td>i32</td><td>bool</td><td>bool</td><td>bool</td><td>bool</td><td>bool</td><td>bool</td><td>bool</td><td>bool</td><td>bool</td><td>bool</td><td>bool</td><td>bool</td><td>bool</td><td>bool</td><td>bool</td><td>bool</td><td>bool</td><td>bool</td></tr></thead><tbody><tr><td>918</td><td>0.650782</td><td>&quot;Wizard of Oz&quot;</td><td>null</td><td>null</td><td>false</td><td>false</td><td>false</td><td>false</td><td>false</td><td>false</td><td>false</td><td>false</td><td>false</td><td>false</td><td>false</td><td>false</td><td>false</td><td>false</td><td>false</td><td>false</td><td>false</td><td>false</td></tr><tr><td>1021</td><td>0.648728</td><td>&quot;Cinderella&quot;</td><td>[&quot;Animation&quot;, &quot;Children&#x27;s&quot;, &quot;Musical&quot;]</td><td>1950</td><td>true</td><td>false</td><td>true</td><td>false</td><td>false</td><td>false</td><td>false</td><td>false</td><td>false</td><td>false</td><td>false</td><td>false</td><td>false</td><td>true</td><td>false</td><td>false</td><td>false</td><td>false</td></tr><tr><td>2393</td><td>0.571278</td><td>&quot;Prince of Egypt&quot;</td><td>null</td><td>null</td><td>false</td><td>false</td><td>false</td><td>false</td><td>false</td><td>false</td><td>false</td><td>false</td><td>false</td><td>false</td><td>false</td><td>false</td><td>false</td><td>false</td><td>false</td><td>false</td><td>false</td><td>false</td></tr><tr><td>1030</td><td>0.564863</td><td>&quot;Bedknobs and Broomsticks&quot;</td><td>[&quot;Adventure&quot;, &quot;Children&#x27;s&quot;, &quot;Musical&quot;]</td><td>1971</td><td>true</td><td>false</td><td>false</td><td>false</td><td>false</td><td>false</td><td>false</td><td>false</td><td>false</td><td>true</td><td>false</td><td>false</td><td>false</td><td>true</td><td>false</td><td>false</td><td>false</td><td>false</td></tr><tr><td>1776</td><td>0.515197</td><td>&quot;Wedding Singer&quot;</td><td>null</td><td>null</td><td>false</td><td>false</td><td>false</td><td>false</td><td>false</td><td>false</td><td>false</td><td>false</td><td>false</td><td>false</td><td>false</td><td>false</td><td>false</td><td>false</td><td>false</td><td>false</td><td>false</td><td>false</td></tr><tr><td>&hellip;</td><td>&hellip;</td><td>&hellip;</td><td>&hellip;</td><td>&hellip;</td><td>&hellip;</td><td>&hellip;</td><td>&hellip;</td><td>&hellip;</td><td>&hellip;</td><td>&hellip;</td><td>&hellip;</td><td>&hellip;</td><td>&hellip;</td><td>&hellip;</td><td>&hellip;</td><td>&hellip;</td><td>&hellip;</td><td>&hellip;</td><td>&hellip;</td><td>&hellip;</td><td>&hellip;</td><td>&hellip;</td></tr><tr><td>1967</td><td>0.201076</td><td>&quot;Breakfast Club&quot;</td><td>null</td><td>null</td><td>false</td><td>false</td><td>false</td><td>false</td><td>false</td><td>false</td><td>false</td><td>false</td><td>false</td><td>false</td><td>false</td><td>false</td><td>false</td><td>false</td><td>false</td><td>false</td><td>false</td><td>false</td></tr><tr><td>2682</td><td>0.201076</td><td>&quot;Austin Powers: The Spy Who Sha…</td><td>[&quot;Comedy&quot;]</td><td>1999</td><td>false</td><td>false</td><td>false</td><td>false</td><td>false</td><td>false</td><td>false</td><td>false</td><td>false</td><td>false</td><td>false</td><td>false</td><td>false</td><td>false</td><td>false</td><td>true</td><td>false</td><td>false</td></tr><tr><td>2803</td><td>0.201076</td><td>&quot;Christmas Story&quot;</td><td>null</td><td>null</td><td>false</td><td>false</td><td>false</td><td>false</td><td>false</td><td>false</td><td>false</td><td>false</td><td>false</td><td>false</td><td>false</td><td>false</td><td>false</td><td>false</td><td>false</td><td>false</td><td>false</td><td>false</td></tr><tr><td>3113</td><td>0.201076</td><td>&quot;Toy Story 2&quot;</td><td>[&quot;Animation&quot;, &quot;Children&#x27;s&quot;, &quot;Comedy&quot;]</td><td>1999</td><td>true</td><td>false</td><td>true</td><td>false</td><td>false</td><td>false</td><td>false</td><td>false</td><td>false</td><td>false</td><td>false</td><td>false</td><td>false</td><td>false</td><td>false</td><td>true</td><td>false</td><td>false</td></tr><tr><td>3254</td><td>0.201076</td><td>&quot;League of Their Own&quot;</td><td>null</td><td>null</td><td>false</td><td>false</td><td>false</td><td>false</td><td>false</td><td>false</td><td>false</td><td>false</td><td>false</td><td>false</td><td>false</td><td>false</td><td>false</td><td>false</td><td>false</td><td>false</td><td>false</td><td>false</td></tr></tbody></table></div>"
      ],
      "text/plain": [
       "shape: (100, 23)\n",
       "┌─────────┬──────────┬────────────┬────────────┬───┬───────────┬──────────┬────────────┬───────────┐\n",
       "│ MovieID ┆ Rating   ┆ Title      ┆ Genres     ┆ … ┆ IsRomance ┆ IsComedy ┆ IsThriller ┆ IsDocumen │\n",
       "│ ---     ┆ ---      ┆ ---        ┆ ---        ┆   ┆ ---       ┆ ---      ┆ ---        ┆ tary      │\n",
       "│ i32     ┆ f64      ┆ str        ┆ list[str]  ┆   ┆ bool      ┆ bool     ┆ bool       ┆ ---       │\n",
       "│         ┆          ┆            ┆            ┆   ┆           ┆          ┆            ┆ bool      │\n",
       "╞═════════╪══════════╪════════════╪════════════╪═══╪═══════════╪══════════╪════════════╪═══════════╡\n",
       "│ 918     ┆ 0.650782 ┆ Wizard of  ┆ null       ┆ … ┆ false     ┆ false    ┆ false      ┆ false     │\n",
       "│         ┆          ┆ Oz         ┆            ┆   ┆           ┆          ┆            ┆           │\n",
       "│ 1021    ┆ 0.648728 ┆ Cinderella ┆ [\"Animatio ┆ … ┆ false     ┆ false    ┆ false      ┆ false     │\n",
       "│         ┆          ┆            ┆ n\", \"Child ┆   ┆           ┆          ┆            ┆           │\n",
       "│         ┆          ┆            ┆ ren's\",    ┆   ┆           ┆          ┆            ┆           │\n",
       "│         ┆          ┆            ┆ \"M…        ┆   ┆           ┆          ┆            ┆           │\n",
       "│ 2393    ┆ 0.571278 ┆ Prince of  ┆ null       ┆ … ┆ false     ┆ false    ┆ false      ┆ false     │\n",
       "│         ┆          ┆ Egypt      ┆            ┆   ┆           ┆          ┆            ┆           │\n",
       "│ 1030    ┆ 0.564863 ┆ Bedknobs   ┆ [\"Adventur ┆ … ┆ false     ┆ false    ┆ false      ┆ false     │\n",
       "│         ┆          ┆ and Brooms ┆ e\", \"Child ┆   ┆           ┆          ┆            ┆           │\n",
       "│         ┆          ┆ ticks      ┆ ren's\",    ┆   ┆           ┆          ┆            ┆           │\n",
       "│         ┆          ┆            ┆ \"M…        ┆   ┆           ┆          ┆            ┆           │\n",
       "│ 1776    ┆ 0.515197 ┆ Wedding    ┆ null       ┆ … ┆ false     ┆ false    ┆ false      ┆ false     │\n",
       "│         ┆          ┆ Singer     ┆            ┆   ┆           ┆          ┆            ┆           │\n",
       "│ …       ┆ …        ┆ …          ┆ …          ┆ … ┆ …         ┆ …        ┆ …          ┆ …         │\n",
       "│ 1967    ┆ 0.201076 ┆ Breakfast  ┆ null       ┆ … ┆ false     ┆ false    ┆ false      ┆ false     │\n",
       "│         ┆          ┆ Club       ┆            ┆   ┆           ┆          ┆            ┆           │\n",
       "│ 2682    ┆ 0.201076 ┆ Austin     ┆ [\"Comedy\"] ┆ … ┆ false     ┆ true     ┆ false      ┆ false     │\n",
       "│         ┆          ┆ Powers:    ┆            ┆   ┆           ┆          ┆            ┆           │\n",
       "│         ┆          ┆ The Spy    ┆            ┆   ┆           ┆          ┆            ┆           │\n",
       "│         ┆          ┆ Who Sha…   ┆            ┆   ┆           ┆          ┆            ┆           │\n",
       "│ 2803    ┆ 0.201076 ┆ Christmas  ┆ null       ┆ … ┆ false     ┆ false    ┆ false      ┆ false     │\n",
       "│         ┆          ┆ Story      ┆            ┆   ┆           ┆          ┆            ┆           │\n",
       "│ 3113    ┆ 0.201076 ┆ Toy Story  ┆ [\"Animatio ┆ … ┆ false     ┆ true     ┆ false      ┆ false     │\n",
       "│         ┆          ┆ 2          ┆ n\", \"Child ┆   ┆           ┆          ┆            ┆           │\n",
       "│         ┆          ┆            ┆ ren's\",    ┆   ┆           ┆          ┆            ┆           │\n",
       "│         ┆          ┆            ┆ \"C…        ┆   ┆           ┆          ┆            ┆           │\n",
       "│ 3254    ┆ 0.201076 ┆ League of  ┆ null       ┆ … ┆ false     ┆ false    ┆ false      ┆ false     │\n",
       "│         ┆          ┆ Their Own  ┆            ┆   ┆           ┆          ┆            ┆           │\n",
       "└─────────┴──────────┴────────────┴────────────┴───┴───────────┴──────────┴────────────┴───────────┘"
      ]
     },
     "execution_count": 4,
     "metadata": {},
     "output_type": "execute_result"
    }
   ],
   "source": [
    "def ml_user_user_colaborative_filtering(user_id, n_users, n_recommendations):\n",
    "    similar_users = get_top_k_similar_users(user_id, n_users+1).collect()\n",
    "    similar_users_ids = similar_users['UserID']\n",
    "    similar_users_ratings = user_item_df.filter(pl.col('UserID').is_in(similar_users_ids)) \\\n",
    "        .join(similar_users, on='UserID') \\\n",
    "        .sort(by='Similarity', descending=True)\n",
    "    similar_users_ratings_pd = similar_users_ratings.to_pandas()\n",
    "    cols_with_zero = similar_users_ratings_pd[similar_users_ratings_pd[\"UserID\"] == user_id] == 0\n",
    "    cols_with_zero[[\"UserID\", \"Similarity\"]] = True\n",
    "    similar_users_ratings_pd = similar_users_ratings_pd.loc[:, cols_with_zero.iloc[0]]\n",
    "    similar_users_ratings_pd = similar_users_ratings_pd[similar_users_ratings_pd[\"UserID\"] != user_id]\n",
    "    sum_of_similarities = similar_users_ratings_pd[\"Similarity\"].sum()\n",
    "    similar_users_ratings_pd[\"Similarity\"] = similar_users_ratings_pd[\"Similarity\"] / sum_of_similarities\n",
    "    return pl.DataFrame(similar_users_ratings_pd).select([\n",
    "        pl.exclude([\"UserID\", \"Similarity\"]) / 5 * pl.col('Similarity')\n",
    "    ]).sum().melt().select(\n",
    "        pl.col('variable').alias(\"MovieID\").cast(pl.Int32),\n",
    "        pl.col('value').alias(\"Rating\").cast(pl.Float64)\n",
    "    ).sort(by='Rating', descending=True).head(n_recommendations).lazy()\n",
    "\n",
    "ml_test_user_id = 5\n",
    "ml_recommendation = ml_user_user_colaborative_filtering(ml_test_user_id, 5, 100)\n",
    "ml_recommendation = ml_recommendation.join(ml_movies_df, on='MovieID').sort(by='Rating', descending=True)\n",
    "ml_recommendation.collect()"
   ]
  },
  {
   "cell_type": "code",
   "execution_count": 5,
   "metadata": {},
   "outputs": [
    {
     "name": "stdout",
     "output_type": "stream",
     "text": [
      "Precision@5 : 0.0\n",
      "Precision@10: 0.0\n",
      "Precision@15: 0.0\n"
     ]
    }
   ],
   "source": [
    "print(f\"Precision@5 : {ml_precision_at_k(5, ml_recommendation, ml_ratings_test_df, ml_test_user_id)}\")\n",
    "print(f\"Precision@10: {ml_precision_at_k(10, ml_recommendation, ml_ratings_test_df,  ml_test_user_id)}\")\n",
    "print(f\"Precision@15: {ml_precision_at_k(15, ml_recommendation, ml_ratings_test_df, ml_test_user_id)}\")"
   ]
  },
  {
   "cell_type": "code",
   "execution_count": 6,
   "metadata": {},
   "outputs": [
    {
     "name": "stdout",
     "output_type": "stream",
     "text": [
      "Recall@5: 0.0\n",
      "Recall@10: 0.0\n",
      "Recall@15: 0.0\n",
      "Recall@100: 0.13333333333333333\n"
     ]
    }
   ],
   "source": [
    "print(f\"Recall@5: {ml_recall_at_k(5, ml_recommendation, ml_ratings_test_df, ml_test_user_id)}\")\n",
    "print(f\"Recall@10: {ml_recall_at_k(10, ml_recommendation, ml_ratings_test_df, ml_test_user_id)}\")\n",
    "print(f\"Recall@15: {ml_recall_at_k(15, ml_recommendation, ml_ratings_test_df, ml_test_user_id)}\")\n",
    "print(f\"Recall@100: {ml_recall_at_k(100, ml_recommendation, ml_ratings_test_df, ml_test_user_id)}\")"
   ]
  },
  {
   "cell_type": "code",
   "execution_count": 7,
   "metadata": {},
   "outputs": [
    {
     "name": "stdout",
     "output_type": "stream",
     "text": [
      "F1@5: 0.0\n",
      "F1@10: 0.0\n",
      "F1@15: 0.0\n",
      "F1@100: 0.03478260869542533\n"
     ]
    }
   ],
   "source": [
    "print(f\"F1@5: {ml_f1_at_k(5,   ml_recommendation, ml_ratings_test_df, ml_test_user_id)}\")\n",
    "print(f\"F1@10: {ml_f1_at_k(10, ml_recommendation, ml_ratings_test_df, ml_test_user_id)}\")\n",
    "print(f\"F1@15: {ml_f1_at_k(15, ml_recommendation, ml_ratings_test_df, ml_test_user_id)}\")\n",
    "print(f\"F1@100: {ml_f1_at_k(100, ml_recommendation, ml_ratings_test_df, ml_test_user_id)}\")"
   ]
  }
 ],
 "metadata": {
  "kernelspec": {
   "display_name": "venv",
   "language": "python",
   "name": "python3"
  },
  "language_info": {
   "codemirror_mode": {
    "name": "ipython",
    "version": 3
   },
   "file_extension": ".py",
   "mimetype": "text/x-python",
   "name": "python",
   "nbconvert_exporter": "python",
   "pygments_lexer": "ipython3",
   "version": "3.11.9"
  }
 },
 "nbformat": 4,
 "nbformat_minor": 2
}
