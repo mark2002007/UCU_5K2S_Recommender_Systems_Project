{
 "cells": [
  {
   "cell_type": "code",
   "execution_count": 1,
   "metadata": {},
   "outputs": [],
   "source": [
    "import os\n",
    "ROOT = os.path.join('..', '..')\n",
    "import sys\n",
    "sys.path.append(ROOT)\n",
    "# \n",
    "import numpy as np\n",
    "\n",
    "from src.models import UserUserColaborativeFiltering"
   ]
  },
  {
   "cell_type": "markdown",
   "metadata": {},
   "source": [
    "# Train - Test Split"
   ]
  },
  {
   "cell_type": "code",
   "execution_count": 2,
   "metadata": {},
   "outputs": [],
   "source": [
    "from src.utils import read_ml, ml_train_test_split\n",
    "\n",
    "ml_complete_df, ml_users_df, ml_ratings_df, ml_movies_df, ml_genres_df = read_ml()\n",
    "\n",
    "MAX_K = 15\n",
    "ml_ratings_train_df, ml_ratings_test_df = ml_train_test_split(ml_ratings_df=ml_ratings_df, min_user_test_samples=MAX_K)"
   ]
  },
  {
   "cell_type": "markdown",
   "metadata": {},
   "source": [
    "# User-User Colaborative Filtering"
   ]
  },
  {
   "cell_type": "code",
   "execution_count": 3,
   "metadata": {},
   "outputs": [],
   "source": [
    "recommender = UserUserColaborativeFiltering(ml_movies_df, ml_users_df)\n",
    "recommender.fit(ml_ratings_train_df)"
   ]
  },
  {
   "cell_type": "code",
   "execution_count": 4,
   "metadata": {},
   "outputs": [
    {
     "name": "stderr",
     "output_type": "stream",
     "text": [
      "100%|██████████| 442/442 [00:12<00:00, 34.75it/s]\n"
     ]
    }
   ],
   "source": [
    "metrics = recommender.evaluate(ml_ratings_test_df, MAX_K)"
   ]
  },
  {
   "cell_type": "code",
   "execution_count": 5,
   "metadata": {},
   "outputs": [
    {
     "name": "stdout",
     "output_type": "stream",
     "text": [
      "Average Precision@K: 0.1332\n",
      "Average Recall@K: 0.0224\n",
      "Average F1@K: 0.034\n",
      "\n",
      "Best Precision@K: 0.8667\n",
      "Best Recall@K: 0.1304\n",
      "Best F1@K: 0.1579\n"
     ]
    }
   ],
   "source": [
    "print(\"Average Precision@K:\", round(np.mean(metrics['precision@k']), 4))\n",
    "print(\"Average Recall@K:\", round(np.mean(metrics['recall@k']), 4))\n",
    "print(\"Average F1@K:\", round(np.mean(metrics['f1@k']), 4))\n",
    "print()\n",
    "print(\"Best Precision@K:\", round(np.max(metrics['precision@k']), 4))\n",
    "print(\"Best Recall@K:\", round(np.max(metrics['recall@k']), 4))\n",
    "print(\"Best F1@K:\", round(np.max(metrics['f1@k']), 4))"
   ]
  },
  {
   "cell_type": "code",
   "execution_count": null,
   "metadata": {},
   "outputs": [],
   "source": []
  }
 ],
 "metadata": {
  "kernelspec": {
   "display_name": "venv",
   "language": "python",
   "name": "python3"
  },
  "language_info": {
   "codemirror_mode": {
    "name": "ipython",
    "version": 3
   },
   "file_extension": ".py",
   "mimetype": "text/x-python",
   "name": "python",
   "nbconvert_exporter": "python",
   "pygments_lexer": "ipython3",
   "version": "3.11.9"
  }
 },
 "nbformat": 4,
 "nbformat_minor": 2
}
