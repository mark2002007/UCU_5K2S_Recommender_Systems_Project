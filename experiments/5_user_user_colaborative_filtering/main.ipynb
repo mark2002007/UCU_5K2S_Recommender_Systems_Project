{
 "cells": [
  {
   "cell_type": "code",
   "execution_count": 1,
   "metadata": {},
   "source": [
    "import os\n",
    "ROOT = os.path.join('..', '..')\n",
    "import sys\n",
    "sys.path.append(ROOT)\n",
    "# \n",
    "import numpy as np\n",
    "\n",
    "from src.models import UserUserColaborativeFiltering"
   ],
   "outputs": []
  },
  {
   "cell_type": "markdown",
   "metadata": {},
   "source": [
    "# Train - Test Split"
   ]
  },
  {
   "cell_type": "code",
   "execution_count": 2,
   "metadata": {},
   "source": [
    "from src.utils import read_ml, ml_train_test_split\n",
    "\n",
    "ml_complete_df, ml_users_df, ml_ratings_df, ml_movies_df, ml_genres_df = read_ml()\n",
    "\n",
    "MAX_K = 30\n",
    "ml_ratings_train_df, ml_ratings_test_df = ml_train_test_split(ml_ratings_df=ml_ratings_df, min_user_test_samples=MAX_K)"
   ],
   "outputs": []
  },
  {
   "cell_type": "markdown",
   "metadata": {},
   "source": [
    "# User-User Colaborative Filtering"
   ]
  },
  {
   "cell_type": "code",
   "execution_count": 3,
   "metadata": {},
   "source": [
    "recommender = UserUserColaborativeFiltering(ml_movies_df, ml_users_df)\n",
    "recommender.fit(ml_ratings_train_df)"
   ],
   "outputs": []
  },
  {
   "cell_type": "code",
   "execution_count": 4,
   "metadata": {},
   "source": [
    "metrics = recommender.evaluate(ml_ratings_test_df, MAX_K)"
   ],
   "outputs": []
  },
  {
   "cell_type": "code",
   "execution_count": 5,
   "metadata": {},
   "source": [
    "print(\"Average Precision@K:\", round(np.mean(metrics['precision@k']), 4))\n",
    "print(\"Average Recall@K:\", round(np.mean(metrics['recall@k']), 4))\n",
    "print(\"Average F1@K:\", round(np.mean(metrics['f1@k']), 4))\n",
    "print()\n",
    "print(\"Best Precision@K:\", round(np.max(metrics['precision@k']), 4))\n",
    "print(\"Best Recall@K:\", round(np.max(metrics['recall@k']), 4))\n",
    "print(\"Best F1@K:\", round(np.max(metrics['f1@k']), 4))"
   ],
   "outputs": []
  },
  {
   "cell_type": "code",
   "execution_count": null,
   "metadata": {},
   "source": [],
   "outputs": []
  }
 ],
 "metadata": {
  "kernelspec": {
   "display_name": "venv",
   "language": "python",
   "name": "python3"
  },
  "language_info": {
   "codemirror_mode": {
    "name": "ipython",
    "version": 3
   },
   "file_extension": ".py",
   "mimetype": "text/x-python",
   "name": "python",
   "nbconvert_exporter": "python",
   "pygments_lexer": "ipython3",
   "version": "3.11.9"
  }
 },
 "nbformat": 4,
 "nbformat_minor": 2
}
