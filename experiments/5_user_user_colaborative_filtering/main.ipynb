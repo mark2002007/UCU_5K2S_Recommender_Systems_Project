{
 "cells": [
  {
   "cell_type": "code",
   "execution_count": 1,
   "metadata": {},
   "outputs": [],
   "source": [
    "import os\n",
    "ROOT = os.path.join('..', '..')\n",
    "import sys\n",
    "sys.path.append(ROOT)\n",
    "# \n",
    "import numpy as np\n",
    "import pandas as pd\n",
    "import altair as alt\n",
    "alt.data_transformers.disable_max_rows()\n",
    "\n",
    "from scripts.data import (\n",
    "    ml_ratings_df, ml_movies_df, ml_users_df\n",
    ")\n",
    "ml_ratings_df = ml_ratings_df.collect().to_pandas()\n",
    "ml_users_df = ml_users_df.collect().to_pandas()\n",
    "ml_movies_df = ml_movies_df.collect().to_pandas()\n",
    "\n",
    "from src.models.user_user import UserUserColaborativeFiltering"
   ]
  },
  {
   "cell_type": "markdown",
   "metadata": {},
   "source": [
    "# Train - Test Split"
   ]
  },
  {
   "cell_type": "code",
   "execution_count": 2,
   "metadata": {},
   "outputs": [
    {
     "name": "stdout",
     "output_type": "stream",
     "text": [
      "Train shape: (85086, 4)\n",
      "Test shape: (534709, 4)\n"
     ]
    }
   ],
   "source": [
    "MAX_K = 30\n",
    "T_SPLIT_POINT = 970_000_000\n",
    "\n",
    "# Split data into train and test in T_SPLIT_POINT\n",
    "ml_ratings_train_df = ml_ratings_df[ml_ratings_df['Timestamp'] < T_SPLIT_POINT]\n",
    "ml_ratings_test_df = ml_ratings_df[ml_ratings_df['Timestamp'] >= T_SPLIT_POINT]\n",
    "# Keep only users in test that have at least MAX_K ratings\n",
    "users_with_enough_ratings = ml_ratings_test_df['UserID'].value_counts()\n",
    "users_with_enough_ratings = users_with_enough_ratings[users_with_enough_ratings >= MAX_K]\n",
    "ml_ratings_test_df = ml_ratings_test_df[ml_ratings_test_df['UserID'].isin(users_with_enough_ratings.index)]\n",
    "# Keep only users in train that are in the test\n",
    "users_from_test = ml_ratings_test_df['UserID'].unique()\n",
    "ml_ratings_train_df = ml_ratings_train_df[ml_ratings_train_df['UserID'].isin(users_from_test)]\n",
    "#\n",
    "print('Train shape:', ml_ratings_train_df.shape)\n",
    "print('Test shape:', ml_ratings_test_df.shape)"
   ]
  },
  {
   "cell_type": "markdown",
   "metadata": {},
   "source": [
    "# User-User Colaborative Filtering"
   ]
  },
  {
   "cell_type": "code",
   "execution_count": 3,
   "metadata": {},
   "outputs": [],
   "source": [
    "recommender = UserUserColaborativeFiltering(ml_movies_df, ml_users_df)\n",
    "recommender.fit(ml_ratings_train_df)"
   ]
  },
  {
   "cell_type": "code",
   "execution_count": 6,
   "metadata": {},
   "outputs": [
    {
     "name": "stderr",
     "output_type": "stream",
     "text": [
      "100%|██████████| 3003/3003 [02:03<00:00, 24.38it/s]\n"
     ]
    }
   ],
   "source": [
    "metrics = recommender.evaluate(ml_ratings_test_df, MAX_K)"
   ]
  },
  {
   "cell_type": "code",
   "execution_count": 7,
   "metadata": {},
   "outputs": [
    {
     "name": "stdout",
     "output_type": "stream",
     "text": [
      "Average Precision@K: 0.4035\n",
      "Average Recall@K: 0.096\n",
      "Average F1@K: 0.1388\n",
      "\n",
      "Best Precision@K: 1.0\n",
      "Best Recall@K: 0.439\n",
      "Best F1@K: 0.507\n"
     ]
    }
   ],
   "source": [
    "print(\"Average Precision@K:\", round(np.mean(metrics['precision@k']), 4))\n",
    "print(\"Average Recall@K:\", round(np.mean(metrics['recall@k']), 4))\n",
    "print(\"Average F1@K:\", round(np.mean(metrics['f1@k']), 4))\n",
    "print()\n",
    "print(\"Best Precision@K:\", round(np.max(metrics['precision@k']), 4))\n",
    "print(\"Best Recall@K:\", round(np.max(metrics['recall@k']), 4))\n",
    "print(\"Best F1@K:\", round(np.max(metrics['f1@k']), 4))"
   ]
  },
  {
   "cell_type": "code",
   "execution_count": 8,
   "metadata": {},
   "outputs": [
    {
     "name": "stdout",
     "output_type": "stream",
     "text": [
      "Average Precision@K: 0.4035\n",
      "Average Recall@K: 0.096\n",
      "Average F1@K: 0.1388\n",
      "\n",
      "Best Precision@K: 1.0\n",
      "Best Recall@K: 0.439\n",
      "Best F1@K: 0.507\n"
     ]
    }
   ],
   "source": [
    "print(\"Average Precision@K:\", round(np.mean(metrics['precision@k']), 4))\n",
    "print(\"Average Recall@K:\", round(np.mean(metrics['recall@k']), 4))\n",
    "print(\"Average F1@K:\", round(np.mean(metrics['f1@k']), 4))\n",
    "print()\n",
    "print(\"Best Precision@K:\", round(np.max(metrics['precision@k']), 4))\n",
    "print(\"Best Recall@K:\", round(np.max(metrics['recall@k']), 4))\n",
    "print(\"Best F1@K:\", round(np.max(metrics['f1@k']), 4))"
   ]
  },
  {
   "cell_type": "code",
   "execution_count": null,
   "metadata": {},
   "outputs": [],
   "source": []
  },
  {
   "cell_type": "code",
   "execution_count": null,
   "metadata": {},
   "outputs": [],
   "source": []
  }
 ],
 "metadata": {
  "kernelspec": {
   "display_name": "venv",
   "language": "python",
   "name": "python3"
  },
  "language_info": {
   "codemirror_mode": {
    "name": "ipython",
    "version": 3
   },
   "file_extension": ".py",
   "mimetype": "text/x-python",
   "name": "python",
   "nbconvert_exporter": "python",
   "pygments_lexer": "ipython3",
   "version": "3.11.9"
  }
 },
 "nbformat": 4,
 "nbformat_minor": 2
}
