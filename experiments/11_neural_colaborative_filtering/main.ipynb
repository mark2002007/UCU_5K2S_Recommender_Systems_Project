{
 "cells": [
  {
   "cell_type": "code",
   "execution_count": 1,
   "metadata": {
    "ExecuteTime": {
     "end_time": "2024-06-16T08:15:59.615835Z",
     "start_time": "2024-06-16T08:15:57.800229Z"
    }
   },
   "outputs": [],
   "source": [
    "import os\n",
    "ROOT = os.path.join('..', '..')\n",
    "import sys\n",
    "sys.path.append(ROOT)\n",
    "# \n",
    "import numpy as np\n",
    "\n",
    "from src.models import NeuralCollaborativeFiltering"
   ]
  },
  {
   "cell_type": "code",
   "execution_count": 2,
   "metadata": {},
   "outputs": [],
   "source": [
    "from src.utils import read_ml, ml_train_test_split\n",
    "\n",
    "ml_complete_df, ml_users_df, ml_ratings_df, ml_movies_df, ml_genres_df = read_ml()\n",
    "\n",
    "MAX_K = 15\n",
    "ml_ratings_train_df, ml_ratings_test_df = ml_train_test_split(ml_ratings_df=ml_ratings_df, min_user_test_samples=MAX_K)"
   ]
  },
  {
   "cell_type": "code",
   "execution_count": 3,
   "metadata": {},
   "outputs": [
    {
     "name": "stderr",
     "output_type": "stream",
     "text": [
      "Epoch 1/5: 100%|██████████| 1616/1616 [00:05<00:00, 290.19batch/s, loss=0.58] \n",
      "Epoch 2/5: 100%|██████████| 1616/1616 [00:05<00:00, 305.48batch/s, loss=0.56] \n",
      "Epoch 3/5: 100%|██████████| 1616/1616 [00:05<00:00, 315.99batch/s, loss=0.553]\n",
      "Epoch 4/5: 100%|██████████| 1616/1616 [00:05<00:00, 305.81batch/s, loss=0.549]\n",
      "Epoch 5/5: 100%|██████████| 1616/1616 [00:05<00:00, 298.10batch/s, loss=0.547]\n"
     ]
    }
   ],
   "source": [
    "recommender = NeuralCollaborativeFiltering(ml_movies_df, ml_users_df)\n",
    "recommender.fit(ml_ratings_train_df, epochs=5)"
   ]
  },
  {
   "cell_type": "code",
   "execution_count": 4,
   "metadata": {},
   "outputs": [
    {
     "name": "stderr",
     "output_type": "stream",
     "text": [
      "100%|██████████| 442/442 [00:01<00:00, 286.99it/s]\n"
     ]
    }
   ],
   "source": [
    "metrics = recommender.evaluate(ml_ratings_test_df, k=MAX_K)"
   ]
  },
  {
   "cell_type": "code",
   "execution_count": 5,
   "metadata": {},
   "outputs": [
    {
     "name": "stdout",
     "output_type": "stream",
     "text": [
      "Average Precision@K: 0.0777\n",
      "Average Recall@K: 0.0142\n",
      "Average F1@K: 0.0212\n",
      "\n",
      "Best Precision@K: 0.5333\n",
      "Best Recall@K: 0.1429\n",
      "Best F1@K: 0.2\n"
     ]
    }
   ],
   "source": [
    "print(\"Average Precision@K:\", round(np.mean(metrics[\"precision@k\"]), 4))\n",
    "print(\"Average Recall@K:\", round(np.mean(metrics[\"recall@k\"]), 4))\n",
    "print(\"Average F1@K:\", round(np.mean(metrics[\"f1@k\"]), 4))\n",
    "print()\n",
    "print(\"Best Precision@K:\", round(np.max(metrics[\"precision@k\"]), 4))\n",
    "print(\"Best Recall@K:\", round(np.max(metrics[\"recall@k\"]), 4))\n",
    "print(\"Best F1@K:\", round(np.max(metrics[\"f1@k\"]), 4))"
   ]
  },
  {
   "cell_type": "code",
   "execution_count": null,
   "metadata": {},
   "outputs": [],
   "source": []
  }
 ],
 "metadata": {
  "kernelspec": {
   "display_name": "venv",
   "language": "python",
   "name": "python3"
  },
  "language_info": {
   "codemirror_mode": {
    "name": "ipython",
    "version": 3
   },
   "file_extension": ".py",
   "mimetype": "text/x-python",
   "name": "python",
   "nbconvert_exporter": "python",
   "pygments_lexer": "ipython3",
   "version": "3.9.19"
  }
 },
 "nbformat": 4,
 "nbformat_minor": 2
}
