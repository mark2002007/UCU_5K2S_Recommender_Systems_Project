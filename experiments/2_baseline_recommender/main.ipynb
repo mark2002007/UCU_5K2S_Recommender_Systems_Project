{
 "cells": [
  {
   "cell_type": "code",
   "execution_count": 6,
   "metadata": {},
   "outputs": [],
   "source": [
    "import os\n",
    "ROOT = os.path.join('..', '..')\n",
    "import sys\n",
    "sys.path.append(ROOT)\n",
    "# \n",
    "from tqdm import tqdm\n",
    "import numpy as np\n",
    "import pandas as pd\n",
    "import altair as alt\n",
    "alt.data_transformers.disable_max_rows()\n",
    "\n",
    "from scripts.data import (\n",
    "    ml_ratings_df, ml_movies_df, ml_users_df, ml_train_test_split\n",
    ")\n",
    "\n",
    "from src.constants import T_SPLIT_POINT\n",
    "\n",
    "ml_ratings_df = ml_ratings_df.collect().to_pandas()\n",
    "ml_users_df = ml_users_df.collect().to_pandas()\n",
    "ml_movies_df = ml_movies_df.collect().to_pandas()\n",
    "\n",
    "from src.models.simple import PopularityBasedRecommender"
   ]
  },
  {
   "cell_type": "markdown",
   "metadata": {},
   "source": [
    "# Train - Test Split"
   ]
  },
  {
   "cell_type": "code",
   "execution_count": 7,
   "metadata": {},
   "outputs": [
    {
     "name": "stdout",
     "output_type": "stream",
     "text": [
      "Train shape: (85086, 4)\n",
      "Test shape: (534709, 4)\n"
     ]
    }
   ],
   "source": [
    "MAX_K = 30\n",
    "ml_ratings_train_df, ml_ratings_test_df = ml_train_test_split(\n",
    "    ml_ratings_df, MAX_K, T_SPLIT_POINT\n",
    ")\n",
    "print('Train shape:', ml_ratings_train_df.shape)\n",
    "print('Test shape:', ml_ratings_test_df.shape)"
   ]
  },
  {
   "cell_type": "markdown",
   "metadata": {},
   "source": [
    "# Baseline Popularity-Based Recommender"
   ]
  },
  {
   "cell_type": "code",
   "execution_count": 8,
   "metadata": {},
   "outputs": [],
   "source": [
    "recommender = PopularityBasedRecommender(ml_movies_df, ml_users_df)\n",
    "recommender.fit(ml_ratings_train_df)"
   ]
  },
  {
   "cell_type": "code",
   "execution_count": 9,
   "metadata": {},
   "outputs": [
    {
     "name": "stderr",
     "output_type": "stream",
     "text": [
      "100%|██████████| 3003/3003 [00:02<00:00, 1059.36it/s]\n"
     ]
    }
   ],
   "source": [
    "metrics = recommender.evaluate(ml_ratings_test_df, k=MAX_K)"
   ]
  },
  {
   "cell_type": "code",
   "execution_count": 10,
   "metadata": {},
   "outputs": [
    {
     "name": "stdout",
     "output_type": "stream",
     "text": [
      "Average Precision@K: 0.4238\n",
      "Average Recall@K: 0.102\n",
      "Average F1@K: 0.1473\n",
      "\n",
      "Best Precision@K: 1.0\n",
      "Best Recall@K: 0.439\n",
      "Best F1@K: 0.507\n"
     ]
    }
   ],
   "source": [
    "print(\"Average Precision@K:\", round(np.mean(metrics[\"precision@k\"]), 4))\n",
    "print(\"Average Recall@K:\", round(np.mean(metrics[\"recall@k\"]), 4))\n",
    "print(\"Average F1@K:\", round(np.mean(metrics[\"f1@k\"]), 4))\n",
    "print()\n",
    "print(\"Best Precision@K:\", round(np.max(metrics[\"precision@k\"]), 4))\n",
    "print(\"Best Recall@K:\", round(np.max(metrics[\"recall@k\"]), 4))\n",
    "print(\"Best F1@K:\", round(np.max(metrics[\"f1@k\"]), 4))"
   ]
  }
 ],
 "metadata": {
  "kernelspec": {
   "display_name": "venv",
   "language": "python",
   "name": "python3"
  },
  "language_info": {
   "codemirror_mode": {
    "name": "ipython",
    "version": 3
   },
   "file_extension": ".py",
   "mimetype": "text/x-python",
   "name": "python",
   "nbconvert_exporter": "python",
   "pygments_lexer": "ipython3",
   "version": "3.11.9"
  }
 },
 "nbformat": 4,
 "nbformat_minor": 2
}
