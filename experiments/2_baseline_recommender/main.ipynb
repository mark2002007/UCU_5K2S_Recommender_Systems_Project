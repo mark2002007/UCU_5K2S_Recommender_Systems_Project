{
 "cells": [
  {
   "cell_type": "code",
   "execution_count": 1,
   "metadata": {
    "ExecuteTime": {
     "end_time": "2024-06-16T10:03:25.162960Z",
     "start_time": "2024-06-16T10:03:23.853831Z"
    }
   },
   "outputs": [],
   "source": [
    "import os\n",
    "ROOT = os.path.join('..', '..')\n",
    "import sys\n",
    "sys.path.append(ROOT)\n",
    "# \n",
    "import numpy as np\n",
    "\n",
    "from src.models import PopularityBasedRecommender"
   ]
  },
  {
   "cell_type": "markdown",
   "metadata": {},
   "source": [
    "# Train - Test Split"
   ]
  },
  {
   "cell_type": "code",
   "execution_count": 3,
   "metadata": {
    "ExecuteTime": {
     "end_time": "2024-06-16T10:03:40.789805Z",
     "start_time": "2024-06-16T10:03:40.098539Z"
    }
   },
   "outputs": [],
   "source": [
    "from src.utils import read_ml, ml_train_test_split\n",
    "\n",
    "ml_complete_df, ml_users_df, ml_ratings_df, ml_movies_df, ml_genres_df = read_ml()\n",
    "\n",
    "MAX_K = 20\n",
    "ml_ratings_train_df, ml_ratings_test_df = ml_train_test_split(ml_ratings_df=ml_ratings_df, min_user_test_samples=MAX_K)"
   ]
  },
  {
   "cell_type": "markdown",
   "metadata": {},
   "source": [
    "# Baseline Popularity-Based Recommender"
   ]
  },
  {
   "cell_type": "code",
   "execution_count": 4,
   "metadata": {},
   "outputs": [],
   "source": [
    "recommender = PopularityBasedRecommender(ml_movies_df, ml_users_df)\n",
    "recommender.fit(ml_ratings_train_df)"
   ]
  },
  {
   "cell_type": "code",
   "execution_count": 5,
   "metadata": {},
   "outputs": [
    {
     "name": "stderr",
     "output_type": "stream",
     "text": [
      "100%|██████████| 769/769 [00:11<00:00, 67.74it/s]\n"
     ]
    }
   ],
   "source": [
    "metrics = recommender.evaluate(ml_ratings_test_df, k=MAX_K, verbose=True)"
   ]
  },
  {
   "cell_type": "code",
   "execution_count": 6,
   "metadata": {},
   "outputs": [
    {
     "name": "stdout",
     "output_type": "stream",
     "text": [
      "Predictive metrics\n",
      "Average Precision@K: 0.3381\n",
      "Average Recall@K: 0.0655\n",
      "Average F1@K: 0.0983\n",
      "Average precision: 0.3772\n",
      "\n",
      "Best Precision@K: 1.0\n",
      "Best Recall@K: 0.3043\n",
      "Best F1@K: 0.3273\n",
      "Best average precision 1.0\n",
      "\n",
      "Ranking metrics\n",
      "MRR: 0.6467\n",
      "Average NDCG: 0.6505\n",
      "\n",
      "Best NDCG: 1.0\n"
     ]
    }
   ],
   "source": [
    "print(\"Predictive metrics\")\n",
    "print(\"Average Precision@K:\", round(np.mean(metrics[\"precision@k\"]), 4))\n",
    "print(\"Average Recall@K:\", round(np.mean(metrics[\"recall@k\"]), 4))\n",
    "print(\"Average F1@K:\", round(np.mean(metrics[\"f1@k\"]), 4))\n",
    "print(\"Average precision:\", round(np.mean(metrics[\"average_precision\"]), 4))\n",
    "\n",
    "print()\n",
    "print(\"Best Precision@K:\", round(np.max(metrics[\"precision@k\"]), 4))\n",
    "print(\"Best Recall@K:\", round(np.max(metrics[\"recall@k\"]), 4))\n",
    "print(\"Best F1@K:\", round(np.max(metrics[\"f1@k\"]), 4))\n",
    "print(\"Best average precision\", round(np.max(metrics[\"average_precision\"]), 4))\n",
    "print()\n",
    "print(\"Ranking metrics\")\n",
    "print(\"MRR:\", round(np.mean(metrics[\"reciprocal_rank\"]), 4))\n",
    "print(\"Average NDCG:\", round(np.mean(metrics[\"NDCG\"]), 4))\n",
    "print()\n",
    "print(\"Best NDCG:\", round(np.max(metrics[\"NDCG\"]), 4))"
   ]
  },
  {
   "cell_type": "code",
   "execution_count": null,
   "metadata": {},
   "outputs": [],
   "source": []
  }
 ],
 "metadata": {
  "kernelspec": {
   "display_name": "venv",
   "language": "python",
   "name": "python3"
  },
  "language_info": {
   "codemirror_mode": {
    "name": "ipython",
    "version": 3
   },
   "file_extension": ".py",
   "mimetype": "text/x-python",
   "name": "python",
   "nbconvert_exporter": "python",
   "pygments_lexer": "ipython3",
   "version": "3.11.9"
  }
 },
 "nbformat": 4,
 "nbformat_minor": 2
}
