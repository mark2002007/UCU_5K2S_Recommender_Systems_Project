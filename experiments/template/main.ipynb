{
 "cells": [
  {
   "cell_type": "code",
   "execution_count": 2,
   "metadata": {},
   "outputs": [],
   "source": [
    "import os\n",
    "ROOT = os.path.join('..', '..')\n",
    "import sys\n",
    "sys.path.append(ROOT)\n",
    "# \n",
    "import numpy as np\n",
    "import altair as alt\n",
    "alt.data_transformers.disable_max_rows()\n",
    "\n",
    "from scripts.data import (\n",
    "    ml_ratings_df, ml_movies_df, ml_users_df\n",
    ")\n",
    "ml_ratings_df = ml_ratings_df.collect().to_pandas()\n",
    "ml_users_df = ml_users_df.collect().to_pandas()\n",
    "ml_movies_df = ml_movies_df.collect().to_pandas()"
   ]
  },
  {
   "cell_type": "markdown",
   "metadata": {},
   "source": [
    "# Train - Test Split"
   ]
  },
  {
   "cell_type": "code",
   "execution_count": 3,
   "metadata": {},
   "outputs": [
    {
     "name": "stdout",
     "output_type": "stream",
     "text": [
      "Train shape: (85086, 4)\n",
      "Test shape: (534709, 4)\n"
     ]
    }
   ],
   "source": [
    "MAX_K = 30\n",
    "T_SPLIT_POINT = 970_000_000\n",
    "\n",
    "# Split data into train and test in T_SPLIT_POINT\n",
    "ml_ratings_train_df = ml_ratings_df[ml_ratings_df['Timestamp'] < T_SPLIT_POINT]\n",
    "ml_ratings_test_df = ml_ratings_df[ml_ratings_df['Timestamp'] >= T_SPLIT_POINT]\n",
    "# Keep only users in test that have at least MAX_K ratings\n",
    "users_with_enough_ratings = ml_ratings_test_df['UserID'].value_counts()\n",
    "users_with_enough_ratings = users_with_enough_ratings[users_with_enough_ratings >= MAX_K]\n",
    "ml_ratings_test_df = ml_ratings_test_df[ml_ratings_test_df['UserID'].isin(users_with_enough_ratings.index)]\n",
    "# Keep only users in train that are in the test\n",
    "users_from_test = ml_ratings_test_df['UserID'].unique()\n",
    "ml_ratings_train_df = ml_ratings_train_df[ml_ratings_train_df['UserID'].isin(users_from_test)]\n",
    "#\n",
    "print('Train shape:', ml_ratings_train_df.shape)\n",
    "print('Test shape:', ml_ratings_test_df.shape)"
   ]
  },
  {
   "cell_type": "code",
   "execution_count": 2,
   "metadata": {},
   "outputs": [],
   "source": [
    "# YOUR AWESOME CODE RIGHT AFTER"
   ]
  },
  {
   "cell_type": "code",
   "execution_count": null,
   "metadata": {},
   "outputs": [],
   "source": []
  }
 ],
 "metadata": {
  "kernelspec": {
   "display_name": "venv",
   "language": "python",
   "name": "python3"
  },
  "language_info": {
   "codemirror_mode": {
    "name": "ipython",
    "version": 3
   },
   "file_extension": ".py",
   "mimetype": "text/x-python",
   "name": "python",
   "nbconvert_exporter": "python",
   "pygments_lexer": "ipython3",
   "version": "3.11.9"
  }
 },
 "nbformat": 4,
 "nbformat_minor": 2
}
