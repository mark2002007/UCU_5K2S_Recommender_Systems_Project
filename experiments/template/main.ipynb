{
 "cells": [
  {
   "cell_type": "code",
   "execution_count": 1,
   "metadata": {},
   "outputs": [
    {
     "data": {
      "text/plain": [
       "DataTransformerRegistry.enable('default')"
      ]
     },
     "execution_count": 1,
     "metadata": {},
     "output_type": "execute_result"
    }
   ],
   "source": [
    "ROOT = \"../../\"\n",
    "import sys\n",
    "sys.path.append(ROOT)\n",
    "#\n",
    "from src.constants import (\n",
    "    ML_MOVIES_PATH, ML_RATINGS_PATH, ML_USERS_PATH,\n",
    "    BC_BOOKS_PATH, BC_RATINGS_PATH, BC_USERS_PATH\n",
    ")\n",
    "import polars as pl\n",
    "import altair as alt\n",
    "alt.data_transformers.disable_max_rows()"
   ]
  },
  {
   "cell_type": "markdown",
   "metadata": {},
   "source": [
    "# Data"
   ]
  },
  {
   "cell_type": "markdown",
   "metadata": {},
   "source": [
    "## MovieLens"
   ]
  },
  {
   "cell_type": "markdown",
   "metadata": {},
   "source": [
    "### Users"
   ]
  },
  {
   "cell_type": "code",
   "execution_count": 2,
   "metadata": {},
   "outputs": [
    {
     "name": "stderr",
     "output_type": "stream",
     "text": [
      "/var/folders/16/2kmt14y56rqd2xkgkp53tr080000gn/T/ipykernel_47037/792700600.py:33: DeprecationWarning: `map_dict` is deprecated. It has been renamed to `replace`. The default behavior has changed to keep any values not present in the mapping unchanged. Pass `default=None` to keep existing behavior.\n",
      "  pl.col(\"column_1\").list.get(3).alias(\"Occupation\").cast(pl.Int32).map_dict(ml_occupation_map),\n"
     ]
    },
    {
     "data": {
      "text/html": [
       "<div><style>\n",
       ".dataframe > thead > tr,\n",
       ".dataframe > tbody > tr {\n",
       "  text-align: right;\n",
       "  white-space: pre-wrap;\n",
       "}\n",
       "</style>\n",
       "<small>shape: (5, 5)</small><table border=\"1\" class=\"dataframe\"><thead><tr><th>UserID</th><th>Gender</th><th>Age</th><th>Occupation</th><th>Zip-code</th></tr><tr><td>i32</td><td>str</td><td>i32</td><td>str</td><td>str</td></tr></thead><tbody><tr><td>1</td><td>&quot;F&quot;</td><td>1</td><td>&quot;K-12 student&quot;</td><td>&quot;48067&quot;</td></tr><tr><td>2</td><td>&quot;M&quot;</td><td>56</td><td>&quot;self-employed&quot;</td><td>&quot;70072&quot;</td></tr><tr><td>3</td><td>&quot;M&quot;</td><td>25</td><td>&quot;scientist&quot;</td><td>&quot;55117&quot;</td></tr><tr><td>4</td><td>&quot;M&quot;</td><td>45</td><td>&quot;executive/managerial&quot;</td><td>&quot;02460&quot;</td></tr><tr><td>5</td><td>&quot;M&quot;</td><td>25</td><td>&quot;writer&quot;</td><td>&quot;55455&quot;</td></tr></tbody></table></div>"
      ],
      "text/plain": [
       "shape: (5, 5)\n",
       "┌────────┬────────┬─────┬──────────────────────┬──────────┐\n",
       "│ UserID ┆ Gender ┆ Age ┆ Occupation           ┆ Zip-code │\n",
       "│ ---    ┆ ---    ┆ --- ┆ ---                  ┆ ---      │\n",
       "│ i32    ┆ str    ┆ i32 ┆ str                  ┆ str      │\n",
       "╞════════╪════════╪═════╪══════════════════════╪══════════╡\n",
       "│ 1      ┆ F      ┆ 1   ┆ K-12 student         ┆ 48067    │\n",
       "│ 2      ┆ M      ┆ 56  ┆ self-employed        ┆ 70072    │\n",
       "│ 3      ┆ M      ┆ 25  ┆ scientist            ┆ 55117    │\n",
       "│ 4      ┆ M      ┆ 45  ┆ executive/managerial ┆ 02460    │\n",
       "│ 5      ┆ M      ┆ 25  ┆ writer               ┆ 55455    │\n",
       "└────────┴────────┴─────┴──────────────────────┴──────────┘"
      ]
     },
     "execution_count": 2,
     "metadata": {},
     "output_type": "execute_result"
    }
   ],
   "source": [
    "# 1) Read lines and split them by \"::\"\n",
    "# 2) Select the columns and cast them to the correct types\n",
    "ml_ocupations = [\n",
    "    \"other\",\n",
    "\t\"academic/educator\",\n",
    "\t\"artist\",\n",
    "\t\"clerical/admin\",\n",
    "\t\"college/grad student\",\n",
    "\t\"customer service\",\n",
    "\t\"doctor/health care\",\n",
    "\t\"executive/managerial\",\n",
    "\t\"farmer\",\n",
    "\t\"homemaker\",\n",
    "\t\"K-12 student\",\n",
    "\t\"lawyer\",\n",
    "\t\"programmer\",\n",
    "\t\"retired\",\n",
    "\t\"sales/marketing\",\n",
    "\t\"scientist\",\n",
    "\t\"self-employed\",\n",
    "\t\"technician/engineer\",\n",
    "\t\"tradesman/craftsman\",\n",
    "\t\"unemployed\",\n",
    "\t\"writer\",\n",
    "]\n",
    "ml_occupation_map = {i: occupation for i, occupation in enumerate(ml_ocupations)}\n",
    "ml_users_df = pl.scan_csv(ROOT + ML_USERS_PATH, has_header=False, truncate_ragged_lines=True, encoding=\"utf8-lossy\").select([\n",
    "    pl.col(\"column_1\").str.split(\"::\")\n",
    "]).select([\n",
    "    pl.col(\"column_1\").list.get(0).alias(\"UserID\").cast(pl.Int32),\n",
    "    pl.col(\"column_1\").list.get(1).alias(\"Gender\"),\n",
    "    pl.col(\"column_1\").list.get(2).alias(\"Age\").cast(pl.Int32),\n",
    "    pl.col(\"column_1\").list.get(3).alias(\"Occupation\").cast(pl.Int32).map_dict(ml_occupation_map),\n",
    "    pl.col(\"column_1\").list.get(4).alias(\"Zip-code\"),\n",
    "])\n",
    "\n",
    "ml_users_df.head().collect()"
   ]
  },
  {
   "cell_type": "markdown",
   "metadata": {},
   "source": [
    "### Movies\n"
   ]
  },
  {
   "cell_type": "code",
   "execution_count": 3,
   "metadata": {},
   "outputs": [],
   "source": [
    "# 1) Read lines and split them by \"::\"\n",
    "# 2) Select the columns and cast them to the correct types\n",
    "# 3) Extract the year from the title column\n",
    "# 4) If year is not null, remove it from the title\n",
    "#   If the title is \"Toy Story (1995)\", the title should be \"Toy Story\" and the year should be 1995. \n",
    "#   If the title does not have a year, the year should be null.\n",
    "ml_movies_df = pl.scan_csv(ROOT + ML_MOVIES_PATH, has_header=False, truncate_ragged_lines=True, encoding=\"utf8-lossy\").select([\n",
    "    pl.col(\"column_1\").str.split(\"::\")\n",
    "]).select([\n",
    "    pl.col(\"column_1\").list.get(0).alias(\"MovieID\").cast(pl.Int32),\n",
    "    pl.col(\"column_1\").list.get(1).alias(\"Title\"),\n",
    "    pl.col(\"column_1\").list.get(2).str.split(\"|\").alias(\"Genres\")\n",
    "]).with_columns([\n",
    "    pl.col(\"Title\").str.extract(r\"\\((\\d{4})\\)$\").alias(\"Year\").cast(pl.Int32),\n",
    "]).with_columns([\n",
    "    # If Year is not null, remove it from the title\n",
    "    pl.when(pl.col(\"Year\").is_null()).then(pl.col(\"Title\")).otherwise(\n",
    "        pl.col(\"Title\").str.slice(0, pl.col(\"Title\").str.find(\" \\((\\d{4})\\)$\"))\n",
    "    ).alias(\"Title\")\n",
    "])\n",
    "# 4) Get possible genres\n",
    "ml_genres = ml_movies_df.select(pl.col(\"Genres\").explode().unique()).collect()\n",
    "# 5) Make dummy variable for each genre\n",
    "ml_movies_df = ml_movies_df.with_columns([\n",
    "    pl.col(\"Genres\").list.contains(genre[0]).alias(f\"Is{genre[0]}\")\n",
    "    for genre in ml_genres.rows() if genre[0] is not None\n",
    "])"
   ]
  },
  {
   "cell_type": "code",
   "execution_count": 4,
   "metadata": {},
   "outputs": [
    {
     "data": {
      "text/html": [
       "<div><style>\n",
       ".dataframe > thead > tr,\n",
       ".dataframe > tbody > tr {\n",
       "  text-align: right;\n",
       "  white-space: pre-wrap;\n",
       "}\n",
       "</style>\n",
       "<small>shape: (3_883, 23)</small><table border=\"1\" class=\"dataframe\"><thead><tr><th>MovieID</th><th>Title</th><th>Genres</th><th>Year</th><th>IsThriller</th><th>IsCrime</th><th>IsAdventure</th><th>IsAnimation</th><th>IsWar</th><th>IsNone</th><th>IsFantasy</th><th>IsMystery</th><th>IsHorror</th><th>IsDrama</th><th>IsDocumentary</th><th>IsChildren&#x27;s</th><th>IsAction</th><th>IsWestern</th><th>IsComedy</th><th>IsSci-Fi</th><th>IsRomance</th><th>IsMusical</th><th>IsFilm-Noir</th></tr><tr><td>i32</td><td>str</td><td>list[str]</td><td>i32</td><td>bool</td><td>bool</td><td>bool</td><td>bool</td><td>bool</td><td>bool</td><td>bool</td><td>bool</td><td>bool</td><td>bool</td><td>bool</td><td>bool</td><td>bool</td><td>bool</td><td>bool</td><td>bool</td><td>bool</td><td>bool</td><td>bool</td></tr></thead><tbody><tr><td>1</td><td>&quot;Toy Story&quot;</td><td>[&quot;Animation&quot;, &quot;Children&#x27;s&quot;, &quot;Comedy&quot;]</td><td>1995</td><td>false</td><td>false</td><td>false</td><td>true</td><td>false</td><td>null</td><td>false</td><td>false</td><td>false</td><td>false</td><td>false</td><td>true</td><td>false</td><td>false</td><td>true</td><td>false</td><td>false</td><td>false</td><td>false</td></tr><tr><td>2</td><td>&quot;Jumanji&quot;</td><td>[&quot;Adventure&quot;, &quot;Children&#x27;s&quot;, &quot;Fantasy&quot;]</td><td>1995</td><td>false</td><td>false</td><td>true</td><td>false</td><td>false</td><td>null</td><td>true</td><td>false</td><td>false</td><td>false</td><td>false</td><td>true</td><td>false</td><td>false</td><td>false</td><td>false</td><td>false</td><td>false</td><td>false</td></tr><tr><td>3</td><td>&quot;Grumpier Old Men&quot;</td><td>[&quot;Comedy&quot;, &quot;Romance&quot;]</td><td>1995</td><td>false</td><td>false</td><td>false</td><td>false</td><td>false</td><td>null</td><td>false</td><td>false</td><td>false</td><td>false</td><td>false</td><td>false</td><td>false</td><td>false</td><td>true</td><td>false</td><td>true</td><td>false</td><td>false</td></tr><tr><td>4</td><td>&quot;Waiting to Exhale&quot;</td><td>[&quot;Comedy&quot;, &quot;Drama&quot;]</td><td>1995</td><td>false</td><td>false</td><td>false</td><td>false</td><td>false</td><td>null</td><td>false</td><td>false</td><td>false</td><td>true</td><td>false</td><td>false</td><td>false</td><td>false</td><td>true</td><td>false</td><td>false</td><td>false</td><td>false</td></tr><tr><td>5</td><td>&quot;Father of the Bride Part II&quot;</td><td>[&quot;Comedy&quot;]</td><td>1995</td><td>false</td><td>false</td><td>false</td><td>false</td><td>false</td><td>null</td><td>false</td><td>false</td><td>false</td><td>false</td><td>false</td><td>false</td><td>false</td><td>false</td><td>true</td><td>false</td><td>false</td><td>false</td><td>false</td></tr><tr><td>&hellip;</td><td>&hellip;</td><td>&hellip;</td><td>&hellip;</td><td>&hellip;</td><td>&hellip;</td><td>&hellip;</td><td>&hellip;</td><td>&hellip;</td><td>&hellip;</td><td>&hellip;</td><td>&hellip;</td><td>&hellip;</td><td>&hellip;</td><td>&hellip;</td><td>&hellip;</td><td>&hellip;</td><td>&hellip;</td><td>&hellip;</td><td>&hellip;</td><td>&hellip;</td><td>&hellip;</td><td>&hellip;</td></tr><tr><td>3948</td><td>&quot;Meet the Parents&quot;</td><td>[&quot;Comedy&quot;]</td><td>2000</td><td>false</td><td>false</td><td>false</td><td>false</td><td>false</td><td>null</td><td>false</td><td>false</td><td>false</td><td>false</td><td>false</td><td>false</td><td>false</td><td>false</td><td>true</td><td>false</td><td>false</td><td>false</td><td>false</td></tr><tr><td>3949</td><td>&quot;Requiem for a Dream&quot;</td><td>[&quot;Drama&quot;]</td><td>2000</td><td>false</td><td>false</td><td>false</td><td>false</td><td>false</td><td>null</td><td>false</td><td>false</td><td>false</td><td>true</td><td>false</td><td>false</td><td>false</td><td>false</td><td>false</td><td>false</td><td>false</td><td>false</td><td>false</td></tr><tr><td>3950</td><td>&quot;Tigerland&quot;</td><td>[&quot;Drama&quot;]</td><td>2000</td><td>false</td><td>false</td><td>false</td><td>false</td><td>false</td><td>null</td><td>false</td><td>false</td><td>false</td><td>true</td><td>false</td><td>false</td><td>false</td><td>false</td><td>false</td><td>false</td><td>false</td><td>false</td><td>false</td></tr><tr><td>3951</td><td>&quot;Two Family House&quot;</td><td>[&quot;Drama&quot;]</td><td>2000</td><td>false</td><td>false</td><td>false</td><td>false</td><td>false</td><td>null</td><td>false</td><td>false</td><td>false</td><td>true</td><td>false</td><td>false</td><td>false</td><td>false</td><td>false</td><td>false</td><td>false</td><td>false</td><td>false</td></tr><tr><td>3952</td><td>&quot;Contender&quot;</td><td>null</td><td>null</td><td>false</td><td>false</td><td>false</td><td>false</td><td>false</td><td>null</td><td>false</td><td>false</td><td>false</td><td>false</td><td>false</td><td>false</td><td>false</td><td>false</td><td>false</td><td>false</td><td>false</td><td>false</td><td>false</td></tr></tbody></table></div>"
      ],
      "text/plain": [
       "shape: (3_883, 23)\n",
       "┌─────────┬──────────────┬─────────────┬──────┬───┬──────────┬───────────┬───────────┬─────────────┐\n",
       "│ MovieID ┆ Title        ┆ Genres      ┆ Year ┆ … ┆ IsSci-Fi ┆ IsRomance ┆ IsMusical ┆ IsFilm-Noir │\n",
       "│ ---     ┆ ---          ┆ ---         ┆ ---  ┆   ┆ ---      ┆ ---       ┆ ---       ┆ ---         │\n",
       "│ i32     ┆ str          ┆ list[str]   ┆ i32  ┆   ┆ bool     ┆ bool      ┆ bool      ┆ bool        │\n",
       "╞═════════╪══════════════╪═════════════╪══════╪═══╪══════════╪═══════════╪═══════════╪═════════════╡\n",
       "│ 1       ┆ Toy Story    ┆ [\"Animation ┆ 1995 ┆ … ┆ false    ┆ false     ┆ false     ┆ false       │\n",
       "│         ┆              ┆ \", \"Childre ┆      ┆   ┆          ┆           ┆           ┆             │\n",
       "│         ┆              ┆ n's\", \"C…   ┆      ┆   ┆          ┆           ┆           ┆             │\n",
       "│ 2       ┆ Jumanji      ┆ [\"Adventure ┆ 1995 ┆ … ┆ false    ┆ false     ┆ false     ┆ false       │\n",
       "│         ┆              ┆ \", \"Childre ┆      ┆   ┆          ┆           ┆           ┆             │\n",
       "│         ┆              ┆ n's\", \"F…   ┆      ┆   ┆          ┆           ┆           ┆             │\n",
       "│ 3       ┆ Grumpier Old ┆ [\"Comedy\",  ┆ 1995 ┆ … ┆ false    ┆ true      ┆ false     ┆ false       │\n",
       "│         ┆ Men          ┆ \"Romance\"]  ┆      ┆   ┆          ┆           ┆           ┆             │\n",
       "│ 4       ┆ Waiting to   ┆ [\"Comedy\",  ┆ 1995 ┆ … ┆ false    ┆ false     ┆ false     ┆ false       │\n",
       "│         ┆ Exhale       ┆ \"Drama\"]    ┆      ┆   ┆          ┆           ┆           ┆             │\n",
       "│ 5       ┆ Father of    ┆ [\"Comedy\"]  ┆ 1995 ┆ … ┆ false    ┆ false     ┆ false     ┆ false       │\n",
       "│         ┆ the Bride    ┆             ┆      ┆   ┆          ┆           ┆           ┆             │\n",
       "│         ┆ Part II      ┆             ┆      ┆   ┆          ┆           ┆           ┆             │\n",
       "│ …       ┆ …            ┆ …           ┆ …    ┆ … ┆ …        ┆ …         ┆ …         ┆ …           │\n",
       "│ 3948    ┆ Meet the     ┆ [\"Comedy\"]  ┆ 2000 ┆ … ┆ false    ┆ false     ┆ false     ┆ false       │\n",
       "│         ┆ Parents      ┆             ┆      ┆   ┆          ┆           ┆           ┆             │\n",
       "│ 3949    ┆ Requiem for  ┆ [\"Drama\"]   ┆ 2000 ┆ … ┆ false    ┆ false     ┆ false     ┆ false       │\n",
       "│         ┆ a Dream      ┆             ┆      ┆   ┆          ┆           ┆           ┆             │\n",
       "│ 3950    ┆ Tigerland    ┆ [\"Drama\"]   ┆ 2000 ┆ … ┆ false    ┆ false     ┆ false     ┆ false       │\n",
       "│ 3951    ┆ Two Family   ┆ [\"Drama\"]   ┆ 2000 ┆ … ┆ false    ┆ false     ┆ false     ┆ false       │\n",
       "│         ┆ House        ┆             ┆      ┆   ┆          ┆           ┆           ┆             │\n",
       "│ 3952    ┆ Contender    ┆ null        ┆ null ┆ … ┆ false    ┆ false     ┆ false     ┆ false       │\n",
       "└─────────┴──────────────┴─────────────┴──────┴───┴──────────┴───────────┴───────────┴─────────────┘"
      ]
     },
     "execution_count": 4,
     "metadata": {},
     "output_type": "execute_result"
    }
   ],
   "source": [
    "ml_movies_df.collect()"
   ]
  },
  {
   "cell_type": "code",
   "execution_count": 5,
   "metadata": {},
   "outputs": [
    {
     "data": {
      "text/html": [
       "<div><style>\n",
       ".dataframe > thead > tr,\n",
       ".dataframe > tbody > tr {\n",
       "  text-align: right;\n",
       "  white-space: pre-wrap;\n",
       "}\n",
       "</style>\n",
       "<small>shape: (1, 23)</small><table border=\"1\" class=\"dataframe\"><thead><tr><th>MovieID</th><th>Title</th><th>Genres</th><th>Year</th><th>IsThriller</th><th>IsCrime</th><th>IsAdventure</th><th>IsAnimation</th><th>IsWar</th><th>IsNone</th><th>IsFantasy</th><th>IsMystery</th><th>IsHorror</th><th>IsDrama</th><th>IsDocumentary</th><th>IsChildren&#x27;s</th><th>IsAction</th><th>IsWestern</th><th>IsComedy</th><th>IsSci-Fi</th><th>IsRomance</th><th>IsMusical</th><th>IsFilm-Noir</th></tr><tr><td>u32</td><td>u32</td><td>u32</td><td>u32</td><td>u32</td><td>u32</td><td>u32</td><td>u32</td><td>u32</td><td>u32</td><td>u32</td><td>u32</td><td>u32</td><td>u32</td><td>u32</td><td>u32</td><td>u32</td><td>u32</td><td>u32</td><td>u32</td><td>u32</td><td>u32</td><td>u32</td></tr></thead><tbody><tr><td>0</td><td>0</td><td>993</td><td>993</td><td>0</td><td>0</td><td>0</td><td>0</td><td>0</td><td>3883</td><td>0</td><td>0</td><td>0</td><td>0</td><td>0</td><td>0</td><td>0</td><td>0</td><td>0</td><td>0</td><td>0</td><td>0</td><td>0</td></tr></tbody></table></div>"
      ],
      "text/plain": [
       "shape: (1, 23)\n",
       "┌─────────┬───────┬────────┬──────┬───┬──────────┬───────────┬───────────┬─────────────┐\n",
       "│ MovieID ┆ Title ┆ Genres ┆ Year ┆ … ┆ IsSci-Fi ┆ IsRomance ┆ IsMusical ┆ IsFilm-Noir │\n",
       "│ ---     ┆ ---   ┆ ---    ┆ ---  ┆   ┆ ---      ┆ ---       ┆ ---       ┆ ---         │\n",
       "│ u32     ┆ u32   ┆ u32    ┆ u32  ┆   ┆ u32      ┆ u32       ┆ u32       ┆ u32         │\n",
       "╞═════════╪═══════╪════════╪══════╪═══╪══════════╪═══════════╪═══════════╪═════════════╡\n",
       "│ 0       ┆ 0     ┆ 993    ┆ 993  ┆ … ┆ 0        ┆ 0         ┆ 0         ┆ 0           │\n",
       "└─────────┴───────┴────────┴──────┴───┴──────────┴───────────┴───────────┴─────────────┘"
      ]
     },
     "execution_count": 5,
     "metadata": {},
     "output_type": "execute_result"
    }
   ],
   "source": [
    "ml_movies_df.null_count().collect()"
   ]
  },
  {
   "cell_type": "markdown",
   "metadata": {},
   "source": [
    "### Ratings"
   ]
  },
  {
   "cell_type": "code",
   "execution_count": 6,
   "metadata": {},
   "outputs": [
    {
     "data": {
      "text/html": [
       "<div><style>\n",
       ".dataframe > thead > tr,\n",
       ".dataframe > tbody > tr {\n",
       "  text-align: right;\n",
       "  white-space: pre-wrap;\n",
       "}\n",
       "</style>\n",
       "<small>shape: (1_000_209, 4)</small><table border=\"1\" class=\"dataframe\"><thead><tr><th>UserID</th><th>MovieID</th><th>Rating</th><th>Timestamp</th></tr><tr><td>i32</td><td>i32</td><td>i32</td><td>i32</td></tr></thead><tbody><tr><td>1</td><td>1193</td><td>5</td><td>978300760</td></tr><tr><td>1</td><td>661</td><td>3</td><td>978302109</td></tr><tr><td>1</td><td>914</td><td>3</td><td>978301968</td></tr><tr><td>1</td><td>3408</td><td>4</td><td>978300275</td></tr><tr><td>1</td><td>2355</td><td>5</td><td>978824291</td></tr><tr><td>&hellip;</td><td>&hellip;</td><td>&hellip;</td><td>&hellip;</td></tr><tr><td>6040</td><td>1091</td><td>1</td><td>956716541</td></tr><tr><td>6040</td><td>1094</td><td>5</td><td>956704887</td></tr><tr><td>6040</td><td>562</td><td>5</td><td>956704746</td></tr><tr><td>6040</td><td>1096</td><td>4</td><td>956715648</td></tr><tr><td>6040</td><td>1097</td><td>4</td><td>956715569</td></tr></tbody></table></div>"
      ],
      "text/plain": [
       "shape: (1_000_209, 4)\n",
       "┌────────┬─────────┬────────┬───────────┐\n",
       "│ UserID ┆ MovieID ┆ Rating ┆ Timestamp │\n",
       "│ ---    ┆ ---     ┆ ---    ┆ ---       │\n",
       "│ i32    ┆ i32     ┆ i32    ┆ i32       │\n",
       "╞════════╪═════════╪════════╪═══════════╡\n",
       "│ 1      ┆ 1193    ┆ 5      ┆ 978300760 │\n",
       "│ 1      ┆ 661     ┆ 3      ┆ 978302109 │\n",
       "│ 1      ┆ 914     ┆ 3      ┆ 978301968 │\n",
       "│ 1      ┆ 3408    ┆ 4      ┆ 978300275 │\n",
       "│ 1      ┆ 2355    ┆ 5      ┆ 978824291 │\n",
       "│ …      ┆ …       ┆ …      ┆ …         │\n",
       "│ 6040   ┆ 1091    ┆ 1      ┆ 956716541 │\n",
       "│ 6040   ┆ 1094    ┆ 5      ┆ 956704887 │\n",
       "│ 6040   ┆ 562     ┆ 5      ┆ 956704746 │\n",
       "│ 6040   ┆ 1096    ┆ 4      ┆ 956715648 │\n",
       "│ 6040   ┆ 1097    ┆ 4      ┆ 956715569 │\n",
       "└────────┴─────────┴────────┴───────────┘"
      ]
     },
     "execution_count": 6,
     "metadata": {},
     "output_type": "execute_result"
    }
   ],
   "source": [
    "# 1) Read lines and split them by \"::\"\n",
    "# 2) Select columns and cast them to the correct type\n",
    "ml_ratings_df = pl.scan_csv(ROOT + ML_RATINGS_PATH, has_header=False).select([\n",
    "    pl.col(\"column_1\").str.split(\"::\")\n",
    "]).select([\n",
    "    pl.col(\"column_1\").list.get(0).alias(\"UserID\").cast(pl.Int32),\n",
    "    pl.col(\"column_1\").list.get(1).alias(\"MovieID\").cast(pl.Int32),\n",
    "    pl.col(\"column_1\").list.get(2).alias(\"Rating\").cast(pl.Int32),\n",
    "    pl.col(\"column_1\").list.get(3).alias(\"Timestamp\").cast(pl.Int32)\n",
    "])\n",
    "\n",
    "ml_ratings_df.collect()"
   ]
  },
  {
   "cell_type": "code",
   "execution_count": 7,
   "metadata": {},
   "outputs": [
    {
     "data": {
      "text/html": [
       "<div><style>\n",
       ".dataframe > thead > tr,\n",
       ".dataframe > tbody > tr {\n",
       "  text-align: right;\n",
       "  white-space: pre-wrap;\n",
       "}\n",
       "</style>\n",
       "<small>shape: (1, 4)</small><table border=\"1\" class=\"dataframe\"><thead><tr><th>UserID</th><th>MovieID</th><th>Rating</th><th>Timestamp</th></tr><tr><td>u32</td><td>u32</td><td>u32</td><td>u32</td></tr></thead><tbody><tr><td>0</td><td>0</td><td>0</td><td>0</td></tr></tbody></table></div>"
      ],
      "text/plain": [
       "shape: (1, 4)\n",
       "┌────────┬─────────┬────────┬───────────┐\n",
       "│ UserID ┆ MovieID ┆ Rating ┆ Timestamp │\n",
       "│ ---    ┆ ---     ┆ ---    ┆ ---       │\n",
       "│ u32    ┆ u32     ┆ u32    ┆ u32       │\n",
       "╞════════╪═════════╪════════╪═══════════╡\n",
       "│ 0      ┆ 0       ┆ 0      ┆ 0         │\n",
       "└────────┴─────────┴────────┴───────────┘"
      ]
     },
     "execution_count": 7,
     "metadata": {},
     "output_type": "execute_result"
    }
   ],
   "source": [
    "ml_ratings_df.null_count().collect()"
   ]
  },
  {
   "cell_type": "markdown",
   "metadata": {},
   "source": [
    "### Join"
   ]
  },
  {
   "cell_type": "code",
   "execution_count": 8,
   "metadata": {},
   "outputs": [
    {
     "data": {
      "text/html": [
       "<div><style>\n",
       ".dataframe > thead > tr,\n",
       ".dataframe > tbody > tr {\n",
       "  text-align: right;\n",
       "  white-space: pre-wrap;\n",
       "}\n",
       "</style>\n",
       "<small>shape: (1_000_209, 30)</small><table border=\"1\" class=\"dataframe\"><thead><tr><th>UserID</th><th>MovieID</th><th>Rating</th><th>Timestamp</th><th>Title</th><th>Genres</th><th>Year</th><th>IsThriller</th><th>IsCrime</th><th>IsAdventure</th><th>IsAnimation</th><th>IsWar</th><th>IsNone</th><th>IsFantasy</th><th>IsMystery</th><th>IsHorror</th><th>IsDrama</th><th>IsDocumentary</th><th>IsChildren&#x27;s</th><th>IsAction</th><th>IsWestern</th><th>IsComedy</th><th>IsSci-Fi</th><th>IsRomance</th><th>IsMusical</th><th>IsFilm-Noir</th><th>Gender</th><th>Age</th><th>Occupation</th><th>Zip-code</th></tr><tr><td>i32</td><td>i32</td><td>i32</td><td>i32</td><td>str</td><td>list[str]</td><td>i32</td><td>bool</td><td>bool</td><td>bool</td><td>bool</td><td>bool</td><td>bool</td><td>bool</td><td>bool</td><td>bool</td><td>bool</td><td>bool</td><td>bool</td><td>bool</td><td>bool</td><td>bool</td><td>bool</td><td>bool</td><td>bool</td><td>bool</td><td>str</td><td>i32</td><td>str</td><td>str</td></tr></thead><tbody><tr><td>1</td><td>1193</td><td>5</td><td>978300760</td><td>&quot;One Flew Over the Cuckoo&#x27;s Nes…</td><td>[&quot;Drama&quot;]</td><td>1975</td><td>false</td><td>false</td><td>false</td><td>false</td><td>false</td><td>null</td><td>false</td><td>false</td><td>false</td><td>true</td><td>false</td><td>false</td><td>false</td><td>false</td><td>false</td><td>false</td><td>false</td><td>false</td><td>false</td><td>&quot;F&quot;</td><td>1</td><td>&quot;K-12 student&quot;</td><td>&quot;48067&quot;</td></tr><tr><td>1</td><td>661</td><td>3</td><td>978302109</td><td>&quot;James and the Giant Peach&quot;</td><td>[&quot;Animation&quot;, &quot;Children&#x27;s&quot;, &quot;Musical&quot;]</td><td>1996</td><td>false</td><td>false</td><td>false</td><td>true</td><td>false</td><td>null</td><td>false</td><td>false</td><td>false</td><td>false</td><td>false</td><td>true</td><td>false</td><td>false</td><td>false</td><td>false</td><td>false</td><td>true</td><td>false</td><td>&quot;F&quot;</td><td>1</td><td>&quot;K-12 student&quot;</td><td>&quot;48067&quot;</td></tr><tr><td>1</td><td>914</td><td>3</td><td>978301968</td><td>&quot;My Fair Lady&quot;</td><td>[&quot;Musical&quot;, &quot;Romance&quot;]</td><td>1964</td><td>false</td><td>false</td><td>false</td><td>false</td><td>false</td><td>null</td><td>false</td><td>false</td><td>false</td><td>false</td><td>false</td><td>false</td><td>false</td><td>false</td><td>false</td><td>false</td><td>true</td><td>true</td><td>false</td><td>&quot;F&quot;</td><td>1</td><td>&quot;K-12 student&quot;</td><td>&quot;48067&quot;</td></tr><tr><td>1</td><td>3408</td><td>4</td><td>978300275</td><td>&quot;Erin Brockovich&quot;</td><td>[&quot;Drama&quot;]</td><td>2000</td><td>false</td><td>false</td><td>false</td><td>false</td><td>false</td><td>null</td><td>false</td><td>false</td><td>false</td><td>true</td><td>false</td><td>false</td><td>false</td><td>false</td><td>false</td><td>false</td><td>false</td><td>false</td><td>false</td><td>&quot;F&quot;</td><td>1</td><td>&quot;K-12 student&quot;</td><td>&quot;48067&quot;</td></tr><tr><td>1</td><td>2355</td><td>5</td><td>978824291</td><td>&quot;Bug&#x27;s Life&quot;</td><td>null</td><td>null</td><td>false</td><td>false</td><td>false</td><td>false</td><td>false</td><td>null</td><td>false</td><td>false</td><td>false</td><td>false</td><td>false</td><td>false</td><td>false</td><td>false</td><td>false</td><td>false</td><td>false</td><td>false</td><td>false</td><td>&quot;F&quot;</td><td>1</td><td>&quot;K-12 student&quot;</td><td>&quot;48067&quot;</td></tr><tr><td>&hellip;</td><td>&hellip;</td><td>&hellip;</td><td>&hellip;</td><td>&hellip;</td><td>&hellip;</td><td>&hellip;</td><td>&hellip;</td><td>&hellip;</td><td>&hellip;</td><td>&hellip;</td><td>&hellip;</td><td>&hellip;</td><td>&hellip;</td><td>&hellip;</td><td>&hellip;</td><td>&hellip;</td><td>&hellip;</td><td>&hellip;</td><td>&hellip;</td><td>&hellip;</td><td>&hellip;</td><td>&hellip;</td><td>&hellip;</td><td>&hellip;</td><td>&hellip;</td><td>&hellip;</td><td>&hellip;</td><td>&hellip;</td><td>&hellip;</td></tr><tr><td>6040</td><td>1091</td><td>1</td><td>956716541</td><td>&quot;Weekend at Bernie&#x27;s&quot;</td><td>[&quot;Comedy&quot;]</td><td>1989</td><td>false</td><td>false</td><td>false</td><td>false</td><td>false</td><td>null</td><td>false</td><td>false</td><td>false</td><td>false</td><td>false</td><td>false</td><td>false</td><td>false</td><td>true</td><td>false</td><td>false</td><td>false</td><td>false</td><td>&quot;M&quot;</td><td>25</td><td>&quot;doctor/health care&quot;</td><td>&quot;11106&quot;</td></tr><tr><td>6040</td><td>1094</td><td>5</td><td>956704887</td><td>&quot;Crying Game&quot;</td><td>null</td><td>null</td><td>false</td><td>false</td><td>false</td><td>false</td><td>false</td><td>null</td><td>false</td><td>false</td><td>false</td><td>false</td><td>false</td><td>false</td><td>false</td><td>false</td><td>false</td><td>false</td><td>false</td><td>false</td><td>false</td><td>&quot;M&quot;</td><td>25</td><td>&quot;doctor/health care&quot;</td><td>&quot;11106&quot;</td></tr><tr><td>6040</td><td>562</td><td>5</td><td>956704746</td><td>&quot;Welcome to the Dollhouse&quot;</td><td>[&quot;Comedy&quot;, &quot;Drama&quot;]</td><td>1995</td><td>false</td><td>false</td><td>false</td><td>false</td><td>false</td><td>null</td><td>false</td><td>false</td><td>false</td><td>true</td><td>false</td><td>false</td><td>false</td><td>false</td><td>true</td><td>false</td><td>false</td><td>false</td><td>false</td><td>&quot;M&quot;</td><td>25</td><td>&quot;doctor/health care&quot;</td><td>&quot;11106&quot;</td></tr><tr><td>6040</td><td>1096</td><td>4</td><td>956715648</td><td>&quot;Sophie&#x27;s Choice&quot;</td><td>[&quot;Drama&quot;]</td><td>1982</td><td>false</td><td>false</td><td>false</td><td>false</td><td>false</td><td>null</td><td>false</td><td>false</td><td>false</td><td>true</td><td>false</td><td>false</td><td>false</td><td>false</td><td>false</td><td>false</td><td>false</td><td>false</td><td>false</td><td>&quot;M&quot;</td><td>25</td><td>&quot;doctor/health care&quot;</td><td>&quot;11106&quot;</td></tr><tr><td>6040</td><td>1097</td><td>4</td><td>956715569</td><td>&quot;E.T. the Extra-Terrestrial&quot;</td><td>[&quot;Children&#x27;s&quot;, &quot;Drama&quot;, … &quot;Sci-Fi&quot;]</td><td>1982</td><td>false</td><td>false</td><td>false</td><td>false</td><td>false</td><td>null</td><td>true</td><td>false</td><td>false</td><td>true</td><td>false</td><td>true</td><td>false</td><td>false</td><td>false</td><td>true</td><td>false</td><td>false</td><td>false</td><td>&quot;M&quot;</td><td>25</td><td>&quot;doctor/health care&quot;</td><td>&quot;11106&quot;</td></tr></tbody></table></div>"
      ],
      "text/plain": [
       "shape: (1_000_209, 30)\n",
       "┌────────┬─────────┬────────┬───────────┬───┬────────┬─────┬────────────────────┬──────────┐\n",
       "│ UserID ┆ MovieID ┆ Rating ┆ Timestamp ┆ … ┆ Gender ┆ Age ┆ Occupation         ┆ Zip-code │\n",
       "│ ---    ┆ ---     ┆ ---    ┆ ---       ┆   ┆ ---    ┆ --- ┆ ---                ┆ ---      │\n",
       "│ i32    ┆ i32     ┆ i32    ┆ i32       ┆   ┆ str    ┆ i32 ┆ str                ┆ str      │\n",
       "╞════════╪═════════╪════════╪═══════════╪═══╪════════╪═════╪════════════════════╪══════════╡\n",
       "│ 1      ┆ 1193    ┆ 5      ┆ 978300760 ┆ … ┆ F      ┆ 1   ┆ K-12 student       ┆ 48067    │\n",
       "│ 1      ┆ 661     ┆ 3      ┆ 978302109 ┆ … ┆ F      ┆ 1   ┆ K-12 student       ┆ 48067    │\n",
       "│ 1      ┆ 914     ┆ 3      ┆ 978301968 ┆ … ┆ F      ┆ 1   ┆ K-12 student       ┆ 48067    │\n",
       "│ 1      ┆ 3408    ┆ 4      ┆ 978300275 ┆ … ┆ F      ┆ 1   ┆ K-12 student       ┆ 48067    │\n",
       "│ 1      ┆ 2355    ┆ 5      ┆ 978824291 ┆ … ┆ F      ┆ 1   ┆ K-12 student       ┆ 48067    │\n",
       "│ …      ┆ …       ┆ …      ┆ …         ┆ … ┆ …      ┆ …   ┆ …                  ┆ …        │\n",
       "│ 6040   ┆ 1091    ┆ 1      ┆ 956716541 ┆ … ┆ M      ┆ 25  ┆ doctor/health care ┆ 11106    │\n",
       "│ 6040   ┆ 1094    ┆ 5      ┆ 956704887 ┆ … ┆ M      ┆ 25  ┆ doctor/health care ┆ 11106    │\n",
       "│ 6040   ┆ 562     ┆ 5      ┆ 956704746 ┆ … ┆ M      ┆ 25  ┆ doctor/health care ┆ 11106    │\n",
       "│ 6040   ┆ 1096    ┆ 4      ┆ 956715648 ┆ … ┆ M      ┆ 25  ┆ doctor/health care ┆ 11106    │\n",
       "│ 6040   ┆ 1097    ┆ 4      ┆ 956715569 ┆ … ┆ M      ┆ 25  ┆ doctor/health care ┆ 11106    │\n",
       "└────────┴─────────┴────────┴───────────┴───┴────────┴─────┴────────────────────┴──────────┘"
      ]
     },
     "execution_count": 8,
     "metadata": {},
     "output_type": "execute_result"
    }
   ],
   "source": [
    "# Join dataframes\n",
    "ml_df = ml_ratings_df.join(ml_movies_df, on=\"MovieID\").join(ml_users_df, on=\"UserID\")\n",
    "ml_df.collect()"
   ]
  },
  {
   "cell_type": "code",
   "execution_count": 9,
   "metadata": {},
   "outputs": [
    {
     "data": {
      "text/html": [
       "<div><style>\n",
       ".dataframe > thead > tr,\n",
       ".dataframe > tbody > tr {\n",
       "  text-align: right;\n",
       "  white-space: pre-wrap;\n",
       "}\n",
       "</style>\n",
       "<small>shape: (1, 30)</small><table border=\"1\" class=\"dataframe\"><thead><tr><th>UserID</th><th>MovieID</th><th>Rating</th><th>Timestamp</th><th>Title</th><th>Genres</th><th>Year</th><th>IsThriller</th><th>IsCrime</th><th>IsAdventure</th><th>IsAnimation</th><th>IsWar</th><th>IsNone</th><th>IsFantasy</th><th>IsMystery</th><th>IsHorror</th><th>IsDrama</th><th>IsDocumentary</th><th>IsChildren&#x27;s</th><th>IsAction</th><th>IsWestern</th><th>IsComedy</th><th>IsSci-Fi</th><th>IsRomance</th><th>IsMusical</th><th>IsFilm-Noir</th><th>Gender</th><th>Age</th><th>Occupation</th><th>Zip-code</th></tr><tr><td>u32</td><td>u32</td><td>u32</td><td>u32</td><td>u32</td><td>u32</td><td>u32</td><td>u32</td><td>u32</td><td>u32</td><td>u32</td><td>u32</td><td>u32</td><td>u32</td><td>u32</td><td>u32</td><td>u32</td><td>u32</td><td>u32</td><td>u32</td><td>u32</td><td>u32</td><td>u32</td><td>u32</td><td>u32</td><td>u32</td><td>u32</td><td>u32</td><td>u32</td><td>u32</td></tr></thead><tbody><tr><td>0</td><td>0</td><td>0</td><td>0</td><td>0</td><td>243234</td><td>243234</td><td>0</td><td>0</td><td>0</td><td>0</td><td>0</td><td>1000209</td><td>0</td><td>0</td><td>0</td><td>0</td><td>0</td><td>0</td><td>0</td><td>0</td><td>0</td><td>0</td><td>0</td><td>0</td><td>0</td><td>0</td><td>0</td><td>0</td><td>0</td></tr></tbody></table></div>"
      ],
      "text/plain": [
       "shape: (1, 30)\n",
       "┌────────┬─────────┬────────┬───────────┬───┬────────┬─────┬────────────┬──────────┐\n",
       "│ UserID ┆ MovieID ┆ Rating ┆ Timestamp ┆ … ┆ Gender ┆ Age ┆ Occupation ┆ Zip-code │\n",
       "│ ---    ┆ ---     ┆ ---    ┆ ---       ┆   ┆ ---    ┆ --- ┆ ---        ┆ ---      │\n",
       "│ u32    ┆ u32     ┆ u32    ┆ u32       ┆   ┆ u32    ┆ u32 ┆ u32        ┆ u32      │\n",
       "╞════════╪═════════╪════════╪═══════════╪═══╪════════╪═════╪════════════╪══════════╡\n",
       "│ 0      ┆ 0       ┆ 0      ┆ 0         ┆ … ┆ 0      ┆ 0   ┆ 0          ┆ 0        │\n",
       "└────────┴─────────┴────────┴───────────┴───┴────────┴─────┴────────────┴──────────┘"
      ]
     },
     "execution_count": 9,
     "metadata": {},
     "output_type": "execute_result"
    }
   ],
   "source": [
    "ml_df.null_count().collect()"
   ]
  },
  {
   "cell_type": "markdown",
   "metadata": {},
   "source": [
    "## Book-Crossing"
   ]
  },
  {
   "cell_type": "code",
   "execution_count": 10,
   "metadata": {},
   "outputs": [
    {
     "data": {
      "text/html": [
       "<div><style>\n",
       ".dataframe > thead > tr,\n",
       ".dataframe > tbody > tr {\n",
       "  text-align: right;\n",
       "  white-space: pre-wrap;\n",
       "}\n",
       "</style>\n",
       "<small>shape: (271_379, 5)</small><table border=\"1\" class=\"dataframe\"><thead><tr><th>ISBN</th><th>Title</th><th>Author</th><th>Year</th><th>Publisher</th></tr><tr><td>str</td><td>str</td><td>str</td><td>i64</td><td>str</td></tr></thead><tbody><tr><td>&quot;0195153448&quot;</td><td>&quot;Classical Mythology&quot;</td><td>&quot;Mark P. O. Morford&quot;</td><td>2002</td><td>&quot;Oxford University Press&quot;</td></tr><tr><td>&quot;0002005018&quot;</td><td>&quot;Clara Callan&quot;</td><td>&quot;Richard Bruce Wright&quot;</td><td>2001</td><td>&quot;HarperFlamingo Canada&quot;</td></tr><tr><td>&quot;0060973129&quot;</td><td>&quot;Decision in Normandy&quot;</td><td>&quot;Carlo D&#x27;Este&quot;</td><td>1991</td><td>&quot;HarperPerennial&quot;</td></tr><tr><td>&quot;0374157065&quot;</td><td>&quot;Flu: The Story of the Great In…</td><td>&quot;Gina Bari Kolata&quot;</td><td>1999</td><td>&quot;Farrar Straus Giroux&quot;</td></tr><tr><td>&quot;0393045218&quot;</td><td>&quot;The Mummies of Urumchi&quot;</td><td>&quot;E. J. W. Barber&quot;</td><td>1999</td><td>&quot;W. W. Norton &amp; Company&quot;</td></tr><tr><td>&hellip;</td><td>&hellip;</td><td>&hellip;</td><td>&hellip;</td><td>&hellip;</td></tr><tr><td>&quot;0440400988&quot;</td><td>&quot;There&#x27;s a Bat in Bunk Five&quot;</td><td>&quot;Paula Danziger&quot;</td><td>1988</td><td>&quot;Random House Childrens Pub (Mm…</td></tr><tr><td>&quot;0525447644&quot;</td><td>&quot;From One to One Hundred&quot;</td><td>&quot;Teri Sloat&quot;</td><td>1991</td><td>&quot;Dutton Books&quot;</td></tr><tr><td>&quot;006008667X&quot;</td><td>&quot;Lily Dale : The True Story of …</td><td>&quot;Christine Wicker&quot;</td><td>2004</td><td>&quot;HarperSanFrancisco&quot;</td></tr><tr><td>&quot;0192126040&quot;</td><td>&quot;Republic (World&#x27;s Classics)&quot;</td><td>&quot;Plato&quot;</td><td>1996</td><td>&quot;Oxford University Press&quot;</td></tr><tr><td>&quot;0767409752&quot;</td><td>&quot;A Guided Tour of Rene Descarte…</td><td>&quot;Christopher  Biffle&quot;</td><td>2000</td><td>&quot;McGraw-Hill Humanities/Social …</td></tr></tbody></table></div>"
      ],
      "text/plain": [
       "shape: (271_379, 5)\n",
       "┌────────────┬───────────────────────────┬──────────────────────┬──────┬───────────────────────────┐\n",
       "│ ISBN       ┆ Title                     ┆ Author               ┆ Year ┆ Publisher                 │\n",
       "│ ---        ┆ ---                       ┆ ---                  ┆ ---  ┆ ---                       │\n",
       "│ str        ┆ str                       ┆ str                  ┆ i64  ┆ str                       │\n",
       "╞════════════╪═══════════════════════════╪══════════════════════╪══════╪═══════════════════════════╡\n",
       "│ 0195153448 ┆ Classical Mythology       ┆ Mark P. O. Morford   ┆ 2002 ┆ Oxford University Press   │\n",
       "│ 0002005018 ┆ Clara Callan              ┆ Richard Bruce Wright ┆ 2001 ┆ HarperFlamingo Canada     │\n",
       "│ 0060973129 ┆ Decision in Normandy      ┆ Carlo D'Este         ┆ 1991 ┆ HarperPerennial           │\n",
       "│ 0374157065 ┆ Flu: The Story of the     ┆ Gina Bari Kolata     ┆ 1999 ┆ Farrar Straus Giroux      │\n",
       "│            ┆ Great In…                 ┆                      ┆      ┆                           │\n",
       "│ 0393045218 ┆ The Mummies of Urumchi    ┆ E. J. W. Barber      ┆ 1999 ┆ W. W. Norton & Company    │\n",
       "│ …          ┆ …                         ┆ …                    ┆ …    ┆ …                         │\n",
       "│ 0440400988 ┆ There's a Bat in Bunk     ┆ Paula Danziger       ┆ 1988 ┆ Random House Childrens    │\n",
       "│            ┆ Five                      ┆                      ┆      ┆ Pub (Mm…                  │\n",
       "│ 0525447644 ┆ From One to One Hundred   ┆ Teri Sloat           ┆ 1991 ┆ Dutton Books              │\n",
       "│ 006008667X ┆ Lily Dale : The True      ┆ Christine Wicker     ┆ 2004 ┆ HarperSanFrancisco        │\n",
       "│            ┆ Story of …                ┆                      ┆      ┆                           │\n",
       "│ 0192126040 ┆ Republic (World's         ┆ Plato                ┆ 1996 ┆ Oxford University Press   │\n",
       "│            ┆ Classics)                 ┆                      ┆      ┆                           │\n",
       "│ 0767409752 ┆ A Guided Tour of Rene     ┆ Christopher  Biffle  ┆ 2000 ┆ McGraw-Hill               │\n",
       "│            ┆ Descarte…                 ┆                      ┆      ┆ Humanities/Social …       │\n",
       "└────────────┴───────────────────────────┴──────────────────────┴──────┴───────────────────────────┘"
      ]
     },
     "execution_count": 10,
     "metadata": {},
     "output_type": "execute_result"
    }
   ],
   "source": [
    "bc_books_df = pl.scan_csv(ROOT + BC_BOOKS_PATH, separator=\";\")\n",
    "bc_books_df.collect()"
   ]
  },
  {
   "cell_type": "code",
   "execution_count": 11,
   "metadata": {},
   "outputs": [
    {
     "data": {
      "text/html": [
       "<div><style>\n",
       ".dataframe > thead > tr,\n",
       ".dataframe > tbody > tr {\n",
       "  text-align: right;\n",
       "  white-space: pre-wrap;\n",
       "}\n",
       "</style>\n",
       "<small>shape: (1, 5)</small><table border=\"1\" class=\"dataframe\"><thead><tr><th>ISBN</th><th>Title</th><th>Author</th><th>Year</th><th>Publisher</th></tr><tr><td>u32</td><td>u32</td><td>u32</td><td>u32</td><td>u32</td></tr></thead><tbody><tr><td>0</td><td>0</td><td>1</td><td>0</td><td>2</td></tr></tbody></table></div>"
      ],
      "text/plain": [
       "shape: (1, 5)\n",
       "┌──────┬───────┬────────┬──────┬───────────┐\n",
       "│ ISBN ┆ Title ┆ Author ┆ Year ┆ Publisher │\n",
       "│ ---  ┆ ---   ┆ ---    ┆ ---  ┆ ---       │\n",
       "│ u32  ┆ u32   ┆ u32    ┆ u32  ┆ u32       │\n",
       "╞══════╪═══════╪════════╪══════╪═══════════╡\n",
       "│ 0    ┆ 0     ┆ 1      ┆ 0    ┆ 2         │\n",
       "└──────┴───────┴────────┴──────┴───────────┘"
      ]
     },
     "execution_count": 11,
     "metadata": {},
     "output_type": "execute_result"
    }
   ],
   "source": [
    "bc_books_df.null_count().collect()"
   ]
  },
  {
   "cell_type": "code",
   "execution_count": 12,
   "metadata": {},
   "outputs": [
    {
     "data": {
      "text/html": [
       "<div><style>\n",
       ".dataframe > thead > tr,\n",
       ".dataframe > tbody > tr {\n",
       "  text-align: right;\n",
       "  white-space: pre-wrap;\n",
       "}\n",
       "</style>\n",
       "<small>shape: (165_917, 2)</small><table border=\"1\" class=\"dataframe\"><thead><tr><th>User-ID</th><th>Age</th></tr><tr><td>i64</td><td>i64</td></tr></thead><tbody><tr><td>2</td><td>18</td></tr><tr><td>4</td><td>17</td></tr><tr><td>6</td><td>61</td></tr><tr><td>10</td><td>26</td></tr><tr><td>11</td><td>14</td></tr><tr><td>&hellip;</td><td>&hellip;</td></tr><tr><td>278849</td><td>23</td></tr><tr><td>278851</td><td>33</td></tr><tr><td>278852</td><td>32</td></tr><tr><td>278853</td><td>17</td></tr><tr><td>278855</td><td>50</td></tr></tbody></table></div>"
      ],
      "text/plain": [
       "shape: (165_917, 2)\n",
       "┌─────────┬─────┐\n",
       "│ User-ID ┆ Age │\n",
       "│ ---     ┆ --- │\n",
       "│ i64     ┆ i64 │\n",
       "╞═════════╪═════╡\n",
       "│ 2       ┆ 18  │\n",
       "│ 4       ┆ 17  │\n",
       "│ 6       ┆ 61  │\n",
       "│ 10      ┆ 26  │\n",
       "│ 11      ┆ 14  │\n",
       "│ …       ┆ …   │\n",
       "│ 278849  ┆ 23  │\n",
       "│ 278851  ┆ 33  │\n",
       "│ 278852  ┆ 32  │\n",
       "│ 278853  ┆ 17  │\n",
       "│ 278855  ┆ 50  │\n",
       "└─────────┴─────┘"
      ]
     },
     "execution_count": 12,
     "metadata": {},
     "output_type": "execute_result"
    }
   ],
   "source": [
    "bc_users_df = pl.scan_csv(ROOT + BC_USERS_PATH, separator=\";\").filter(\n",
    "    pl.col(\"Age\").is_between(5, 100)\n",
    ")\n",
    "bc_users_df.collect()"
   ]
  },
  {
   "cell_type": "code",
   "execution_count": 13,
   "metadata": {},
   "outputs": [
    {
     "data": {
      "text/html": [
       "<div><style>\n",
       ".dataframe > thead > tr,\n",
       ".dataframe > tbody > tr {\n",
       "  text-align: right;\n",
       "  white-space: pre-wrap;\n",
       "}\n",
       "</style>\n",
       "<small>shape: (1, 2)</small><table border=\"1\" class=\"dataframe\"><thead><tr><th>User-ID</th><th>Age</th></tr><tr><td>u32</td><td>u32</td></tr></thead><tbody><tr><td>0</td><td>0</td></tr></tbody></table></div>"
      ],
      "text/plain": [
       "shape: (1, 2)\n",
       "┌─────────┬─────┐\n",
       "│ User-ID ┆ Age │\n",
       "│ ---     ┆ --- │\n",
       "│ u32     ┆ u32 │\n",
       "╞═════════╪═════╡\n",
       "│ 0       ┆ 0   │\n",
       "└─────────┴─────┘"
      ]
     },
     "execution_count": 13,
     "metadata": {},
     "output_type": "execute_result"
    }
   ],
   "source": [
    "bc_users_df.null_count().collect()"
   ]
  },
  {
   "cell_type": "code",
   "execution_count": 16,
   "metadata": {},
   "outputs": [
    {
     "data": {
      "text/html": [
       "<div><style>\n",
       ".dataframe > thead > tr,\n",
       ".dataframe > tbody > tr {\n",
       "  text-align: right;\n",
       "  white-space: pre-wrap;\n",
       "}\n",
       "</style>\n",
       "<small>shape: (830_879, 3)</small><table border=\"1\" class=\"dataframe\"><thead><tr><th>User-ID</th><th>ISBN</th><th>Rating</th></tr><tr><td>i64</td><td>str</td><td>i64</td></tr></thead><tbody><tr><td>276727</td><td>&quot;0446520802&quot;</td><td>0</td></tr><tr><td>276729</td><td>&quot;052165615X&quot;</td><td>3</td></tr><tr><td>276729</td><td>&quot;0521795028&quot;</td><td>6</td></tr><tr><td>276733</td><td>&quot;2080674722&quot;</td><td>0</td></tr><tr><td>276737</td><td>&quot;0600570967&quot;</td><td>6</td></tr><tr><td>&hellip;</td><td>&hellip;</td><td>&hellip;</td></tr><tr><td>276697</td><td>&quot;8445072897&quot;</td><td>0</td></tr><tr><td>276706</td><td>&quot;0679447156&quot;</td><td>0</td></tr><tr><td>276709</td><td>&quot;0515107662&quot;</td><td>10</td></tr><tr><td>276721</td><td>&quot;0590442449&quot;</td><td>10</td></tr><tr><td>276723</td><td>&quot;05162443314&quot;</td><td>8</td></tr></tbody></table></div>"
      ],
      "text/plain": [
       "shape: (830_879, 3)\n",
       "┌─────────┬─────────────┬────────┐\n",
       "│ User-ID ┆ ISBN        ┆ Rating │\n",
       "│ ---     ┆ ---         ┆ ---    │\n",
       "│ i64     ┆ str         ┆ i64    │\n",
       "╞═════════╪═════════════╪════════╡\n",
       "│ 276727  ┆ 0446520802  ┆ 0      │\n",
       "│ 276729  ┆ 052165615X  ┆ 3      │\n",
       "│ 276729  ┆ 0521795028  ┆ 6      │\n",
       "│ 276733  ┆ 2080674722  ┆ 0      │\n",
       "│ 276737  ┆ 0600570967  ┆ 6      │\n",
       "│ …       ┆ …           ┆ …      │\n",
       "│ 276697  ┆ 8445072897  ┆ 0      │\n",
       "│ 276706  ┆ 0679447156  ┆ 0      │\n",
       "│ 276709  ┆ 0515107662  ┆ 10     │\n",
       "│ 276721  ┆ 0590442449  ┆ 10     │\n",
       "│ 276723  ┆ 05162443314 ┆ 8      │\n",
       "└─────────┴─────────────┴────────┘"
      ]
     },
     "execution_count": 16,
     "metadata": {},
     "output_type": "execute_result"
    }
   ],
   "source": [
    "bc_ratings_df = pl.scan_csv(ROOT + BC_RATINGS_PATH, separator=\";\").filter(\n",
    "    pl.col(\"User-ID\").is_in(bc_users_df.select(\"User-ID\").collect()),\n",
    ")\n",
    "bc_ratings_df.collect()"
   ]
  },
  {
   "cell_type": "code",
   "execution_count": 17,
   "metadata": {},
   "outputs": [
    {
     "data": {
      "text/html": [
       "<div><style>\n",
       ".dataframe > thead > tr,\n",
       ".dataframe > tbody > tr {\n",
       "  text-align: right;\n",
       "  white-space: pre-wrap;\n",
       "}\n",
       "</style>\n",
       "<small>shape: (1, 3)</small><table border=\"1\" class=\"dataframe\"><thead><tr><th>User-ID</th><th>ISBN</th><th>Rating</th></tr><tr><td>u32</td><td>u32</td><td>u32</td></tr></thead><tbody><tr><td>0</td><td>0</td><td>0</td></tr></tbody></table></div>"
      ],
      "text/plain": [
       "shape: (1, 3)\n",
       "┌─────────┬──────┬────────┐\n",
       "│ User-ID ┆ ISBN ┆ Rating │\n",
       "│ ---     ┆ ---  ┆ ---    │\n",
       "│ u32     ┆ u32  ┆ u32    │\n",
       "╞═════════╪══════╪════════╡\n",
       "│ 0       ┆ 0    ┆ 0      │\n",
       "└─────────┴──────┴────────┘"
      ]
     },
     "execution_count": 17,
     "metadata": {},
     "output_type": "execute_result"
    }
   ],
   "source": [
    "bc_ratings_df.null_count().collect()"
   ]
  }
 ],
 "metadata": {
  "kernelspec": {
   "display_name": "venv",
   "language": "python",
   "name": "python3"
  },
  "language_info": {
   "codemirror_mode": {
    "name": "ipython",
    "version": 3
   },
   "file_extension": ".py",
   "mimetype": "text/x-python",
   "name": "python",
   "nbconvert_exporter": "python",
   "pygments_lexer": "ipython3",
   "version": "3.11.9"
  }
 },
 "nbformat": 4,
 "nbformat_minor": 2
}
