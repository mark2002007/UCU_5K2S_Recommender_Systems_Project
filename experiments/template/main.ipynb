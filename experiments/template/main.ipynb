{
 "cells": [
  {
   "cell_type": "code",
   "execution_count": 1,
   "metadata": {},
   "outputs": [
    {
     "data": {
      "text/plain": [
       "DataTransformerRegistry.enable('default')"
      ]
     },
     "execution_count": 1,
     "metadata": {},
     "output_type": "execute_result"
    }
   ],
   "source": [
    "ROOT = \"../../\"\n",
    "import sys\n",
    "sys.path.append(ROOT)\n",
    "#\n",
    "from src.constants import MOVIES_PATH, RATINGS_PATH, USERS_PATH\n",
    "import polars as pl\n",
    "import altair as alt\n",
    "alt.data_transformers.disable_max_rows()"
   ]
  },
  {
   "cell_type": "markdown",
   "metadata": {},
   "source": [
    "# Data"
   ]
  },
  {
   "cell_type": "markdown",
   "metadata": {},
   "source": [
    "## Users"
   ]
  },
  {
   "cell_type": "code",
   "execution_count": 2,
   "metadata": {},
   "outputs": [
    {
     "name": "stderr",
     "output_type": "stream",
     "text": [
      "/var/folders/16/2kmt14y56rqd2xkgkp53tr080000gn/T/ipykernel_87190/3861513786.py:33: DeprecationWarning: `map_dict` is deprecated. It has been renamed to `replace`. The default behavior has changed to keep any values not present in the mapping unchanged. Pass `default=None` to keep existing behavior.\n",
      "  pl.col(\"column_1\").list.get(3).alias(\"Occupation\").cast(pl.Int32).map_dict(occupation_map),\n"
     ]
    },
    {
     "data": {
      "text/html": [
       "<div><style>\n",
       ".dataframe > thead > tr,\n",
       ".dataframe > tbody > tr {\n",
       "  text-align: right;\n",
       "  white-space: pre-wrap;\n",
       "}\n",
       "</style>\n",
       "<small>shape: (5, 5)</small><table border=\"1\" class=\"dataframe\"><thead><tr><th>UserID</th><th>Gender</th><th>Age</th><th>Occupation</th><th>Zip-code</th></tr><tr><td>i32</td><td>str</td><td>i32</td><td>str</td><td>str</td></tr></thead><tbody><tr><td>1</td><td>&quot;F&quot;</td><td>1</td><td>&quot;K-12 student&quot;</td><td>&quot;48067&quot;</td></tr><tr><td>2</td><td>&quot;M&quot;</td><td>56</td><td>&quot;self-employed&quot;</td><td>&quot;70072&quot;</td></tr><tr><td>3</td><td>&quot;M&quot;</td><td>25</td><td>&quot;scientist&quot;</td><td>&quot;55117&quot;</td></tr><tr><td>4</td><td>&quot;M&quot;</td><td>45</td><td>&quot;executive/managerial&quot;</td><td>&quot;02460&quot;</td></tr><tr><td>5</td><td>&quot;M&quot;</td><td>25</td><td>&quot;writer&quot;</td><td>&quot;55455&quot;</td></tr></tbody></table></div>"
      ],
      "text/plain": [
       "shape: (5, 5)\n",
       "┌────────┬────────┬─────┬──────────────────────┬──────────┐\n",
       "│ UserID ┆ Gender ┆ Age ┆ Occupation           ┆ Zip-code │\n",
       "│ ---    ┆ ---    ┆ --- ┆ ---                  ┆ ---      │\n",
       "│ i32    ┆ str    ┆ i32 ┆ str                  ┆ str      │\n",
       "╞════════╪════════╪═════╪══════════════════════╪══════════╡\n",
       "│ 1      ┆ F      ┆ 1   ┆ K-12 student         ┆ 48067    │\n",
       "│ 2      ┆ M      ┆ 56  ┆ self-employed        ┆ 70072    │\n",
       "│ 3      ┆ M      ┆ 25  ┆ scientist            ┆ 55117    │\n",
       "│ 4      ┆ M      ┆ 45  ┆ executive/managerial ┆ 02460    │\n",
       "│ 5      ┆ M      ┆ 25  ┆ writer               ┆ 55455    │\n",
       "└────────┴────────┴─────┴──────────────────────┴──────────┘"
      ]
     },
     "execution_count": 2,
     "metadata": {},
     "output_type": "execute_result"
    }
   ],
   "source": [
    "# 1) Read lines and split them by \"::\"\n",
    "# 2) Select the columns and cast them to the correct types\n",
    "ocupations = [\n",
    "    \"other\",\n",
    "\t\"academic/educator\",\n",
    "\t\"artist\",\n",
    "\t\"clerical/admin\",\n",
    "\t\"college/grad student\",\n",
    "\t\"customer service\",\n",
    "\t\"doctor/health care\",\n",
    "\t\"executive/managerial\",\n",
    "\t\"farmer\",\n",
    "\t\"homemaker\",\n",
    "\t\"K-12 student\",\n",
    "\t\"lawyer\",\n",
    "\t\"programmer\",\n",
    "\t\"retired\",\n",
    "\t\"sales/marketing\",\n",
    "\t\"scientist\",\n",
    "\t\"self-employed\",\n",
    "\t\"technician/engineer\",\n",
    "\t\"tradesman/craftsman\",\n",
    "\t\"unemployed\",\n",
    "\t\"writer\",\n",
    "]\n",
    "occupation_map = {i: occupation for i, occupation in enumerate(ocupations)}\n",
    "users_df = pl.scan_csv(ROOT + USERS_PATH, has_header=False, truncate_ragged_lines=True, encoding=\"utf8-lossy\").select([\n",
    "    pl.col(\"column_1\").str.split(\"::\")\n",
    "]).select([\n",
    "    pl.col(\"column_1\").list.get(0).alias(\"UserID\").cast(pl.Int32),\n",
    "    pl.col(\"column_1\").list.get(1).alias(\"Gender\"),\n",
    "    pl.col(\"column_1\").list.get(2).alias(\"Age\").cast(pl.Int32),\n",
    "    pl.col(\"column_1\").list.get(3).alias(\"Occupation\").cast(pl.Int32).map_dict(occupation_map),\n",
    "    pl.col(\"column_1\").list.get(4).alias(\"Zip-code\"),\n",
    "])\n",
    "\n",
    "users_df.head().collect()"
   ]
  },
  {
   "cell_type": "markdown",
   "metadata": {},
   "source": [
    "## Movies\n"
   ]
  },
  {
   "cell_type": "code",
   "execution_count": 3,
   "metadata": {},
   "outputs": [],
   "source": [
    "# 1) Read lines and split them by \"::\"\n",
    "# 2) Select the columns and cast them to the correct types\n",
    "# 3) Extract the year from the title column\n",
    "# 4) If year is not null, remove it from the title\n",
    "#   If the title is \"Toy Story (1995)\", the title should be \"Toy Story\" and the year should be 1995. \n",
    "#   If the title does not have a year, the year should be null.\n",
    "movies_df = pl.scan_csv(ROOT + MOVIES_PATH, has_header=False, truncate_ragged_lines=True, encoding=\"utf8-lossy\").select([\n",
    "    pl.col(\"column_1\").str.split(\"::\")\n",
    "]).select([\n",
    "    pl.col(\"column_1\").list.get(0).alias(\"MovieID\").cast(pl.Int32),\n",
    "    pl.col(\"column_1\").list.get(1).alias(\"Title\"),\n",
    "    pl.col(\"column_1\").list.get(2).str.split(\"|\").alias(\"Genres\")\n",
    "]).with_columns([\n",
    "    pl.col(\"Title\").str.extract(r\"\\((\\d{4})\\)$\").alias(\"Year\").cast(pl.Int32),\n",
    "]).with_columns([\n",
    "    # If Year is not null, remove it from the title\n",
    "    pl.when(pl.col(\"Year\").is_null()).then(pl.col(\"Title\")).otherwise(\n",
    "        pl.col(\"Title\").str.slice(0, pl.col(\"Title\").str.find(\" \\((\\d{4})\\)$\"))\n",
    "    ).alias(\"Title\")\n",
    "])\n",
    "# 4) Get possible genres\n",
    "genres = movies_df.select(pl.col(\"Genres\").explode().unique()).collect()\n",
    "# 5) Make dummy variable for each genre\n",
    "movies_df = movies_df.with_columns([\n",
    "    pl.col(\"Genres\").list.contains(genre[0]).alias(f\"Is{genre[0]}\")\n",
    "    for genre in genres.rows()\n",
    "])"
   ]
  },
  {
   "cell_type": "code",
   "execution_count": 4,
   "metadata": {},
   "outputs": [
    {
     "data": {
      "text/html": [
       "<div><style>\n",
       ".dataframe > thead > tr,\n",
       ".dataframe > tbody > tr {\n",
       "  text-align: right;\n",
       "  white-space: pre-wrap;\n",
       "}\n",
       "</style>\n",
       "<small>shape: (3_883, 23)</small><table border=\"1\" class=\"dataframe\"><thead><tr><th>MovieID</th><th>Title</th><th>Genres</th><th>Year</th><th>IsChildren&#x27;s</th><th>IsSci-Fi</th><th>IsWar</th><th>IsFantasy</th><th>IsAction</th><th>IsAdventure</th><th>IsHorror</th><th>IsFilm-Noir</th><th>IsRomance</th><th>IsThriller</th><th>IsAnimation</th><th>IsCrime</th><th>IsWestern</th><th>IsDocumentary</th><th>IsMusical</th><th>IsNone</th><th>IsMystery</th><th>IsDrama</th><th>IsComedy</th></tr><tr><td>i32</td><td>str</td><td>list[str]</td><td>i32</td><td>bool</td><td>bool</td><td>bool</td><td>bool</td><td>bool</td><td>bool</td><td>bool</td><td>bool</td><td>bool</td><td>bool</td><td>bool</td><td>bool</td><td>bool</td><td>bool</td><td>bool</td><td>bool</td><td>bool</td><td>bool</td><td>bool</td></tr></thead><tbody><tr><td>1</td><td>&quot;Toy Story&quot;</td><td>[&quot;Animation&quot;, &quot;Children&#x27;s&quot;, &quot;Comedy&quot;]</td><td>1995</td><td>true</td><td>false</td><td>false</td><td>false</td><td>false</td><td>false</td><td>false</td><td>false</td><td>false</td><td>false</td><td>true</td><td>false</td><td>false</td><td>false</td><td>false</td><td>null</td><td>false</td><td>false</td><td>true</td></tr><tr><td>2</td><td>&quot;Jumanji&quot;</td><td>[&quot;Adventure&quot;, &quot;Children&#x27;s&quot;, &quot;Fantasy&quot;]</td><td>1995</td><td>true</td><td>false</td><td>false</td><td>true</td><td>false</td><td>true</td><td>false</td><td>false</td><td>false</td><td>false</td><td>false</td><td>false</td><td>false</td><td>false</td><td>false</td><td>null</td><td>false</td><td>false</td><td>false</td></tr><tr><td>3</td><td>&quot;Grumpier Old Men&quot;</td><td>[&quot;Comedy&quot;, &quot;Romance&quot;]</td><td>1995</td><td>false</td><td>false</td><td>false</td><td>false</td><td>false</td><td>false</td><td>false</td><td>false</td><td>true</td><td>false</td><td>false</td><td>false</td><td>false</td><td>false</td><td>false</td><td>null</td><td>false</td><td>false</td><td>true</td></tr><tr><td>4</td><td>&quot;Waiting to Exhale&quot;</td><td>[&quot;Comedy&quot;, &quot;Drama&quot;]</td><td>1995</td><td>false</td><td>false</td><td>false</td><td>false</td><td>false</td><td>false</td><td>false</td><td>false</td><td>false</td><td>false</td><td>false</td><td>false</td><td>false</td><td>false</td><td>false</td><td>null</td><td>false</td><td>true</td><td>true</td></tr><tr><td>5</td><td>&quot;Father of the Bride Part II&quot;</td><td>[&quot;Comedy&quot;]</td><td>1995</td><td>false</td><td>false</td><td>false</td><td>false</td><td>false</td><td>false</td><td>false</td><td>false</td><td>false</td><td>false</td><td>false</td><td>false</td><td>false</td><td>false</td><td>false</td><td>null</td><td>false</td><td>false</td><td>true</td></tr><tr><td>&hellip;</td><td>&hellip;</td><td>&hellip;</td><td>&hellip;</td><td>&hellip;</td><td>&hellip;</td><td>&hellip;</td><td>&hellip;</td><td>&hellip;</td><td>&hellip;</td><td>&hellip;</td><td>&hellip;</td><td>&hellip;</td><td>&hellip;</td><td>&hellip;</td><td>&hellip;</td><td>&hellip;</td><td>&hellip;</td><td>&hellip;</td><td>&hellip;</td><td>&hellip;</td><td>&hellip;</td><td>&hellip;</td></tr><tr><td>3948</td><td>&quot;Meet the Parents&quot;</td><td>[&quot;Comedy&quot;]</td><td>2000</td><td>false</td><td>false</td><td>false</td><td>false</td><td>false</td><td>false</td><td>false</td><td>false</td><td>false</td><td>false</td><td>false</td><td>false</td><td>false</td><td>false</td><td>false</td><td>null</td><td>false</td><td>false</td><td>true</td></tr><tr><td>3949</td><td>&quot;Requiem for a Dream&quot;</td><td>[&quot;Drama&quot;]</td><td>2000</td><td>false</td><td>false</td><td>false</td><td>false</td><td>false</td><td>false</td><td>false</td><td>false</td><td>false</td><td>false</td><td>false</td><td>false</td><td>false</td><td>false</td><td>false</td><td>null</td><td>false</td><td>true</td><td>false</td></tr><tr><td>3950</td><td>&quot;Tigerland&quot;</td><td>[&quot;Drama&quot;]</td><td>2000</td><td>false</td><td>false</td><td>false</td><td>false</td><td>false</td><td>false</td><td>false</td><td>false</td><td>false</td><td>false</td><td>false</td><td>false</td><td>false</td><td>false</td><td>false</td><td>null</td><td>false</td><td>true</td><td>false</td></tr><tr><td>3951</td><td>&quot;Two Family House&quot;</td><td>[&quot;Drama&quot;]</td><td>2000</td><td>false</td><td>false</td><td>false</td><td>false</td><td>false</td><td>false</td><td>false</td><td>false</td><td>false</td><td>false</td><td>false</td><td>false</td><td>false</td><td>false</td><td>false</td><td>null</td><td>false</td><td>true</td><td>false</td></tr><tr><td>3952</td><td>&quot;Contender&quot;</td><td>null</td><td>null</td><td>false</td><td>false</td><td>false</td><td>false</td><td>false</td><td>false</td><td>false</td><td>false</td><td>false</td><td>false</td><td>false</td><td>false</td><td>false</td><td>false</td><td>false</td><td>null</td><td>false</td><td>false</td><td>false</td></tr></tbody></table></div>"
      ],
      "text/plain": [
       "shape: (3_883, 23)\n",
       "┌─────────┬─────────────────┬─────────────────┬──────┬───┬────────┬───────────┬─────────┬──────────┐\n",
       "│ MovieID ┆ Title           ┆ Genres          ┆ Year ┆ … ┆ IsNone ┆ IsMystery ┆ IsDrama ┆ IsComedy │\n",
       "│ ---     ┆ ---             ┆ ---             ┆ ---  ┆   ┆ ---    ┆ ---       ┆ ---     ┆ ---      │\n",
       "│ i32     ┆ str             ┆ list[str]       ┆ i32  ┆   ┆ bool   ┆ bool      ┆ bool    ┆ bool     │\n",
       "╞═════════╪═════════════════╪═════════════════╪══════╪═══╪════════╪═══════════╪═════════╪══════════╡\n",
       "│ 1       ┆ Toy Story       ┆ [\"Animation\",   ┆ 1995 ┆ … ┆ null   ┆ false     ┆ false   ┆ true     │\n",
       "│         ┆                 ┆ \"Children's\",   ┆      ┆   ┆        ┆           ┆         ┆          │\n",
       "│         ┆                 ┆ \"C…             ┆      ┆   ┆        ┆           ┆         ┆          │\n",
       "│ 2       ┆ Jumanji         ┆ [\"Adventure\",   ┆ 1995 ┆ … ┆ null   ┆ false     ┆ false   ┆ false    │\n",
       "│         ┆                 ┆ \"Children's\",   ┆      ┆   ┆        ┆           ┆         ┆          │\n",
       "│         ┆                 ┆ \"F…             ┆      ┆   ┆        ┆           ┆         ┆          │\n",
       "│ 3       ┆ Grumpier Old    ┆ [\"Comedy\",      ┆ 1995 ┆ … ┆ null   ┆ false     ┆ false   ┆ true     │\n",
       "│         ┆ Men             ┆ \"Romance\"]      ┆      ┆   ┆        ┆           ┆         ┆          │\n",
       "│ 4       ┆ Waiting to      ┆ [\"Comedy\",      ┆ 1995 ┆ … ┆ null   ┆ false     ┆ true    ┆ true     │\n",
       "│         ┆ Exhale          ┆ \"Drama\"]        ┆      ┆   ┆        ┆           ┆         ┆          │\n",
       "│ 5       ┆ Father of the   ┆ [\"Comedy\"]      ┆ 1995 ┆ … ┆ null   ┆ false     ┆ false   ┆ true     │\n",
       "│         ┆ Bride Part II   ┆                 ┆      ┆   ┆        ┆           ┆         ┆          │\n",
       "│ …       ┆ …               ┆ …               ┆ …    ┆ … ┆ …      ┆ …         ┆ …       ┆ …        │\n",
       "│ 3948    ┆ Meet the        ┆ [\"Comedy\"]      ┆ 2000 ┆ … ┆ null   ┆ false     ┆ false   ┆ true     │\n",
       "│         ┆ Parents         ┆                 ┆      ┆   ┆        ┆           ┆         ┆          │\n",
       "│ 3949    ┆ Requiem for a   ┆ [\"Drama\"]       ┆ 2000 ┆ … ┆ null   ┆ false     ┆ true    ┆ false    │\n",
       "│         ┆ Dream           ┆                 ┆      ┆   ┆        ┆           ┆         ┆          │\n",
       "│ 3950    ┆ Tigerland       ┆ [\"Drama\"]       ┆ 2000 ┆ … ┆ null   ┆ false     ┆ true    ┆ false    │\n",
       "│ 3951    ┆ Two Family      ┆ [\"Drama\"]       ┆ 2000 ┆ … ┆ null   ┆ false     ┆ true    ┆ false    │\n",
       "│         ┆ House           ┆                 ┆      ┆   ┆        ┆           ┆         ┆          │\n",
       "│ 3952    ┆ Contender       ┆ null            ┆ null ┆ … ┆ null   ┆ false     ┆ false   ┆ false    │\n",
       "└─────────┴─────────────────┴─────────────────┴──────┴───┴────────┴───────────┴─────────┴──────────┘"
      ]
     },
     "execution_count": 4,
     "metadata": {},
     "output_type": "execute_result"
    }
   ],
   "source": [
    "movies_df.collect()"
   ]
  },
  {
   "cell_type": "markdown",
   "metadata": {},
   "source": [
    "## Ratings"
   ]
  },
  {
   "cell_type": "code",
   "execution_count": 5,
   "metadata": {},
   "outputs": [
    {
     "data": {
      "text/html": [
       "<div><style>\n",
       ".dataframe > thead > tr,\n",
       ".dataframe > tbody > tr {\n",
       "  text-align: right;\n",
       "  white-space: pre-wrap;\n",
       "}\n",
       "</style>\n",
       "<small>shape: (5, 4)</small><table border=\"1\" class=\"dataframe\"><thead><tr><th>UserID</th><th>MovieID</th><th>Rating</th><th>Timestamp</th></tr><tr><td>i32</td><td>i32</td><td>i32</td><td>i32</td></tr></thead><tbody><tr><td>1</td><td>1193</td><td>5</td><td>978300760</td></tr><tr><td>1</td><td>661</td><td>3</td><td>978302109</td></tr><tr><td>1</td><td>914</td><td>3</td><td>978301968</td></tr><tr><td>1</td><td>3408</td><td>4</td><td>978300275</td></tr><tr><td>1</td><td>2355</td><td>5</td><td>978824291</td></tr></tbody></table></div>"
      ],
      "text/plain": [
       "shape: (5, 4)\n",
       "┌────────┬─────────┬────────┬───────────┐\n",
       "│ UserID ┆ MovieID ┆ Rating ┆ Timestamp │\n",
       "│ ---    ┆ ---     ┆ ---    ┆ ---       │\n",
       "│ i32    ┆ i32     ┆ i32    ┆ i32       │\n",
       "╞════════╪═════════╪════════╪═══════════╡\n",
       "│ 1      ┆ 1193    ┆ 5      ┆ 978300760 │\n",
       "│ 1      ┆ 661     ┆ 3      ┆ 978302109 │\n",
       "│ 1      ┆ 914     ┆ 3      ┆ 978301968 │\n",
       "│ 1      ┆ 3408    ┆ 4      ┆ 978300275 │\n",
       "│ 1      ┆ 2355    ┆ 5      ┆ 978824291 │\n",
       "└────────┴─────────┴────────┴───────────┘"
      ]
     },
     "execution_count": 5,
     "metadata": {},
     "output_type": "execute_result"
    }
   ],
   "source": [
    "# 1) Read lines and split them by \"::\"\n",
    "# 2) Select columns and cast them to the correct type\n",
    "ratings_df = pl.scan_csv(ROOT + RATINGS_PATH, has_header=False).select([\n",
    "    pl.col(\"column_1\").str.split(\"::\")\n",
    "]).select([\n",
    "    pl.col(\"column_1\").list.get(0).alias(\"UserID\").cast(pl.Int32),\n",
    "    pl.col(\"column_1\").list.get(1).alias(\"MovieID\").cast(pl.Int32),\n",
    "    pl.col(\"column_1\").list.get(2).alias(\"Rating\").cast(pl.Int32),\n",
    "    pl.col(\"column_1\").list.get(3).alias(\"Timestamp\").cast(pl.Int32)\n",
    "])\n",
    "\n",
    "ratings_df.head().collect()"
   ]
  },
  {
   "cell_type": "markdown",
   "metadata": {},
   "source": [
    "## Join"
   ]
  },
  {
   "cell_type": "code",
   "execution_count": 6,
   "metadata": {},
   "outputs": [
    {
     "data": {
      "text/html": [
       "<div><style>\n",
       ".dataframe > thead > tr,\n",
       ".dataframe > tbody > tr {\n",
       "  text-align: right;\n",
       "  white-space: pre-wrap;\n",
       "}\n",
       "</style>\n",
       "<small>shape: (5, 30)</small><table border=\"1\" class=\"dataframe\"><thead><tr><th>UserID</th><th>MovieID</th><th>Rating</th><th>Timestamp</th><th>Title</th><th>Genres</th><th>Year</th><th>IsChildren&#x27;s</th><th>IsSci-Fi</th><th>IsWar</th><th>IsFantasy</th><th>IsAction</th><th>IsAdventure</th><th>IsHorror</th><th>IsFilm-Noir</th><th>IsRomance</th><th>IsThriller</th><th>IsAnimation</th><th>IsCrime</th><th>IsWestern</th><th>IsDocumentary</th><th>IsMusical</th><th>IsNone</th><th>IsMystery</th><th>IsDrama</th><th>IsComedy</th><th>Gender</th><th>Age</th><th>Occupation</th><th>Zip-code</th></tr><tr><td>i32</td><td>i32</td><td>i32</td><td>i32</td><td>str</td><td>list[str]</td><td>i32</td><td>bool</td><td>bool</td><td>bool</td><td>bool</td><td>bool</td><td>bool</td><td>bool</td><td>bool</td><td>bool</td><td>bool</td><td>bool</td><td>bool</td><td>bool</td><td>bool</td><td>bool</td><td>bool</td><td>bool</td><td>bool</td><td>bool</td><td>str</td><td>i32</td><td>str</td><td>str</td></tr></thead><tbody><tr><td>1</td><td>1193</td><td>5</td><td>978300760</td><td>&quot;One Flew Over the Cuckoo&#x27;s Nes…</td><td>[&quot;Drama&quot;]</td><td>1975</td><td>false</td><td>false</td><td>false</td><td>false</td><td>false</td><td>false</td><td>false</td><td>false</td><td>false</td><td>false</td><td>false</td><td>false</td><td>false</td><td>false</td><td>false</td><td>null</td><td>false</td><td>true</td><td>false</td><td>&quot;F&quot;</td><td>1</td><td>&quot;K-12 student&quot;</td><td>&quot;48067&quot;</td></tr><tr><td>1</td><td>661</td><td>3</td><td>978302109</td><td>&quot;James and the Giant Peach&quot;</td><td>[&quot;Animation&quot;, &quot;Children&#x27;s&quot;, &quot;Musical&quot;]</td><td>1996</td><td>true</td><td>false</td><td>false</td><td>false</td><td>false</td><td>false</td><td>false</td><td>false</td><td>false</td><td>false</td><td>true</td><td>false</td><td>false</td><td>false</td><td>true</td><td>null</td><td>false</td><td>false</td><td>false</td><td>&quot;F&quot;</td><td>1</td><td>&quot;K-12 student&quot;</td><td>&quot;48067&quot;</td></tr><tr><td>1</td><td>914</td><td>3</td><td>978301968</td><td>&quot;My Fair Lady&quot;</td><td>[&quot;Musical&quot;, &quot;Romance&quot;]</td><td>1964</td><td>false</td><td>false</td><td>false</td><td>false</td><td>false</td><td>false</td><td>false</td><td>false</td><td>true</td><td>false</td><td>false</td><td>false</td><td>false</td><td>false</td><td>true</td><td>null</td><td>false</td><td>false</td><td>false</td><td>&quot;F&quot;</td><td>1</td><td>&quot;K-12 student&quot;</td><td>&quot;48067&quot;</td></tr><tr><td>1</td><td>3408</td><td>4</td><td>978300275</td><td>&quot;Erin Brockovich&quot;</td><td>[&quot;Drama&quot;]</td><td>2000</td><td>false</td><td>false</td><td>false</td><td>false</td><td>false</td><td>false</td><td>false</td><td>false</td><td>false</td><td>false</td><td>false</td><td>false</td><td>false</td><td>false</td><td>false</td><td>null</td><td>false</td><td>true</td><td>false</td><td>&quot;F&quot;</td><td>1</td><td>&quot;K-12 student&quot;</td><td>&quot;48067&quot;</td></tr><tr><td>1</td><td>2355</td><td>5</td><td>978824291</td><td>&quot;Bug&#x27;s Life&quot;</td><td>null</td><td>null</td><td>false</td><td>false</td><td>false</td><td>false</td><td>false</td><td>false</td><td>false</td><td>false</td><td>false</td><td>false</td><td>false</td><td>false</td><td>false</td><td>false</td><td>false</td><td>null</td><td>false</td><td>false</td><td>false</td><td>&quot;F&quot;</td><td>1</td><td>&quot;K-12 student&quot;</td><td>&quot;48067&quot;</td></tr></tbody></table></div>"
      ],
      "text/plain": [
       "shape: (5, 30)\n",
       "┌────────┬─────────┬────────┬───────────┬───┬────────┬─────┬──────────────┬──────────┐\n",
       "│ UserID ┆ MovieID ┆ Rating ┆ Timestamp ┆ … ┆ Gender ┆ Age ┆ Occupation   ┆ Zip-code │\n",
       "│ ---    ┆ ---     ┆ ---    ┆ ---       ┆   ┆ ---    ┆ --- ┆ ---          ┆ ---      │\n",
       "│ i32    ┆ i32     ┆ i32    ┆ i32       ┆   ┆ str    ┆ i32 ┆ str          ┆ str      │\n",
       "╞════════╪═════════╪════════╪═══════════╪═══╪════════╪═════╪══════════════╪══════════╡\n",
       "│ 1      ┆ 1193    ┆ 5      ┆ 978300760 ┆ … ┆ F      ┆ 1   ┆ K-12 student ┆ 48067    │\n",
       "│ 1      ┆ 661     ┆ 3      ┆ 978302109 ┆ … ┆ F      ┆ 1   ┆ K-12 student ┆ 48067    │\n",
       "│ 1      ┆ 914     ┆ 3      ┆ 978301968 ┆ … ┆ F      ┆ 1   ┆ K-12 student ┆ 48067    │\n",
       "│ 1      ┆ 3408    ┆ 4      ┆ 978300275 ┆ … ┆ F      ┆ 1   ┆ K-12 student ┆ 48067    │\n",
       "│ 1      ┆ 2355    ┆ 5      ┆ 978824291 ┆ … ┆ F      ┆ 1   ┆ K-12 student ┆ 48067    │\n",
       "└────────┴─────────┴────────┴───────────┴───┴────────┴─────┴──────────────┴──────────┘"
      ]
     },
     "execution_count": 6,
     "metadata": {},
     "output_type": "execute_result"
    }
   ],
   "source": [
    "# Join dataframes\n",
    "df = ratings_df.join(movies_df, on=\"MovieID\").join(users_df, on=\"UserID\")\n",
    "df.head().collect()"
   ]
  },
  {
   "cell_type": "code",
   "execution_count": null,
   "metadata": {},
   "outputs": [],
   "source": []
  }
 ],
 "metadata": {
  "kernelspec": {
   "display_name": "venv",
   "language": "python",
   "name": "python3"
  },
  "language_info": {
   "codemirror_mode": {
    "name": "ipython",
    "version": 3
   },
   "file_extension": ".py",
   "mimetype": "text/x-python",
   "name": "python",
   "nbconvert_exporter": "python",
   "pygments_lexer": "ipython3",
   "version": "3.11.9"
  }
 },
 "nbformat": 4,
 "nbformat_minor": 2
}
