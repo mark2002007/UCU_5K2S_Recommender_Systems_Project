{
 "cells": [
  {
   "cell_type": "code",
   "execution_count": 1,
   "metadata": {},
   "outputs": [
    {
     "data": {
      "text/plain": [
       "DataTransformerRegistry.enable('default')"
      ]
     },
     "execution_count": 1,
     "metadata": {},
     "output_type": "execute_result"
    }
   ],
   "source": [
    "import os\n",
    "ROOT = os.path.join('..', '..')\n",
    "import sys\n",
    "sys.path.append(ROOT)\n",
    "#\n",
    "from src.constants import (\n",
    "    ML_MOVIES_PATH, ML_RATINGS_PATH, ML_USERS_PATH,\n",
    "    BC_BOOKS_PATH, BC_RATINGS_PATH, BC_USERS_PATH\n",
    ")\n",
    "import numpy as np\n",
    "import polars as pl\n",
    "import altair as alt\n",
    "from tqdm import tqdm\n",
    "alt.data_transformers.disable_max_rows()"
   ]
  },
  {
   "cell_type": "markdown",
   "metadata": {},
   "source": [
    "# Data"
   ]
  },
  {
   "cell_type": "markdown",
   "metadata": {},
   "source": [
    "## MovieLens"
   ]
  },
  {
   "cell_type": "markdown",
   "metadata": {},
   "source": [
    "### Users"
   ]
  },
  {
   "cell_type": "code",
   "execution_count": 2,
   "metadata": {},
   "outputs": [
    {
     "name": "stderr",
     "output_type": "stream",
     "text": [
      "/var/folders/16/2kmt14y56rqd2xkgkp53tr080000gn/T/ipykernel_2164/2792018994.py:33: DeprecationWarning: `map_dict` is deprecated. It has been renamed to `replace`. The default behavior has changed to keep any values not present in the mapping unchanged. Pass `default=None` to keep existing behavior.\n",
      "  pl.col(\"column_1\").list.get(3).alias(\"Occupation\").cast(pl.Int32).map_dict(ml_occupation_map),\n"
     ]
    },
    {
     "data": {
      "text/html": [
       "<div><style>\n",
       ".dataframe > thead > tr,\n",
       ".dataframe > tbody > tr {\n",
       "  text-align: right;\n",
       "  white-space: pre-wrap;\n",
       "}\n",
       "</style>\n",
       "<small>shape: (5, 5)</small><table border=\"1\" class=\"dataframe\"><thead><tr><th>UserID</th><th>Gender</th><th>Age</th><th>Occupation</th><th>Zip-code</th></tr><tr><td>i32</td><td>str</td><td>i32</td><td>str</td><td>str</td></tr></thead><tbody><tr><td>1</td><td>&quot;F&quot;</td><td>1</td><td>&quot;K-12 student&quot;</td><td>&quot;48067&quot;</td></tr><tr><td>2</td><td>&quot;M&quot;</td><td>56</td><td>&quot;self-employed&quot;</td><td>&quot;70072&quot;</td></tr><tr><td>3</td><td>&quot;M&quot;</td><td>25</td><td>&quot;scientist&quot;</td><td>&quot;55117&quot;</td></tr><tr><td>4</td><td>&quot;M&quot;</td><td>45</td><td>&quot;executive/managerial&quot;</td><td>&quot;02460&quot;</td></tr><tr><td>5</td><td>&quot;M&quot;</td><td>25</td><td>&quot;writer&quot;</td><td>&quot;55455&quot;</td></tr></tbody></table></div>"
      ],
      "text/plain": [
       "shape: (5, 5)\n",
       "┌────────┬────────┬─────┬──────────────────────┬──────────┐\n",
       "│ UserID ┆ Gender ┆ Age ┆ Occupation           ┆ Zip-code │\n",
       "│ ---    ┆ ---    ┆ --- ┆ ---                  ┆ ---      │\n",
       "│ i32    ┆ str    ┆ i32 ┆ str                  ┆ str      │\n",
       "╞════════╪════════╪═════╪══════════════════════╪══════════╡\n",
       "│ 1      ┆ F      ┆ 1   ┆ K-12 student         ┆ 48067    │\n",
       "│ 2      ┆ M      ┆ 56  ┆ self-employed        ┆ 70072    │\n",
       "│ 3      ┆ M      ┆ 25  ┆ scientist            ┆ 55117    │\n",
       "│ 4      ┆ M      ┆ 45  ┆ executive/managerial ┆ 02460    │\n",
       "│ 5      ┆ M      ┆ 25  ┆ writer               ┆ 55455    │\n",
       "└────────┴────────┴─────┴──────────────────────┴──────────┘"
      ]
     },
     "execution_count": 2,
     "metadata": {},
     "output_type": "execute_result"
    }
   ],
   "source": [
    "# 1) Read lines and split them by \"::\"\n",
    "# 2) Select the columns and cast them to the correct types\n",
    "ml_ocupations = [\n",
    "    \"other\",\n",
    "\t\"academic/educator\",\n",
    "\t\"artist\",\n",
    "\t\"clerical/admin\",\n",
    "\t\"college/grad student\",\n",
    "\t\"customer service\",\n",
    "\t\"doctor/health care\",\n",
    "\t\"executive/managerial\",\n",
    "\t\"farmer\",\n",
    "\t\"homemaker\",\n",
    "\t\"K-12 student\",\n",
    "\t\"lawyer\",\n",
    "\t\"programmer\",\n",
    "\t\"retired\",\n",
    "\t\"sales/marketing\",\n",
    "\t\"scientist\",\n",
    "\t\"self-employed\",\n",
    "\t\"technician/engineer\",\n",
    "\t\"tradesman/craftsman\",\n",
    "\t\"unemployed\",\n",
    "\t\"writer\",\n",
    "]\n",
    "ml_occupation_map = {i: occupation for i, occupation in enumerate(ml_ocupations)}\n",
    "ml_users_df = pl.scan_csv(os.path.join(ROOT, ML_USERS_PATH), has_header=False, truncate_ragged_lines=True, encoding=\"utf8-lossy\").select([\n",
    "    pl.col(\"column_1\").str.split(\"::\")\n",
    "]).select([\n",
    "    pl.col(\"column_1\").list.get(0).alias(\"UserID\").cast(pl.Int32),\n",
    "    pl.col(\"column_1\").list.get(1).alias(\"Gender\"),\n",
    "    pl.col(\"column_1\").list.get(2).alias(\"Age\").cast(pl.Int32),\n",
    "    pl.col(\"column_1\").list.get(3).alias(\"Occupation\").cast(pl.Int32).map_dict(ml_occupation_map),\n",
    "    pl.col(\"column_1\").list.get(4).alias(\"Zip-code\"),\n",
    "])\n",
    "\n",
    "ml_users_df.head().collect()"
   ]
  },
  {
   "cell_type": "markdown",
   "metadata": {},
   "source": [
    "### Movies\n"
   ]
  },
  {
   "cell_type": "code",
   "execution_count": 3,
   "metadata": {},
   "outputs": [],
   "source": [
    "# 1) Read lines and split them by \"::\"\n",
    "# 2) Select the columns and cast them to the correct types\n",
    "# 3) Extract the year from the title column\n",
    "# 4) If year is not null, remove it from the title\n",
    "#   If the title is \"Toy Story (1995)\", the title should be \"Toy Story\" and the year should be 1995. \n",
    "#   If the title does not have a year, the year should be null.\n",
    "ml_movies_df = pl.scan_csv(os.path.join(ROOT, ML_MOVIES_PATH), has_header=False, truncate_ragged_lines=True, encoding=\"utf8-lossy\").select([\n",
    "    pl.col(\"column_1\").str.split(\"::\")\n",
    "]).select([\n",
    "    pl.col(\"column_1\").list.get(0).alias(\"MovieID\").cast(pl.Int32),\n",
    "    pl.col(\"column_1\").list.get(1).alias(\"Title\"),\n",
    "    pl.col(\"column_1\").list.get(2).str.split(\"|\").alias(\"Genres\")\n",
    "]).with_columns([\n",
    "    pl.col(\"Title\").str.extract(r\"\\((\\d{4})\\)$\").alias(\"Year\").cast(pl.Int32),\n",
    "]).with_columns([\n",
    "    # If Year is not null, remove it from the title\n",
    "    pl.when(pl.col(\"Year\").is_null()).then(pl.col(\"Title\")).otherwise(\n",
    "        pl.col(\"Title\").str.slice(0, pl.col(\"Title\").str.find(\" \\((\\d{4})\\)$\"))\n",
    "    ).alias(\"Title\")\n",
    "])\n",
    "# 4) Get possible genres\n",
    "ml_genres = ml_movies_df.select(pl.col(\"Genres\").explode().unique()).collect()\n",
    "# 5) Make dummy variable for each genre\n",
    "ml_movies_df = ml_movies_df.with_columns([\n",
    "    pl.col(\"Genres\").list.contains(genre[0]).alias(f\"Is{genre[0]}\")\n",
    "    for genre in ml_genres.rows() if genre[0] is not None\n",
    "])"
   ]
  },
  {
   "cell_type": "code",
   "execution_count": 4,
   "metadata": {},
   "outputs": [
    {
     "data": {
      "text/html": [
       "<div><style>\n",
       ".dataframe > thead > tr,\n",
       ".dataframe > tbody > tr {\n",
       "  text-align: right;\n",
       "  white-space: pre-wrap;\n",
       "}\n",
       "</style>\n",
       "<small>shape: (3_883, 22)</small><table border=\"1\" class=\"dataframe\"><thead><tr><th>MovieID</th><th>Title</th><th>Genres</th><th>Year</th><th>IsAdventure</th><th>IsAction</th><th>IsMystery</th><th>IsDrama</th><th>IsWar</th><th>IsDocumentary</th><th>IsAnimation</th><th>IsSci-Fi</th><th>IsChildren&#x27;s</th><th>IsWestern</th><th>IsFantasy</th><th>IsHorror</th><th>IsMusical</th><th>IsFilm-Noir</th><th>IsThriller</th><th>IsCrime</th><th>IsComedy</th><th>IsRomance</th></tr><tr><td>i32</td><td>str</td><td>list[str]</td><td>i32</td><td>bool</td><td>bool</td><td>bool</td><td>bool</td><td>bool</td><td>bool</td><td>bool</td><td>bool</td><td>bool</td><td>bool</td><td>bool</td><td>bool</td><td>bool</td><td>bool</td><td>bool</td><td>bool</td><td>bool</td><td>bool</td></tr></thead><tbody><tr><td>1</td><td>&quot;Toy Story&quot;</td><td>[&quot;Animation&quot;, &quot;Children&#x27;s&quot;, &quot;Comedy&quot;]</td><td>1995</td><td>false</td><td>false</td><td>false</td><td>false</td><td>false</td><td>false</td><td>true</td><td>false</td><td>true</td><td>false</td><td>false</td><td>false</td><td>false</td><td>false</td><td>false</td><td>false</td><td>true</td><td>false</td></tr><tr><td>2</td><td>&quot;Jumanji&quot;</td><td>[&quot;Adventure&quot;, &quot;Children&#x27;s&quot;, &quot;Fantasy&quot;]</td><td>1995</td><td>true</td><td>false</td><td>false</td><td>false</td><td>false</td><td>false</td><td>false</td><td>false</td><td>true</td><td>false</td><td>true</td><td>false</td><td>false</td><td>false</td><td>false</td><td>false</td><td>false</td><td>false</td></tr><tr><td>3</td><td>&quot;Grumpier Old Men&quot;</td><td>[&quot;Comedy&quot;, &quot;Romance&quot;]</td><td>1995</td><td>false</td><td>false</td><td>false</td><td>false</td><td>false</td><td>false</td><td>false</td><td>false</td><td>false</td><td>false</td><td>false</td><td>false</td><td>false</td><td>false</td><td>false</td><td>false</td><td>true</td><td>true</td></tr><tr><td>4</td><td>&quot;Waiting to Exhale&quot;</td><td>[&quot;Comedy&quot;, &quot;Drama&quot;]</td><td>1995</td><td>false</td><td>false</td><td>false</td><td>true</td><td>false</td><td>false</td><td>false</td><td>false</td><td>false</td><td>false</td><td>false</td><td>false</td><td>false</td><td>false</td><td>false</td><td>false</td><td>true</td><td>false</td></tr><tr><td>5</td><td>&quot;Father of the Bride Part II&quot;</td><td>[&quot;Comedy&quot;]</td><td>1995</td><td>false</td><td>false</td><td>false</td><td>false</td><td>false</td><td>false</td><td>false</td><td>false</td><td>false</td><td>false</td><td>false</td><td>false</td><td>false</td><td>false</td><td>false</td><td>false</td><td>true</td><td>false</td></tr><tr><td>&hellip;</td><td>&hellip;</td><td>&hellip;</td><td>&hellip;</td><td>&hellip;</td><td>&hellip;</td><td>&hellip;</td><td>&hellip;</td><td>&hellip;</td><td>&hellip;</td><td>&hellip;</td><td>&hellip;</td><td>&hellip;</td><td>&hellip;</td><td>&hellip;</td><td>&hellip;</td><td>&hellip;</td><td>&hellip;</td><td>&hellip;</td><td>&hellip;</td><td>&hellip;</td><td>&hellip;</td></tr><tr><td>3948</td><td>&quot;Meet the Parents&quot;</td><td>[&quot;Comedy&quot;]</td><td>2000</td><td>false</td><td>false</td><td>false</td><td>false</td><td>false</td><td>false</td><td>false</td><td>false</td><td>false</td><td>false</td><td>false</td><td>false</td><td>false</td><td>false</td><td>false</td><td>false</td><td>true</td><td>false</td></tr><tr><td>3949</td><td>&quot;Requiem for a Dream&quot;</td><td>[&quot;Drama&quot;]</td><td>2000</td><td>false</td><td>false</td><td>false</td><td>true</td><td>false</td><td>false</td><td>false</td><td>false</td><td>false</td><td>false</td><td>false</td><td>false</td><td>false</td><td>false</td><td>false</td><td>false</td><td>false</td><td>false</td></tr><tr><td>3950</td><td>&quot;Tigerland&quot;</td><td>[&quot;Drama&quot;]</td><td>2000</td><td>false</td><td>false</td><td>false</td><td>true</td><td>false</td><td>false</td><td>false</td><td>false</td><td>false</td><td>false</td><td>false</td><td>false</td><td>false</td><td>false</td><td>false</td><td>false</td><td>false</td><td>false</td></tr><tr><td>3951</td><td>&quot;Two Family House&quot;</td><td>[&quot;Drama&quot;]</td><td>2000</td><td>false</td><td>false</td><td>false</td><td>true</td><td>false</td><td>false</td><td>false</td><td>false</td><td>false</td><td>false</td><td>false</td><td>false</td><td>false</td><td>false</td><td>false</td><td>false</td><td>false</td><td>false</td></tr><tr><td>3952</td><td>&quot;Contender&quot;</td><td>null</td><td>null</td><td>false</td><td>false</td><td>false</td><td>false</td><td>false</td><td>false</td><td>false</td><td>false</td><td>false</td><td>false</td><td>false</td><td>false</td><td>false</td><td>false</td><td>false</td><td>false</td><td>false</td><td>false</td></tr></tbody></table></div>"
      ],
      "text/plain": [
       "shape: (3_883, 22)\n",
       "┌─────────┬───────────────┬───────────────┬──────┬───┬────────────┬─────────┬──────────┬───────────┐\n",
       "│ MovieID ┆ Title         ┆ Genres        ┆ Year ┆ … ┆ IsThriller ┆ IsCrime ┆ IsComedy ┆ IsRomance │\n",
       "│ ---     ┆ ---           ┆ ---           ┆ ---  ┆   ┆ ---        ┆ ---     ┆ ---      ┆ ---       │\n",
       "│ i32     ┆ str           ┆ list[str]     ┆ i32  ┆   ┆ bool       ┆ bool    ┆ bool     ┆ bool      │\n",
       "╞═════════╪═══════════════╪═══════════════╪══════╪═══╪════════════╪═════════╪══════════╪═══════════╡\n",
       "│ 1       ┆ Toy Story     ┆ [\"Animation\", ┆ 1995 ┆ … ┆ false      ┆ false   ┆ true     ┆ false     │\n",
       "│         ┆               ┆ \"Children's\", ┆      ┆   ┆            ┆         ┆          ┆           │\n",
       "│         ┆               ┆ \"C…           ┆      ┆   ┆            ┆         ┆          ┆           │\n",
       "│ 2       ┆ Jumanji       ┆ [\"Adventure\", ┆ 1995 ┆ … ┆ false      ┆ false   ┆ false    ┆ false     │\n",
       "│         ┆               ┆ \"Children's\", ┆      ┆   ┆            ┆         ┆          ┆           │\n",
       "│         ┆               ┆ \"F…           ┆      ┆   ┆            ┆         ┆          ┆           │\n",
       "│ 3       ┆ Grumpier Old  ┆ [\"Comedy\",    ┆ 1995 ┆ … ┆ false      ┆ false   ┆ true     ┆ true      │\n",
       "│         ┆ Men           ┆ \"Romance\"]    ┆      ┆   ┆            ┆         ┆          ┆           │\n",
       "│ 4       ┆ Waiting to    ┆ [\"Comedy\",    ┆ 1995 ┆ … ┆ false      ┆ false   ┆ true     ┆ false     │\n",
       "│         ┆ Exhale        ┆ \"Drama\"]      ┆      ┆   ┆            ┆         ┆          ┆           │\n",
       "│ 5       ┆ Father of the ┆ [\"Comedy\"]    ┆ 1995 ┆ … ┆ false      ┆ false   ┆ true     ┆ false     │\n",
       "│         ┆ Bride Part II ┆               ┆      ┆   ┆            ┆         ┆          ┆           │\n",
       "│ …       ┆ …             ┆ …             ┆ …    ┆ … ┆ …          ┆ …       ┆ …        ┆ …         │\n",
       "│ 3948    ┆ Meet the      ┆ [\"Comedy\"]    ┆ 2000 ┆ … ┆ false      ┆ false   ┆ true     ┆ false     │\n",
       "│         ┆ Parents       ┆               ┆      ┆   ┆            ┆         ┆          ┆           │\n",
       "│ 3949    ┆ Requiem for a ┆ [\"Drama\"]     ┆ 2000 ┆ … ┆ false      ┆ false   ┆ false    ┆ false     │\n",
       "│         ┆ Dream         ┆               ┆      ┆   ┆            ┆         ┆          ┆           │\n",
       "│ 3950    ┆ Tigerland     ┆ [\"Drama\"]     ┆ 2000 ┆ … ┆ false      ┆ false   ┆ false    ┆ false     │\n",
       "│ 3951    ┆ Two Family    ┆ [\"Drama\"]     ┆ 2000 ┆ … ┆ false      ┆ false   ┆ false    ┆ false     │\n",
       "│         ┆ House         ┆               ┆      ┆   ┆            ┆         ┆          ┆           │\n",
       "│ 3952    ┆ Contender     ┆ null          ┆ null ┆ … ┆ false      ┆ false   ┆ false    ┆ false     │\n",
       "└─────────┴───────────────┴───────────────┴──────┴───┴────────────┴─────────┴──────────┴───────────┘"
      ]
     },
     "execution_count": 4,
     "metadata": {},
     "output_type": "execute_result"
    }
   ],
   "source": [
    "ml_movies_df.collect()"
   ]
  },
  {
   "cell_type": "code",
   "execution_count": 5,
   "metadata": {},
   "outputs": [
    {
     "data": {
      "text/html": [
       "<div><style>\n",
       ".dataframe > thead > tr,\n",
       ".dataframe > tbody > tr {\n",
       "  text-align: right;\n",
       "  white-space: pre-wrap;\n",
       "}\n",
       "</style>\n",
       "<small>shape: (1, 22)</small><table border=\"1\" class=\"dataframe\"><thead><tr><th>MovieID</th><th>Title</th><th>Genres</th><th>Year</th><th>IsAdventure</th><th>IsAction</th><th>IsMystery</th><th>IsDrama</th><th>IsWar</th><th>IsDocumentary</th><th>IsAnimation</th><th>IsSci-Fi</th><th>IsChildren&#x27;s</th><th>IsWestern</th><th>IsFantasy</th><th>IsHorror</th><th>IsMusical</th><th>IsFilm-Noir</th><th>IsThriller</th><th>IsCrime</th><th>IsComedy</th><th>IsRomance</th></tr><tr><td>u32</td><td>u32</td><td>u32</td><td>u32</td><td>u32</td><td>u32</td><td>u32</td><td>u32</td><td>u32</td><td>u32</td><td>u32</td><td>u32</td><td>u32</td><td>u32</td><td>u32</td><td>u32</td><td>u32</td><td>u32</td><td>u32</td><td>u32</td><td>u32</td><td>u32</td></tr></thead><tbody><tr><td>0</td><td>0</td><td>993</td><td>993</td><td>0</td><td>0</td><td>0</td><td>0</td><td>0</td><td>0</td><td>0</td><td>0</td><td>0</td><td>0</td><td>0</td><td>0</td><td>0</td><td>0</td><td>0</td><td>0</td><td>0</td><td>0</td></tr></tbody></table></div>"
      ],
      "text/plain": [
       "shape: (1, 22)\n",
       "┌─────────┬───────┬────────┬──────┬───┬────────────┬─────────┬──────────┬───────────┐\n",
       "│ MovieID ┆ Title ┆ Genres ┆ Year ┆ … ┆ IsThriller ┆ IsCrime ┆ IsComedy ┆ IsRomance │\n",
       "│ ---     ┆ ---   ┆ ---    ┆ ---  ┆   ┆ ---        ┆ ---     ┆ ---      ┆ ---       │\n",
       "│ u32     ┆ u32   ┆ u32    ┆ u32  ┆   ┆ u32        ┆ u32     ┆ u32      ┆ u32       │\n",
       "╞═════════╪═══════╪════════╪══════╪═══╪════════════╪═════════╪══════════╪═══════════╡\n",
       "│ 0       ┆ 0     ┆ 993    ┆ 993  ┆ … ┆ 0          ┆ 0       ┆ 0        ┆ 0         │\n",
       "└─────────┴───────┴────────┴──────┴───┴────────────┴─────────┴──────────┴───────────┘"
      ]
     },
     "execution_count": 5,
     "metadata": {},
     "output_type": "execute_result"
    }
   ],
   "source": [
    "ml_movies_df.null_count().collect()"
   ]
  },
  {
   "cell_type": "markdown",
   "metadata": {},
   "source": [
    "### Ratings"
   ]
  },
  {
   "cell_type": "code",
   "execution_count": 6,
   "metadata": {},
   "outputs": [
    {
     "data": {
      "text/html": [
       "<div><style>\n",
       ".dataframe > thead > tr,\n",
       ".dataframe > tbody > tr {\n",
       "  text-align: right;\n",
       "  white-space: pre-wrap;\n",
       "}\n",
       "</style>\n",
       "<small>shape: (1_000_209, 4)</small><table border=\"1\" class=\"dataframe\"><thead><tr><th>UserID</th><th>MovieID</th><th>Rating</th><th>Timestamp</th></tr><tr><td>i32</td><td>i32</td><td>i32</td><td>i32</td></tr></thead><tbody><tr><td>1</td><td>1193</td><td>5</td><td>978300760</td></tr><tr><td>1</td><td>661</td><td>3</td><td>978302109</td></tr><tr><td>1</td><td>914</td><td>3</td><td>978301968</td></tr><tr><td>1</td><td>3408</td><td>4</td><td>978300275</td></tr><tr><td>1</td><td>2355</td><td>5</td><td>978824291</td></tr><tr><td>&hellip;</td><td>&hellip;</td><td>&hellip;</td><td>&hellip;</td></tr><tr><td>6040</td><td>1091</td><td>1</td><td>956716541</td></tr><tr><td>6040</td><td>1094</td><td>5</td><td>956704887</td></tr><tr><td>6040</td><td>562</td><td>5</td><td>956704746</td></tr><tr><td>6040</td><td>1096</td><td>4</td><td>956715648</td></tr><tr><td>6040</td><td>1097</td><td>4</td><td>956715569</td></tr></tbody></table></div>"
      ],
      "text/plain": [
       "shape: (1_000_209, 4)\n",
       "┌────────┬─────────┬────────┬───────────┐\n",
       "│ UserID ┆ MovieID ┆ Rating ┆ Timestamp │\n",
       "│ ---    ┆ ---     ┆ ---    ┆ ---       │\n",
       "│ i32    ┆ i32     ┆ i32    ┆ i32       │\n",
       "╞════════╪═════════╪════════╪═══════════╡\n",
       "│ 1      ┆ 1193    ┆ 5      ┆ 978300760 │\n",
       "│ 1      ┆ 661     ┆ 3      ┆ 978302109 │\n",
       "│ 1      ┆ 914     ┆ 3      ┆ 978301968 │\n",
       "│ 1      ┆ 3408    ┆ 4      ┆ 978300275 │\n",
       "│ 1      ┆ 2355    ┆ 5      ┆ 978824291 │\n",
       "│ …      ┆ …       ┆ …      ┆ …         │\n",
       "│ 6040   ┆ 1091    ┆ 1      ┆ 956716541 │\n",
       "│ 6040   ┆ 1094    ┆ 5      ┆ 956704887 │\n",
       "│ 6040   ┆ 562     ┆ 5      ┆ 956704746 │\n",
       "│ 6040   ┆ 1096    ┆ 4      ┆ 956715648 │\n",
       "│ 6040   ┆ 1097    ┆ 4      ┆ 956715569 │\n",
       "└────────┴─────────┴────────┴───────────┘"
      ]
     },
     "execution_count": 6,
     "metadata": {},
     "output_type": "execute_result"
    }
   ],
   "source": [
    "# 1) Read lines and split them by \"::\"\n",
    "# 2) Select columns and cast them to the correct type\n",
    "ml_ratings_df = pl.scan_csv(os.path.join(ROOT, ML_RATINGS_PATH), has_header=False).select([\n",
    "    pl.col(\"column_1\").str.split(\"::\")\n",
    "]).select([\n",
    "    pl.col(\"column_1\").list.get(0).alias(\"UserID\").cast(pl.Int32),\n",
    "    pl.col(\"column_1\").list.get(1).alias(\"MovieID\").cast(pl.Int32),\n",
    "    pl.col(\"column_1\").list.get(2).alias(\"Rating\").cast(pl.Int32),\n",
    "    pl.col(\"column_1\").list.get(3).alias(\"Timestamp\").cast(pl.Int32)\n",
    "])\n",
    "\n",
    "ml_ratings_df.collect()"
   ]
  },
  {
   "cell_type": "code",
   "execution_count": 7,
   "metadata": {},
   "outputs": [
    {
     "data": {
      "text/html": [
       "<div><style>\n",
       ".dataframe > thead > tr,\n",
       ".dataframe > tbody > tr {\n",
       "  text-align: right;\n",
       "  white-space: pre-wrap;\n",
       "}\n",
       "</style>\n",
       "<small>shape: (1, 4)</small><table border=\"1\" class=\"dataframe\"><thead><tr><th>UserID</th><th>MovieID</th><th>Rating</th><th>Timestamp</th></tr><tr><td>u32</td><td>u32</td><td>u32</td><td>u32</td></tr></thead><tbody><tr><td>0</td><td>0</td><td>0</td><td>0</td></tr></tbody></table></div>"
      ],
      "text/plain": [
       "shape: (1, 4)\n",
       "┌────────┬─────────┬────────┬───────────┐\n",
       "│ UserID ┆ MovieID ┆ Rating ┆ Timestamp │\n",
       "│ ---    ┆ ---     ┆ ---    ┆ ---       │\n",
       "│ u32    ┆ u32     ┆ u32    ┆ u32       │\n",
       "╞════════╪═════════╪════════╪═══════════╡\n",
       "│ 0      ┆ 0       ┆ 0      ┆ 0         │\n",
       "└────────┴─────────┴────────┴───────────┘"
      ]
     },
     "execution_count": 7,
     "metadata": {},
     "output_type": "execute_result"
    }
   ],
   "source": [
    "ml_ratings_df.null_count().collect()"
   ]
  },
  {
   "cell_type": "markdown",
   "metadata": {},
   "source": [
    "### Join"
   ]
  },
  {
   "cell_type": "code",
   "execution_count": 8,
   "metadata": {},
   "outputs": [
    {
     "data": {
      "text/html": [
       "<div><style>\n",
       ".dataframe > thead > tr,\n",
       ".dataframe > tbody > tr {\n",
       "  text-align: right;\n",
       "  white-space: pre-wrap;\n",
       "}\n",
       "</style>\n",
       "<small>shape: (1_000_209, 29)</small><table border=\"1\" class=\"dataframe\"><thead><tr><th>UserID</th><th>MovieID</th><th>Rating</th><th>Timestamp</th><th>Title</th><th>Genres</th><th>Year</th><th>IsAdventure</th><th>IsAction</th><th>IsMystery</th><th>IsDrama</th><th>IsWar</th><th>IsDocumentary</th><th>IsAnimation</th><th>IsSci-Fi</th><th>IsChildren&#x27;s</th><th>IsWestern</th><th>IsFantasy</th><th>IsHorror</th><th>IsMusical</th><th>IsFilm-Noir</th><th>IsThriller</th><th>IsCrime</th><th>IsComedy</th><th>IsRomance</th><th>Gender</th><th>Age</th><th>Occupation</th><th>Zip-code</th></tr><tr><td>i32</td><td>i32</td><td>i32</td><td>i32</td><td>str</td><td>list[str]</td><td>i32</td><td>bool</td><td>bool</td><td>bool</td><td>bool</td><td>bool</td><td>bool</td><td>bool</td><td>bool</td><td>bool</td><td>bool</td><td>bool</td><td>bool</td><td>bool</td><td>bool</td><td>bool</td><td>bool</td><td>bool</td><td>bool</td><td>str</td><td>i32</td><td>str</td><td>str</td></tr></thead><tbody><tr><td>1</td><td>1193</td><td>5</td><td>978300760</td><td>&quot;One Flew Over the Cuckoo&#x27;s Nes…</td><td>[&quot;Drama&quot;]</td><td>1975</td><td>false</td><td>false</td><td>false</td><td>true</td><td>false</td><td>false</td><td>false</td><td>false</td><td>false</td><td>false</td><td>false</td><td>false</td><td>false</td><td>false</td><td>false</td><td>false</td><td>false</td><td>false</td><td>&quot;F&quot;</td><td>1</td><td>&quot;K-12 student&quot;</td><td>&quot;48067&quot;</td></tr><tr><td>1</td><td>661</td><td>3</td><td>978302109</td><td>&quot;James and the Giant Peach&quot;</td><td>[&quot;Animation&quot;, &quot;Children&#x27;s&quot;, &quot;Musical&quot;]</td><td>1996</td><td>false</td><td>false</td><td>false</td><td>false</td><td>false</td><td>false</td><td>true</td><td>false</td><td>true</td><td>false</td><td>false</td><td>false</td><td>true</td><td>false</td><td>false</td><td>false</td><td>false</td><td>false</td><td>&quot;F&quot;</td><td>1</td><td>&quot;K-12 student&quot;</td><td>&quot;48067&quot;</td></tr><tr><td>1</td><td>914</td><td>3</td><td>978301968</td><td>&quot;My Fair Lady&quot;</td><td>[&quot;Musical&quot;, &quot;Romance&quot;]</td><td>1964</td><td>false</td><td>false</td><td>false</td><td>false</td><td>false</td><td>false</td><td>false</td><td>false</td><td>false</td><td>false</td><td>false</td><td>false</td><td>true</td><td>false</td><td>false</td><td>false</td><td>false</td><td>true</td><td>&quot;F&quot;</td><td>1</td><td>&quot;K-12 student&quot;</td><td>&quot;48067&quot;</td></tr><tr><td>1</td><td>3408</td><td>4</td><td>978300275</td><td>&quot;Erin Brockovich&quot;</td><td>[&quot;Drama&quot;]</td><td>2000</td><td>false</td><td>false</td><td>false</td><td>true</td><td>false</td><td>false</td><td>false</td><td>false</td><td>false</td><td>false</td><td>false</td><td>false</td><td>false</td><td>false</td><td>false</td><td>false</td><td>false</td><td>false</td><td>&quot;F&quot;</td><td>1</td><td>&quot;K-12 student&quot;</td><td>&quot;48067&quot;</td></tr><tr><td>1</td><td>2355</td><td>5</td><td>978824291</td><td>&quot;Bug&#x27;s Life&quot;</td><td>null</td><td>null</td><td>false</td><td>false</td><td>false</td><td>false</td><td>false</td><td>false</td><td>false</td><td>false</td><td>false</td><td>false</td><td>false</td><td>false</td><td>false</td><td>false</td><td>false</td><td>false</td><td>false</td><td>false</td><td>&quot;F&quot;</td><td>1</td><td>&quot;K-12 student&quot;</td><td>&quot;48067&quot;</td></tr><tr><td>&hellip;</td><td>&hellip;</td><td>&hellip;</td><td>&hellip;</td><td>&hellip;</td><td>&hellip;</td><td>&hellip;</td><td>&hellip;</td><td>&hellip;</td><td>&hellip;</td><td>&hellip;</td><td>&hellip;</td><td>&hellip;</td><td>&hellip;</td><td>&hellip;</td><td>&hellip;</td><td>&hellip;</td><td>&hellip;</td><td>&hellip;</td><td>&hellip;</td><td>&hellip;</td><td>&hellip;</td><td>&hellip;</td><td>&hellip;</td><td>&hellip;</td><td>&hellip;</td><td>&hellip;</td><td>&hellip;</td><td>&hellip;</td></tr><tr><td>6040</td><td>1091</td><td>1</td><td>956716541</td><td>&quot;Weekend at Bernie&#x27;s&quot;</td><td>[&quot;Comedy&quot;]</td><td>1989</td><td>false</td><td>false</td><td>false</td><td>false</td><td>false</td><td>false</td><td>false</td><td>false</td><td>false</td><td>false</td><td>false</td><td>false</td><td>false</td><td>false</td><td>false</td><td>false</td><td>true</td><td>false</td><td>&quot;M&quot;</td><td>25</td><td>&quot;doctor/health care&quot;</td><td>&quot;11106&quot;</td></tr><tr><td>6040</td><td>1094</td><td>5</td><td>956704887</td><td>&quot;Crying Game&quot;</td><td>null</td><td>null</td><td>false</td><td>false</td><td>false</td><td>false</td><td>false</td><td>false</td><td>false</td><td>false</td><td>false</td><td>false</td><td>false</td><td>false</td><td>false</td><td>false</td><td>false</td><td>false</td><td>false</td><td>false</td><td>&quot;M&quot;</td><td>25</td><td>&quot;doctor/health care&quot;</td><td>&quot;11106&quot;</td></tr><tr><td>6040</td><td>562</td><td>5</td><td>956704746</td><td>&quot;Welcome to the Dollhouse&quot;</td><td>[&quot;Comedy&quot;, &quot;Drama&quot;]</td><td>1995</td><td>false</td><td>false</td><td>false</td><td>true</td><td>false</td><td>false</td><td>false</td><td>false</td><td>false</td><td>false</td><td>false</td><td>false</td><td>false</td><td>false</td><td>false</td><td>false</td><td>true</td><td>false</td><td>&quot;M&quot;</td><td>25</td><td>&quot;doctor/health care&quot;</td><td>&quot;11106&quot;</td></tr><tr><td>6040</td><td>1096</td><td>4</td><td>956715648</td><td>&quot;Sophie&#x27;s Choice&quot;</td><td>[&quot;Drama&quot;]</td><td>1982</td><td>false</td><td>false</td><td>false</td><td>true</td><td>false</td><td>false</td><td>false</td><td>false</td><td>false</td><td>false</td><td>false</td><td>false</td><td>false</td><td>false</td><td>false</td><td>false</td><td>false</td><td>false</td><td>&quot;M&quot;</td><td>25</td><td>&quot;doctor/health care&quot;</td><td>&quot;11106&quot;</td></tr><tr><td>6040</td><td>1097</td><td>4</td><td>956715569</td><td>&quot;E.T. the Extra-Terrestrial&quot;</td><td>[&quot;Children&#x27;s&quot;, &quot;Drama&quot;, … &quot;Sci-Fi&quot;]</td><td>1982</td><td>false</td><td>false</td><td>false</td><td>true</td><td>false</td><td>false</td><td>false</td><td>true</td><td>true</td><td>false</td><td>true</td><td>false</td><td>false</td><td>false</td><td>false</td><td>false</td><td>false</td><td>false</td><td>&quot;M&quot;</td><td>25</td><td>&quot;doctor/health care&quot;</td><td>&quot;11106&quot;</td></tr></tbody></table></div>"
      ],
      "text/plain": [
       "shape: (1_000_209, 29)\n",
       "┌────────┬─────────┬────────┬───────────┬───┬────────┬─────┬────────────────────┬──────────┐\n",
       "│ UserID ┆ MovieID ┆ Rating ┆ Timestamp ┆ … ┆ Gender ┆ Age ┆ Occupation         ┆ Zip-code │\n",
       "│ ---    ┆ ---     ┆ ---    ┆ ---       ┆   ┆ ---    ┆ --- ┆ ---                ┆ ---      │\n",
       "│ i32    ┆ i32     ┆ i32    ┆ i32       ┆   ┆ str    ┆ i32 ┆ str                ┆ str      │\n",
       "╞════════╪═════════╪════════╪═══════════╪═══╪════════╪═════╪════════════════════╪══════════╡\n",
       "│ 1      ┆ 1193    ┆ 5      ┆ 978300760 ┆ … ┆ F      ┆ 1   ┆ K-12 student       ┆ 48067    │\n",
       "│ 1      ┆ 661     ┆ 3      ┆ 978302109 ┆ … ┆ F      ┆ 1   ┆ K-12 student       ┆ 48067    │\n",
       "│ 1      ┆ 914     ┆ 3      ┆ 978301968 ┆ … ┆ F      ┆ 1   ┆ K-12 student       ┆ 48067    │\n",
       "│ 1      ┆ 3408    ┆ 4      ┆ 978300275 ┆ … ┆ F      ┆ 1   ┆ K-12 student       ┆ 48067    │\n",
       "│ 1      ┆ 2355    ┆ 5      ┆ 978824291 ┆ … ┆ F      ┆ 1   ┆ K-12 student       ┆ 48067    │\n",
       "│ …      ┆ …       ┆ …      ┆ …         ┆ … ┆ …      ┆ …   ┆ …                  ┆ …        │\n",
       "│ 6040   ┆ 1091    ┆ 1      ┆ 956716541 ┆ … ┆ M      ┆ 25  ┆ doctor/health care ┆ 11106    │\n",
       "│ 6040   ┆ 1094    ┆ 5      ┆ 956704887 ┆ … ┆ M      ┆ 25  ┆ doctor/health care ┆ 11106    │\n",
       "│ 6040   ┆ 562     ┆ 5      ┆ 956704746 ┆ … ┆ M      ┆ 25  ┆ doctor/health care ┆ 11106    │\n",
       "│ 6040   ┆ 1096    ┆ 4      ┆ 956715648 ┆ … ┆ M      ┆ 25  ┆ doctor/health care ┆ 11106    │\n",
       "│ 6040   ┆ 1097    ┆ 4      ┆ 956715569 ┆ … ┆ M      ┆ 25  ┆ doctor/health care ┆ 11106    │\n",
       "└────────┴─────────┴────────┴───────────┴───┴────────┴─────┴────────────────────┴──────────┘"
      ]
     },
     "execution_count": 8,
     "metadata": {},
     "output_type": "execute_result"
    }
   ],
   "source": [
    "# Join dataframes\n",
    "ml_df = ml_ratings_df.join(ml_movies_df, on=\"MovieID\").join(ml_users_df, on=\"UserID\")\n",
    "ml_df.collect()"
   ]
  },
  {
   "cell_type": "code",
   "execution_count": 9,
   "metadata": {},
   "outputs": [
    {
     "data": {
      "text/html": [
       "<div><style>\n",
       ".dataframe > thead > tr,\n",
       ".dataframe > tbody > tr {\n",
       "  text-align: right;\n",
       "  white-space: pre-wrap;\n",
       "}\n",
       "</style>\n",
       "<small>shape: (1, 29)</small><table border=\"1\" class=\"dataframe\"><thead><tr><th>UserID</th><th>MovieID</th><th>Rating</th><th>Timestamp</th><th>Title</th><th>Genres</th><th>Year</th><th>IsAdventure</th><th>IsAction</th><th>IsMystery</th><th>IsDrama</th><th>IsWar</th><th>IsDocumentary</th><th>IsAnimation</th><th>IsSci-Fi</th><th>IsChildren&#x27;s</th><th>IsWestern</th><th>IsFantasy</th><th>IsHorror</th><th>IsMusical</th><th>IsFilm-Noir</th><th>IsThriller</th><th>IsCrime</th><th>IsComedy</th><th>IsRomance</th><th>Gender</th><th>Age</th><th>Occupation</th><th>Zip-code</th></tr><tr><td>u32</td><td>u32</td><td>u32</td><td>u32</td><td>u32</td><td>u32</td><td>u32</td><td>u32</td><td>u32</td><td>u32</td><td>u32</td><td>u32</td><td>u32</td><td>u32</td><td>u32</td><td>u32</td><td>u32</td><td>u32</td><td>u32</td><td>u32</td><td>u32</td><td>u32</td><td>u32</td><td>u32</td><td>u32</td><td>u32</td><td>u32</td><td>u32</td><td>u32</td></tr></thead><tbody><tr><td>0</td><td>0</td><td>0</td><td>0</td><td>0</td><td>243234</td><td>243234</td><td>0</td><td>0</td><td>0</td><td>0</td><td>0</td><td>0</td><td>0</td><td>0</td><td>0</td><td>0</td><td>0</td><td>0</td><td>0</td><td>0</td><td>0</td><td>0</td><td>0</td><td>0</td><td>0</td><td>0</td><td>0</td><td>0</td></tr></tbody></table></div>"
      ],
      "text/plain": [
       "shape: (1, 29)\n",
       "┌────────┬─────────┬────────┬───────────┬───┬────────┬─────┬────────────┬──────────┐\n",
       "│ UserID ┆ MovieID ┆ Rating ┆ Timestamp ┆ … ┆ Gender ┆ Age ┆ Occupation ┆ Zip-code │\n",
       "│ ---    ┆ ---     ┆ ---    ┆ ---       ┆   ┆ ---    ┆ --- ┆ ---        ┆ ---      │\n",
       "│ u32    ┆ u32     ┆ u32    ┆ u32       ┆   ┆ u32    ┆ u32 ┆ u32        ┆ u32      │\n",
       "╞════════╪═════════╪════════╪═══════════╪═══╪════════╪═════╪════════════╪══════════╡\n",
       "│ 0      ┆ 0       ┆ 0      ┆ 0         ┆ … ┆ 0      ┆ 0   ┆ 0          ┆ 0        │\n",
       "└────────┴─────────┴────────┴───────────┴───┴────────┴─────┴────────────┴──────────┘"
      ]
     },
     "execution_count": 9,
     "metadata": {},
     "output_type": "execute_result"
    }
   ],
   "source": [
    "ml_df.null_count().collect()"
   ]
  },
  {
   "cell_type": "markdown",
   "metadata": {},
   "source": [
    "## Book-Crossing"
   ]
  },
  {
   "cell_type": "code",
   "execution_count": 10,
   "metadata": {},
   "outputs": [
    {
     "data": {
      "text/html": [
       "<div><style>\n",
       ".dataframe > thead > tr,\n",
       ".dataframe > tbody > tr {\n",
       "  text-align: right;\n",
       "  white-space: pre-wrap;\n",
       "}\n",
       "</style>\n",
       "<small>shape: (271_379, 5)</small><table border=\"1\" class=\"dataframe\"><thead><tr><th>ISBN</th><th>Title</th><th>Author</th><th>Year</th><th>Publisher</th></tr><tr><td>str</td><td>str</td><td>str</td><td>i64</td><td>str</td></tr></thead><tbody><tr><td>&quot;0195153448&quot;</td><td>&quot;Classical Mythology&quot;</td><td>&quot;Mark P. O. Morford&quot;</td><td>2002</td><td>&quot;Oxford University Press&quot;</td></tr><tr><td>&quot;0002005018&quot;</td><td>&quot;Clara Callan&quot;</td><td>&quot;Richard Bruce Wright&quot;</td><td>2001</td><td>&quot;HarperFlamingo Canada&quot;</td></tr><tr><td>&quot;0060973129&quot;</td><td>&quot;Decision in Normandy&quot;</td><td>&quot;Carlo D&#x27;Este&quot;</td><td>1991</td><td>&quot;HarperPerennial&quot;</td></tr><tr><td>&quot;0374157065&quot;</td><td>&quot;Flu: The Story of the Great In…</td><td>&quot;Gina Bari Kolata&quot;</td><td>1999</td><td>&quot;Farrar Straus Giroux&quot;</td></tr><tr><td>&quot;0393045218&quot;</td><td>&quot;The Mummies of Urumchi&quot;</td><td>&quot;E. J. W. Barber&quot;</td><td>1999</td><td>&quot;W. W. Norton &amp; Company&quot;</td></tr><tr><td>&hellip;</td><td>&hellip;</td><td>&hellip;</td><td>&hellip;</td><td>&hellip;</td></tr><tr><td>&quot;0440400988&quot;</td><td>&quot;There&#x27;s a Bat in Bunk Five&quot;</td><td>&quot;Paula Danziger&quot;</td><td>1988</td><td>&quot;Random House Childrens Pub (Mm…</td></tr><tr><td>&quot;0525447644&quot;</td><td>&quot;From One to One Hundred&quot;</td><td>&quot;Teri Sloat&quot;</td><td>1991</td><td>&quot;Dutton Books&quot;</td></tr><tr><td>&quot;006008667X&quot;</td><td>&quot;Lily Dale : The True Story of …</td><td>&quot;Christine Wicker&quot;</td><td>2004</td><td>&quot;HarperSanFrancisco&quot;</td></tr><tr><td>&quot;0192126040&quot;</td><td>&quot;Republic (World&#x27;s Classics)&quot;</td><td>&quot;Plato&quot;</td><td>1996</td><td>&quot;Oxford University Press&quot;</td></tr><tr><td>&quot;0767409752&quot;</td><td>&quot;A Guided Tour of Rene Descarte…</td><td>&quot;Christopher  Biffle&quot;</td><td>2000</td><td>&quot;McGraw-Hill Humanities/Social …</td></tr></tbody></table></div>"
      ],
      "text/plain": [
       "shape: (271_379, 5)\n",
       "┌────────────┬───────────────────────────┬──────────────────────┬──────┬───────────────────────────┐\n",
       "│ ISBN       ┆ Title                     ┆ Author               ┆ Year ┆ Publisher                 │\n",
       "│ ---        ┆ ---                       ┆ ---                  ┆ ---  ┆ ---                       │\n",
       "│ str        ┆ str                       ┆ str                  ┆ i64  ┆ str                       │\n",
       "╞════════════╪═══════════════════════════╪══════════════════════╪══════╪═══════════════════════════╡\n",
       "│ 0195153448 ┆ Classical Mythology       ┆ Mark P. O. Morford   ┆ 2002 ┆ Oxford University Press   │\n",
       "│ 0002005018 ┆ Clara Callan              ┆ Richard Bruce Wright ┆ 2001 ┆ HarperFlamingo Canada     │\n",
       "│ 0060973129 ┆ Decision in Normandy      ┆ Carlo D'Este         ┆ 1991 ┆ HarperPerennial           │\n",
       "│ 0374157065 ┆ Flu: The Story of the     ┆ Gina Bari Kolata     ┆ 1999 ┆ Farrar Straus Giroux      │\n",
       "│            ┆ Great In…                 ┆                      ┆      ┆                           │\n",
       "│ 0393045218 ┆ The Mummies of Urumchi    ┆ E. J. W. Barber      ┆ 1999 ┆ W. W. Norton & Company    │\n",
       "│ …          ┆ …                         ┆ …                    ┆ …    ┆ …                         │\n",
       "│ 0440400988 ┆ There's a Bat in Bunk     ┆ Paula Danziger       ┆ 1988 ┆ Random House Childrens    │\n",
       "│            ┆ Five                      ┆                      ┆      ┆ Pub (Mm…                  │\n",
       "│ 0525447644 ┆ From One to One Hundred   ┆ Teri Sloat           ┆ 1991 ┆ Dutton Books              │\n",
       "│ 006008667X ┆ Lily Dale : The True      ┆ Christine Wicker     ┆ 2004 ┆ HarperSanFrancisco        │\n",
       "│            ┆ Story of …                ┆                      ┆      ┆                           │\n",
       "│ 0192126040 ┆ Republic (World's         ┆ Plato                ┆ 1996 ┆ Oxford University Press   │\n",
       "│            ┆ Classics)                 ┆                      ┆      ┆                           │\n",
       "│ 0767409752 ┆ A Guided Tour of Rene     ┆ Christopher  Biffle  ┆ 2000 ┆ McGraw-Hill               │\n",
       "│            ┆ Descarte…                 ┆                      ┆      ┆ Humanities/Social …       │\n",
       "└────────────┴───────────────────────────┴──────────────────────┴──────┴───────────────────────────┘"
      ]
     },
     "execution_count": 10,
     "metadata": {},
     "output_type": "execute_result"
    }
   ],
   "source": [
    "bc_books_df = pl.scan_csv(os.path.join(ROOT, BC_BOOKS_PATH), separator=\";\")\n",
    "bc_books_df.collect()"
   ]
  },
  {
   "cell_type": "code",
   "execution_count": 11,
   "metadata": {},
   "outputs": [
    {
     "data": {
      "text/html": [
       "<div><style>\n",
       ".dataframe > thead > tr,\n",
       ".dataframe > tbody > tr {\n",
       "  text-align: right;\n",
       "  white-space: pre-wrap;\n",
       "}\n",
       "</style>\n",
       "<small>shape: (1, 5)</small><table border=\"1\" class=\"dataframe\"><thead><tr><th>ISBN</th><th>Title</th><th>Author</th><th>Year</th><th>Publisher</th></tr><tr><td>u32</td><td>u32</td><td>u32</td><td>u32</td><td>u32</td></tr></thead><tbody><tr><td>0</td><td>0</td><td>1</td><td>0</td><td>2</td></tr></tbody></table></div>"
      ],
      "text/plain": [
       "shape: (1, 5)\n",
       "┌──────┬───────┬────────┬──────┬───────────┐\n",
       "│ ISBN ┆ Title ┆ Author ┆ Year ┆ Publisher │\n",
       "│ ---  ┆ ---   ┆ ---    ┆ ---  ┆ ---       │\n",
       "│ u32  ┆ u32   ┆ u32    ┆ u32  ┆ u32       │\n",
       "╞══════╪═══════╪════════╪══════╪═══════════╡\n",
       "│ 0    ┆ 0     ┆ 1      ┆ 0    ┆ 2         │\n",
       "└──────┴───────┴────────┴──────┴───────────┘"
      ]
     },
     "execution_count": 11,
     "metadata": {},
     "output_type": "execute_result"
    }
   ],
   "source": [
    "bc_books_df.null_count().collect()"
   ]
  },
  {
   "cell_type": "code",
   "execution_count": 12,
   "metadata": {},
   "outputs": [
    {
     "data": {
      "text/html": [
       "<div><style>\n",
       ".dataframe > thead > tr,\n",
       ".dataframe > tbody > tr {\n",
       "  text-align: right;\n",
       "  white-space: pre-wrap;\n",
       "}\n",
       "</style>\n",
       "<small>shape: (165_917, 2)</small><table border=\"1\" class=\"dataframe\"><thead><tr><th>User-ID</th><th>Age</th></tr><tr><td>i64</td><td>i64</td></tr></thead><tbody><tr><td>2</td><td>18</td></tr><tr><td>4</td><td>17</td></tr><tr><td>6</td><td>61</td></tr><tr><td>10</td><td>26</td></tr><tr><td>11</td><td>14</td></tr><tr><td>&hellip;</td><td>&hellip;</td></tr><tr><td>278849</td><td>23</td></tr><tr><td>278851</td><td>33</td></tr><tr><td>278852</td><td>32</td></tr><tr><td>278853</td><td>17</td></tr><tr><td>278855</td><td>50</td></tr></tbody></table></div>"
      ],
      "text/plain": [
       "shape: (165_917, 2)\n",
       "┌─────────┬─────┐\n",
       "│ User-ID ┆ Age │\n",
       "│ ---     ┆ --- │\n",
       "│ i64     ┆ i64 │\n",
       "╞═════════╪═════╡\n",
       "│ 2       ┆ 18  │\n",
       "│ 4       ┆ 17  │\n",
       "│ 6       ┆ 61  │\n",
       "│ 10      ┆ 26  │\n",
       "│ 11      ┆ 14  │\n",
       "│ …       ┆ …   │\n",
       "│ 278849  ┆ 23  │\n",
       "│ 278851  ┆ 33  │\n",
       "│ 278852  ┆ 32  │\n",
       "│ 278853  ┆ 17  │\n",
       "│ 278855  ┆ 50  │\n",
       "└─────────┴─────┘"
      ]
     },
     "execution_count": 12,
     "metadata": {},
     "output_type": "execute_result"
    }
   ],
   "source": [
    "bc_users_df = pl.scan_csv(os.path.join(ROOT, BC_USERS_PATH), separator=\";\").filter(\n",
    "    pl.col(\"Age\").is_between(5, 100)\n",
    ")\n",
    "bc_users_df.collect()"
   ]
  },
  {
   "cell_type": "code",
   "execution_count": 13,
   "metadata": {},
   "outputs": [
    {
     "data": {
      "text/html": [
       "<div><style>\n",
       ".dataframe > thead > tr,\n",
       ".dataframe > tbody > tr {\n",
       "  text-align: right;\n",
       "  white-space: pre-wrap;\n",
       "}\n",
       "</style>\n",
       "<small>shape: (1, 2)</small><table border=\"1\" class=\"dataframe\"><thead><tr><th>User-ID</th><th>Age</th></tr><tr><td>u32</td><td>u32</td></tr></thead><tbody><tr><td>0</td><td>0</td></tr></tbody></table></div>"
      ],
      "text/plain": [
       "shape: (1, 2)\n",
       "┌─────────┬─────┐\n",
       "│ User-ID ┆ Age │\n",
       "│ ---     ┆ --- │\n",
       "│ u32     ┆ u32 │\n",
       "╞═════════╪═════╡\n",
       "│ 0       ┆ 0   │\n",
       "└─────────┴─────┘"
      ]
     },
     "execution_count": 13,
     "metadata": {},
     "output_type": "execute_result"
    }
   ],
   "source": [
    "bc_users_df.null_count().collect()"
   ]
  },
  {
   "cell_type": "code",
   "execution_count": 14,
   "metadata": {},
   "outputs": [
    {
     "data": {
      "text/html": [
       "<div><style>\n",
       ".dataframe > thead > tr,\n",
       ".dataframe > tbody > tr {\n",
       "  text-align: right;\n",
       "  white-space: pre-wrap;\n",
       "}\n",
       "</style>\n",
       "<small>shape: (830_879, 3)</small><table border=\"1\" class=\"dataframe\"><thead><tr><th>User-ID</th><th>ISBN</th><th>Rating</th></tr><tr><td>i64</td><td>str</td><td>i64</td></tr></thead><tbody><tr><td>276727</td><td>&quot;0446520802&quot;</td><td>0</td></tr><tr><td>276729</td><td>&quot;052165615X&quot;</td><td>3</td></tr><tr><td>276729</td><td>&quot;0521795028&quot;</td><td>6</td></tr><tr><td>276733</td><td>&quot;2080674722&quot;</td><td>0</td></tr><tr><td>276737</td><td>&quot;0600570967&quot;</td><td>6</td></tr><tr><td>&hellip;</td><td>&hellip;</td><td>&hellip;</td></tr><tr><td>276697</td><td>&quot;8445072897&quot;</td><td>0</td></tr><tr><td>276706</td><td>&quot;0679447156&quot;</td><td>0</td></tr><tr><td>276709</td><td>&quot;0515107662&quot;</td><td>10</td></tr><tr><td>276721</td><td>&quot;0590442449&quot;</td><td>10</td></tr><tr><td>276723</td><td>&quot;05162443314&quot;</td><td>8</td></tr></tbody></table></div>"
      ],
      "text/plain": [
       "shape: (830_879, 3)\n",
       "┌─────────┬─────────────┬────────┐\n",
       "│ User-ID ┆ ISBN        ┆ Rating │\n",
       "│ ---     ┆ ---         ┆ ---    │\n",
       "│ i64     ┆ str         ┆ i64    │\n",
       "╞═════════╪═════════════╪════════╡\n",
       "│ 276727  ┆ 0446520802  ┆ 0      │\n",
       "│ 276729  ┆ 052165615X  ┆ 3      │\n",
       "│ 276729  ┆ 0521795028  ┆ 6      │\n",
       "│ 276733  ┆ 2080674722  ┆ 0      │\n",
       "│ 276737  ┆ 0600570967  ┆ 6      │\n",
       "│ …       ┆ …           ┆ …      │\n",
       "│ 276697  ┆ 8445072897  ┆ 0      │\n",
       "│ 276706  ┆ 0679447156  ┆ 0      │\n",
       "│ 276709  ┆ 0515107662  ┆ 10     │\n",
       "│ 276721  ┆ 0590442449  ┆ 10     │\n",
       "│ 276723  ┆ 05162443314 ┆ 8      │\n",
       "└─────────┴─────────────┴────────┘"
      ]
     },
     "execution_count": 14,
     "metadata": {},
     "output_type": "execute_result"
    }
   ],
   "source": [
    "bc_ratings_df = pl.scan_csv(os.path.join(ROOT, BC_RATINGS_PATH), separator=\";\").filter(\n",
    "    pl.col(\"User-ID\").is_in(bc_users_df.select(\"User-ID\").collect()),\n",
    ")\n",
    "bc_ratings_df.collect()"
   ]
  },
  {
   "cell_type": "code",
   "execution_count": 15,
   "metadata": {},
   "outputs": [
    {
     "data": {
      "text/html": [
       "<div><style>\n",
       ".dataframe > thead > tr,\n",
       ".dataframe > tbody > tr {\n",
       "  text-align: right;\n",
       "  white-space: pre-wrap;\n",
       "}\n",
       "</style>\n",
       "<small>shape: (1, 3)</small><table border=\"1\" class=\"dataframe\"><thead><tr><th>User-ID</th><th>ISBN</th><th>Rating</th></tr><tr><td>u32</td><td>u32</td><td>u32</td></tr></thead><tbody><tr><td>0</td><td>0</td><td>0</td></tr></tbody></table></div>"
      ],
      "text/plain": [
       "shape: (1, 3)\n",
       "┌─────────┬──────┬────────┐\n",
       "│ User-ID ┆ ISBN ┆ Rating │\n",
       "│ ---     ┆ ---  ┆ ---    │\n",
       "│ u32     ┆ u32  ┆ u32    │\n",
       "╞═════════╪══════╪════════╡\n",
       "│ 0       ┆ 0    ┆ 0      │\n",
       "└─────────┴──────┴────────┘"
      ]
     },
     "execution_count": 15,
     "metadata": {},
     "output_type": "execute_result"
    }
   ],
   "source": [
    "bc_ratings_df.null_count().collect()"
   ]
  },
  {
   "cell_type": "markdown",
   "metadata": {},
   "source": [
    "# Train - Test Split"
   ]
  },
  {
   "cell_type": "code",
   "execution_count": 16,
   "metadata": {},
   "outputs": [],
   "source": [
    "ml_ratings_df = ml_ratings_df.sort(\"Timestamp\")\n",
    "ml_ratings_df_len = ml_df.select(pl.len()).collect().item()\n",
    "train_size = int(ml_ratings_df_len * 0.8)\n",
    "ml_ratings_train_df = ml_df.head(train_size)\n",
    "ml_ratings_test_df = ml_df.tail(ml_ratings_df_len - train_size)"
   ]
  },
  {
   "cell_type": "code",
   "execution_count": 17,
   "metadata": {},
   "outputs": [
    {
     "data": {
      "text/html": [
       "<div><style>\n",
       ".dataframe > thead > tr,\n",
       ".dataframe > tbody > tr {\n",
       "  text-align: right;\n",
       "  white-space: pre-wrap;\n",
       "}\n",
       "</style>\n",
       "<small>shape: (200_042, 29)</small><table border=\"1\" class=\"dataframe\"><thead><tr><th>UserID</th><th>MovieID</th><th>Rating</th><th>Timestamp</th><th>Title</th><th>Genres</th><th>Year</th><th>IsAdventure</th><th>IsAction</th><th>IsMystery</th><th>IsDrama</th><th>IsWar</th><th>IsDocumentary</th><th>IsAnimation</th><th>IsSci-Fi</th><th>IsChildren&#x27;s</th><th>IsWestern</th><th>IsFantasy</th><th>IsHorror</th><th>IsMusical</th><th>IsFilm-Noir</th><th>IsThriller</th><th>IsCrime</th><th>IsComedy</th><th>IsRomance</th><th>Gender</th><th>Age</th><th>Occupation</th><th>Zip-code</th></tr><tr><td>i32</td><td>i32</td><td>i32</td><td>i32</td><td>str</td><td>list[str]</td><td>i32</td><td>bool</td><td>bool</td><td>bool</td><td>bool</td><td>bool</td><td>bool</td><td>bool</td><td>bool</td><td>bool</td><td>bool</td><td>bool</td><td>bool</td><td>bool</td><td>bool</td><td>bool</td><td>bool</td><td>bool</td><td>bool</td><td>str</td><td>i32</td><td>str</td><td>str</td></tr></thead><tbody><tr><td>4795</td><td>3262</td><td>3</td><td>969726048</td><td>&quot;Twin Peaks: Fire Walk with Me&quot;</td><td>[&quot;Drama&quot;, &quot;Mystery&quot;]</td><td>1992</td><td>false</td><td>false</td><td>true</td><td>true</td><td>false</td><td>false</td><td>false</td><td>false</td><td>false</td><td>false</td><td>false</td><td>false</td><td>false</td><td>false</td><td>false</td><td>false</td><td>false</td><td>false</td><td>&quot;M&quot;</td><td>45</td><td>&quot;self-employed&quot;</td><td>&quot;10962&quot;</td></tr><tr><td>4795</td><td>2624</td><td>4</td><td>969659424</td><td>&quot;After Life&quot;</td><td>[&quot;Drama&quot;]</td><td>1998</td><td>false</td><td>false</td><td>false</td><td>true</td><td>false</td><td>false</td><td>false</td><td>false</td><td>false</td><td>false</td><td>false</td><td>false</td><td>false</td><td>false</td><td>false</td><td>false</td><td>false</td><td>false</td><td>&quot;M&quot;</td><td>45</td><td>&quot;self-employed&quot;</td><td>&quot;10962&quot;</td></tr><tr><td>4795</td><td>2628</td><td>3</td><td>969381578</td><td>&quot;Star Wars: Episode I - The Pha…</td><td>[&quot;Action&quot;, &quot;Adventure&quot;, … &quot;Sci-Fi&quot;]</td><td>1999</td><td>true</td><td>true</td><td>false</td><td>false</td><td>false</td><td>false</td><td>false</td><td>true</td><td>false</td><td>false</td><td>true</td><td>false</td><td>false</td><td>false</td><td>false</td><td>false</td><td>false</td><td>false</td><td>&quot;M&quot;</td><td>45</td><td>&quot;self-employed&quot;</td><td>&quot;10962&quot;</td></tr><tr><td>4795</td><td>3609</td><td>4</td><td>962985072</td><td>&quot;Regret to Inform&quot;</td><td>[&quot;Documentary&quot;]</td><td>1998</td><td>false</td><td>false</td><td>false</td><td>false</td><td>false</td><td>true</td><td>false</td><td>false</td><td>false</td><td>false</td><td>false</td><td>false</td><td>false</td><td>false</td><td>false</td><td>false</td><td>false</td><td>false</td><td>&quot;M&quot;</td><td>45</td><td>&quot;self-employed&quot;</td><td>&quot;10962&quot;</td></tr><tr><td>4795</td><td>3623</td><td>3</td><td>980095267</td><td>&quot;Mission: Impossible 2&quot;</td><td>[&quot;Action&quot;, &quot;Thriller&quot;]</td><td>2000</td><td>false</td><td>true</td><td>false</td><td>false</td><td>false</td><td>false</td><td>false</td><td>false</td><td>false</td><td>false</td><td>false</td><td>false</td><td>false</td><td>false</td><td>true</td><td>false</td><td>false</td><td>false</td><td>&quot;M&quot;</td><td>45</td><td>&quot;self-employed&quot;</td><td>&quot;10962&quot;</td></tr><tr><td>&hellip;</td><td>&hellip;</td><td>&hellip;</td><td>&hellip;</td><td>&hellip;</td><td>&hellip;</td><td>&hellip;</td><td>&hellip;</td><td>&hellip;</td><td>&hellip;</td><td>&hellip;</td><td>&hellip;</td><td>&hellip;</td><td>&hellip;</td><td>&hellip;</td><td>&hellip;</td><td>&hellip;</td><td>&hellip;</td><td>&hellip;</td><td>&hellip;</td><td>&hellip;</td><td>&hellip;</td><td>&hellip;</td><td>&hellip;</td><td>&hellip;</td><td>&hellip;</td><td>&hellip;</td><td>&hellip;</td><td>&hellip;</td></tr><tr><td>6040</td><td>1091</td><td>1</td><td>956716541</td><td>&quot;Weekend at Bernie&#x27;s&quot;</td><td>[&quot;Comedy&quot;]</td><td>1989</td><td>false</td><td>false</td><td>false</td><td>false</td><td>false</td><td>false</td><td>false</td><td>false</td><td>false</td><td>false</td><td>false</td><td>false</td><td>false</td><td>false</td><td>false</td><td>false</td><td>true</td><td>false</td><td>&quot;M&quot;</td><td>25</td><td>&quot;doctor/health care&quot;</td><td>&quot;11106&quot;</td></tr><tr><td>6040</td><td>1094</td><td>5</td><td>956704887</td><td>&quot;Crying Game&quot;</td><td>null</td><td>null</td><td>false</td><td>false</td><td>false</td><td>false</td><td>false</td><td>false</td><td>false</td><td>false</td><td>false</td><td>false</td><td>false</td><td>false</td><td>false</td><td>false</td><td>false</td><td>false</td><td>false</td><td>false</td><td>&quot;M&quot;</td><td>25</td><td>&quot;doctor/health care&quot;</td><td>&quot;11106&quot;</td></tr><tr><td>6040</td><td>562</td><td>5</td><td>956704746</td><td>&quot;Welcome to the Dollhouse&quot;</td><td>[&quot;Comedy&quot;, &quot;Drama&quot;]</td><td>1995</td><td>false</td><td>false</td><td>false</td><td>true</td><td>false</td><td>false</td><td>false</td><td>false</td><td>false</td><td>false</td><td>false</td><td>false</td><td>false</td><td>false</td><td>false</td><td>false</td><td>true</td><td>false</td><td>&quot;M&quot;</td><td>25</td><td>&quot;doctor/health care&quot;</td><td>&quot;11106&quot;</td></tr><tr><td>6040</td><td>1096</td><td>4</td><td>956715648</td><td>&quot;Sophie&#x27;s Choice&quot;</td><td>[&quot;Drama&quot;]</td><td>1982</td><td>false</td><td>false</td><td>false</td><td>true</td><td>false</td><td>false</td><td>false</td><td>false</td><td>false</td><td>false</td><td>false</td><td>false</td><td>false</td><td>false</td><td>false</td><td>false</td><td>false</td><td>false</td><td>&quot;M&quot;</td><td>25</td><td>&quot;doctor/health care&quot;</td><td>&quot;11106&quot;</td></tr><tr><td>6040</td><td>1097</td><td>4</td><td>956715569</td><td>&quot;E.T. the Extra-Terrestrial&quot;</td><td>[&quot;Children&#x27;s&quot;, &quot;Drama&quot;, … &quot;Sci-Fi&quot;]</td><td>1982</td><td>false</td><td>false</td><td>false</td><td>true</td><td>false</td><td>false</td><td>false</td><td>true</td><td>true</td><td>false</td><td>true</td><td>false</td><td>false</td><td>false</td><td>false</td><td>false</td><td>false</td><td>false</td><td>&quot;M&quot;</td><td>25</td><td>&quot;doctor/health care&quot;</td><td>&quot;11106&quot;</td></tr></tbody></table></div>"
      ],
      "text/plain": [
       "shape: (200_042, 29)\n",
       "┌────────┬─────────┬────────┬───────────┬───┬────────┬─────┬────────────────────┬──────────┐\n",
       "│ UserID ┆ MovieID ┆ Rating ┆ Timestamp ┆ … ┆ Gender ┆ Age ┆ Occupation         ┆ Zip-code │\n",
       "│ ---    ┆ ---     ┆ ---    ┆ ---       ┆   ┆ ---    ┆ --- ┆ ---                ┆ ---      │\n",
       "│ i32    ┆ i32     ┆ i32    ┆ i32       ┆   ┆ str    ┆ i32 ┆ str                ┆ str      │\n",
       "╞════════╪═════════╪════════╪═══════════╪═══╪════════╪═════╪════════════════════╪══════════╡\n",
       "│ 4795   ┆ 3262    ┆ 3      ┆ 969726048 ┆ … ┆ M      ┆ 45  ┆ self-employed      ┆ 10962    │\n",
       "│ 4795   ┆ 2624    ┆ 4      ┆ 969659424 ┆ … ┆ M      ┆ 45  ┆ self-employed      ┆ 10962    │\n",
       "│ 4795   ┆ 2628    ┆ 3      ┆ 969381578 ┆ … ┆ M      ┆ 45  ┆ self-employed      ┆ 10962    │\n",
       "│ 4795   ┆ 3609    ┆ 4      ┆ 962985072 ┆ … ┆ M      ┆ 45  ┆ self-employed      ┆ 10962    │\n",
       "│ 4795   ┆ 3623    ┆ 3      ┆ 980095267 ┆ … ┆ M      ┆ 45  ┆ self-employed      ┆ 10962    │\n",
       "│ …      ┆ …       ┆ …      ┆ …         ┆ … ┆ …      ┆ …   ┆ …                  ┆ …        │\n",
       "│ 6040   ┆ 1091    ┆ 1      ┆ 956716541 ┆ … ┆ M      ┆ 25  ┆ doctor/health care ┆ 11106    │\n",
       "│ 6040   ┆ 1094    ┆ 5      ┆ 956704887 ┆ … ┆ M      ┆ 25  ┆ doctor/health care ┆ 11106    │\n",
       "│ 6040   ┆ 562     ┆ 5      ┆ 956704746 ┆ … ┆ M      ┆ 25  ┆ doctor/health care ┆ 11106    │\n",
       "│ 6040   ┆ 1096    ┆ 4      ┆ 956715648 ┆ … ┆ M      ┆ 25  ┆ doctor/health care ┆ 11106    │\n",
       "│ 6040   ┆ 1097    ┆ 4      ┆ 956715569 ┆ … ┆ M      ┆ 25  ┆ doctor/health care ┆ 11106    │\n",
       "└────────┴─────────┴────────┴───────────┴───┴────────┴─────┴────────────────────┴──────────┘"
      ]
     },
     "execution_count": 17,
     "metadata": {},
     "output_type": "execute_result"
    }
   ],
   "source": [
    "ml_ratings_test_df.collect()"
   ]
  },
  {
   "cell_type": "markdown",
   "metadata": {},
   "source": [
    "# Baseline Popularity-Based Recommender"
   ]
  },
  {
   "cell_type": "code",
   "execution_count": 18,
   "metadata": {},
   "outputs": [
    {
     "data": {
      "text/html": [
       "<div><style>\n",
       ".dataframe > thead > tr,\n",
       ".dataframe > tbody > tr {\n",
       "  text-align: right;\n",
       "  white-space: pre-wrap;\n",
       "}\n",
       "</style>\n",
       "<small>shape: (5, 23)</small><table border=\"1\" class=\"dataframe\"><thead><tr><th>MovieID</th><th>score</th><th>Title</th><th>Genres</th><th>Year</th><th>IsAdventure</th><th>IsAction</th><th>IsMystery</th><th>IsDrama</th><th>IsWar</th><th>IsDocumentary</th><th>IsAnimation</th><th>IsSci-Fi</th><th>IsChildren&#x27;s</th><th>IsWestern</th><th>IsFantasy</th><th>IsHorror</th><th>IsMusical</th><th>IsFilm-Noir</th><th>IsThriller</th><th>IsCrime</th><th>IsComedy</th><th>IsRomance</th></tr><tr><td>i32</td><td>i32</td><td>str</td><td>list[str]</td><td>i32</td><td>bool</td><td>bool</td><td>bool</td><td>bool</td><td>bool</td><td>bool</td><td>bool</td><td>bool</td><td>bool</td><td>bool</td><td>bool</td><td>bool</td><td>bool</td><td>bool</td><td>bool</td><td>bool</td><td>bool</td><td>bool</td></tr></thead><tbody><tr><td>2858</td><td>12003</td><td>&quot;American Beauty&quot;</td><td>[&quot;Comedy&quot;, &quot;Drama&quot;]</td><td>1999</td><td>false</td><td>false</td><td>false</td><td>true</td><td>false</td><td>false</td><td>false</td><td>false</td><td>false</td><td>false</td><td>false</td><td>false</td><td>false</td><td>false</td><td>false</td><td>false</td><td>true</td><td>false</td></tr><tr><td>260</td><td>10464</td><td>&quot;Star Wars: Episode IV - A New …</td><td>[&quot;Action&quot;, &quot;Adventure&quot;, … &quot;Sci-Fi&quot;]</td><td>1977</td><td>true</td><td>true</td><td>false</td><td>false</td><td>false</td><td>false</td><td>false</td><td>true</td><td>false</td><td>false</td><td>true</td><td>false</td><td>false</td><td>false</td><td>false</td><td>false</td><td>false</td><td>false</td></tr><tr><td>1196</td><td>10026</td><td>&quot;Star Wars: Episode V - The Emp…</td><td>[&quot;Action&quot;, &quot;Adventure&quot;, … &quot;War&quot;]</td><td>1980</td><td>true</td><td>true</td><td>false</td><td>true</td><td>true</td><td>false</td><td>false</td><td>true</td><td>false</td><td>false</td><td>false</td><td>false</td><td>false</td><td>false</td><td>false</td><td>false</td><td>false</td><td>false</td></tr><tr><td>2028</td><td>9302</td><td>&quot;Saving Private Ryan&quot;</td><td>[&quot;Action&quot;, &quot;Drama&quot;, &quot;War&quot;]</td><td>1998</td><td>false</td><td>true</td><td>false</td><td>true</td><td>true</td><td>false</td><td>false</td><td>false</td><td>false</td><td>false</td><td>false</td><td>false</td><td>false</td><td>false</td><td>false</td><td>false</td><td>false</td><td>false</td></tr><tr><td>1210</td><td>9109</td><td>&quot;Star Wars: Episode VI - Return…</td><td>[&quot;Action&quot;, &quot;Adventure&quot;, … &quot;War&quot;]</td><td>1983</td><td>true</td><td>true</td><td>false</td><td>false</td><td>true</td><td>false</td><td>false</td><td>true</td><td>false</td><td>false</td><td>false</td><td>false</td><td>false</td><td>false</td><td>false</td><td>false</td><td>false</td><td>true</td></tr></tbody></table></div>"
      ],
      "text/plain": [
       "shape: (5, 23)\n",
       "┌─────────┬───────┬───────────────┬──────────────┬───┬────────────┬─────────┬──────────┬───────────┐\n",
       "│ MovieID ┆ score ┆ Title         ┆ Genres       ┆ … ┆ IsThriller ┆ IsCrime ┆ IsComedy ┆ IsRomance │\n",
       "│ ---     ┆ ---   ┆ ---           ┆ ---          ┆   ┆ ---        ┆ ---     ┆ ---      ┆ ---       │\n",
       "│ i32     ┆ i32   ┆ str           ┆ list[str]    ┆   ┆ bool       ┆ bool    ┆ bool     ┆ bool      │\n",
       "╞═════════╪═══════╪═══════════════╪══════════════╪═══╪════════════╪═════════╪══════════╪═══════════╡\n",
       "│ 2858    ┆ 12003 ┆ American      ┆ [\"Comedy\",   ┆ … ┆ false      ┆ false   ┆ true     ┆ false     │\n",
       "│         ┆       ┆ Beauty        ┆ \"Drama\"]     ┆   ┆            ┆         ┆          ┆           │\n",
       "│ 260     ┆ 10464 ┆ Star Wars:    ┆ [\"Action\",   ┆ … ┆ false      ┆ false   ┆ false    ┆ false     │\n",
       "│         ┆       ┆ Episode IV -  ┆ \"Adventure\", ┆   ┆            ┆         ┆          ┆           │\n",
       "│         ┆       ┆ A New …       ┆ … \"Sci…      ┆   ┆            ┆         ┆          ┆           │\n",
       "│ 1196    ┆ 10026 ┆ Star Wars:    ┆ [\"Action\",   ┆ … ┆ false      ┆ false   ┆ false    ┆ false     │\n",
       "│         ┆       ┆ Episode V -   ┆ \"Adventure\", ┆   ┆            ┆         ┆          ┆           │\n",
       "│         ┆       ┆ The Emp…      ┆ … \"War…      ┆   ┆            ┆         ┆          ┆           │\n",
       "│ 2028    ┆ 9302  ┆ Saving        ┆ [\"Action\",   ┆ … ┆ false      ┆ false   ┆ false    ┆ false     │\n",
       "│         ┆       ┆ Private Ryan  ┆ \"Drama\",     ┆   ┆            ┆         ┆          ┆           │\n",
       "│         ┆       ┆               ┆ \"War\"]       ┆   ┆            ┆         ┆          ┆           │\n",
       "│ 1210    ┆ 9109  ┆ Star Wars:    ┆ [\"Action\",   ┆ … ┆ false      ┆ false   ┆ false    ┆ true      │\n",
       "│         ┆       ┆ Episode VI -  ┆ \"Adventure\", ┆   ┆            ┆         ┆          ┆           │\n",
       "│         ┆       ┆ Return…       ┆ … \"War…      ┆   ┆            ┆         ┆          ┆           │\n",
       "└─────────┴───────┴───────────────┴──────────────┴───┴────────────┴─────────┴──────────┴───────────┘"
      ]
     },
     "execution_count": 18,
     "metadata": {},
     "output_type": "execute_result"
    }
   ],
   "source": [
    "def ml_simple_recommendation(n_recommendations=5):\n",
    "    \"\"\"\n",
    "    Recommends most popular movies. Thats it\n",
    "    \"\"\"\n",
    "    return ml_ratings_train_df.join(ml_movies_df, on=\"MovieID\") \\\n",
    "        .group_by(\"MovieID\") \\\n",
    "        .agg(\n",
    "            pl.sum(\"Rating\").alias(\"score\")\n",
    "        ).join(ml_movies_df, on=\"MovieID\") \\\n",
    "        .sort(\"score\", descending=True) \\\n",
    "        .head(n_recommendations)\n",
    "\n",
    "ml_simple_recommendation().collect()"
   ]
  },
  {
   "cell_type": "markdown",
   "metadata": {},
   "source": [
    "# Evaluation metrics"
   ]
  },
  {
   "cell_type": "markdown",
   "metadata": {},
   "source": [
    "## Precision@K"
   ]
  },
  {
   "cell_type": "code",
   "execution_count": 19,
   "metadata": {},
   "outputs": [],
   "source": [
    "ml_test_user_id = 6040\n",
    "ml_recommendation = ml_simple_recommendation(20)"
   ]
  },
  {
   "cell_type": "code",
   "execution_count": 20,
   "metadata": {},
   "outputs": [
    {
     "name": "stdout",
     "output_type": "stream",
     "text": [
      "Precision@5 : 1.0\n",
      "Precision@10: 0.9\n",
      "Precision@15: 0.8666666666666667\n"
     ]
    }
   ],
   "source": [
    "def ml_precision_at_k(k, rec_df, ml_ratings_test_df, user_id):\n",
    "    ml_user_ratings_test_df = ml_ratings_test_df.filter(pl.col(\"UserID\") == user_id)\n",
    "    topk = rec_df.head(k).with_columns([\n",
    "        pl.col(\"MovieID\").is_in(ml_user_ratings_test_df.select(\"MovieID\").collect()).alias(\"is_relevant\")\n",
    "    ])\n",
    "    top_k_len = topk.select(pl.len()).collect().item()\n",
    "    ml_precision_at_k = topk.select(pl.col(\"is_relevant\").sum()).collect().item() / top_k_len\n",
    "    return ml_precision_at_k\n",
    "\n",
    "print(f\"Precision@5 : {ml_precision_at_k(5, ml_recommendation, ml_ratings_test_df, ml_test_user_id)}\")\n",
    "print(f\"Precision@10: {ml_precision_at_k(10, ml_recommendation, ml_ratings_test_df,  ml_test_user_id)}\")\n",
    "print(f\"Precision@15: {ml_precision_at_k(15, ml_recommendation, ml_ratings_test_df, ml_test_user_id)}\")"
   ]
  },
  {
   "cell_type": "markdown",
   "metadata": {},
   "source": [
    "## Recall@K"
   ]
  },
  {
   "cell_type": "code",
   "execution_count": 21,
   "metadata": {},
   "outputs": [
    {
     "name": "stdout",
     "output_type": "stream",
     "text": [
      "Recall@5: 0.01466275659824047\n",
      "Recall@10: 0.026392961876832845\n",
      "Recall@15: 0.03812316715542522\n"
     ]
    }
   ],
   "source": [
    "def ml_recall_at_k(k, rec_df, ml_ratings_test_df, user_id):\n",
    "    ml_user_ratings_test_df = ml_ratings_test_df.filter(pl.col(\"UserID\") == user_id)\n",
    "    topk = rec_df.head(k).with_columns([\n",
    "        pl.col(\"MovieID\").is_in(ml_user_ratings_test_df.select(\"MovieID\").collect()).alias(\"is_relevant\")\n",
    "    ])\n",
    "    ml_user_ratings_test_df_len = ml_user_ratings_test_df.select(pl.len()).collect().item()\n",
    "    if ml_user_ratings_test_df_len == 0: # Not sure about this\n",
    "        return 0\n",
    "    recall_at_k = topk.select(pl.col(\"is_relevant\").sum()).collect().item() / ml_user_ratings_test_df_len\n",
    "    return recall_at_k\n",
    "\n",
    "print(f\"Recall@5: {ml_recall_at_k(5, ml_recommendation, ml_ratings_test_df, ml_test_user_id)}\")\n",
    "print(f\"Recall@10: {ml_recall_at_k(10, ml_recommendation, ml_ratings_test_df, ml_test_user_id)}\")\n",
    "print(f\"Recall@15: {ml_recall_at_k(15, ml_recommendation, ml_ratings_test_df, ml_test_user_id)}\")"
   ]
  },
  {
   "cell_type": "markdown",
   "metadata": {},
   "source": [
    "## F1@K"
   ]
  },
  {
   "cell_type": "code",
   "execution_count": 22,
   "metadata": {},
   "outputs": [
    {
     "name": "stdout",
     "output_type": "stream",
     "text": [
      "F1@5: 0.028901734104017758\n",
      "F1@10: 0.05128205128199593\n",
      "F1@15: 0.07303370786508782\n"
     ]
    }
   ],
   "source": [
    "def f1_at_k(k, rec_df, ml_ratings_test_df, user_id):\n",
    "    precision = ml_precision_at_k(k, rec_df, ml_ratings_test_df, user_id)\n",
    "    recall = ml_recall_at_k(k, rec_df, ml_ratings_test_df, user_id)\n",
    "    return 2 * (precision * recall) / (precision + recall + 1e-12)\n",
    "\n",
    "print(f\"F1@5: {f1_at_k(5,   ml_recommendation, ml_ratings_test_df, ml_test_user_id)}\")\n",
    "print(f\"F1@10: {f1_at_k(10, ml_recommendation, ml_ratings_test_df, ml_test_user_id)}\")\n",
    "print(f\"F1@15: {f1_at_k(15, ml_recommendation, ml_ratings_test_df, ml_test_user_id)}\")"
   ]
  },
  {
   "cell_type": "markdown",
   "metadata": {},
   "source": [
    "# Content Based Model"
   ]
  },
  {
   "cell_type": "code",
   "execution_count": 23,
   "metadata": {},
   "outputs": [],
   "source": [
    "ml_test_user_id = 5245"
   ]
  },
  {
   "cell_type": "code",
   "execution_count": 24,
   "metadata": {},
   "outputs": [
    {
     "data": {
      "text/html": [
       "<div><style>\n",
       ".dataframe > thead > tr,\n",
       ".dataframe > tbody > tr {\n",
       "  text-align: right;\n",
       "  white-space: pre-wrap;\n",
       "}\n",
       "</style>\n",
       "<small>shape: (1, 18)</small><table border=\"1\" class=\"dataframe\"><thead><tr><th>Adventure</th><th>Action</th><th>Mystery</th><th>Drama</th><th>War</th><th>Documentary</th><th>Animation</th><th>Sci-Fi</th><th>Children&#x27;s</th><th>Western</th><th>Fantasy</th><th>Horror</th><th>Musical</th><th>Film-Noir</th><th>Thriller</th><th>Crime</th><th>Comedy</th><th>Romance</th></tr><tr><td>u32</td><td>u32</td><td>u32</td><td>u32</td><td>u32</td><td>u32</td><td>u32</td><td>u32</td><td>u32</td><td>u32</td><td>u32</td><td>u32</td><td>u32</td><td>u32</td><td>u32</td><td>u32</td><td>u32</td><td>u32</td></tr></thead><tbody><tr><td>0</td><td>0</td><td>0</td><td>0</td><td>0</td><td>0</td><td>0</td><td>0</td><td>0</td><td>0</td><td>0</td><td>0</td><td>0</td><td>0</td><td>0</td><td>0</td><td>0</td><td>0</td></tr></tbody></table></div>"
      ],
      "text/plain": [
       "shape: (1, 18)\n",
       "┌───────────┬────────┬─────────┬───────┬───┬──────────┬───────┬────────┬─────────┐\n",
       "│ Adventure ┆ Action ┆ Mystery ┆ Drama ┆ … ┆ Thriller ┆ Crime ┆ Comedy ┆ Romance │\n",
       "│ ---       ┆ ---    ┆ ---     ┆ ---   ┆   ┆ ---      ┆ ---   ┆ ---    ┆ ---     │\n",
       "│ u32       ┆ u32    ┆ u32     ┆ u32   ┆   ┆ u32      ┆ u32   ┆ u32    ┆ u32     │\n",
       "╞═══════════╪════════╪═════════╪═══════╪═══╪══════════╪═══════╪════════╪═════════╡\n",
       "│ 0         ┆ 0      ┆ 0       ┆ 0     ┆ … ┆ 0        ┆ 0     ┆ 0      ┆ 0       │\n",
       "└───────────┴────────┴─────────┴───────┴───┴──────────┴───────┴────────┴─────────┘"
      ]
     },
     "execution_count": 24,
     "metadata": {},
     "output_type": "execute_result"
    }
   ],
   "source": [
    "def create_user_profile(user_id):\n",
    "    user_ratings = ml_ratings_train_df.filter(pl.col(\"UserID\") == user_id)\n",
    "    user_movies = user_ratings.join(ml_movies_df, on=\"MovieID\")\n",
    "    user_profile = user_movies.select([\n",
    "        pl.sum(\"Is\" + genre[0]).alias(genre[0])\n",
    "        for genre in ml_genres.rows() if genre[0] is not None\n",
    "    ])\n",
    "    return user_profile\n",
    "\n",
    "create_user_profile(ml_test_user_id).collect()"
   ]
  },
  {
   "cell_type": "code",
   "execution_count": 25,
   "metadata": {},
   "outputs": [],
   "source": [
    "def ml_content_based_recommendation(user_id, n_recommendations=5):\n",
    "    \"\"\"\n",
    "    Calculates scores as the cosine similarity between the user profile and the movie profiles. \n",
    "    NOTE: I haven't found a way to use polars' native functions to calculate cosine similarity, so this stuff is highty inefficient\n",
    "    \"\"\"\n",
    "    user_profile = create_user_profile(user_id)\n",
    "    movie_profiles = ml_movies_df.select([\n",
    "        pl.col(\"Is\" + genre[0]).cast(pl.UInt32) \n",
    "        for genre in ml_genres.rows() if genre[0] is not None\n",
    "    ])\n",
    "    u = user_profile.collect().to_numpy()[0]\n",
    "    ms = movie_profiles.collect().to_numpy()\n",
    "    s = ms.dot(u) / (np.linalg.norm(u) * np.linalg.norm(ms, axis=1)+1e-12)\n",
    "    scores = ml_movies_df.with_columns(pl.Series(name=\"score\", values=s)).sort(\"score\", descending=True)\n",
    "    return scores.head(n_recommendations)\n",
    "\n",
    "ml_recommendation = ml_content_based_recommendation(ml_test_user_id, 20)"
   ]
  },
  {
   "cell_type": "code",
   "execution_count": 26,
   "metadata": {},
   "outputs": [
    {
     "name": "stdout",
     "output_type": "stream",
     "text": [
      "Precision@5 : 0.4\n",
      "Precision@10: 0.2\n",
      "Precision@15: 0.13333333333333333\n"
     ]
    }
   ],
   "source": [
    "print(f\"Precision@5 : {ml_precision_at_k(5, ml_recommendation, ml_ratings_test_df, ml_test_user_id)}\")\n",
    "print(f\"Precision@10: {ml_precision_at_k(10, ml_recommendation, ml_ratings_test_df,  ml_test_user_id)}\")\n",
    "print(f\"Precision@15: {ml_precision_at_k(15, ml_recommendation, ml_ratings_test_df, ml_test_user_id)}\")"
   ]
  },
  {
   "cell_type": "code",
   "execution_count": 27,
   "metadata": {},
   "outputs": [
    {
     "name": "stdout",
     "output_type": "stream",
     "text": [
      "Recall@5: 0.06666666666666667\n",
      "Recall@10: 0.06666666666666667\n",
      "Recall@15: 0.06666666666666667\n"
     ]
    }
   ],
   "source": [
    "print(f\"Recall@5: {ml_recall_at_k(5, ml_recommendation, ml_ratings_test_df, ml_test_user_id)}\")\n",
    "print(f\"Recall@10: {ml_recall_at_k(10, ml_recommendation, ml_ratings_test_df, ml_test_user_id)}\")\n",
    "print(f\"Recall@15: {ml_recall_at_k(15, ml_recommendation, ml_ratings_test_df, ml_test_user_id)}\")"
   ]
  },
  {
   "cell_type": "code",
   "execution_count": 28,
   "metadata": {},
   "outputs": [
    {
     "name": "stdout",
     "output_type": "stream",
     "text": [
      "F1@5: 0.1142857142854694\n",
      "F1@10: 0.09999999999962501\n",
      "F1@15: 0.08888888888844444\n"
     ]
    }
   ],
   "source": [
    "print(f\"F1@5: {f1_at_k(5,   ml_recommendation, ml_ratings_test_df, ml_test_user_id)}\")\n",
    "print(f\"F1@10: {f1_at_k(10, ml_recommendation, ml_ratings_test_df, ml_test_user_id)}\")\n",
    "print(f\"F1@15: {f1_at_k(15, ml_recommendation, ml_ratings_test_df, ml_test_user_id)}\")"
   ]
  },
  {
   "cell_type": "markdown",
   "metadata": {},
   "source": [
    "# Item-Item Colaborative Filtering"
   ]
  },
  {
   "cell_type": "code",
   "execution_count": 29,
   "metadata": {},
   "outputs": [
    {
     "name": "stdout",
     "output_type": "stream",
     "text": [
      "(129, 18)\n",
      "(3883, 18)\n",
      "(3883, 129)\n"
     ]
    }
   ],
   "source": [
    "def ml_item_item_colaborative_filtering_recommendation(user_id, n_recommendations=5):\n",
    "    \"\"\"\n",
    "    \n",
    "    \"\"\"\n",
    "    user_movies = ml_ratings_train_df.filter(pl.col(\"UserID\") == user_id).join(ml_movies_df, on=\"MovieID\")\n",
    "    user_movies_representation = user_movies.select([\n",
    "        pl.col(\"Is\" + genre[0]).alias(genre[0])\n",
    "        for genre in ml_genres.rows() if genre[0] is not None\n",
    "    ]).collect().to_numpy()\n",
    "    all_movies_representation = ml_movies_df.select([\n",
    "        pl.col(\"Is\" + genre[0]).alias(genre[0])\n",
    "        for genre in ml_genres.rows() if genre[0] is not None\n",
    "    ]).collect().to_numpy()\n",
    "    s = all_movies_representation.dot(user_movies_representation.T)\n",
    "    print(user_movies_representation.shape)\n",
    "    print(all_movies_representation.shape)\n",
    "    print(s.shape)\n",
    "    # scores = ml_movies_df.with_columns(pl.Series(name=\"score\", values=s.flatten()))\n",
    "    # return scores.head(n_recommendations)\n",
    "\n",
    "ml_item_item_colaborative_filtering_recommendation(2, 20)"
   ]
  },
  {
   "cell_type": "code",
   "execution_count": 30,
   "metadata": {},
   "outputs": [
    {
     "name": "stdout",
     "output_type": "stream",
     "text": [
      "Precision@5 : 0.4\n",
      "Precision@10: 0.2\n",
      "Precision@15: 0.13333333333333333\n"
     ]
    }
   ],
   "source": [
    "print(f\"Precision@5 : {ml_precision_at_k(5, ml_recommendation, ml_ratings_test_df, ml_test_user_id)}\")\n",
    "print(f\"Precision@10: {ml_precision_at_k(10, ml_recommendation, ml_ratings_test_df,  ml_test_user_id)}\")\n",
    "print(f\"Precision@15: {ml_precision_at_k(15, ml_recommendation, ml_ratings_test_df, ml_test_user_id)}\")"
   ]
  },
  {
   "cell_type": "markdown",
   "metadata": {},
   "source": [
    "# User-User Colaborative Filtering"
   ]
  },
  {
   "cell_type": "code",
   "execution_count": 31,
   "metadata": {},
   "outputs": [
    {
     "name": "stdout",
     "output_type": "stream",
     "text": [
      "shape: (1, 5)\n",
      "┌────────┬────────┬─────┬───────────────┬──────────┐\n",
      "│ UserID ┆ Gender ┆ Age ┆ Occupation    ┆ Zip-code │\n",
      "│ ---    ┆ ---    ┆ --- ┆ ---           ┆ ---      │\n",
      "│ i32    ┆ str    ┆ i32 ┆ str           ┆ str      │\n",
      "╞════════╪════════╪═════╪═══════════════╪══════════╡\n",
      "│ 2      ┆ M      ┆ 56  ┆ self-employed ┆ 70072    │\n",
      "└────────┴────────┴─────┴───────────────┴──────────┘\n"
     ]
    }
   ],
   "source": [
    "def ml_user_user_colaborative_filtering_recommendation(user_id, n_recommendations=5):\n",
    "    # Get user\n",
    "    user = ml_users_df.filter(pl.col(\"UserID\") == user_id)\n",
    "    # Get similar users\n",
    "    print(user.collect())\n",
    "\n",
    "ml_user_user_colaborative_filtering_recommendation(2, 20)"
   ]
  }
 ],
 "metadata": {
  "kernelspec": {
   "display_name": "venv",
   "language": "python",
   "name": "python3"
  },
  "language_info": {
   "codemirror_mode": {
    "name": "ipython",
    "version": 3
   },
   "file_extension": ".py",
   "mimetype": "text/x-python",
   "name": "python",
   "nbconvert_exporter": "python",
   "pygments_lexer": "ipython3",
   "version": "3.11.9"
  }
 },
 "nbformat": 4,
 "nbformat_minor": 2
}
