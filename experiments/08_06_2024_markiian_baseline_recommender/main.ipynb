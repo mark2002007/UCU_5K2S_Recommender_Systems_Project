{
 "cells": [
  {
   "cell_type": "code",
   "execution_count": 1,
   "metadata": {},
   "outputs": [
    {
     "data": {
      "text/plain": [
       "DataTransformerRegistry.enable('default')"
      ]
     },
     "execution_count": 1,
     "metadata": {},
     "output_type": "execute_result"
    }
   ],
   "source": [
    "import os\n",
    "ROOT = os.path.join('..', '..')\n",
    "import sys\n",
    "sys.path.append(ROOT)\n",
    "#\n",
    "import numpy as np\n",
    "import polars as pl\n",
    "import altair as alt\n",
    "from tqdm import tqdm\n",
    "\n",
    "from scripts.data import (\n",
    "    ml_ratings_df, ml_movies_df, ml_users_df, ml_df, ml_genres,\n",
    "    bc_ratings_df, bc_books_df, bc_users_df, bc_df,\n",
    ")\n",
    "\n",
    "alt.data_transformers.disable_max_rows()"
   ]
  },
  {
   "cell_type": "markdown",
   "metadata": {},
   "source": [
    "# Train - Test Split"
   ]
  },
  {
   "cell_type": "code",
   "execution_count": 2,
   "metadata": {},
   "outputs": [],
   "source": [
    "ml_ratings_df = ml_ratings_df.sort(\"Timestamp\")\n",
    "ml_ratings_df_len = ml_df.select(pl.len()).collect().item()\n",
    "train_size = int(ml_ratings_df_len * 0.8)\n",
    "ml_ratings_train_df = ml_df.head(train_size)\n",
    "ml_ratings_test_df = ml_df.tail(ml_ratings_df_len - train_size)"
   ]
  },
  {
   "cell_type": "code",
   "execution_count": 3,
   "metadata": {},
   "outputs": [
    {
     "data": {
      "text/html": [
       "<div><style>\n",
       ".dataframe > thead > tr,\n",
       ".dataframe > tbody > tr {\n",
       "  text-align: right;\n",
       "  white-space: pre-wrap;\n",
       "}\n",
       "</style>\n",
       "<small>shape: (200_042, 29)</small><table border=\"1\" class=\"dataframe\"><thead><tr><th>UserID</th><th>MovieID</th><th>Rating</th><th>Timestamp</th><th>Title</th><th>Genres</th><th>Year</th><th>IsCrime</th><th>IsMystery</th><th>IsComedy</th><th>IsWestern</th><th>IsRomance</th><th>IsWar</th><th>IsAnimation</th><th>IsSci-Fi</th><th>IsFantasy</th><th>IsChildren&#x27;s</th><th>IsDocumentary</th><th>IsThriller</th><th>IsHorror</th><th>IsMusical</th><th>IsAction</th><th>IsDrama</th><th>IsAdventure</th><th>IsFilm-Noir</th><th>Gender</th><th>Age</th><th>Occupation</th><th>Zip-code</th></tr><tr><td>i32</td><td>i32</td><td>i32</td><td>i32</td><td>str</td><td>list[str]</td><td>i32</td><td>bool</td><td>bool</td><td>bool</td><td>bool</td><td>bool</td><td>bool</td><td>bool</td><td>bool</td><td>bool</td><td>bool</td><td>bool</td><td>bool</td><td>bool</td><td>bool</td><td>bool</td><td>bool</td><td>bool</td><td>bool</td><td>str</td><td>i32</td><td>str</td><td>str</td></tr></thead><tbody><tr><td>4795</td><td>3262</td><td>3</td><td>969726048</td><td>&quot;Twin Peaks: Fire Walk with Me&quot;</td><td>[&quot;Drama&quot;, &quot;Mystery&quot;]</td><td>1992</td><td>false</td><td>true</td><td>false</td><td>false</td><td>false</td><td>false</td><td>false</td><td>false</td><td>false</td><td>false</td><td>false</td><td>false</td><td>false</td><td>false</td><td>false</td><td>true</td><td>false</td><td>false</td><td>&quot;M&quot;</td><td>45</td><td>&quot;self-employed&quot;</td><td>&quot;10962&quot;</td></tr><tr><td>4795</td><td>2624</td><td>4</td><td>969659424</td><td>&quot;After Life&quot;</td><td>[&quot;Drama&quot;]</td><td>1998</td><td>false</td><td>false</td><td>false</td><td>false</td><td>false</td><td>false</td><td>false</td><td>false</td><td>false</td><td>false</td><td>false</td><td>false</td><td>false</td><td>false</td><td>false</td><td>true</td><td>false</td><td>false</td><td>&quot;M&quot;</td><td>45</td><td>&quot;self-employed&quot;</td><td>&quot;10962&quot;</td></tr><tr><td>4795</td><td>2628</td><td>3</td><td>969381578</td><td>&quot;Star Wars: Episode I - The Pha…</td><td>[&quot;Action&quot;, &quot;Adventure&quot;, … &quot;Sci-Fi&quot;]</td><td>1999</td><td>false</td><td>false</td><td>false</td><td>false</td><td>false</td><td>false</td><td>false</td><td>true</td><td>true</td><td>false</td><td>false</td><td>false</td><td>false</td><td>false</td><td>true</td><td>false</td><td>true</td><td>false</td><td>&quot;M&quot;</td><td>45</td><td>&quot;self-employed&quot;</td><td>&quot;10962&quot;</td></tr><tr><td>4795</td><td>3609</td><td>4</td><td>962985072</td><td>&quot;Regret to Inform&quot;</td><td>[&quot;Documentary&quot;]</td><td>1998</td><td>false</td><td>false</td><td>false</td><td>false</td><td>false</td><td>false</td><td>false</td><td>false</td><td>false</td><td>false</td><td>true</td><td>false</td><td>false</td><td>false</td><td>false</td><td>false</td><td>false</td><td>false</td><td>&quot;M&quot;</td><td>45</td><td>&quot;self-employed&quot;</td><td>&quot;10962&quot;</td></tr><tr><td>4795</td><td>3623</td><td>3</td><td>980095267</td><td>&quot;Mission: Impossible 2&quot;</td><td>[&quot;Action&quot;, &quot;Thriller&quot;]</td><td>2000</td><td>false</td><td>false</td><td>false</td><td>false</td><td>false</td><td>false</td><td>false</td><td>false</td><td>false</td><td>false</td><td>false</td><td>true</td><td>false</td><td>false</td><td>true</td><td>false</td><td>false</td><td>false</td><td>&quot;M&quot;</td><td>45</td><td>&quot;self-employed&quot;</td><td>&quot;10962&quot;</td></tr><tr><td>&hellip;</td><td>&hellip;</td><td>&hellip;</td><td>&hellip;</td><td>&hellip;</td><td>&hellip;</td><td>&hellip;</td><td>&hellip;</td><td>&hellip;</td><td>&hellip;</td><td>&hellip;</td><td>&hellip;</td><td>&hellip;</td><td>&hellip;</td><td>&hellip;</td><td>&hellip;</td><td>&hellip;</td><td>&hellip;</td><td>&hellip;</td><td>&hellip;</td><td>&hellip;</td><td>&hellip;</td><td>&hellip;</td><td>&hellip;</td><td>&hellip;</td><td>&hellip;</td><td>&hellip;</td><td>&hellip;</td><td>&hellip;</td></tr><tr><td>6040</td><td>1091</td><td>1</td><td>956716541</td><td>&quot;Weekend at Bernie&#x27;s&quot;</td><td>[&quot;Comedy&quot;]</td><td>1989</td><td>false</td><td>false</td><td>true</td><td>false</td><td>false</td><td>false</td><td>false</td><td>false</td><td>false</td><td>false</td><td>false</td><td>false</td><td>false</td><td>false</td><td>false</td><td>false</td><td>false</td><td>false</td><td>&quot;M&quot;</td><td>25</td><td>&quot;doctor/health care&quot;</td><td>&quot;11106&quot;</td></tr><tr><td>6040</td><td>1094</td><td>5</td><td>956704887</td><td>&quot;Crying Game&quot;</td><td>null</td><td>null</td><td>false</td><td>false</td><td>false</td><td>false</td><td>false</td><td>false</td><td>false</td><td>false</td><td>false</td><td>false</td><td>false</td><td>false</td><td>false</td><td>false</td><td>false</td><td>false</td><td>false</td><td>false</td><td>&quot;M&quot;</td><td>25</td><td>&quot;doctor/health care&quot;</td><td>&quot;11106&quot;</td></tr><tr><td>6040</td><td>562</td><td>5</td><td>956704746</td><td>&quot;Welcome to the Dollhouse&quot;</td><td>[&quot;Comedy&quot;, &quot;Drama&quot;]</td><td>1995</td><td>false</td><td>false</td><td>true</td><td>false</td><td>false</td><td>false</td><td>false</td><td>false</td><td>false</td><td>false</td><td>false</td><td>false</td><td>false</td><td>false</td><td>false</td><td>true</td><td>false</td><td>false</td><td>&quot;M&quot;</td><td>25</td><td>&quot;doctor/health care&quot;</td><td>&quot;11106&quot;</td></tr><tr><td>6040</td><td>1096</td><td>4</td><td>956715648</td><td>&quot;Sophie&#x27;s Choice&quot;</td><td>[&quot;Drama&quot;]</td><td>1982</td><td>false</td><td>false</td><td>false</td><td>false</td><td>false</td><td>false</td><td>false</td><td>false</td><td>false</td><td>false</td><td>false</td><td>false</td><td>false</td><td>false</td><td>false</td><td>true</td><td>false</td><td>false</td><td>&quot;M&quot;</td><td>25</td><td>&quot;doctor/health care&quot;</td><td>&quot;11106&quot;</td></tr><tr><td>6040</td><td>1097</td><td>4</td><td>956715569</td><td>&quot;E.T. the Extra-Terrestrial&quot;</td><td>[&quot;Children&#x27;s&quot;, &quot;Drama&quot;, … &quot;Sci-Fi&quot;]</td><td>1982</td><td>false</td><td>false</td><td>false</td><td>false</td><td>false</td><td>false</td><td>false</td><td>true</td><td>true</td><td>true</td><td>false</td><td>false</td><td>false</td><td>false</td><td>false</td><td>true</td><td>false</td><td>false</td><td>&quot;M&quot;</td><td>25</td><td>&quot;doctor/health care&quot;</td><td>&quot;11106&quot;</td></tr></tbody></table></div>"
      ],
      "text/plain": [
       "shape: (200_042, 29)\n",
       "┌────────┬─────────┬────────┬───────────┬───┬────────┬─────┬────────────────────┬──────────┐\n",
       "│ UserID ┆ MovieID ┆ Rating ┆ Timestamp ┆ … ┆ Gender ┆ Age ┆ Occupation         ┆ Zip-code │\n",
       "│ ---    ┆ ---     ┆ ---    ┆ ---       ┆   ┆ ---    ┆ --- ┆ ---                ┆ ---      │\n",
       "│ i32    ┆ i32     ┆ i32    ┆ i32       ┆   ┆ str    ┆ i32 ┆ str                ┆ str      │\n",
       "╞════════╪═════════╪════════╪═══════════╪═══╪════════╪═════╪════════════════════╪══════════╡\n",
       "│ 4795   ┆ 3262    ┆ 3      ┆ 969726048 ┆ … ┆ M      ┆ 45  ┆ self-employed      ┆ 10962    │\n",
       "│ 4795   ┆ 2624    ┆ 4      ┆ 969659424 ┆ … ┆ M      ┆ 45  ┆ self-employed      ┆ 10962    │\n",
       "│ 4795   ┆ 2628    ┆ 3      ┆ 969381578 ┆ … ┆ M      ┆ 45  ┆ self-employed      ┆ 10962    │\n",
       "│ 4795   ┆ 3609    ┆ 4      ┆ 962985072 ┆ … ┆ M      ┆ 45  ┆ self-employed      ┆ 10962    │\n",
       "│ 4795   ┆ 3623    ┆ 3      ┆ 980095267 ┆ … ┆ M      ┆ 45  ┆ self-employed      ┆ 10962    │\n",
       "│ …      ┆ …       ┆ …      ┆ …         ┆ … ┆ …      ┆ …   ┆ …                  ┆ …        │\n",
       "│ 6040   ┆ 1091    ┆ 1      ┆ 956716541 ┆ … ┆ M      ┆ 25  ┆ doctor/health care ┆ 11106    │\n",
       "│ 6040   ┆ 1094    ┆ 5      ┆ 956704887 ┆ … ┆ M      ┆ 25  ┆ doctor/health care ┆ 11106    │\n",
       "│ 6040   ┆ 562     ┆ 5      ┆ 956704746 ┆ … ┆ M      ┆ 25  ┆ doctor/health care ┆ 11106    │\n",
       "│ 6040   ┆ 1096    ┆ 4      ┆ 956715648 ┆ … ┆ M      ┆ 25  ┆ doctor/health care ┆ 11106    │\n",
       "│ 6040   ┆ 1097    ┆ 4      ┆ 956715569 ┆ … ┆ M      ┆ 25  ┆ doctor/health care ┆ 11106    │\n",
       "└────────┴─────────┴────────┴───────────┴───┴────────┴─────┴────────────────────┴──────────┘"
      ]
     },
     "execution_count": 3,
     "metadata": {},
     "output_type": "execute_result"
    }
   ],
   "source": [
    "ml_ratings_test_df.collect()"
   ]
  },
  {
   "cell_type": "markdown",
   "metadata": {},
   "source": [
    "# Baseline Popularity-Based Recommender"
   ]
  },
  {
   "cell_type": "code",
   "execution_count": 4,
   "metadata": {},
   "outputs": [
    {
     "data": {
      "text/html": [
       "<div><style>\n",
       ".dataframe > thead > tr,\n",
       ".dataframe > tbody > tr {\n",
       "  text-align: right;\n",
       "  white-space: pre-wrap;\n",
       "}\n",
       "</style>\n",
       "<small>shape: (5, 23)</small><table border=\"1\" class=\"dataframe\"><thead><tr><th>MovieID</th><th>score</th><th>Title</th><th>Genres</th><th>Year</th><th>IsCrime</th><th>IsMystery</th><th>IsComedy</th><th>IsWestern</th><th>IsRomance</th><th>IsWar</th><th>IsAnimation</th><th>IsSci-Fi</th><th>IsFantasy</th><th>IsChildren&#x27;s</th><th>IsDocumentary</th><th>IsThriller</th><th>IsHorror</th><th>IsMusical</th><th>IsAction</th><th>IsDrama</th><th>IsAdventure</th><th>IsFilm-Noir</th></tr><tr><td>i32</td><td>i32</td><td>str</td><td>list[str]</td><td>i32</td><td>bool</td><td>bool</td><td>bool</td><td>bool</td><td>bool</td><td>bool</td><td>bool</td><td>bool</td><td>bool</td><td>bool</td><td>bool</td><td>bool</td><td>bool</td><td>bool</td><td>bool</td><td>bool</td><td>bool</td><td>bool</td></tr></thead><tbody><tr><td>2858</td><td>12003</td><td>&quot;American Beauty&quot;</td><td>[&quot;Comedy&quot;, &quot;Drama&quot;]</td><td>1999</td><td>false</td><td>false</td><td>true</td><td>false</td><td>false</td><td>false</td><td>false</td><td>false</td><td>false</td><td>false</td><td>false</td><td>false</td><td>false</td><td>false</td><td>false</td><td>true</td><td>false</td><td>false</td></tr><tr><td>260</td><td>10464</td><td>&quot;Star Wars: Episode IV - A New …</td><td>[&quot;Action&quot;, &quot;Adventure&quot;, … &quot;Sci-Fi&quot;]</td><td>1977</td><td>false</td><td>false</td><td>false</td><td>false</td><td>false</td><td>false</td><td>false</td><td>true</td><td>true</td><td>false</td><td>false</td><td>false</td><td>false</td><td>false</td><td>true</td><td>false</td><td>true</td><td>false</td></tr><tr><td>1196</td><td>10026</td><td>&quot;Star Wars: Episode V - The Emp…</td><td>[&quot;Action&quot;, &quot;Adventure&quot;, … &quot;War&quot;]</td><td>1980</td><td>false</td><td>false</td><td>false</td><td>false</td><td>false</td><td>true</td><td>false</td><td>true</td><td>false</td><td>false</td><td>false</td><td>false</td><td>false</td><td>false</td><td>true</td><td>true</td><td>true</td><td>false</td></tr><tr><td>2028</td><td>9302</td><td>&quot;Saving Private Ryan&quot;</td><td>[&quot;Action&quot;, &quot;Drama&quot;, &quot;War&quot;]</td><td>1998</td><td>false</td><td>false</td><td>false</td><td>false</td><td>false</td><td>true</td><td>false</td><td>false</td><td>false</td><td>false</td><td>false</td><td>false</td><td>false</td><td>false</td><td>true</td><td>true</td><td>false</td><td>false</td></tr><tr><td>1210</td><td>9109</td><td>&quot;Star Wars: Episode VI - Return…</td><td>[&quot;Action&quot;, &quot;Adventure&quot;, … &quot;War&quot;]</td><td>1983</td><td>false</td><td>false</td><td>false</td><td>false</td><td>true</td><td>true</td><td>false</td><td>true</td><td>false</td><td>false</td><td>false</td><td>false</td><td>false</td><td>false</td><td>true</td><td>false</td><td>true</td><td>false</td></tr></tbody></table></div>"
      ],
      "text/plain": [
       "shape: (5, 23)\n",
       "┌─────────┬───────┬─────────────┬─────────────┬───┬──────────┬─────────┬─────────────┬─────────────┐\n",
       "│ MovieID ┆ score ┆ Title       ┆ Genres      ┆ … ┆ IsAction ┆ IsDrama ┆ IsAdventure ┆ IsFilm-Noir │\n",
       "│ ---     ┆ ---   ┆ ---         ┆ ---         ┆   ┆ ---      ┆ ---     ┆ ---         ┆ ---         │\n",
       "│ i32     ┆ i32   ┆ str         ┆ list[str]   ┆   ┆ bool     ┆ bool    ┆ bool        ┆ bool        │\n",
       "╞═════════╪═══════╪═════════════╪═════════════╪═══╪══════════╪═════════╪═════════════╪═════════════╡\n",
       "│ 2858    ┆ 12003 ┆ American    ┆ [\"Comedy\",  ┆ … ┆ false    ┆ true    ┆ false       ┆ false       │\n",
       "│         ┆       ┆ Beauty      ┆ \"Drama\"]    ┆   ┆          ┆         ┆             ┆             │\n",
       "│ 260     ┆ 10464 ┆ Star Wars:  ┆ [\"Action\",  ┆ … ┆ true     ┆ false   ┆ true        ┆ false       │\n",
       "│         ┆       ┆ Episode IV  ┆ \"Adventure\" ┆   ┆          ┆         ┆             ┆             │\n",
       "│         ┆       ┆ - A New …   ┆ , … \"Sci…   ┆   ┆          ┆         ┆             ┆             │\n",
       "│ 1196    ┆ 10026 ┆ Star Wars:  ┆ [\"Action\",  ┆ … ┆ true     ┆ true    ┆ true        ┆ false       │\n",
       "│         ┆       ┆ Episode V - ┆ \"Adventure\" ┆   ┆          ┆         ┆             ┆             │\n",
       "│         ┆       ┆ The Emp…    ┆ , … \"War…   ┆   ┆          ┆         ┆             ┆             │\n",
       "│ 2028    ┆ 9302  ┆ Saving      ┆ [\"Action\",  ┆ … ┆ true     ┆ true    ┆ false       ┆ false       │\n",
       "│         ┆       ┆ Private     ┆ \"Drama\",    ┆   ┆          ┆         ┆             ┆             │\n",
       "│         ┆       ┆ Ryan        ┆ \"War\"]      ┆   ┆          ┆         ┆             ┆             │\n",
       "│ 1210    ┆ 9109  ┆ Star Wars:  ┆ [\"Action\",  ┆ … ┆ true     ┆ false   ┆ true        ┆ false       │\n",
       "│         ┆       ┆ Episode VI  ┆ \"Adventure\" ┆   ┆          ┆         ┆             ┆             │\n",
       "│         ┆       ┆ - Return…   ┆ , … \"War…   ┆   ┆          ┆         ┆             ┆             │\n",
       "└─────────┴───────┴─────────────┴─────────────┴───┴──────────┴─────────┴─────────────┴─────────────┘"
      ]
     },
     "execution_count": 4,
     "metadata": {},
     "output_type": "execute_result"
    }
   ],
   "source": [
    "def ml_simple_recommendation(n_recommendations=5):\n",
    "    \"\"\"\n",
    "    Recommends most popular movies. Thats it\n",
    "    \"\"\"\n",
    "    return ml_ratings_train_df.join(ml_movies_df, on=\"MovieID\") \\\n",
    "        .group_by(\"MovieID\") \\\n",
    "        .agg(\n",
    "            pl.sum(\"Rating\").alias(\"score\")\n",
    "        ).join(ml_movies_df, on=\"MovieID\") \\\n",
    "        .sort(\"score\", descending=True) \\\n",
    "        .head(n_recommendations)\n",
    "\n",
    "ml_simple_recommendation().collect()"
   ]
  },
  {
   "cell_type": "markdown",
   "metadata": {},
   "source": [
    "# Evaluation metrics"
   ]
  },
  {
   "cell_type": "markdown",
   "metadata": {},
   "source": [
    "## Precision@K"
   ]
  },
  {
   "cell_type": "code",
   "execution_count": 5,
   "metadata": {},
   "outputs": [],
   "source": [
    "ml_test_user_id = 6040\n",
    "ml_recommendation = ml_simple_recommendation(1000)"
   ]
  },
  {
   "cell_type": "code",
   "execution_count": 6,
   "metadata": {},
   "outputs": [
    {
     "data": {
      "text/plain": [
       "341"
      ]
     },
     "execution_count": 6,
     "metadata": {},
     "output_type": "execute_result"
    }
   ],
   "source": [
    "ml_ratings_test_df.filter(pl.col(\"UserID\") == ml_test_user_id).select(pl.len()).collect().item()"
   ]
  },
  {
   "cell_type": "code",
   "execution_count": 7,
   "metadata": {},
   "outputs": [
    {
     "data": {
      "text/plain": [
       "3883"
      ]
     },
     "execution_count": 7,
     "metadata": {},
     "output_type": "execute_result"
    }
   ],
   "source": [
    "ml_movies_df.select(pl.len()).collect().item()  "
   ]
  },
  {
   "cell_type": "code",
   "execution_count": 8,
   "metadata": {},
   "outputs": [
    {
     "name": "stdout",
     "output_type": "stream",
     "text": [
      "Precision@5 : 1.0\n",
      "Precision@10: 0.9\n",
      "Precision@15: 0.8666666666666667\n"
     ]
    }
   ],
   "source": [
    "def ml_precision_at_k(k, rec_df, ml_ratings_test_df, user_id):\n",
    "    ml_user_ratings_test_df = ml_ratings_test_df.filter(pl.col(\"UserID\") == user_id)\n",
    "    topk = rec_df.head(k).with_columns([\n",
    "        pl.col(\"MovieID\").is_in(ml_user_ratings_test_df.select(\"MovieID\").collect()).alias(\"is_relevant\")\n",
    "    ])\n",
    "    top_k_len = topk.select(pl.len()).collect().item()\n",
    "    ml_precision_at_k = topk.select(pl.col(\"is_relevant\").sum()).collect().item() / top_k_len\n",
    "    return ml_precision_at_k\n",
    "\n",
    "print(f\"Precision@5 : {ml_precision_at_k(5, ml_recommendation, ml_ratings_test_df, ml_test_user_id)}\")\n",
    "print(f\"Precision@10: {ml_precision_at_k(10, ml_recommendation, ml_ratings_test_df,  ml_test_user_id)}\")\n",
    "print(f\"Precision@15: {ml_precision_at_k(15, ml_recommendation, ml_ratings_test_df, ml_test_user_id)}\")"
   ]
  },
  {
   "cell_type": "markdown",
   "metadata": {},
   "source": [
    "## Recall@K"
   ]
  },
  {
   "cell_type": "code",
   "execution_count": 9,
   "metadata": {},
   "outputs": [
    {
     "name": "stdout",
     "output_type": "stream",
     "text": [
      "Recall@5: 0.01466275659824047\n",
      "Recall@10: 0.026392961876832845\n",
      "Recall@15: 0.03812316715542522\n",
      "Recall@100: 0.18181818181818182\n"
     ]
    }
   ],
   "source": [
    "def ml_recall_at_k(k, rec_df, ml_ratings_test_df, user_id):\n",
    "    ml_user_ratings_test_df = ml_ratings_test_df.filter(pl.col(\"UserID\") == user_id)\n",
    "    topk = rec_df.head(k).with_columns([\n",
    "        pl.col(\"MovieID\").is_in(ml_user_ratings_test_df.select(\"MovieID\").collect()).alias(\"is_relevant\")\n",
    "    ])\n",
    "    ml_user_ratings_test_df_len = ml_user_ratings_test_df.select(pl.len()).collect().item()\n",
    "    if ml_user_ratings_test_df_len == 0: # Not sure about this\n",
    "        return 0\n",
    "    recall_at_k = topk.select(pl.col(\"is_relevant\").sum()).collect().item() / ml_user_ratings_test_df_len\n",
    "    return recall_at_k\n",
    "\n",
    "print(f\"Recall@5: {ml_recall_at_k(5, ml_recommendation, ml_ratings_test_df, ml_test_user_id)}\")\n",
    "print(f\"Recall@10: {ml_recall_at_k(10, ml_recommendation, ml_ratings_test_df, ml_test_user_id)}\")\n",
    "print(f\"Recall@15: {ml_recall_at_k(15, ml_recommendation, ml_ratings_test_df, ml_test_user_id)}\")\n",
    "print(f\"Recall@100: {ml_recall_at_k(100, ml_recommendation, ml_ratings_test_df, ml_test_user_id)}\")"
   ]
  },
  {
   "cell_type": "code",
   "execution_count": 10,
   "metadata": {},
   "outputs": [],
   "source": [
    "k_ = np.arange(1, 1001, 50)\n",
    "res_ = []\n",
    "for k in k_:\n",
    "    res_.append(ml_recall_at_k(k, ml_recommendation, ml_ratings_test_df, ml_test_user_id))"
   ]
  },
  {
   "cell_type": "code",
   "execution_count": 11,
   "metadata": {},
   "outputs": [
    {
     "data": {
      "text/html": [
       "\n",
       "<style>\n",
       "  #altair-viz-b5745385dc6b4429bb95843c6ce7e3d5.vega-embed {\n",
       "    width: 100%;\n",
       "    display: flex;\n",
       "  }\n",
       "\n",
       "  #altair-viz-b5745385dc6b4429bb95843c6ce7e3d5.vega-embed details,\n",
       "  #altair-viz-b5745385dc6b4429bb95843c6ce7e3d5.vega-embed details summary {\n",
       "    position: relative;\n",
       "  }\n",
       "</style>\n",
       "<div id=\"altair-viz-b5745385dc6b4429bb95843c6ce7e3d5\"></div>\n",
       "<script type=\"text/javascript\">\n",
       "  var VEGA_DEBUG = (typeof VEGA_DEBUG == \"undefined\") ? {} : VEGA_DEBUG;\n",
       "  (function(spec, embedOpt){\n",
       "    let outputDiv = document.currentScript.previousElementSibling;\n",
       "    if (outputDiv.id !== \"altair-viz-b5745385dc6b4429bb95843c6ce7e3d5\") {\n",
       "      outputDiv = document.getElementById(\"altair-viz-b5745385dc6b4429bb95843c6ce7e3d5\");\n",
       "    }\n",
       "    const paths = {\n",
       "      \"vega\": \"https://cdn.jsdelivr.net/npm/vega@5?noext\",\n",
       "      \"vega-lib\": \"https://cdn.jsdelivr.net/npm/vega-lib?noext\",\n",
       "      \"vega-lite\": \"https://cdn.jsdelivr.net/npm/vega-lite@5.17.0?noext\",\n",
       "      \"vega-embed\": \"https://cdn.jsdelivr.net/npm/vega-embed@6?noext\",\n",
       "    };\n",
       "\n",
       "    function maybeLoadScript(lib, version) {\n",
       "      var key = `${lib.replace(\"-\", \"\")}_version`;\n",
       "      return (VEGA_DEBUG[key] == version) ?\n",
       "        Promise.resolve(paths[lib]) :\n",
       "        new Promise(function(resolve, reject) {\n",
       "          var s = document.createElement('script');\n",
       "          document.getElementsByTagName(\"head\")[0].appendChild(s);\n",
       "          s.async = true;\n",
       "          s.onload = () => {\n",
       "            VEGA_DEBUG[key] = version;\n",
       "            return resolve(paths[lib]);\n",
       "          };\n",
       "          s.onerror = () => reject(`Error loading script: ${paths[lib]}`);\n",
       "          s.src = paths[lib];\n",
       "        });\n",
       "    }\n",
       "\n",
       "    function showError(err) {\n",
       "      outputDiv.innerHTML = `<div class=\"error\" style=\"color:red;\">${err}</div>`;\n",
       "      throw err;\n",
       "    }\n",
       "\n",
       "    function displayChart(vegaEmbed) {\n",
       "      vegaEmbed(outputDiv, spec, embedOpt)\n",
       "        .catch(err => showError(`Javascript Error: ${err.message}<br>This usually means there's a typo in your chart specification. See the javascript console for the full traceback.`));\n",
       "    }\n",
       "\n",
       "    if(typeof define === \"function\" && define.amd) {\n",
       "      requirejs.config({paths});\n",
       "      require([\"vega-embed\"], displayChart, err => showError(`Error loading script: ${err.message}`));\n",
       "    } else {\n",
       "      maybeLoadScript(\"vega\", \"5\")\n",
       "        .then(() => maybeLoadScript(\"vega-lite\", \"5.17.0\"))\n",
       "        .then(() => maybeLoadScript(\"vega-embed\", \"6\"))\n",
       "        .catch(showError)\n",
       "        .then(() => displayChart(vegaEmbed));\n",
       "    }\n",
       "  })({\"config\": {\"view\": {\"continuousWidth\": 300, \"continuousHeight\": 300}}, \"data\": {\"name\": \"data-2e2af0c4f5735aae1ca5200332da2118\"}, \"mark\": {\"type\": \"line\"}, \"encoding\": {\"x\": {\"field\": \"k\", \"type\": \"quantitative\"}, \"y\": {\"field\": \"recall\", \"type\": \"quantitative\"}}, \"$schema\": \"https://vega.github.io/schema/vega-lite/v5.17.0.json\", \"datasets\": {\"data-2e2af0c4f5735aae1ca5200332da2118\": [{\"k\": 1, \"recall\": 0.002932551319648094}, {\"k\": 51, \"recall\": 0.11730205278592376}, {\"k\": 101, \"recall\": 0.18475073313782991}, {\"k\": 151, \"recall\": 0.2668621700879765}, {\"k\": 201, \"recall\": 0.2991202346041056}, {\"k\": 251, \"recall\": 0.3343108504398827}, {\"k\": 301, \"recall\": 0.375366568914956}, {\"k\": 351, \"recall\": 0.41935483870967744}, {\"k\": 401, \"recall\": 0.46920821114369504}, {\"k\": 451, \"recall\": 0.49853372434017595}, {\"k\": 501, \"recall\": 0.5073313782991202}, {\"k\": 551, \"recall\": 0.5366568914956011}, {\"k\": 601, \"recall\": 0.5777126099706745}, {\"k\": 651, \"recall\": 0.6041055718475073}, {\"k\": 701, \"recall\": 0.6392961876832844}, {\"k\": 751, \"recall\": 0.6539589442815249}, {\"k\": 801, \"recall\": 0.6686217008797654}, {\"k\": 851, \"recall\": 0.6862170087976539}, {\"k\": 901, \"recall\": 0.7038123167155426}, {\"k\": 951, \"recall\": 0.718475073313783}]}}, {\"mode\": \"vega-lite\"});\n",
       "</script>"
      ],
      "text/plain": [
       "alt.Chart(...)"
      ]
     },
     "execution_count": 11,
     "metadata": {},
     "output_type": "execute_result"
    }
   ],
   "source": [
    "alt.Chart(pl.DataFrame({\n",
    "    \"k\": k_,\n",
    "    \"recall\": res_\n",
    "})).mark_line().encode(\n",
    "    x=\"k:Q\",\n",
    "    y=\"recall:Q\"\n",
    ")"
   ]
  },
  {
   "cell_type": "markdown",
   "metadata": {},
   "source": [
    "## F1@K"
   ]
  },
  {
   "cell_type": "code",
   "execution_count": 12,
   "metadata": {},
   "outputs": [
    {
     "name": "stdout",
     "output_type": "stream",
     "text": [
      "F1@5: 0.028901734104017758\n",
      "F1@10: 0.05128205128199593\n",
      "F1@15: 0.07303370786508782\n",
      "F1@100: 0.2811791383216448\n"
     ]
    }
   ],
   "source": [
    "def f1_at_k(k, rec_df, ml_ratings_test_df, user_id):\n",
    "    precision = ml_precision_at_k(k, rec_df, ml_ratings_test_df, user_id)\n",
    "    recall = ml_recall_at_k(k, rec_df, ml_ratings_test_df, user_id)\n",
    "    return 2 * (precision * recall) / (precision + recall + 1e-12)\n",
    "\n",
    "print(f\"F1@5: {f1_at_k(5,   ml_recommendation, ml_ratings_test_df, ml_test_user_id)}\")\n",
    "print(f\"F1@10: {f1_at_k(10, ml_recommendation, ml_ratings_test_df, ml_test_user_id)}\")\n",
    "print(f\"F1@15: {f1_at_k(15, ml_recommendation, ml_ratings_test_df, ml_test_user_id)}\")\n",
    "print(f\"F1@100: {f1_at_k(100, ml_recommendation, ml_ratings_test_df, ml_test_user_id)}\")"
   ]
  },
  {
   "cell_type": "markdown",
   "metadata": {},
   "source": [
    "# Content Based Model"
   ]
  },
  {
   "cell_type": "code",
   "execution_count": 13,
   "metadata": {},
   "outputs": [],
   "source": [
    "ml_test_user_id = 5245"
   ]
  },
  {
   "cell_type": "code",
   "execution_count": 14,
   "metadata": {},
   "outputs": [
    {
     "data": {
      "text/html": [
       "<div><style>\n",
       ".dataframe > thead > tr,\n",
       ".dataframe > tbody > tr {\n",
       "  text-align: right;\n",
       "  white-space: pre-wrap;\n",
       "}\n",
       "</style>\n",
       "<small>shape: (1, 18)</small><table border=\"1\" class=\"dataframe\"><thead><tr><th>Crime</th><th>Mystery</th><th>Comedy</th><th>Western</th><th>Romance</th><th>War</th><th>Animation</th><th>Sci-Fi</th><th>Fantasy</th><th>Children&#x27;s</th><th>Documentary</th><th>Thriller</th><th>Horror</th><th>Musical</th><th>Action</th><th>Drama</th><th>Adventure</th><th>Film-Noir</th></tr><tr><td>u32</td><td>u32</td><td>u32</td><td>u32</td><td>u32</td><td>u32</td><td>u32</td><td>u32</td><td>u32</td><td>u32</td><td>u32</td><td>u32</td><td>u32</td><td>u32</td><td>u32</td><td>u32</td><td>u32</td><td>u32</td></tr></thead><tbody><tr><td>0</td><td>0</td><td>0</td><td>0</td><td>0</td><td>0</td><td>0</td><td>0</td><td>0</td><td>0</td><td>0</td><td>0</td><td>0</td><td>0</td><td>0</td><td>0</td><td>0</td><td>0</td></tr></tbody></table></div>"
      ],
      "text/plain": [
       "shape: (1, 18)\n",
       "┌───────┬─────────┬────────┬─────────┬───┬────────┬───────┬───────────┬───────────┐\n",
       "│ Crime ┆ Mystery ┆ Comedy ┆ Western ┆ … ┆ Action ┆ Drama ┆ Adventure ┆ Film-Noir │\n",
       "│ ---   ┆ ---     ┆ ---    ┆ ---     ┆   ┆ ---    ┆ ---   ┆ ---       ┆ ---       │\n",
       "│ u32   ┆ u32     ┆ u32    ┆ u32     ┆   ┆ u32    ┆ u32   ┆ u32       ┆ u32       │\n",
       "╞═══════╪═════════╪════════╪═════════╪═══╪════════╪═══════╪═══════════╪═══════════╡\n",
       "│ 0     ┆ 0       ┆ 0      ┆ 0       ┆ … ┆ 0      ┆ 0     ┆ 0         ┆ 0         │\n",
       "└───────┴─────────┴────────┴─────────┴───┴────────┴───────┴───────────┴───────────┘"
      ]
     },
     "execution_count": 14,
     "metadata": {},
     "output_type": "execute_result"
    }
   ],
   "source": [
    "def create_user_profile(user_id):\n",
    "    user_ratings = ml_ratings_train_df.filter(pl.col(\"UserID\") == user_id)\n",
    "    user_movies = user_ratings.join(ml_movies_df, on=\"MovieID\")\n",
    "    user_profile = user_movies.select([\n",
    "        pl.sum(\"Is\" + genre[0]).alias(genre[0])\n",
    "        for genre in ml_genres.rows() if genre[0] is not None\n",
    "    ])\n",
    "    return user_profile\n",
    "\n",
    "create_user_profile(ml_test_user_id).collect()"
   ]
  },
  {
   "cell_type": "code",
   "execution_count": 15,
   "metadata": {},
   "outputs": [],
   "source": [
    "def ml_content_based_recommendation(user_id, n_recommendations=5):\n",
    "    \"\"\"\n",
    "    Calculates scores as the cosine similarity between the user profile and the movie profiles. \n",
    "    NOTE: I haven't found a way to use polars' native functions to calculate cosine similarity, so this stuff is highty inefficient\n",
    "    \"\"\"\n",
    "    user_profile = create_user_profile(user_id)\n",
    "    movie_profiles = ml_movies_df.select([\n",
    "        pl.col(\"Is\" + genre[0]).cast(pl.UInt32) \n",
    "        for genre in ml_genres.rows() if genre[0] is not None\n",
    "    ])\n",
    "    u = user_profile.collect().to_numpy()[0]\n",
    "    ms = movie_profiles.collect().to_numpy()\n",
    "    s = ms.dot(u) / (np.linalg.norm(u) * np.linalg.norm(ms, axis=1)+1e-12)\n",
    "    scores = ml_movies_df.with_columns(pl.Series(name=\"score\", values=s)).sort(\"score\", descending=True)\n",
    "    return scores.head(n_recommendations)\n",
    "\n",
    "ml_recommendation = ml_content_based_recommendation(ml_test_user_id, 20)"
   ]
  },
  {
   "cell_type": "code",
   "execution_count": 16,
   "metadata": {},
   "outputs": [
    {
     "name": "stdout",
     "output_type": "stream",
     "text": [
      "Precision@5 : 0.4\n",
      "Precision@10: 0.2\n",
      "Precision@15: 0.13333333333333333\n"
     ]
    }
   ],
   "source": [
    "print(f\"Precision@5 : {ml_precision_at_k(5, ml_recommendation, ml_ratings_test_df, ml_test_user_id)}\")\n",
    "print(f\"Precision@10: {ml_precision_at_k(10, ml_recommendation, ml_ratings_test_df,  ml_test_user_id)}\")\n",
    "print(f\"Precision@15: {ml_precision_at_k(15, ml_recommendation, ml_ratings_test_df, ml_test_user_id)}\")"
   ]
  },
  {
   "cell_type": "code",
   "execution_count": 17,
   "metadata": {},
   "outputs": [
    {
     "name": "stdout",
     "output_type": "stream",
     "text": [
      "Recall@5: 0.06666666666666667\n",
      "Recall@10: 0.06666666666666667\n",
      "Recall@15: 0.06666666666666667\n"
     ]
    }
   ],
   "source": [
    "print(f\"Recall@5: {ml_recall_at_k(5, ml_recommendation, ml_ratings_test_df, ml_test_user_id)}\")\n",
    "print(f\"Recall@10: {ml_recall_at_k(10, ml_recommendation, ml_ratings_test_df, ml_test_user_id)}\")\n",
    "print(f\"Recall@15: {ml_recall_at_k(15, ml_recommendation, ml_ratings_test_df, ml_test_user_id)}\")"
   ]
  },
  {
   "cell_type": "code",
   "execution_count": 18,
   "metadata": {},
   "outputs": [
    {
     "name": "stdout",
     "output_type": "stream",
     "text": [
      "F1@5: 0.1142857142854694\n",
      "F1@10: 0.09999999999962501\n",
      "F1@15: 0.08888888888844444\n"
     ]
    }
   ],
   "source": [
    "print(f\"F1@5: {f1_at_k(5,   ml_recommendation, ml_ratings_test_df, ml_test_user_id)}\")\n",
    "print(f\"F1@10: {f1_at_k(10, ml_recommendation, ml_ratings_test_df, ml_test_user_id)}\")\n",
    "print(f\"F1@15: {f1_at_k(15, ml_recommendation, ml_ratings_test_df, ml_test_user_id)}\")"
   ]
  },
  {
   "cell_type": "markdown",
   "metadata": {},
   "source": [
    "# Item-Item Colaborative Filtering"
   ]
  },
  {
   "cell_type": "code",
   "execution_count": 19,
   "metadata": {},
   "outputs": [
    {
     "name": "stdout",
     "output_type": "stream",
     "text": [
      "(129, 18)\n",
      "(3883, 18)\n",
      "(3883, 129)\n"
     ]
    }
   ],
   "source": [
    "def ml_item_item_colaborative_filtering_recommendation(user_id, n_recommendations=5):\n",
    "    \"\"\"\n",
    "    \n",
    "    \"\"\"\n",
    "    user_movies = ml_ratings_train_df.filter(pl.col(\"UserID\") == user_id).join(ml_movies_df, on=\"MovieID\")\n",
    "    user_movies_representation = user_movies.select([\n",
    "        pl.col(\"Is\" + genre[0]).alias(genre[0])\n",
    "        for genre in ml_genres.rows() if genre[0] is not None\n",
    "    ]).collect().to_numpy()\n",
    "    all_movies_representation = ml_movies_df.select([\n",
    "        pl.col(\"Is\" + genre[0]).alias(genre[0])\n",
    "        for genre in ml_genres.rows() if genre[0] is not None\n",
    "    ]).collect().to_numpy()\n",
    "    s = all_movies_representation.dot(user_movies_representation.T)\n",
    "    print(user_movies_representation.shape)\n",
    "    print(all_movies_representation.shape)\n",
    "    print(s.shape)\n",
    "    # scores = ml_movies_df.with_columns(pl.Series(name=\"score\", values=s.flatten()))\n",
    "    # return scores.head(n_recommendations)\n",
    "\n",
    "ml_item_item_colaborative_filtering_recommendation(2, 20)"
   ]
  },
  {
   "cell_type": "code",
   "execution_count": 20,
   "metadata": {},
   "outputs": [
    {
     "name": "stdout",
     "output_type": "stream",
     "text": [
      "Precision@5 : 0.4\n",
      "Precision@10: 0.2\n",
      "Precision@15: 0.13333333333333333\n"
     ]
    }
   ],
   "source": [
    "print(f\"Precision@5 : {ml_precision_at_k(5, ml_recommendation, ml_ratings_test_df, ml_test_user_id)}\")\n",
    "print(f\"Precision@10: {ml_precision_at_k(10, ml_recommendation, ml_ratings_test_df,  ml_test_user_id)}\")\n",
    "print(f\"Precision@15: {ml_precision_at_k(15, ml_recommendation, ml_ratings_test_df, ml_test_user_id)}\")"
   ]
  },
  {
   "cell_type": "markdown",
   "metadata": {},
   "source": [
    "# User-User Colaborative Filtering"
   ]
  },
  {
   "cell_type": "code",
   "execution_count": 21,
   "metadata": {},
   "outputs": [
    {
     "name": "stdout",
     "output_type": "stream",
     "text": [
      "shape: (1, 5)\n",
      "┌────────┬────────┬─────┬───────────────┬──────────┐\n",
      "│ UserID ┆ Gender ┆ Age ┆ Occupation    ┆ Zip-code │\n",
      "│ ---    ┆ ---    ┆ --- ┆ ---           ┆ ---      │\n",
      "│ i32    ┆ str    ┆ i32 ┆ str           ┆ str      │\n",
      "╞════════╪════════╪═════╪═══════════════╪══════════╡\n",
      "│ 2      ┆ M      ┆ 56  ┆ self-employed ┆ 70072    │\n",
      "└────────┴────────┴─────┴───────────────┴──────────┘\n"
     ]
    }
   ],
   "source": [
    "def ml_user_user_colaborative_filtering_recommendation(user_id, n_recommendations=5):\n",
    "    # Get user\n",
    "    user = ml_users_df.filter(pl.col(\"UserID\") == user_id)\n",
    "    # Get similar users\n",
    "    print(user.collect())\n",
    "\n",
    "ml_user_user_colaborative_filtering_recommendation(2, 20)"
   ]
  },
  {
   "cell_type": "code",
   "execution_count": 22,
   "metadata": {},
   "outputs": [
    {
     "data": {
      "text/html": [
       "<div><style>\n",
       ".dataframe > thead > tr,\n",
       ".dataframe > tbody > tr {\n",
       "  text-align: right;\n",
       "  white-space: pre-wrap;\n",
       "}\n",
       "</style>\n",
       "<small>shape: (6_040, 5)</small><table border=\"1\" class=\"dataframe\"><thead><tr><th>UserID</th><th>Gender</th><th>Age</th><th>Occupation</th><th>Zip-code</th></tr><tr><td>i32</td><td>str</td><td>i32</td><td>str</td><td>str</td></tr></thead><tbody><tr><td>1</td><td>&quot;F&quot;</td><td>1</td><td>&quot;K-12 student&quot;</td><td>&quot;48067&quot;</td></tr><tr><td>2</td><td>&quot;M&quot;</td><td>56</td><td>&quot;self-employed&quot;</td><td>&quot;70072&quot;</td></tr><tr><td>3</td><td>&quot;M&quot;</td><td>25</td><td>&quot;scientist&quot;</td><td>&quot;55117&quot;</td></tr><tr><td>4</td><td>&quot;M&quot;</td><td>45</td><td>&quot;executive/managerial&quot;</td><td>&quot;02460&quot;</td></tr><tr><td>5</td><td>&quot;M&quot;</td><td>25</td><td>&quot;writer&quot;</td><td>&quot;55455&quot;</td></tr><tr><td>&hellip;</td><td>&hellip;</td><td>&hellip;</td><td>&hellip;</td><td>&hellip;</td></tr><tr><td>6036</td><td>&quot;F&quot;</td><td>25</td><td>&quot;scientist&quot;</td><td>&quot;32603&quot;</td></tr><tr><td>6037</td><td>&quot;F&quot;</td><td>45</td><td>&quot;academic/educator&quot;</td><td>&quot;76006&quot;</td></tr><tr><td>6038</td><td>&quot;F&quot;</td><td>56</td><td>&quot;academic/educator&quot;</td><td>&quot;14706&quot;</td></tr><tr><td>6039</td><td>&quot;F&quot;</td><td>45</td><td>&quot;other&quot;</td><td>&quot;01060&quot;</td></tr><tr><td>6040</td><td>&quot;M&quot;</td><td>25</td><td>&quot;doctor/health care&quot;</td><td>&quot;11106&quot;</td></tr></tbody></table></div>"
      ],
      "text/plain": [
       "shape: (6_040, 5)\n",
       "┌────────┬────────┬─────┬──────────────────────┬──────────┐\n",
       "│ UserID ┆ Gender ┆ Age ┆ Occupation           ┆ Zip-code │\n",
       "│ ---    ┆ ---    ┆ --- ┆ ---                  ┆ ---      │\n",
       "│ i32    ┆ str    ┆ i32 ┆ str                  ┆ str      │\n",
       "╞════════╪════════╪═════╪══════════════════════╪══════════╡\n",
       "│ 1      ┆ F      ┆ 1   ┆ K-12 student         ┆ 48067    │\n",
       "│ 2      ┆ M      ┆ 56  ┆ self-employed        ┆ 70072    │\n",
       "│ 3      ┆ M      ┆ 25  ┆ scientist            ┆ 55117    │\n",
       "│ 4      ┆ M      ┆ 45  ┆ executive/managerial ┆ 02460    │\n",
       "│ 5      ┆ M      ┆ 25  ┆ writer               ┆ 55455    │\n",
       "│ …      ┆ …      ┆ …   ┆ …                    ┆ …        │\n",
       "│ 6036   ┆ F      ┆ 25  ┆ scientist            ┆ 32603    │\n",
       "│ 6037   ┆ F      ┆ 45  ┆ academic/educator    ┆ 76006    │\n",
       "│ 6038   ┆ F      ┆ 56  ┆ academic/educator    ┆ 14706    │\n",
       "│ 6039   ┆ F      ┆ 45  ┆ other                ┆ 01060    │\n",
       "│ 6040   ┆ M      ┆ 25  ┆ doctor/health care   ┆ 11106    │\n",
       "└────────┴────────┴─────┴──────────────────────┴──────────┘"
      ]
     },
     "execution_count": 22,
     "metadata": {},
     "output_type": "execute_result"
    }
   ],
   "source": [
    "ml_users_df.collect()"
   ]
  },
  {
   "cell_type": "code",
   "execution_count": 23,
   "metadata": {},
   "outputs": [
    {
     "data": {
      "text/html": [
       "<div><style>\n",
       ".dataframe > thead > tr,\n",
       ".dataframe > tbody > tr {\n",
       "  text-align: right;\n",
       "  white-space: pre-wrap;\n",
       "}\n",
       "</style>\n",
       "<small>shape: (6_040, 5)</small><table border=\"1\" class=\"dataframe\"><thead><tr><th>UserID</th><th>Gender</th><th>Age</th><th>Occupation</th><th>Zip-code</th></tr><tr><td>i32</td><td>str</td><td>i32</td><td>str</td><td>str</td></tr></thead><tbody><tr><td>1</td><td>&quot;F&quot;</td><td>1</td><td>&quot;K-12 student&quot;</td><td>&quot;48067&quot;</td></tr><tr><td>2</td><td>&quot;M&quot;</td><td>56</td><td>&quot;self-employed&quot;</td><td>&quot;70072&quot;</td></tr><tr><td>3</td><td>&quot;M&quot;</td><td>25</td><td>&quot;scientist&quot;</td><td>&quot;55117&quot;</td></tr><tr><td>4</td><td>&quot;M&quot;</td><td>45</td><td>&quot;executive/managerial&quot;</td><td>&quot;02460&quot;</td></tr><tr><td>5</td><td>&quot;M&quot;</td><td>25</td><td>&quot;writer&quot;</td><td>&quot;55455&quot;</td></tr><tr><td>&hellip;</td><td>&hellip;</td><td>&hellip;</td><td>&hellip;</td><td>&hellip;</td></tr><tr><td>6036</td><td>&quot;F&quot;</td><td>25</td><td>&quot;scientist&quot;</td><td>&quot;32603&quot;</td></tr><tr><td>6037</td><td>&quot;F&quot;</td><td>45</td><td>&quot;academic/educator&quot;</td><td>&quot;76006&quot;</td></tr><tr><td>6038</td><td>&quot;F&quot;</td><td>56</td><td>&quot;academic/educator&quot;</td><td>&quot;14706&quot;</td></tr><tr><td>6039</td><td>&quot;F&quot;</td><td>45</td><td>&quot;other&quot;</td><td>&quot;01060&quot;</td></tr><tr><td>6040</td><td>&quot;M&quot;</td><td>25</td><td>&quot;doctor/health care&quot;</td><td>&quot;11106&quot;</td></tr></tbody></table></div>"
      ],
      "text/plain": [
       "shape: (6_040, 5)\n",
       "┌────────┬────────┬─────┬──────────────────────┬──────────┐\n",
       "│ UserID ┆ Gender ┆ Age ┆ Occupation           ┆ Zip-code │\n",
       "│ ---    ┆ ---    ┆ --- ┆ ---                  ┆ ---      │\n",
       "│ i32    ┆ str    ┆ i32 ┆ str                  ┆ str      │\n",
       "╞════════╪════════╪═════╪══════════════════════╪══════════╡\n",
       "│ 1      ┆ F      ┆ 1   ┆ K-12 student         ┆ 48067    │\n",
       "│ 2      ┆ M      ┆ 56  ┆ self-employed        ┆ 70072    │\n",
       "│ 3      ┆ M      ┆ 25  ┆ scientist            ┆ 55117    │\n",
       "│ 4      ┆ M      ┆ 45  ┆ executive/managerial ┆ 02460    │\n",
       "│ 5      ┆ M      ┆ 25  ┆ writer               ┆ 55455    │\n",
       "│ …      ┆ …      ┆ …   ┆ …                    ┆ …        │\n",
       "│ 6036   ┆ F      ┆ 25  ┆ scientist            ┆ 32603    │\n",
       "│ 6037   ┆ F      ┆ 45  ┆ academic/educator    ┆ 76006    │\n",
       "│ 6038   ┆ F      ┆ 56  ┆ academic/educator    ┆ 14706    │\n",
       "│ 6039   ┆ F      ┆ 45  ┆ other                ┆ 01060    │\n",
       "│ 6040   ┆ M      ┆ 25  ┆ doctor/health care   ┆ 11106    │\n",
       "└────────┴────────┴─────┴──────────────────────┴──────────┘"
      ]
     },
     "execution_count": 23,
     "metadata": {},
     "output_type": "execute_result"
    }
   ],
   "source": [
    "ml_users_df.collect()"
   ]
  },
  {
   "cell_type": "code",
   "execution_count": 24,
   "metadata": {},
   "outputs": [],
   "source": [
    "# d(item, item)\n",
    "# user: item1, item2, item3"
   ]
  },
  {
   "cell_type": "code",
   "execution_count": 25,
   "metadata": {},
   "outputs": [
    {
     "data": {
      "text/html": [
       "<div><style>\n",
       ".dataframe > thead > tr,\n",
       ".dataframe > tbody > tr {\n",
       "  text-align: right;\n",
       "  white-space: pre-wrap;\n",
       "}\n",
       "</style>\n",
       "<small>shape: (3_883, 22)</small><table border=\"1\" class=\"dataframe\"><thead><tr><th>MovieID</th><th>Title</th><th>Genres</th><th>Year</th><th>IsCrime</th><th>IsMystery</th><th>IsComedy</th><th>IsWestern</th><th>IsRomance</th><th>IsWar</th><th>IsAnimation</th><th>IsSci-Fi</th><th>IsFantasy</th><th>IsChildren&#x27;s</th><th>IsDocumentary</th><th>IsThriller</th><th>IsHorror</th><th>IsMusical</th><th>IsAction</th><th>IsDrama</th><th>IsAdventure</th><th>IsFilm-Noir</th></tr><tr><td>i32</td><td>str</td><td>list[str]</td><td>i32</td><td>bool</td><td>bool</td><td>bool</td><td>bool</td><td>bool</td><td>bool</td><td>bool</td><td>bool</td><td>bool</td><td>bool</td><td>bool</td><td>bool</td><td>bool</td><td>bool</td><td>bool</td><td>bool</td><td>bool</td><td>bool</td></tr></thead><tbody><tr><td>1</td><td>&quot;Toy Story&quot;</td><td>[&quot;Animation&quot;, &quot;Children&#x27;s&quot;, &quot;Comedy&quot;]</td><td>1995</td><td>false</td><td>false</td><td>true</td><td>false</td><td>false</td><td>false</td><td>true</td><td>false</td><td>false</td><td>true</td><td>false</td><td>false</td><td>false</td><td>false</td><td>false</td><td>false</td><td>false</td><td>false</td></tr><tr><td>2</td><td>&quot;Jumanji&quot;</td><td>[&quot;Adventure&quot;, &quot;Children&#x27;s&quot;, &quot;Fantasy&quot;]</td><td>1995</td><td>false</td><td>false</td><td>false</td><td>false</td><td>false</td><td>false</td><td>false</td><td>false</td><td>true</td><td>true</td><td>false</td><td>false</td><td>false</td><td>false</td><td>false</td><td>false</td><td>true</td><td>false</td></tr><tr><td>3</td><td>&quot;Grumpier Old Men&quot;</td><td>[&quot;Comedy&quot;, &quot;Romance&quot;]</td><td>1995</td><td>false</td><td>false</td><td>true</td><td>false</td><td>true</td><td>false</td><td>false</td><td>false</td><td>false</td><td>false</td><td>false</td><td>false</td><td>false</td><td>false</td><td>false</td><td>false</td><td>false</td><td>false</td></tr><tr><td>4</td><td>&quot;Waiting to Exhale&quot;</td><td>[&quot;Comedy&quot;, &quot;Drama&quot;]</td><td>1995</td><td>false</td><td>false</td><td>true</td><td>false</td><td>false</td><td>false</td><td>false</td><td>false</td><td>false</td><td>false</td><td>false</td><td>false</td><td>false</td><td>false</td><td>false</td><td>true</td><td>false</td><td>false</td></tr><tr><td>5</td><td>&quot;Father of the Bride Part II&quot;</td><td>[&quot;Comedy&quot;]</td><td>1995</td><td>false</td><td>false</td><td>true</td><td>false</td><td>false</td><td>false</td><td>false</td><td>false</td><td>false</td><td>false</td><td>false</td><td>false</td><td>false</td><td>false</td><td>false</td><td>false</td><td>false</td><td>false</td></tr><tr><td>&hellip;</td><td>&hellip;</td><td>&hellip;</td><td>&hellip;</td><td>&hellip;</td><td>&hellip;</td><td>&hellip;</td><td>&hellip;</td><td>&hellip;</td><td>&hellip;</td><td>&hellip;</td><td>&hellip;</td><td>&hellip;</td><td>&hellip;</td><td>&hellip;</td><td>&hellip;</td><td>&hellip;</td><td>&hellip;</td><td>&hellip;</td><td>&hellip;</td><td>&hellip;</td><td>&hellip;</td></tr><tr><td>3948</td><td>&quot;Meet the Parents&quot;</td><td>[&quot;Comedy&quot;]</td><td>2000</td><td>false</td><td>false</td><td>true</td><td>false</td><td>false</td><td>false</td><td>false</td><td>false</td><td>false</td><td>false</td><td>false</td><td>false</td><td>false</td><td>false</td><td>false</td><td>false</td><td>false</td><td>false</td></tr><tr><td>3949</td><td>&quot;Requiem for a Dream&quot;</td><td>[&quot;Drama&quot;]</td><td>2000</td><td>false</td><td>false</td><td>false</td><td>false</td><td>false</td><td>false</td><td>false</td><td>false</td><td>false</td><td>false</td><td>false</td><td>false</td><td>false</td><td>false</td><td>false</td><td>true</td><td>false</td><td>false</td></tr><tr><td>3950</td><td>&quot;Tigerland&quot;</td><td>[&quot;Drama&quot;]</td><td>2000</td><td>false</td><td>false</td><td>false</td><td>false</td><td>false</td><td>false</td><td>false</td><td>false</td><td>false</td><td>false</td><td>false</td><td>false</td><td>false</td><td>false</td><td>false</td><td>true</td><td>false</td><td>false</td></tr><tr><td>3951</td><td>&quot;Two Family House&quot;</td><td>[&quot;Drama&quot;]</td><td>2000</td><td>false</td><td>false</td><td>false</td><td>false</td><td>false</td><td>false</td><td>false</td><td>false</td><td>false</td><td>false</td><td>false</td><td>false</td><td>false</td><td>false</td><td>false</td><td>true</td><td>false</td><td>false</td></tr><tr><td>3952</td><td>&quot;Contender&quot;</td><td>null</td><td>null</td><td>false</td><td>false</td><td>false</td><td>false</td><td>false</td><td>false</td><td>false</td><td>false</td><td>false</td><td>false</td><td>false</td><td>false</td><td>false</td><td>false</td><td>false</td><td>false</td><td>false</td><td>false</td></tr></tbody></table></div>"
      ],
      "text/plain": [
       "shape: (3_883, 22)\n",
       "┌─────────┬──────────────┬─────────────┬──────┬───┬──────────┬─────────┬─────────────┬─────────────┐\n",
       "│ MovieID ┆ Title        ┆ Genres      ┆ Year ┆ … ┆ IsAction ┆ IsDrama ┆ IsAdventure ┆ IsFilm-Noir │\n",
       "│ ---     ┆ ---          ┆ ---         ┆ ---  ┆   ┆ ---      ┆ ---     ┆ ---         ┆ ---         │\n",
       "│ i32     ┆ str          ┆ list[str]   ┆ i32  ┆   ┆ bool     ┆ bool    ┆ bool        ┆ bool        │\n",
       "╞═════════╪══════════════╪═════════════╪══════╪═══╪══════════╪═════════╪═════════════╪═════════════╡\n",
       "│ 1       ┆ Toy Story    ┆ [\"Animation ┆ 1995 ┆ … ┆ false    ┆ false   ┆ false       ┆ false       │\n",
       "│         ┆              ┆ \", \"Childre ┆      ┆   ┆          ┆         ┆             ┆             │\n",
       "│         ┆              ┆ n's\", \"C…   ┆      ┆   ┆          ┆         ┆             ┆             │\n",
       "│ 2       ┆ Jumanji      ┆ [\"Adventure ┆ 1995 ┆ … ┆ false    ┆ false   ┆ true        ┆ false       │\n",
       "│         ┆              ┆ \", \"Childre ┆      ┆   ┆          ┆         ┆             ┆             │\n",
       "│         ┆              ┆ n's\", \"F…   ┆      ┆   ┆          ┆         ┆             ┆             │\n",
       "│ 3       ┆ Grumpier Old ┆ [\"Comedy\",  ┆ 1995 ┆ … ┆ false    ┆ false   ┆ false       ┆ false       │\n",
       "│         ┆ Men          ┆ \"Romance\"]  ┆      ┆   ┆          ┆         ┆             ┆             │\n",
       "│ 4       ┆ Waiting to   ┆ [\"Comedy\",  ┆ 1995 ┆ … ┆ false    ┆ true    ┆ false       ┆ false       │\n",
       "│         ┆ Exhale       ┆ \"Drama\"]    ┆      ┆   ┆          ┆         ┆             ┆             │\n",
       "│ 5       ┆ Father of    ┆ [\"Comedy\"]  ┆ 1995 ┆ … ┆ false    ┆ false   ┆ false       ┆ false       │\n",
       "│         ┆ the Bride    ┆             ┆      ┆   ┆          ┆         ┆             ┆             │\n",
       "│         ┆ Part II      ┆             ┆      ┆   ┆          ┆         ┆             ┆             │\n",
       "│ …       ┆ …            ┆ …           ┆ …    ┆ … ┆ …        ┆ …       ┆ …           ┆ …           │\n",
       "│ 3948    ┆ Meet the     ┆ [\"Comedy\"]  ┆ 2000 ┆ … ┆ false    ┆ false   ┆ false       ┆ false       │\n",
       "│         ┆ Parents      ┆             ┆      ┆   ┆          ┆         ┆             ┆             │\n",
       "│ 3949    ┆ Requiem for  ┆ [\"Drama\"]   ┆ 2000 ┆ … ┆ false    ┆ true    ┆ false       ┆ false       │\n",
       "│         ┆ a Dream      ┆             ┆      ┆   ┆          ┆         ┆             ┆             │\n",
       "│ 3950    ┆ Tigerland    ┆ [\"Drama\"]   ┆ 2000 ┆ … ┆ false    ┆ true    ┆ false       ┆ false       │\n",
       "│ 3951    ┆ Two Family   ┆ [\"Drama\"]   ┆ 2000 ┆ … ┆ false    ┆ true    ┆ false       ┆ false       │\n",
       "│         ┆ House        ┆             ┆      ┆   ┆          ┆         ┆             ┆             │\n",
       "│ 3952    ┆ Contender    ┆ null        ┆ null ┆ … ┆ false    ┆ false   ┆ false       ┆ false       │\n",
       "└─────────┴──────────────┴─────────────┴──────┴───┴──────────┴─────────┴─────────────┴─────────────┘"
      ]
     },
     "execution_count": 25,
     "metadata": {},
     "output_type": "execute_result"
    }
   ],
   "source": [
    "ml_movies_df.collect()"
   ]
  },
  {
   "cell_type": "code",
   "execution_count": null,
   "metadata": {},
   "outputs": [],
   "source": []
  }
 ],
 "metadata": {
  "kernelspec": {
   "display_name": "venv",
   "language": "python",
   "name": "python3"
  },
  "language_info": {
   "codemirror_mode": {
    "name": "ipython",
    "version": 3
   },
   "file_extension": ".py",
   "mimetype": "text/x-python",
   "name": "python",
   "nbconvert_exporter": "python",
   "pygments_lexer": "ipython3",
   "version": "3.11.9"
  }
 },
 "nbformat": 4,
 "nbformat_minor": 2
}
