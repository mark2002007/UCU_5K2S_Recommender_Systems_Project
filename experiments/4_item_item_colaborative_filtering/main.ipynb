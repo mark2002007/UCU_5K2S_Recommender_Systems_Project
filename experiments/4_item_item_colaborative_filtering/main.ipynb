{
 "cells": [
  {
   "cell_type": "code",
   "metadata": {
    "ExecuteTime": {
     "end_time": "2024-06-16T07:31:50.043506Z",
     "start_time": "2024-06-16T07:31:47.923079Z"
    }
   },
   "source": [
    "import os\n",
    "ROOT = os.path.join('..', '..')\n",
    "import sys\n",
    "sys.path.append(ROOT)\n",
    "\n",
    "import numpy as np\n",
    "\n",
    "from scripts.data import ml_ratings_df, ml_movies_df, ml_users_df, ml_train_test_split\n",
    "from src.models.item_item import ItemItemCollaborativeFiltering\n",
    "\n",
    "ml_ratings_df = ml_ratings_df.collect().to_pandas()\n",
    "ml_users_df = ml_users_df.collect().to_pandas()\n",
    "ml_movies_df = ml_movies_df.collect().to_pandas()"
   ],
   "outputs": [
    {
     "name": "stderr",
     "output_type": "stream",
     "text": [
      "C:\\Users\\38097\\anaconda3\\Lib\\site-packages\\pandas\\core\\arrays\\masked.py:60: UserWarning: Pandas requires version '1.3.6' or newer of 'bottleneck' (version '1.3.5' currently installed).\n",
      "  from pandas.core import (\n"
     ]
    }
   ],
   "execution_count": 1
  },
  {
   "cell_type": "markdown",
   "metadata": {},
   "source": [
    "# Train - Test Split"
   ]
  },
  {
   "cell_type": "code",
   "metadata": {
    "ExecuteTime": {
     "end_time": "2024-06-16T07:31:57.540408Z",
     "start_time": "2024-06-16T07:31:57.479292Z"
    }
   },
   "source": [
    "MAX_K = 30\n",
    "\n",
    "ml_ratings_train_df, ml_ratings_test_df = ml_train_test_split(ml_ratings_df, MAX_K, 970_000_000)"
   ],
   "outputs": [],
   "execution_count": 2
  },
  {
   "cell_type": "markdown",
   "metadata": {},
   "source": "# Item-Item Colaborative Filtering"
  },
  {
   "cell_type": "code",
   "metadata": {
    "ExecuteTime": {
     "end_time": "2024-06-16T07:32:12.039819Z",
     "start_time": "2024-06-16T07:31:59.511165Z"
    }
   },
   "source": [
    "recommender = ItemItemCollaborativeFiltering(ml_movies_df, ml_users_df)\n",
    "recommender.fit(ml_ratings_train_df)"
   ],
   "outputs": [
    {
     "name": "stderr",
     "output_type": "stream",
     "text": [
      "C:\\Users\\38097\\DataspellProjects\\UCU_5K2S_Recommender_Systems_Project\\src\\models\\item_item.py:24: FutureWarning: Downcasting object dtype arrays on .fillna, .ffill, .bfill is deprecated and will change in a future version. Call result.infer_objects(copy=False) instead. To opt-in to the future behavior, set `pd.set_option('future.no_silent_downcasting', True)`\n",
      "  self.ratings_matrix.fillna(0, inplace=True)\n"
     ]
    }
   ],
   "execution_count": 3
  },
  {
   "cell_type": "code",
   "metadata": {
    "ExecuteTime": {
     "end_time": "2024-06-16T07:39:10.157595Z",
     "start_time": "2024-06-16T07:32:12.041884Z"
    }
   },
   "source": "metrics = recommender.evaluate(ml_ratings_test_df, MAX_K, verbose=False)",
   "outputs": [
    {
     "name": "stderr",
     "output_type": "stream",
     "text": [
      "100%|██████████| 2500/2500 [06:58<00:00,  5.98it/s]\n"
     ]
    }
   ],
   "execution_count": 4
  },
  {
   "cell_type": "code",
   "metadata": {
    "ExecuteTime": {
     "end_time": "2024-06-16T07:39:12.215647Z",
     "start_time": "2024-06-16T07:39:12.206252Z"
    }
   },
   "source": [
    "print(\"Average Precision@K:\", round(np.mean(metrics['precision@k']), 4))\n",
    "print(\"Average Recall@K:\", round(np.mean(metrics['recall@k']), 4))\n",
    "print(\"Average F1@K:\", round(np.mean(metrics['f1@k']), 4))\n",
    "print()\n",
    "print(\"Best Precision@K:\", round(np.max(metrics['precision@k']), 4))\n",
    "print(\"Best Recall@K:\", round(np.max(metrics['recall@k']), 4))\n",
    "print(\"Best F1@K:\", round(np.max(metrics['f1@k']), 4))"
   ],
   "outputs": [
    {
     "name": "stdout",
     "output_type": "stream",
     "text": [
      "Average Precision@K: 0.4365\n",
      "Average Recall@K: 0.1034\n",
      "Average F1@K: 0.1496\n",
      "\n",
      "Best Precision@K: 1.0\n",
      "Best Recall@K: 0.439\n",
      "Best F1@K: 0.507\n"
     ]
    }
   ],
   "execution_count": 5
  },
  {
   "metadata": {},
   "cell_type": "code",
   "execution_count": null,
   "source": "",
   "outputs": []
  }
 ],
 "metadata": {
  "kernelspec": {
   "display_name": "venv",
   "language": "python",
   "name": "python3"
  },
  "language_info": {
   "codemirror_mode": {
    "name": "ipython",
    "version": 3
   },
   "file_extension": ".py",
   "mimetype": "text/x-python",
   "name": "python",
   "nbconvert_exporter": "python",
   "pygments_lexer": "ipython3",
   "version": "3.11.9"
  }
 },
 "nbformat": 4,
 "nbformat_minor": 2
}
