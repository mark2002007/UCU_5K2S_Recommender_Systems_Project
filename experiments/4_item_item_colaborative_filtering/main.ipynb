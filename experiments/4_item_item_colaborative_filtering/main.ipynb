{
 "cells": [
  {
   "cell_type": "code",
   "execution_count": 1,
   "metadata": {},
   "outputs": [],
   "source": [
    "import os\n",
    "ROOT = os.path.join('..', '..')\n",
    "import sys\n",
    "sys.path.append(ROOT)\n",
    "# \n",
    "from tqdm import tqdm\n",
    "import numpy as np\n",
    "import pandas as pd\n",
    "import altair as alt\n",
    "alt.data_transformers.disable_max_rows()\n",
    "\n",
    "from scripts.data import (\n",
    "    ml_ratings_df, ml_movies_df, ml_users_df, ml_train_test_split\n",
    ")\n",
    "\n",
    "from src.constants import T_SPLIT_POINT\n",
    "\n",
    "ml_ratings_df = ml_ratings_df.collect().to_pandas()\n",
    "ml_users_df = ml_users_df.collect().to_pandas()\n",
    "ml_movies_df = ml_movies_df.collect().to_pandas()"
   ]
  },
  {
   "cell_type": "markdown",
   "metadata": {},
   "source": [
    "# Train - Test Split"
   ]
  },
  {
   "cell_type": "code",
   "execution_count": 2,
   "metadata": {},
   "outputs": [
    {
     "name": "stdout",
     "output_type": "stream",
     "text": [
      "Train shape: (85086, 4)\n",
      "Test shape: (534709, 4)\n"
     ]
    }
   ],
   "source": [
    "MAX_K = 30\n",
    "ml_ratings_train_df, ml_ratings_test_df = ml_train_test_split(\n",
    "    ml_ratings_df, MAX_K, T_SPLIT_POINT\n",
    ")\n",
    "print('Train shape:', ml_ratings_train_df.shape)\n",
    "print('Test shape:', ml_ratings_test_df.shape)"
   ]
  },
  {
   "cell_type": "markdown",
   "metadata": {},
   "source": [
    "# Item-Item Colaborative Filtering"
   ]
  },
  {
   "cell_type": "code",
   "execution_count": null,
   "metadata": {},
   "outputs": [],
   "source": []
  }
 ],
 "metadata": {
  "kernelspec": {
   "display_name": "venv",
   "language": "python",
   "name": "python3"
  },
  "language_info": {
   "codemirror_mode": {
    "name": "ipython",
    "version": 3
   },
   "file_extension": ".py",
   "mimetype": "text/x-python",
   "name": "python",
   "nbconvert_exporter": "python",
   "pygments_lexer": "ipython3",
   "version": "3.11.9"
  }
 },
 "nbformat": 4,
 "nbformat_minor": 2
}
