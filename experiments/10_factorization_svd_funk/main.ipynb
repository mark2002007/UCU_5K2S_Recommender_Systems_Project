{
 "cells": [
  {
   "cell_type": "code",
   "execution_count": 1,
   "metadata": {
    "ExecuteTime": {
     "end_time": "2024-06-16T08:15:59.615835Z",
     "start_time": "2024-06-16T08:15:57.800229Z"
    }
   },
   "outputs": [],
   "source": [
    "import os\n",
    "ROOT = os.path.join('..', '..')\n",
    "import sys\n",
    "sys.path.append(ROOT)\n",
    "# \n",
    "import numpy as np\n",
    "\n",
    "from src.models import FunkSVDCollaborativeFiltering"
   ]
  },
  {
   "cell_type": "code",
   "execution_count": 2,
   "metadata": {},
   "outputs": [],
   "source": [
    "from src.utils import read_ml, ml_train_test_split\n",
    "\n",
    "ml_complete_df, ml_users_df, ml_ratings_df, ml_movies_df, ml_genres_df = read_ml()\n",
    "\n",
    "MAX_K = 15\n",
    "ml_ratings_train_df, ml_ratings_test_df = ml_train_test_split(ml_ratings_df=ml_ratings_df, min_user_test_samples=MAX_K)"
   ]
  },
  {
   "cell_type": "code",
   "execution_count": 3,
   "metadata": {},
   "outputs": [
    {
     "name": "stdout",
     "output_type": "stream",
     "text": [
      "Preprocessing data...\n",
      "\n",
      "Epoch 1/100  | took 0.2 sec\n",
      "Epoch 2/100  | took 0.0 sec\n",
      "Epoch 3/100  | took 0.0 sec\n",
      "Epoch 4/100  | took 0.0 sec\n",
      "Epoch 5/100  | took 0.0 sec\n",
      "Epoch 6/100  | took 0.0 sec\n",
      "Epoch 7/100  | took 0.0 sec\n",
      "Epoch 8/100  | took 0.0 sec\n",
      "Epoch 9/100  | took 0.0 sec\n",
      "Epoch 10/100 | took 0.0 sec\n",
      "Epoch 11/100 | took 0.0 sec\n",
      "Epoch 12/100 | took 0.0 sec\n",
      "Epoch 13/100 | took 0.0 sec\n",
      "Epoch 14/100 | took 0.0 sec\n",
      "Epoch 15/100 | took 0.0 sec\n",
      "Epoch 16/100 | took 0.0 sec\n",
      "Epoch 17/100 | took 0.0 sec\n",
      "Epoch 18/100 | took 0.0 sec\n",
      "Epoch 19/100 | took 0.0 sec\n",
      "Epoch 20/100 | took 0.0 sec\n",
      "Epoch 21/100 | took 0.0 sec\n",
      "Epoch 22/100 | took 0.0 sec\n",
      "Epoch 23/100 | took 0.0 sec\n",
      "Epoch 24/100 | took 0.0 sec\n",
      "Epoch 25/100 | took 0.0 sec\n",
      "Epoch 26/100 | took 0.0 sec\n",
      "Epoch 27/100 | took 0.0 sec\n",
      "Epoch 28/100 | took 0.0 sec\n",
      "Epoch 29/100 | took 0.0 sec\n",
      "Epoch 30/100 | took 0.0 sec\n",
      "Epoch 31/100 | took 0.0 sec\n",
      "Epoch 32/100 | took 0.0 sec\n",
      "Epoch 33/100 | took 0.0 sec\n",
      "Epoch 34/100 | took 0.0 sec\n",
      "Epoch 35/100 | took 0.0 sec\n",
      "Epoch 36/100 | took 0.0 sec\n",
      "Epoch 37/100 | took 0.0 sec\n",
      "Epoch 38/100 | took 0.0 sec\n",
      "Epoch 39/100 | took 0.0 sec\n",
      "Epoch 40/100 | took 0.0 sec\n",
      "Epoch 41/100 | took 0.0 sec\n",
      "Epoch 42/100 | took 0.0 sec\n",
      "Epoch 43/100 | took 0.0 sec\n",
      "Epoch 44/100 | took 0.0 sec\n",
      "Epoch 45/100 | took 0.0 sec\n",
      "Epoch 46/100 | took 0.0 sec\n",
      "Epoch 47/100 | took 0.0 sec\n",
      "Epoch 48/100 | took 0.0 sec\n",
      "Epoch 49/100 | took 0.0 sec\n",
      "Epoch 50/100 | took 0.0 sec\n",
      "Epoch 51/100 | took 0.0 sec\n",
      "Epoch 52/100 | took 0.0 sec\n",
      "Epoch 53/100 | took 0.0 sec\n",
      "Epoch 54/100 | took 0.0 sec\n",
      "Epoch 55/100 | took 0.0 sec\n",
      "Epoch 56/100 | took 0.0 sec\n",
      "Epoch 57/100 | took 0.0 sec\n",
      "Epoch 58/100 | took 0.0 sec\n",
      "Epoch 59/100 | took 0.0 sec\n",
      "Epoch 60/100 | took 0.0 sec\n",
      "Epoch 61/100 | took 0.0 sec\n",
      "Epoch 62/100 | took 0.0 sec\n",
      "Epoch 63/100 | took 0.0 sec\n",
      "Epoch 64/100 | took 0.0 sec\n",
      "Epoch 65/100 | took 0.0 sec\n",
      "Epoch 66/100 | took 0.0 sec\n",
      "Epoch 67/100 | took 0.0 sec\n",
      "Epoch 68/100 | took 0.0 sec\n",
      "Epoch 69/100 | took 0.0 sec\n",
      "Epoch 70/100 | took 0.0 sec\n",
      "Epoch 71/100 | took 0.0 sec\n",
      "Epoch 72/100 | took 0.0 sec\n",
      "Epoch 73/100 | took 0.0 sec\n",
      "Epoch 74/100 | took 0.0 sec\n",
      "Epoch 75/100 | took 0.0 sec\n",
      "Epoch 76/100 | took 0.0 sec\n",
      "Epoch 77/100 | took 0.0 sec\n",
      "Epoch 78/100 | took 0.0 sec\n",
      "Epoch 79/100 | took 0.0 sec\n",
      "Epoch 80/100 | took 0.0 sec\n",
      "Epoch 81/100 | took 0.0 sec\n",
      "Epoch 82/100 | took 0.0 sec\n",
      "Epoch 83/100 | took 0.0 sec\n",
      "Epoch 84/100 | took 0.0 sec\n",
      "Epoch 85/100 | took 0.0 sec\n",
      "Epoch 86/100 | took 0.0 sec\n",
      "Epoch 87/100 | took 0.0 sec\n",
      "Epoch 88/100 | took 0.0 sec\n",
      "Epoch 89/100 | took 0.0 sec\n",
      "Epoch 90/100 | took 0.0 sec\n",
      "Epoch 91/100 | took 0.0 sec\n",
      "Epoch 92/100 | took 0.0 sec\n",
      "Epoch 93/100 | took 0.0 sec\n",
      "Epoch 94/100 | took 0.0 sec\n",
      "Epoch 95/100 | took 0.0 sec\n",
      "Epoch 96/100 | took 0.0 sec\n",
      "Epoch 97/100 | took 0.0 sec\n",
      "Epoch 98/100 | took 0.0 sec\n",
      "Epoch 99/100 | took 0.0 sec\n",
      "Epoch 100/100 | took 0.0 sec\n",
      "\n",
      "Training took 1 sec\n"
     ]
    }
   ],
   "source": [
    "recommender = FunkSVDCollaborativeFiltering(ml_movies_df, ml_users_df)\n",
    "recommender.fit(ml_ratings_train_df)"
   ]
  },
  {
   "cell_type": "code",
   "execution_count": 4,
   "metadata": {},
   "outputs": [
    {
     "name": "stderr",
     "output_type": "stream",
     "text": [
      "100%|██████████| 442/442 [00:03<00:00, 115.65it/s]\n"
     ]
    }
   ],
   "source": [
    "metrics = recommender.evaluate(ml_ratings_test_df, k=MAX_K)"
   ]
  },
  {
   "cell_type": "code",
   "execution_count": 5,
   "metadata": {},
   "outputs": [
    {
     "name": "stdout",
     "output_type": "stream",
     "text": [
      "Average Precision@K: 0.0819\n",
      "Average Recall@K: 0.0136\n",
      "Average F1@K: 0.021\n",
      "\n",
      "Best Precision@K: 0.8\n",
      "Best Recall@K: 0.2174\n",
      "Best F1@K: 0.2632\n"
     ]
    }
   ],
   "source": [
    "print(\"Average Precision@K:\", round(np.mean(metrics[\"precision@k\"]), 4))\n",
    "print(\"Average Recall@K:\", round(np.mean(metrics[\"recall@k\"]), 4))\n",
    "print(\"Average F1@K:\", round(np.mean(metrics[\"f1@k\"]), 4))\n",
    "print()\n",
    "print(\"Best Precision@K:\", round(np.max(metrics[\"precision@k\"]), 4))\n",
    "print(\"Best Recall@K:\", round(np.max(metrics[\"recall@k\"]), 4))\n",
    "print(\"Best F1@K:\", round(np.max(metrics[\"f1@k\"]), 4))"
   ]
  },
  {
   "cell_type": "code",
   "execution_count": null,
   "metadata": {},
   "outputs": [],
   "source": []
  }
 ],
 "metadata": {
  "kernelspec": {
   "display_name": "venv",
   "language": "python",
   "name": "python3"
  },
  "language_info": {
   "codemirror_mode": {
    "name": "ipython",
    "version": 3
   },
   "file_extension": ".py",
   "mimetype": "text/x-python",
   "name": "python",
   "nbconvert_exporter": "python",
   "pygments_lexer": "ipython3",
   "version": "3.9.19"
  }
 },
 "nbformat": 4,
 "nbformat_minor": 2
}
