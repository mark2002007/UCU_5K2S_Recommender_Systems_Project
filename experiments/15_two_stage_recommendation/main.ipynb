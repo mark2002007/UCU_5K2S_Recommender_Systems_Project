{
 "cells": [
  {
   "cell_type": "code",
   "execution_count": 1,
   "metadata": {
    "ExecuteTime": {
     "end_time": "2024-06-16T08:15:59.615835Z",
     "start_time": "2024-06-16T08:15:57.800229Z"
    }
   },
   "outputs": [],
   "source": [
    "import os\n",
    "ROOT = os.path.join('..', '..')\n",
    "import sys\n",
    "sys.path.append(ROOT)\n",
    "# \n",
    "import numpy as np\n",
    "np.random.seed(42)\n",
    "\n",
    "from src.models import TwoStageRecommender"
   ]
  },
  {
   "cell_type": "code",
   "execution_count": 2,
   "metadata": {},
   "outputs": [],
   "source": [
    "from src.utils import read_ml, ml_train_test_split\n",
    "\n",
    "ml_complete_df, ml_users_df, ml_ratings_df, ml_movies_df, ml_genres_df = read_ml()\n",
    "\n",
    "MAX_K = 20\n",
    "ml_ratings_train_df, ml_ratings_test_df = ml_train_test_split(ml_ratings_df=ml_ratings_df, min_user_test_samples=MAX_K)"
   ]
  },
  {
   "cell_type": "code",
   "execution_count": 3,
   "metadata": {},
   "outputs": [],
   "source": [
    "from src.models import (\n",
    "    PopularityBasedRecommender, \n",
    "    ItemItemCollaborativeFiltering, \n",
    "    UserUserColaborativeFiltering, \n",
    "    NeuralCollaborativeFiltering,\n",
    "    RankNetRecommender,\n",
    "    FunkSVDCollaborativeFiltering,\n",
    "    SVDALSCollaborativeFiltering,\n",
    "    SVDCollaborativeFiltering,\n",
    "    SVDGradientDescentRecommender,\n",
    "    LTRLinearRegressionRecommender\n",
    ")"
   ]
  },
  {
   "cell_type": "code",
   "execution_count": 4,
   "metadata": {},
   "outputs": [
    {
     "name": "stdout",
     "output_type": "stream",
     "text": [
      "================================================================\n",
      "PopularityBasedRecommender -> RankNetRecommender\n",
      "Training...\n"
     ]
    },
    {
     "name": "stderr",
     "output_type": "stream",
     "text": [
      "Epoch 1/10: 100%|██████████| 121/121 [00:01<00:00, 72.82it/s]\n"
     ]
    },
    {
     "name": "stdout",
     "output_type": "stream",
     "text": [
      "Epoch 1/10, Loss: 0.6936\n"
     ]
    },
    {
     "name": "stderr",
     "output_type": "stream",
     "text": [
      "Epoch 2/10: 100%|██████████| 121/121 [00:01<00:00, 72.10it/s]\n"
     ]
    },
    {
     "name": "stdout",
     "output_type": "stream",
     "text": [
      "Epoch 2/10, Loss: 0.6878\n"
     ]
    },
    {
     "name": "stderr",
     "output_type": "stream",
     "text": [
      "Epoch 3/10: 100%|██████████| 121/121 [00:01<00:00, 71.79it/s]\n"
     ]
    },
    {
     "name": "stdout",
     "output_type": "stream",
     "text": [
      "Epoch 3/10, Loss: 0.6813\n"
     ]
    },
    {
     "name": "stderr",
     "output_type": "stream",
     "text": [
      "Epoch 4/10: 100%|██████████| 121/121 [00:01<00:00, 73.00it/s]\n"
     ]
    },
    {
     "name": "stdout",
     "output_type": "stream",
     "text": [
      "Epoch 4/10, Loss: 0.6750\n"
     ]
    },
    {
     "name": "stderr",
     "output_type": "stream",
     "text": [
      "Epoch 5/10: 100%|██████████| 121/121 [00:01<00:00, 69.55it/s]\n"
     ]
    },
    {
     "name": "stdout",
     "output_type": "stream",
     "text": [
      "Epoch 5/10, Loss: 0.6720\n"
     ]
    },
    {
     "name": "stderr",
     "output_type": "stream",
     "text": [
      "Epoch 6/10: 100%|██████████| 121/121 [00:01<00:00, 72.73it/s]\n"
     ]
    },
    {
     "name": "stdout",
     "output_type": "stream",
     "text": [
      "Epoch 6/10, Loss: 0.6693\n"
     ]
    },
    {
     "name": "stderr",
     "output_type": "stream",
     "text": [
      "Epoch 7/10: 100%|██████████| 121/121 [00:01<00:00, 69.10it/s]\n"
     ]
    },
    {
     "name": "stdout",
     "output_type": "stream",
     "text": [
      "Epoch 7/10, Loss: 0.6590\n"
     ]
    },
    {
     "name": "stderr",
     "output_type": "stream",
     "text": [
      "Epoch 8/10: 100%|██████████| 121/121 [00:01<00:00, 73.32it/s]\n"
     ]
    },
    {
     "name": "stdout",
     "output_type": "stream",
     "text": [
      "Epoch 8/10, Loss: 0.6530\n"
     ]
    },
    {
     "name": "stderr",
     "output_type": "stream",
     "text": [
      "Epoch 9/10: 100%|██████████| 121/121 [00:01<00:00, 73.55it/s]\n"
     ]
    },
    {
     "name": "stdout",
     "output_type": "stream",
     "text": [
      "Epoch 9/10, Loss: 0.6534\n"
     ]
    },
    {
     "name": "stderr",
     "output_type": "stream",
     "text": [
      "Epoch 10/10: 100%|██████████| 121/121 [00:01<00:00, 74.08it/s]\n"
     ]
    },
    {
     "name": "stdout",
     "output_type": "stream",
     "text": [
      "Epoch 10/10, Loss: 0.6439\n",
      "\n",
      "Evaluating...\n"
     ]
    },
    {
     "name": "stderr",
     "output_type": "stream",
     "text": [
      "100%|██████████| 769/769 [00:13<00:00, 58.94it/s]\n"
     ]
    },
    {
     "name": "stdout",
     "output_type": "stream",
     "text": [
      "Average Precision@K: 0.3067\n",
      "Average Recall@K: 0.0595\n",
      "Average F1@K: 0.0891\n",
      "Average Average Precision: 0.288\n",
      "Best Precision@K: 1.0\n",
      "Best Recall@K: 0.3478\n",
      "Best F1@K: 0.3721\n",
      "Best Average Precision 1.0\n",
      "MRR: 0.5263\n",
      "Average NDCG: 0.5683\n",
      "================================================================\n",
      "PopularityBasedRecommender -> LTRLinearRegressionRecommender\n",
      "Training...\n",
      "\n",
      "Evaluating...\n"
     ]
    },
    {
     "name": "stderr",
     "output_type": "stream",
     "text": [
      "100%|██████████| 769/769 [00:29<00:00, 26.31it/s]\n"
     ]
    },
    {
     "name": "stdout",
     "output_type": "stream",
     "text": [
      "Average Precision@K: 0.3034\n",
      "Average Recall@K: 0.0603\n",
      "Average F1@K: 0.0898\n",
      "Average Average Precision: 0.3166\n",
      "Best Precision@K: 1.0\n",
      "Best Recall@K: 0.3913\n",
      "Best F1@K: 0.4186\n",
      "Best Average Precision 1.0\n",
      "MRR: 0.56\n",
      "Average NDCG: 0.6019\n",
      "================================================================\n",
      "ItemItemCollaborativeFiltering -> RankNetRecommender\n",
      "Training...\n"
     ]
    },
    {
     "name": "stderr",
     "output_type": "stream",
     "text": [
      "Epoch 1/10: 100%|██████████| 121/121 [00:01<00:00, 72.13it/s]\n"
     ]
    },
    {
     "name": "stdout",
     "output_type": "stream",
     "text": [
      "Epoch 1/10, Loss: 0.6936\n"
     ]
    },
    {
     "name": "stderr",
     "output_type": "stream",
     "text": [
      "Epoch 2/10: 100%|██████████| 121/121 [00:01<00:00, 73.55it/s]\n"
     ]
    },
    {
     "name": "stdout",
     "output_type": "stream",
     "text": [
      "Epoch 2/10, Loss: 0.6859\n"
     ]
    },
    {
     "name": "stderr",
     "output_type": "stream",
     "text": [
      "Epoch 3/10: 100%|██████████| 121/121 [00:01<00:00, 72.37it/s]\n"
     ]
    },
    {
     "name": "stdout",
     "output_type": "stream",
     "text": [
      "Epoch 3/10, Loss: 0.6814\n"
     ]
    },
    {
     "name": "stderr",
     "output_type": "stream",
     "text": [
      "Epoch 4/10: 100%|██████████| 121/121 [00:01<00:00, 72.40it/s]\n"
     ]
    },
    {
     "name": "stdout",
     "output_type": "stream",
     "text": [
      "Epoch 4/10, Loss: 0.6729\n"
     ]
    },
    {
     "name": "stderr",
     "output_type": "stream",
     "text": [
      "Epoch 5/10: 100%|██████████| 121/121 [00:01<00:00, 72.90it/s]\n"
     ]
    },
    {
     "name": "stdout",
     "output_type": "stream",
     "text": [
      "Epoch 5/10, Loss: 0.6712\n"
     ]
    },
    {
     "name": "stderr",
     "output_type": "stream",
     "text": [
      "Epoch 6/10: 100%|██████████| 121/121 [00:01<00:00, 71.42it/s]\n"
     ]
    },
    {
     "name": "stdout",
     "output_type": "stream",
     "text": [
      "Epoch 6/10, Loss: 0.6620\n"
     ]
    },
    {
     "name": "stderr",
     "output_type": "stream",
     "text": [
      "Epoch 7/10: 100%|██████████| 121/121 [00:01<00:00, 72.25it/s]\n"
     ]
    },
    {
     "name": "stdout",
     "output_type": "stream",
     "text": [
      "Epoch 7/10, Loss: 0.6565\n"
     ]
    },
    {
     "name": "stderr",
     "output_type": "stream",
     "text": [
      "Epoch 8/10: 100%|██████████| 121/121 [00:01<00:00, 72.91it/s]\n"
     ]
    },
    {
     "name": "stdout",
     "output_type": "stream",
     "text": [
      "Epoch 8/10, Loss: 0.6566\n"
     ]
    },
    {
     "name": "stderr",
     "output_type": "stream",
     "text": [
      "Epoch 9/10: 100%|██████████| 121/121 [00:01<00:00, 73.42it/s]\n"
     ]
    },
    {
     "name": "stdout",
     "output_type": "stream",
     "text": [
      "Epoch 9/10, Loss: 0.6492\n"
     ]
    },
    {
     "name": "stderr",
     "output_type": "stream",
     "text": [
      "Epoch 10/10: 100%|██████████| 121/121 [00:01<00:00, 73.60it/s]\n"
     ]
    },
    {
     "name": "stdout",
     "output_type": "stream",
     "text": [
      "Epoch 10/10, Loss: 0.6479\n",
      "\n",
      "Evaluating...\n"
     ]
    },
    {
     "name": "stderr",
     "output_type": "stream",
     "text": [
      "100%|██████████| 769/769 [01:42<00:00,  7.53it/s]\n"
     ]
    },
    {
     "name": "stdout",
     "output_type": "stream",
     "text": [
      "Average Precision@K: 0.0124\n",
      "Average Recall@K: 0.0018\n",
      "Average F1@K: 0.0026\n",
      "Average Average Precision: 0.0131\n",
      "Best Precision@K: 0.45\n",
      "Best Recall@K: 0.1\n",
      "Best F1@K: 0.1\n",
      "Best Average Precision 0.4358\n",
      "MRR: 0.8762\n",
      "Average NDCG: 0.064\n",
      "================================================================\n",
      "ItemItemCollaborativeFiltering -> LTRLinearRegressionRecommender\n",
      "Training...\n",
      "\n",
      "Evaluating...\n"
     ]
    },
    {
     "name": "stderr",
     "output_type": "stream",
     "text": [
      "100%|██████████| 769/769 [02:40<00:00,  4.79it/s]\n"
     ]
    },
    {
     "name": "stdout",
     "output_type": "stream",
     "text": [
      "Average Precision@K: 0.0115\n",
      "Average Recall@K: 0.0017\n",
      "Average F1@K: 0.0024\n",
      "Average Average Precision: 0.0124\n",
      "Best Precision@K: 0.45\n",
      "Best Recall@K: 0.1\n",
      "Best F1@K: 0.1143\n",
      "Best Average Precision 0.5895\n",
      "MRR: 0.8774\n",
      "Average NDCG: 0.0659\n",
      "================================================================\n",
      "UserUserColaborativeFiltering -> RankNetRecommender\n",
      "Training...\n"
     ]
    },
    {
     "name": "stderr",
     "output_type": "stream",
     "text": [
      "Epoch 1/10: 100%|██████████| 121/121 [00:01<00:00, 73.50it/s]\n"
     ]
    },
    {
     "name": "stdout",
     "output_type": "stream",
     "text": [
      "Epoch 1/10, Loss: 0.6927\n"
     ]
    },
    {
     "name": "stderr",
     "output_type": "stream",
     "text": [
      "Epoch 2/10: 100%|██████████| 121/121 [00:01<00:00, 73.30it/s]\n"
     ]
    },
    {
     "name": "stdout",
     "output_type": "stream",
     "text": [
      "Epoch 2/10, Loss: 0.6876\n"
     ]
    },
    {
     "name": "stderr",
     "output_type": "stream",
     "text": [
      "Epoch 3/10: 100%|██████████| 121/121 [00:01<00:00, 73.30it/s]\n"
     ]
    },
    {
     "name": "stdout",
     "output_type": "stream",
     "text": [
      "Epoch 3/10, Loss: 0.6812\n"
     ]
    },
    {
     "name": "stderr",
     "output_type": "stream",
     "text": [
      "Epoch 4/10: 100%|██████████| 121/121 [00:01<00:00, 72.18it/s]\n"
     ]
    },
    {
     "name": "stdout",
     "output_type": "stream",
     "text": [
      "Epoch 4/10, Loss: 0.6756\n"
     ]
    },
    {
     "name": "stderr",
     "output_type": "stream",
     "text": [
      "Epoch 5/10: 100%|██████████| 121/121 [00:01<00:00, 73.68it/s]\n"
     ]
    },
    {
     "name": "stdout",
     "output_type": "stream",
     "text": [
      "Epoch 5/10, Loss: 0.6720\n"
     ]
    },
    {
     "name": "stderr",
     "output_type": "stream",
     "text": [
      "Epoch 6/10: 100%|██████████| 121/121 [00:01<00:00, 73.11it/s]\n"
     ]
    },
    {
     "name": "stdout",
     "output_type": "stream",
     "text": [
      "Epoch 6/10, Loss: 0.6612\n"
     ]
    },
    {
     "name": "stderr",
     "output_type": "stream",
     "text": [
      "Epoch 7/10: 100%|██████████| 121/121 [00:01<00:00, 73.67it/s]\n"
     ]
    },
    {
     "name": "stdout",
     "output_type": "stream",
     "text": [
      "Epoch 7/10, Loss: 0.6552\n"
     ]
    },
    {
     "name": "stderr",
     "output_type": "stream",
     "text": [
      "Epoch 8/10: 100%|██████████| 121/121 [00:01<00:00, 73.53it/s]\n"
     ]
    },
    {
     "name": "stdout",
     "output_type": "stream",
     "text": [
      "Epoch 8/10, Loss: 0.6569\n"
     ]
    },
    {
     "name": "stderr",
     "output_type": "stream",
     "text": [
      "Epoch 9/10: 100%|██████████| 121/121 [00:01<00:00, 73.45it/s]\n"
     ]
    },
    {
     "name": "stdout",
     "output_type": "stream",
     "text": [
      "Epoch 9/10, Loss: 0.6525\n"
     ]
    },
    {
     "name": "stderr",
     "output_type": "stream",
     "text": [
      "Epoch 10/10: 100%|██████████| 121/121 [00:01<00:00, 72.25it/s]\n"
     ]
    },
    {
     "name": "stdout",
     "output_type": "stream",
     "text": [
      "Epoch 10/10, Loss: 0.6466\n",
      "\n",
      "Evaluating...\n"
     ]
    },
    {
     "name": "stderr",
     "output_type": "stream",
     "text": [
      "100%|██████████| 769/769 [00:44<00:00, 17.33it/s]\n"
     ]
    },
    {
     "name": "stdout",
     "output_type": "stream",
     "text": [
      "Average Precision@K: 0.1782\n",
      "Average Recall@K: 0.0347\n",
      "Average F1@K: 0.0515\n",
      "Average Average Precision: 0.1449\n",
      "Best Precision@K: 0.9\n",
      "Best Recall@K: 0.2143\n",
      "Best F1@K: 0.25\n",
      "Best Average Precision 0.862\n",
      "MRR: 0.4228\n",
      "Average NDCG: 0.4106\n",
      "================================================================\n",
      "UserUserColaborativeFiltering -> LTRLinearRegressionRecommender\n",
      "Training...\n",
      "\n",
      "Evaluating...\n"
     ]
    },
    {
     "name": "stderr",
     "output_type": "stream",
     "text": [
      "100%|██████████| 769/769 [01:15<00:00, 10.13it/s]\n"
     ]
    },
    {
     "name": "stdout",
     "output_type": "stream",
     "text": [
      "Average Precision@K: 0.1592\n",
      "Average Recall@K: 0.0304\n",
      "Average F1@K: 0.0454\n",
      "Average Average Precision: 0.1487\n",
      "Best Precision@K: 0.85\n",
      "Best Recall@K: 0.2069\n",
      "Best F1@K: 0.25\n",
      "Best Average Precision 0.8613\n",
      "MRR: 0.4626\n",
      "Average NDCG: 0.4137\n",
      "================================================================\n",
      "NeuralCollaborativeFiltering -> RankNetRecommender\n",
      "Training...\n"
     ]
    },
    {
     "name": "stderr",
     "output_type": "stream",
     "text": [
      "Epoch 1/10: 100%|██████████| 2446/2446 [00:06<00:00, 403.01batch/s, loss=0.582]\n",
      "Epoch 2/10: 100%|██████████| 2446/2446 [00:06<00:00, 403.91batch/s, loss=0.562]\n",
      "Epoch 3/10: 100%|██████████| 2446/2446 [00:06<00:00, 397.22batch/s, loss=0.557]\n",
      "Epoch 4/10: 100%|██████████| 2446/2446 [00:06<00:00, 400.52batch/s, loss=0.555]\n",
      "Epoch 5/10: 100%|██████████| 2446/2446 [00:06<00:00, 402.39batch/s, loss=0.553]\n",
      "Epoch 6/10: 100%|██████████| 2446/2446 [00:05<00:00, 408.29batch/s, loss=0.552]\n",
      "Epoch 7/10: 100%|██████████| 2446/2446 [00:06<00:00, 403.82batch/s, loss=0.551]\n",
      "Epoch 8/10: 100%|██████████| 2446/2446 [00:06<00:00, 401.27batch/s, loss=0.551]\n",
      "Epoch 9/10: 100%|██████████| 2446/2446 [00:06<00:00, 402.20batch/s, loss=0.55] \n",
      "Epoch 10/10: 100%|██████████| 2446/2446 [00:06<00:00, 402.36batch/s, loss=0.549]\n",
      "Epoch 1/10: 100%|██████████| 121/121 [00:01<00:00, 72.54it/s]\n"
     ]
    },
    {
     "name": "stdout",
     "output_type": "stream",
     "text": [
      "Epoch 1/10, Loss: 0.6905\n"
     ]
    },
    {
     "name": "stderr",
     "output_type": "stream",
     "text": [
      "Epoch 2/10: 100%|██████████| 121/121 [00:01<00:00, 74.05it/s]\n"
     ]
    },
    {
     "name": "stdout",
     "output_type": "stream",
     "text": [
      "Epoch 2/10, Loss: 0.6873\n"
     ]
    },
    {
     "name": "stderr",
     "output_type": "stream",
     "text": [
      "Epoch 3/10: 100%|██████████| 121/121 [00:01<00:00, 73.92it/s]\n"
     ]
    },
    {
     "name": "stdout",
     "output_type": "stream",
     "text": [
      "Epoch 3/10, Loss: 0.6779\n"
     ]
    },
    {
     "name": "stderr",
     "output_type": "stream",
     "text": [
      "Epoch 4/10: 100%|██████████| 121/121 [00:01<00:00, 73.52it/s]\n"
     ]
    },
    {
     "name": "stdout",
     "output_type": "stream",
     "text": [
      "Epoch 4/10, Loss: 0.6768\n"
     ]
    },
    {
     "name": "stderr",
     "output_type": "stream",
     "text": [
      "Epoch 5/10: 100%|██████████| 121/121 [00:01<00:00, 73.37it/s]\n"
     ]
    },
    {
     "name": "stdout",
     "output_type": "stream",
     "text": [
      "Epoch 5/10, Loss: 0.6725\n"
     ]
    },
    {
     "name": "stderr",
     "output_type": "stream",
     "text": [
      "Epoch 6/10: 100%|██████████| 121/121 [00:01<00:00, 72.99it/s]\n"
     ]
    },
    {
     "name": "stdout",
     "output_type": "stream",
     "text": [
      "Epoch 6/10, Loss: 0.6624\n"
     ]
    },
    {
     "name": "stderr",
     "output_type": "stream",
     "text": [
      "Epoch 7/10: 100%|██████████| 121/121 [00:01<00:00, 74.05it/s]\n"
     ]
    },
    {
     "name": "stdout",
     "output_type": "stream",
     "text": [
      "Epoch 7/10, Loss: 0.6601\n"
     ]
    },
    {
     "name": "stderr",
     "output_type": "stream",
     "text": [
      "Epoch 8/10: 100%|██████████| 121/121 [00:01<00:00, 73.81it/s]\n"
     ]
    },
    {
     "name": "stdout",
     "output_type": "stream",
     "text": [
      "Epoch 8/10, Loss: 0.6556\n"
     ]
    },
    {
     "name": "stderr",
     "output_type": "stream",
     "text": [
      "Epoch 9/10: 100%|██████████| 121/121 [00:01<00:00, 73.20it/s]\n"
     ]
    },
    {
     "name": "stdout",
     "output_type": "stream",
     "text": [
      "Epoch 9/10, Loss: 0.6497\n"
     ]
    },
    {
     "name": "stderr",
     "output_type": "stream",
     "text": [
      "Epoch 10/10: 100%|██████████| 121/121 [00:01<00:00, 73.65it/s]\n"
     ]
    },
    {
     "name": "stdout",
     "output_type": "stream",
     "text": [
      "Epoch 10/10, Loss: 0.6428\n",
      "\n",
      "Evaluating...\n"
     ]
    },
    {
     "name": "stderr",
     "output_type": "stream",
     "text": [
      "100%|██████████| 769/769 [00:14<00:00, 52.98it/s]\n"
     ]
    },
    {
     "name": "stdout",
     "output_type": "stream",
     "text": [
      "Average Precision@K: 0.1404\n",
      "Average Recall@K: 0.028\n",
      "Average F1@K: 0.0414\n",
      "Average Average Precision: 0.1234\n",
      "Best Precision@K: 0.75\n",
      "Best Recall@K: 0.2609\n",
      "Best F1@K: 0.2791\n",
      "Best Average Precision 0.7431\n",
      "MRR: 0.4618\n",
      "Average NDCG: 0.3618\n",
      "================================================================\n",
      "NeuralCollaborativeFiltering -> LTRLinearRegressionRecommender\n",
      "Training...\n"
     ]
    },
    {
     "name": "stderr",
     "output_type": "stream",
     "text": [
      "Epoch 1/10: 100%|██████████| 2446/2446 [00:06<00:00, 404.07batch/s, loss=0.582]\n",
      "Epoch 2/10: 100%|██████████| 2446/2446 [00:06<00:00, 404.00batch/s, loss=0.563]\n",
      "Epoch 3/10: 100%|██████████| 2446/2446 [00:06<00:00, 399.43batch/s, loss=0.558]\n",
      "Epoch 4/10: 100%|██████████| 2446/2446 [00:06<00:00, 394.09batch/s, loss=0.555]\n",
      "Epoch 5/10: 100%|██████████| 2446/2446 [00:06<00:00, 397.30batch/s, loss=0.554]\n",
      "Epoch 6/10: 100%|██████████| 2446/2446 [00:05<00:00, 407.84batch/s, loss=0.553]\n",
      "Epoch 7/10: 100%|██████████| 2446/2446 [00:06<00:00, 401.32batch/s, loss=0.552]\n",
      "Epoch 8/10: 100%|██████████| 2446/2446 [00:06<00:00, 401.73batch/s, loss=0.551]\n",
      "Epoch 9/10: 100%|██████████| 2446/2446 [00:06<00:00, 398.54batch/s, loss=0.55] \n",
      "Epoch 10/10: 100%|██████████| 2446/2446 [00:06<00:00, 394.46batch/s, loss=0.55] \n"
     ]
    },
    {
     "name": "stdout",
     "output_type": "stream",
     "text": [
      "\n",
      "Evaluating...\n"
     ]
    },
    {
     "name": "stderr",
     "output_type": "stream",
     "text": [
      "100%|██████████| 769/769 [01:18<00:00,  9.84it/s]\n"
     ]
    },
    {
     "name": "stdout",
     "output_type": "stream",
     "text": [
      "Average Precision@K: 0.0676\n",
      "Average Recall@K: 0.0138\n",
      "Average F1@K: 0.0202\n",
      "Average Average Precision: 0.0989\n",
      "Best Precision@K: 0.45\n",
      "Best Recall@K: 0.1739\n",
      "Best F1@K: 0.186\n",
      "Best Average Precision 0.6971\n",
      "MRR: 0.6261\n",
      "Average NDCG: 0.3288\n",
      "================================================================\n",
      "FunkSVDCollaborativeFiltering -> RankNetRecommender\n",
      "Training...\n",
      "Preprocessing data...\n",
      "\n",
      "Epoch 1/100  | took 0.2 sec\n",
      "Epoch 2/100  | took 0.0 sec\n",
      "Epoch 3/100  | took 0.0 sec\n",
      "Epoch 4/100  | took 0.0 sec\n",
      "Epoch 5/100  | took 0.0 sec\n",
      "Epoch 6/100  | took 0.0 sec\n",
      "Epoch 7/100  | took 0.0 sec\n",
      "Epoch 8/100  | took 0.0 sec\n",
      "Epoch 9/100  | took 0.0 sec\n",
      "Epoch 10/100 | took 0.0 sec\n",
      "Epoch 11/100 | took 0.0 sec\n",
      "Epoch 12/100 | took 0.0 sec\n",
      "Epoch 13/100 | took 0.0 sec\n",
      "Epoch 14/100 | took 0.0 sec\n",
      "Epoch 15/100 | took 0.0 sec\n",
      "Epoch 16/100 | took 0.0 sec\n",
      "Epoch 17/100 | took 0.0 sec\n",
      "Epoch 18/100 | took 0.0 sec\n",
      "Epoch 19/100 | took 0.0 sec\n",
      "Epoch 20/100 | took 0.0 sec\n",
      "Epoch 21/100 | took 0.0 sec\n",
      "Epoch 22/100 | took 0.0 sec\n",
      "Epoch 23/100 | took 0.0 sec\n",
      "Epoch 24/100 | took 0.0 sec\n",
      "Epoch 25/100 | took 0.0 sec\n",
      "Epoch 26/100 | took 0.0 sec\n",
      "Epoch 27/100 | took 0.0 sec\n",
      "Epoch 28/100 | took 0.0 sec\n",
      "Epoch 29/100 | took 0.0 sec\n",
      "Epoch 30/100 | took 0.0 sec\n",
      "Epoch 31/100 | took 0.0 sec\n",
      "Epoch 32/100 | took 0.0 sec\n",
      "Epoch 33/100 | took 0.0 sec\n",
      "Epoch 34/100 | took 0.0 sec\n",
      "Epoch 35/100 | took 0.0 sec\n",
      "Epoch 36/100 | took 0.0 sec\n",
      "Epoch 37/100 | took 0.0 sec\n",
      "Epoch 38/100 | took 0.0 sec\n",
      "Epoch 39/100 | took 0.0 sec\n",
      "Epoch 40/100 | took 0.0 sec\n",
      "Epoch 41/100 | took 0.0 sec\n",
      "Epoch 42/100 | took 0.0 sec\n",
      "Epoch 43/100 | took 0.0 sec\n",
      "Epoch 44/100 | took 0.0 sec\n",
      "Epoch 45/100 | took 0.0 sec\n",
      "Epoch 46/100 | took 0.0 sec\n",
      "Epoch 47/100 | took 0.0 sec\n",
      "Epoch 48/100 | took 0.0 sec\n",
      "Epoch 49/100 | took 0.0 sec\n",
      "Epoch 50/100 | took 0.0 sec\n",
      "Epoch 51/100 | took 0.0 sec\n",
      "Epoch 52/100 | took 0.0 sec\n",
      "Epoch 53/100 | took 0.0 sec\n",
      "Epoch 54/100 | took 0.0 sec\n",
      "Epoch 55/100 | took 0.0 sec\n",
      "Epoch 56/100 | took 0.0 sec\n",
      "Epoch 57/100 | took 0.0 sec\n",
      "Epoch 58/100 | took 0.0 sec\n",
      "Epoch 59/100 | took 0.0 sec\n",
      "Epoch 60/100 | took 0.0 sec\n",
      "Epoch 61/100 | took 0.0 sec\n",
      "Epoch 62/100 | took 0.0 sec\n",
      "Epoch 63/100 | took 0.0 sec\n",
      "Epoch 64/100 | took 0.0 sec\n",
      "Epoch 65/100 | took 0.0 sec\n",
      "Epoch 66/100 | took 0.0 sec\n",
      "Epoch 67/100 | took 0.0 sec\n",
      "Epoch 68/100 | took 0.0 sec\n",
      "Epoch 69/100 | took 0.0 sec\n",
      "Epoch 70/100 | took 0.0 sec\n",
      "Epoch 71/100 | took 0.0 sec\n",
      "Epoch 72/100 | took 0.0 sec\n",
      "Epoch 73/100 | took 0.0 sec\n",
      "Epoch 74/100 | took 0.0 sec\n",
      "Epoch 75/100 | took 0.0 sec\n",
      "Epoch 76/100 | took 0.0 sec\n",
      "Epoch 77/100 | took 0.0 sec\n",
      "Epoch 78/100 | took 0.0 sec\n",
      "Epoch 79/100 | took 0.0 sec\n",
      "Epoch 80/100 | took 0.0 sec\n",
      "Epoch 81/100 | took 0.0 sec\n",
      "Epoch 82/100 | took 0.0 sec\n",
      "Epoch 83/100 | took 0.0 sec\n",
      "Epoch 84/100 | took 0.0 sec\n",
      "Epoch 85/100 | took 0.0 sec\n",
      "Epoch 86/100 | took 0.0 sec\n",
      "Epoch 87/100 | took 0.0 sec\n",
      "Epoch 88/100 | took 0.0 sec\n",
      "Epoch 89/100 | took 0.0 sec\n",
      "Epoch 90/100 | took 0.0 sec\n",
      "Epoch 91/100 | took 0.0 sec\n",
      "Epoch 92/100 | took 0.0 sec\n",
      "Epoch 93/100 | took 0.0 sec\n",
      "Epoch 94/100 | took 0.0 sec\n",
      "Epoch 95/100 | took 0.0 sec\n",
      "Epoch 96/100 | took 0.0 sec\n",
      "Epoch 97/100 | took 0.0 sec\n",
      "Epoch 98/100 | took 0.0 sec\n",
      "Epoch 99/100 | took 0.0 sec\n",
      "Epoch 100/100 | took 0.0 sec\n",
      "\n",
      "Training took 1 sec\n"
     ]
    },
    {
     "name": "stderr",
     "output_type": "stream",
     "text": [
      "Epoch 1/10: 100%|██████████| 121/121 [00:01<00:00, 73.56it/s]\n"
     ]
    },
    {
     "name": "stdout",
     "output_type": "stream",
     "text": [
      "Epoch 1/10, Loss: 0.6940\n"
     ]
    },
    {
     "name": "stderr",
     "output_type": "stream",
     "text": [
      "Epoch 2/10: 100%|██████████| 121/121 [00:01<00:00, 74.15it/s]\n"
     ]
    },
    {
     "name": "stdout",
     "output_type": "stream",
     "text": [
      "Epoch 2/10, Loss: 0.6865\n"
     ]
    },
    {
     "name": "stderr",
     "output_type": "stream",
     "text": [
      "Epoch 3/10: 100%|██████████| 121/121 [00:01<00:00, 73.93it/s]\n"
     ]
    },
    {
     "name": "stdout",
     "output_type": "stream",
     "text": [
      "Epoch 3/10, Loss: 0.6831\n"
     ]
    },
    {
     "name": "stderr",
     "output_type": "stream",
     "text": [
      "Epoch 4/10: 100%|██████████| 121/121 [00:01<00:00, 72.87it/s]\n"
     ]
    },
    {
     "name": "stdout",
     "output_type": "stream",
     "text": [
      "Epoch 4/10, Loss: 0.6777\n"
     ]
    },
    {
     "name": "stderr",
     "output_type": "stream",
     "text": [
      "Epoch 5/10: 100%|██████████| 121/121 [00:01<00:00, 73.39it/s]\n"
     ]
    },
    {
     "name": "stdout",
     "output_type": "stream",
     "text": [
      "Epoch 5/10, Loss: 0.6716\n"
     ]
    },
    {
     "name": "stderr",
     "output_type": "stream",
     "text": [
      "Epoch 6/10: 100%|██████████| 121/121 [00:01<00:00, 73.99it/s]\n"
     ]
    },
    {
     "name": "stdout",
     "output_type": "stream",
     "text": [
      "Epoch 6/10, Loss: 0.6669\n"
     ]
    },
    {
     "name": "stderr",
     "output_type": "stream",
     "text": [
      "Epoch 7/10: 100%|██████████| 121/121 [00:01<00:00, 73.60it/s]\n"
     ]
    },
    {
     "name": "stdout",
     "output_type": "stream",
     "text": [
      "Epoch 7/10, Loss: 0.6617\n"
     ]
    },
    {
     "name": "stderr",
     "output_type": "stream",
     "text": [
      "Epoch 8/10: 100%|██████████| 121/121 [00:01<00:00, 73.37it/s]\n"
     ]
    },
    {
     "name": "stdout",
     "output_type": "stream",
     "text": [
      "Epoch 8/10, Loss: 0.6583\n"
     ]
    },
    {
     "name": "stderr",
     "output_type": "stream",
     "text": [
      "Epoch 9/10: 100%|██████████| 121/121 [00:01<00:00, 74.02it/s]\n"
     ]
    },
    {
     "name": "stdout",
     "output_type": "stream",
     "text": [
      "Epoch 9/10, Loss: 0.6549\n"
     ]
    },
    {
     "name": "stderr",
     "output_type": "stream",
     "text": [
      "Epoch 10/10: 100%|██████████| 121/121 [00:01<00:00, 73.45it/s]\n"
     ]
    },
    {
     "name": "stdout",
     "output_type": "stream",
     "text": [
      "Epoch 10/10, Loss: 0.6488\n",
      "\n",
      "Evaluating...\n"
     ]
    },
    {
     "name": "stderr",
     "output_type": "stream",
     "text": [
      "100%|██████████| 769/769 [00:25<00:00, 30.19it/s]\n"
     ]
    },
    {
     "name": "stdout",
     "output_type": "stream",
     "text": [
      "Average Precision@K: 0.1263\n",
      "Average Recall@K: 0.0252\n",
      "Average F1@K: 0.0374\n",
      "Average Average Precision: 0.1143\n",
      "Best Precision@K: 0.75\n",
      "Best Recall@K: 0.2609\n",
      "Best F1@K: 0.2791\n",
      "Best Average Precision 0.8203\n",
      "MRR: 0.4646\n",
      "Average NDCG: 0.355\n",
      "================================================================\n",
      "FunkSVDCollaborativeFiltering -> LTRLinearRegressionRecommender\n",
      "Training...\n",
      "Preprocessing data...\n",
      "\n",
      "Epoch 1/100  | took 0.0 sec\n",
      "Epoch 2/100  | took 0.0 sec\n",
      "Epoch 3/100  | took 0.0 sec\n",
      "Epoch 4/100  | took 0.0 sec\n",
      "Epoch 5/100  | took 0.0 sec\n",
      "Epoch 6/100  | took 0.0 sec\n",
      "Epoch 7/100  | took 0.0 sec\n",
      "Epoch 8/100  | took 0.0 sec\n",
      "Epoch 9/100  | took 0.0 sec\n",
      "Epoch 10/100 | took 0.0 sec\n",
      "Epoch 11/100 | took 0.0 sec\n",
      "Epoch 12/100 | took 0.0 sec\n",
      "Epoch 13/100 | took 0.0 sec\n",
      "Epoch 14/100 | took 0.0 sec\n",
      "Epoch 15/100 | took 0.0 sec\n",
      "Epoch 16/100 | took 0.0 sec\n",
      "Epoch 17/100 | took 0.0 sec\n",
      "Epoch 18/100 | took 0.0 sec\n",
      "Epoch 19/100 | took 0.0 sec\n",
      "Epoch 20/100 | took 0.0 sec\n",
      "Epoch 21/100 | took 0.0 sec\n",
      "Epoch 22/100 | took 0.0 sec\n",
      "Epoch 23/100 | took 0.0 sec\n",
      "Epoch 24/100 | took 0.0 sec\n",
      "Epoch 25/100 | took 0.0 sec\n",
      "Epoch 26/100 | took 0.0 sec\n",
      "Epoch 27/100 | took 0.0 sec\n",
      "Epoch 28/100 | took 0.0 sec\n",
      "Epoch 29/100 | took 0.0 sec\n",
      "Epoch 30/100 | took 0.0 sec\n",
      "Epoch 31/100 | took 0.0 sec\n",
      "Epoch 32/100 | took 0.0 sec\n",
      "Epoch 33/100 | took 0.0 sec\n",
      "Epoch 34/100 | took 0.0 sec\n",
      "Epoch 35/100 | took 0.0 sec\n",
      "Epoch 36/100 | took 0.0 sec\n",
      "Epoch 37/100 | took 0.0 sec\n",
      "Epoch 38/100 | took 0.0 sec\n",
      "Epoch 39/100 | took 0.0 sec\n",
      "Epoch 40/100 | took 0.0 sec\n",
      "Epoch 41/100 | took 0.0 sec\n",
      "Epoch 42/100 | took 0.0 sec\n",
      "Epoch 43/100 | took 0.0 sec\n",
      "Epoch 44/100 | took 0.0 sec\n",
      "Epoch 45/100 | took 0.0 sec\n",
      "Epoch 46/100 | took 0.0 sec\n",
      "Epoch 47/100 | took 0.0 sec\n",
      "Epoch 48/100 | took 0.0 sec\n",
      "Epoch 49/100 | took 0.0 sec\n",
      "Epoch 50/100 | took 0.0 sec\n",
      "Epoch 51/100 | took 0.0 sec\n",
      "Epoch 52/100 | took 0.0 sec\n",
      "Epoch 53/100 | took 0.0 sec\n",
      "Epoch 54/100 | took 0.0 sec\n",
      "Epoch 55/100 | took 0.0 sec\n",
      "Epoch 56/100 | took 0.0 sec\n",
      "Epoch 57/100 | took 0.0 sec\n",
      "Epoch 58/100 | took 0.0 sec\n",
      "Epoch 59/100 | took 0.0 sec\n",
      "Epoch 60/100 | took 0.0 sec\n",
      "Epoch 61/100 | took 0.0 sec\n",
      "Epoch 62/100 | took 0.0 sec\n",
      "Epoch 63/100 | took 0.0 sec\n",
      "Epoch 64/100 | took 0.0 sec\n",
      "Epoch 65/100 | took 0.0 sec\n",
      "Epoch 66/100 | took 0.0 sec\n",
      "Epoch 67/100 | took 0.0 sec\n",
      "Epoch 68/100 | took 0.0 sec\n",
      "Epoch 69/100 | took 0.0 sec\n",
      "Epoch 70/100 | took 0.0 sec\n",
      "Epoch 71/100 | took 0.0 sec\n",
      "Epoch 72/100 | took 0.0 sec\n",
      "Epoch 73/100 | took 0.0 sec\n",
      "Epoch 74/100 | took 0.0 sec\n",
      "Epoch 75/100 | took 0.0 sec\n",
      "Epoch 76/100 | took 0.0 sec\n",
      "Epoch 77/100 | took 0.0 sec\n",
      "Epoch 78/100 | took 0.0 sec\n",
      "Epoch 79/100 | took 0.0 sec\n",
      "Epoch 80/100 | took 0.0 sec\n",
      "Epoch 81/100 | took 0.0 sec\n",
      "Epoch 82/100 | took 0.0 sec\n",
      "Epoch 83/100 | took 0.0 sec\n",
      "Epoch 84/100 | took 0.0 sec\n",
      "Epoch 85/100 | took 0.0 sec\n",
      "Epoch 86/100 | took 0.0 sec\n",
      "Epoch 87/100 | took 0.0 sec\n",
      "Epoch 88/100 | took 0.0 sec\n",
      "Epoch 89/100 | took 0.0 sec\n",
      "Epoch 90/100 | took 0.0 sec\n",
      "Epoch 91/100 | took 0.0 sec\n",
      "Epoch 92/100 | took 0.0 sec\n",
      "Epoch 93/100 | took 0.0 sec\n",
      "Epoch 94/100 | took 0.0 sec\n",
      "Epoch 95/100 | took 0.0 sec\n",
      "Epoch 96/100 | took 0.0 sec\n",
      "Epoch 97/100 | took 0.0 sec\n",
      "Epoch 98/100 | took 0.0 sec\n",
      "Epoch 99/100 | took 0.0 sec\n",
      "Epoch 100/100 | took 0.0 sec\n",
      "\n",
      "Training took 1 sec\n",
      "\n",
      "Evaluating...\n"
     ]
    },
    {
     "name": "stderr",
     "output_type": "stream",
     "text": [
      "100%|██████████| 769/769 [00:52<00:00, 14.77it/s]\n"
     ]
    },
    {
     "name": "stdout",
     "output_type": "stream",
     "text": [
      "Average Precision@K: 0.1127\n",
      "Average Recall@K: 0.0216\n",
      "Average F1@K: 0.032\n",
      "Average Average Precision: 0.1098\n",
      "Best Precision@K: 0.85\n",
      "Best Recall@K: 0.2609\n",
      "Best F1@K: 0.2791\n",
      "Best Average Precision 0.8698\n",
      "MRR: 0.5032\n",
      "Average NDCG: 0.3418\n",
      "================================================================\n",
      "SVDALSCollaborativeFiltering -> RankNetRecommender\n",
      "Training...\n"
     ]
    },
    {
     "name": "stderr",
     "output_type": "stream",
     "text": [
      "/Users/markson/Desktop/UCU/UCU_5K2S_RecommenderSystems_Project/experiments/15_two_stage_recommendation/../../src/models/factorization_svd_als.py:22: FutureWarning: Downcasting object dtype arrays on .fillna, .ffill, .bfill is deprecated and will change in a future version. Call result.infer_objects(copy=False) instead. To opt-in to the future behavior, set `pd.set_option('future.no_silent_downcasting', True)`\n",
      "  utility_matrix = utility_matrix_df.fillna(0)\n",
      "Epoch 1/10: 100%|██████████| 121/121 [00:01<00:00, 71.17it/s]\n"
     ]
    },
    {
     "name": "stdout",
     "output_type": "stream",
     "text": [
      "Epoch 1/10, Loss: 0.6911\n"
     ]
    },
    {
     "name": "stderr",
     "output_type": "stream",
     "text": [
      "Epoch 2/10: 100%|██████████| 121/121 [00:01<00:00, 71.23it/s]\n"
     ]
    },
    {
     "name": "stdout",
     "output_type": "stream",
     "text": [
      "Epoch 2/10, Loss: 0.6849\n"
     ]
    },
    {
     "name": "stderr",
     "output_type": "stream",
     "text": [
      "Epoch 3/10: 100%|██████████| 121/121 [00:01<00:00, 71.15it/s]\n"
     ]
    },
    {
     "name": "stdout",
     "output_type": "stream",
     "text": [
      "Epoch 3/10, Loss: 0.6807\n"
     ]
    },
    {
     "name": "stderr",
     "output_type": "stream",
     "text": [
      "Epoch 4/10: 100%|██████████| 121/121 [00:01<00:00, 71.47it/s]\n"
     ]
    },
    {
     "name": "stdout",
     "output_type": "stream",
     "text": [
      "Epoch 4/10, Loss: 0.6776\n"
     ]
    },
    {
     "name": "stderr",
     "output_type": "stream",
     "text": [
      "Epoch 5/10: 100%|██████████| 121/121 [00:01<00:00, 71.78it/s]\n"
     ]
    },
    {
     "name": "stdout",
     "output_type": "stream",
     "text": [
      "Epoch 5/10, Loss: 0.6706\n"
     ]
    },
    {
     "name": "stderr",
     "output_type": "stream",
     "text": [
      "Epoch 6/10: 100%|██████████| 121/121 [00:01<00:00, 71.23it/s]\n"
     ]
    },
    {
     "name": "stdout",
     "output_type": "stream",
     "text": [
      "Epoch 6/10, Loss: 0.6682\n"
     ]
    },
    {
     "name": "stderr",
     "output_type": "stream",
     "text": [
      "Epoch 7/10: 100%|██████████| 121/121 [00:01<00:00, 70.53it/s]\n"
     ]
    },
    {
     "name": "stdout",
     "output_type": "stream",
     "text": [
      "Epoch 7/10, Loss: 0.6605\n"
     ]
    },
    {
     "name": "stderr",
     "output_type": "stream",
     "text": [
      "Epoch 8/10: 100%|██████████| 121/121 [00:01<00:00, 71.81it/s]\n"
     ]
    },
    {
     "name": "stdout",
     "output_type": "stream",
     "text": [
      "Epoch 8/10, Loss: 0.6545\n"
     ]
    },
    {
     "name": "stderr",
     "output_type": "stream",
     "text": [
      "Epoch 9/10: 100%|██████████| 121/121 [00:01<00:00, 70.61it/s]\n"
     ]
    },
    {
     "name": "stdout",
     "output_type": "stream",
     "text": [
      "Epoch 9/10, Loss: 0.6532\n"
     ]
    },
    {
     "name": "stderr",
     "output_type": "stream",
     "text": [
      "Epoch 10/10: 100%|██████████| 121/121 [00:01<00:00, 70.08it/s]\n"
     ]
    },
    {
     "name": "stdout",
     "output_type": "stream",
     "text": [
      "Epoch 10/10, Loss: 0.6474\n",
      "\n",
      "Evaluating...\n"
     ]
    },
    {
     "name": "stderr",
     "output_type": "stream",
     "text": [
      "100%|██████████| 769/769 [01:09<00:00, 11.03it/s]\n"
     ]
    },
    {
     "name": "stdout",
     "output_type": "stream",
     "text": [
      "Average Precision@K: 0.3386\n",
      "Average Recall@K: 0.0698\n",
      "Average F1@K: 0.1033\n",
      "Average Average Precision: 0.3341\n",
      "Best Precision@K: 1.0\n",
      "Best Recall@K: 0.3478\n",
      "Best F1@K: 0.3721\n",
      "Best Average Precision 1.0\n",
      "MRR: 0.5726\n",
      "Average NDCG: 0.6138\n",
      "================================================================\n",
      "SVDALSCollaborativeFiltering -> LTRLinearRegressionRecommender\n",
      "Training...\n"
     ]
    },
    {
     "name": "stderr",
     "output_type": "stream",
     "text": [
      "/Users/markson/Desktop/UCU/UCU_5K2S_RecommenderSystems_Project/experiments/15_two_stage_recommendation/../../src/models/factorization_svd_als.py:22: FutureWarning: Downcasting object dtype arrays on .fillna, .ffill, .bfill is deprecated and will change in a future version. Call result.infer_objects(copy=False) instead. To opt-in to the future behavior, set `pd.set_option('future.no_silent_downcasting', True)`\n",
      "  utility_matrix = utility_matrix_df.fillna(0)\n"
     ]
    },
    {
     "name": "stdout",
     "output_type": "stream",
     "text": [
      "\n",
      "Evaluating...\n"
     ]
    },
    {
     "name": "stderr",
     "output_type": "stream",
     "text": [
      "100%|██████████| 769/769 [00:33<00:00, 23.08it/s]\n"
     ]
    },
    {
     "name": "stdout",
     "output_type": "stream",
     "text": [
      "Average Precision@K: 0.3343\n",
      "Average Recall@K: 0.0707\n",
      "Average F1@K: 0.1041\n",
      "Average Average Precision: 0.3357\n",
      "Best Precision@K: 1.0\n",
      "Best Recall@K: 0.3333\n",
      "Best F1@K: 0.3636\n",
      "Best Average Precision 1.0\n",
      "MRR: 0.5556\n",
      "Average NDCG: 0.6189\n",
      "================================================================\n",
      "SVDCollaborativeFiltering -> RankNetRecommender\n",
      "Training...\n"
     ]
    },
    {
     "name": "stderr",
     "output_type": "stream",
     "text": [
      "/Users/markson/Desktop/UCU/UCU_5K2S_RecommenderSystems_Project/experiments/15_two_stage_recommendation/../../src/models/factorization_svd.py:27: FutureWarning: Downcasting object dtype arrays on .fillna, .ffill, .bfill is deprecated and will change in a future version. Call result.infer_objects(copy=False) instead. To opt-in to the future behavior, set `pd.set_option('future.no_silent_downcasting', True)`\n",
      "  utility_matrix_df = utility_matrix_df.fillna(global_mean)\n",
      "Epoch 1/10: 100%|██████████| 121/121 [00:01<00:00, 67.48it/s]\n"
     ]
    },
    {
     "name": "stdout",
     "output_type": "stream",
     "text": [
      "Epoch 1/10, Loss: 0.6928\n"
     ]
    },
    {
     "name": "stderr",
     "output_type": "stream",
     "text": [
      "Epoch 2/10: 100%|██████████| 121/121 [00:01<00:00, 71.59it/s]\n"
     ]
    },
    {
     "name": "stdout",
     "output_type": "stream",
     "text": [
      "Epoch 2/10, Loss: 0.6865\n"
     ]
    },
    {
     "name": "stderr",
     "output_type": "stream",
     "text": [
      "Epoch 3/10: 100%|██████████| 121/121 [00:01<00:00, 68.20it/s]\n"
     ]
    },
    {
     "name": "stdout",
     "output_type": "stream",
     "text": [
      "Epoch 3/10, Loss: 0.6825\n"
     ]
    },
    {
     "name": "stderr",
     "output_type": "stream",
     "text": [
      "Epoch 4/10: 100%|██████████| 121/121 [00:01<00:00, 61.33it/s]\n"
     ]
    },
    {
     "name": "stdout",
     "output_type": "stream",
     "text": [
      "Epoch 4/10, Loss: 0.6756\n"
     ]
    },
    {
     "name": "stderr",
     "output_type": "stream",
     "text": [
      "Epoch 5/10: 100%|██████████| 121/121 [00:01<00:00, 70.89it/s]\n"
     ]
    },
    {
     "name": "stdout",
     "output_type": "stream",
     "text": [
      "Epoch 5/10, Loss: 0.6713\n"
     ]
    },
    {
     "name": "stderr",
     "output_type": "stream",
     "text": [
      "Epoch 6/10: 100%|██████████| 121/121 [00:01<00:00, 70.87it/s]\n"
     ]
    },
    {
     "name": "stdout",
     "output_type": "stream",
     "text": [
      "Epoch 6/10, Loss: 0.6656\n"
     ]
    },
    {
     "name": "stderr",
     "output_type": "stream",
     "text": [
      "Epoch 7/10: 100%|██████████| 121/121 [00:01<00:00, 67.19it/s]\n"
     ]
    },
    {
     "name": "stdout",
     "output_type": "stream",
     "text": [
      "Epoch 7/10, Loss: 0.6591\n"
     ]
    },
    {
     "name": "stderr",
     "output_type": "stream",
     "text": [
      "Epoch 8/10: 100%|██████████| 121/121 [00:01<00:00, 68.52it/s]\n"
     ]
    },
    {
     "name": "stdout",
     "output_type": "stream",
     "text": [
      "Epoch 8/10, Loss: 0.6577\n"
     ]
    },
    {
     "name": "stderr",
     "output_type": "stream",
     "text": [
      "Epoch 9/10: 100%|██████████| 121/121 [00:01<00:00, 67.77it/s]\n"
     ]
    },
    {
     "name": "stdout",
     "output_type": "stream",
     "text": [
      "Epoch 9/10, Loss: 0.6503\n"
     ]
    },
    {
     "name": "stderr",
     "output_type": "stream",
     "text": [
      "Epoch 10/10: 100%|██████████| 121/121 [00:01<00:00, 68.88it/s]\n"
     ]
    },
    {
     "name": "stdout",
     "output_type": "stream",
     "text": [
      "Epoch 10/10, Loss: 0.6457\n",
      "\n",
      "Evaluating...\n"
     ]
    },
    {
     "name": "stderr",
     "output_type": "stream",
     "text": [
      "100%|██████████| 769/769 [00:13<00:00, 55.10it/s]\n"
     ]
    },
    {
     "name": "stdout",
     "output_type": "stream",
     "text": [
      "Average Precision@K: 0.3062\n",
      "Average Recall@K: 0.0613\n",
      "Average F1@K: 0.0911\n",
      "Average Average Precision: 0.3083\n",
      "Best Precision@K: 1.0\n",
      "Best Recall@K: 0.3226\n",
      "Best F1@K: 0.3922\n",
      "Best Average Precision 1.0\n",
      "MRR: 0.5516\n",
      "Average NDCG: 0.5887\n",
      "================================================================\n",
      "SVDCollaborativeFiltering -> LTRLinearRegressionRecommender\n",
      "Training...\n"
     ]
    },
    {
     "name": "stderr",
     "output_type": "stream",
     "text": [
      "/Users/markson/Desktop/UCU/UCU_5K2S_RecommenderSystems_Project/experiments/15_two_stage_recommendation/../../src/models/factorization_svd.py:27: FutureWarning: Downcasting object dtype arrays on .fillna, .ffill, .bfill is deprecated and will change in a future version. Call result.infer_objects(copy=False) instead. To opt-in to the future behavior, set `pd.set_option('future.no_silent_downcasting', True)`\n",
      "  utility_matrix_df = utility_matrix_df.fillna(global_mean)\n"
     ]
    },
    {
     "name": "stdout",
     "output_type": "stream",
     "text": [
      "\n",
      "Evaluating...\n"
     ]
    },
    {
     "name": "stderr",
     "output_type": "stream",
     "text": [
      "100%|██████████| 769/769 [00:32<00:00, 23.83it/s]\n"
     ]
    },
    {
     "name": "stdout",
     "output_type": "stream",
     "text": [
      "Average Precision@K: 0.2824\n",
      "Average Recall@K: 0.0588\n",
      "Average F1@K: 0.0866\n",
      "Average Average Precision: 0.2902\n",
      "Best Precision@K: 0.95\n",
      "Best Recall@K: 0.3143\n",
      "Best F1@K: 0.4\n",
      "Best Average Precision 0.9949\n",
      "MRR: 0.5483\n",
      "Average NDCG: 0.5754\n",
      "================================================================\n",
      "SVDGradientDescentRecommender -> RankNetRecommender\n",
      "Training...\n"
     ]
    },
    {
     "name": "stderr",
     "output_type": "stream",
     "text": [
      " 10%|█         | 1/10 [00:03<00:33,  3.76s/it]"
     ]
    },
    {
     "name": "stdout",
     "output_type": "stream",
     "text": [
      "Iteration 1: MSE = 4.393693412299051\n"
     ]
    },
    {
     "name": "stderr",
     "output_type": "stream",
     "text": [
      " 20%|██        | 2/10 [00:07<00:29,  3.69s/it]"
     ]
    },
    {
     "name": "stdout",
     "output_type": "stream",
     "text": [
      "Iteration 2: MSE = 1.1946223317873608\n"
     ]
    },
    {
     "name": "stderr",
     "output_type": "stream",
     "text": [
      " 30%|███       | 3/10 [00:11<00:25,  3.67s/it]"
     ]
    },
    {
     "name": "stdout",
     "output_type": "stream",
     "text": [
      "Iteration 3: MSE = 0.9336374228206705\n"
     ]
    },
    {
     "name": "stderr",
     "output_type": "stream",
     "text": [
      " 40%|████      | 4/10 [00:14<00:22,  3.68s/it]"
     ]
    },
    {
     "name": "stdout",
     "output_type": "stream",
     "text": [
      "Iteration 4: MSE = 0.8717126243784228\n"
     ]
    },
    {
     "name": "stderr",
     "output_type": "stream",
     "text": [
      " 50%|█████     | 5/10 [00:18<00:18,  3.67s/it]"
     ]
    },
    {
     "name": "stdout",
     "output_type": "stream",
     "text": [
      "Iteration 5: MSE = 0.8420136366260791\n"
     ]
    },
    {
     "name": "stderr",
     "output_type": "stream",
     "text": [
      " 60%|██████    | 6/10 [00:22<00:14,  3.67s/it]"
     ]
    },
    {
     "name": "stdout",
     "output_type": "stream",
     "text": [
      "Iteration 6: MSE = 0.8234628336873565\n"
     ]
    },
    {
     "name": "stderr",
     "output_type": "stream",
     "text": [
      " 70%|███████   | 7/10 [00:25<00:11,  3.67s/it]"
     ]
    },
    {
     "name": "stdout",
     "output_type": "stream",
     "text": [
      "Iteration 7: MSE = 0.8096925515151326\n"
     ]
    },
    {
     "name": "stderr",
     "output_type": "stream",
     "text": [
      " 80%|████████  | 8/10 [00:29<00:07,  3.67s/it]"
     ]
    },
    {
     "name": "stdout",
     "output_type": "stream",
     "text": [
      "Iteration 8: MSE = 0.7982153813880216\n"
     ]
    },
    {
     "name": "stderr",
     "output_type": "stream",
     "text": [
      " 90%|█████████ | 9/10 [00:33<00:03,  3.68s/it]"
     ]
    },
    {
     "name": "stdout",
     "output_type": "stream",
     "text": [
      "Iteration 9: MSE = 0.7880315909479996\n"
     ]
    },
    {
     "name": "stderr",
     "output_type": "stream",
     "text": [
      "100%|██████████| 10/10 [00:36<00:00,  3.68s/it]\n"
     ]
    },
    {
     "name": "stdout",
     "output_type": "stream",
     "text": [
      "Iteration 10: MSE = 0.7787894786069085\n"
     ]
    },
    {
     "name": "stderr",
     "output_type": "stream",
     "text": [
      "Epoch 1/10: 100%|██████████| 121/121 [00:01<00:00, 71.37it/s]\n"
     ]
    },
    {
     "name": "stdout",
     "output_type": "stream",
     "text": [
      "Epoch 1/10, Loss: 0.6933\n"
     ]
    },
    {
     "name": "stderr",
     "output_type": "stream",
     "text": [
      "Epoch 2/10: 100%|██████████| 121/121 [00:01<00:00, 69.79it/s]\n"
     ]
    },
    {
     "name": "stdout",
     "output_type": "stream",
     "text": [
      "Epoch 2/10, Loss: 0.6851\n"
     ]
    },
    {
     "name": "stderr",
     "output_type": "stream",
     "text": [
      "Epoch 3/10: 100%|██████████| 121/121 [00:01<00:00, 68.51it/s]\n"
     ]
    },
    {
     "name": "stdout",
     "output_type": "stream",
     "text": [
      "Epoch 3/10, Loss: 0.6819\n"
     ]
    },
    {
     "name": "stderr",
     "output_type": "stream",
     "text": [
      "Epoch 4/10: 100%|██████████| 121/121 [00:01<00:00, 71.22it/s]\n"
     ]
    },
    {
     "name": "stdout",
     "output_type": "stream",
     "text": [
      "Epoch 4/10, Loss: 0.6782\n"
     ]
    },
    {
     "name": "stderr",
     "output_type": "stream",
     "text": [
      "Epoch 5/10: 100%|██████████| 121/121 [00:01<00:00, 71.17it/s]\n"
     ]
    },
    {
     "name": "stdout",
     "output_type": "stream",
     "text": [
      "Epoch 5/10, Loss: 0.6698\n"
     ]
    },
    {
     "name": "stderr",
     "output_type": "stream",
     "text": [
      "Epoch 6/10: 100%|██████████| 121/121 [00:01<00:00, 69.08it/s]\n"
     ]
    },
    {
     "name": "stdout",
     "output_type": "stream",
     "text": [
      "Epoch 6/10, Loss: 0.6667\n"
     ]
    },
    {
     "name": "stderr",
     "output_type": "stream",
     "text": [
      "Epoch 7/10: 100%|██████████| 121/121 [00:01<00:00, 69.82it/s]\n"
     ]
    },
    {
     "name": "stdout",
     "output_type": "stream",
     "text": [
      "Epoch 7/10, Loss: 0.6614\n"
     ]
    },
    {
     "name": "stderr",
     "output_type": "stream",
     "text": [
      "Epoch 8/10: 100%|██████████| 121/121 [00:01<00:00, 68.24it/s]\n"
     ]
    },
    {
     "name": "stdout",
     "output_type": "stream",
     "text": [
      "Epoch 8/10, Loss: 0.6565\n"
     ]
    },
    {
     "name": "stderr",
     "output_type": "stream",
     "text": [
      "Epoch 9/10: 100%|██████████| 121/121 [00:01<00:00, 64.36it/s]\n"
     ]
    },
    {
     "name": "stdout",
     "output_type": "stream",
     "text": [
      "Epoch 9/10, Loss: 0.6523\n"
     ]
    },
    {
     "name": "stderr",
     "output_type": "stream",
     "text": [
      "Epoch 10/10: 100%|██████████| 121/121 [00:01<00:00, 71.86it/s]\n"
     ]
    },
    {
     "name": "stdout",
     "output_type": "stream",
     "text": [
      "Epoch 10/10, Loss: 0.6505\n",
      "\n",
      "Evaluating...\n"
     ]
    },
    {
     "name": "stderr",
     "output_type": "stream",
     "text": [
      "100%|██████████| 769/769 [01:15<00:00, 10.16it/s]\n"
     ]
    },
    {
     "name": "stdout",
     "output_type": "stream",
     "text": [
      "Average Precision@K: 0.1967\n",
      "Average Recall@K: 0.0396\n",
      "Average F1@K: 0.0586\n",
      "Average Average Precision: 0.1595\n",
      "Best Precision@K: 0.95\n",
      "Best Recall@K: 0.3913\n",
      "Best F1@K: 0.4186\n",
      "Best Average Precision 0.9921\n",
      "MRR: 0.4018\n",
      "Average NDCG: 0.4295\n",
      "================================================================\n",
      "SVDGradientDescentRecommender -> LTRLinearRegressionRecommender\n",
      "Training...\n"
     ]
    },
    {
     "name": "stderr",
     "output_type": "stream",
     "text": [
      " 10%|█         | 1/10 [00:03<00:33,  3.76s/it]"
     ]
    },
    {
     "name": "stdout",
     "output_type": "stream",
     "text": [
      "Iteration 1: MSE = 4.573067945219303\n"
     ]
    },
    {
     "name": "stderr",
     "output_type": "stream",
     "text": [
      " 20%|██        | 2/10 [00:07<00:29,  3.74s/it]"
     ]
    },
    {
     "name": "stdout",
     "output_type": "stream",
     "text": [
      "Iteration 2: MSE = 1.1896253601948956\n"
     ]
    },
    {
     "name": "stderr",
     "output_type": "stream",
     "text": [
      " 30%|███       | 3/10 [00:11<00:25,  3.71s/it]"
     ]
    },
    {
     "name": "stdout",
     "output_type": "stream",
     "text": [
      "Iteration 3: MSE = 0.9346016071222842\n"
     ]
    },
    {
     "name": "stderr",
     "output_type": "stream",
     "text": [
      " 40%|████      | 4/10 [00:14<00:22,  3.72s/it]"
     ]
    },
    {
     "name": "stdout",
     "output_type": "stream",
     "text": [
      "Iteration 4: MSE = 0.8741104790903588\n"
     ]
    },
    {
     "name": "stderr",
     "output_type": "stream",
     "text": [
      " 50%|█████     | 5/10 [00:18<00:18,  3.70s/it]"
     ]
    },
    {
     "name": "stdout",
     "output_type": "stream",
     "text": [
      "Iteration 5: MSE = 0.8453497512913821\n"
     ]
    },
    {
     "name": "stderr",
     "output_type": "stream",
     "text": [
      " 60%|██████    | 6/10 [00:22<00:14,  3.68s/it]"
     ]
    },
    {
     "name": "stdout",
     "output_type": "stream",
     "text": [
      "Iteration 6: MSE = 0.8277370654553488\n"
     ]
    },
    {
     "name": "stderr",
     "output_type": "stream",
     "text": [
      " 70%|███████   | 7/10 [00:25<00:11,  3.67s/it]"
     ]
    },
    {
     "name": "stdout",
     "output_type": "stream",
     "text": [
      "Iteration 7: MSE = 0.8149186637605536\n"
     ]
    },
    {
     "name": "stderr",
     "output_type": "stream",
     "text": [
      " 80%|████████  | 8/10 [00:29<00:07,  3.67s/it]"
     ]
    },
    {
     "name": "stdout",
     "output_type": "stream",
     "text": [
      "Iteration 8: MSE = 0.8042410697995725\n"
     ]
    },
    {
     "name": "stderr",
     "output_type": "stream",
     "text": [
      " 90%|█████████ | 9/10 [00:33<00:03,  3.67s/it]"
     ]
    },
    {
     "name": "stdout",
     "output_type": "stream",
     "text": [
      "Iteration 9: MSE = 0.7944996034249878\n"
     ]
    },
    {
     "name": "stderr",
     "output_type": "stream",
     "text": [
      "100%|██████████| 10/10 [00:36<00:00,  3.68s/it]\n"
     ]
    },
    {
     "name": "stdout",
     "output_type": "stream",
     "text": [
      "Iteration 10: MSE = 0.7852339348210748\n",
      "\n",
      "Evaluating...\n"
     ]
    },
    {
     "name": "stderr",
     "output_type": "stream",
     "text": [
      "100%|██████████| 769/769 [00:32<00:00, 23.35it/s]"
     ]
    },
    {
     "name": "stdout",
     "output_type": "stream",
     "text": [
      "Average Precision@K: 0.12\n",
      "Average Recall@K: 0.0236\n",
      "Average F1@K: 0.0349\n",
      "Average Average Precision: 0.1227\n",
      "Best Precision@K: 0.8\n",
      "Best Recall@K: 0.2609\n",
      "Best F1@K: 0.2791\n",
      "Best Average Precision 0.9058\n",
      "MRR: 0.5459\n",
      "Average NDCG: 0.3737\n"
     ]
    },
    {
     "name": "stderr",
     "output_type": "stream",
     "text": [
      "\n"
     ]
    }
   ],
   "source": [
    "two_stage_combos = [\n",
    "    (PopularityBasedRecommender, RankNetRecommender),\n",
    "    (PopularityBasedRecommender, LTRLinearRegressionRecommender),\n",
    "    (ItemItemCollaborativeFiltering, RankNetRecommender),\n",
    "    (ItemItemCollaborativeFiltering, LTRLinearRegressionRecommender),\n",
    "    (UserUserColaborativeFiltering,RankNetRecommender),\n",
    "    (UserUserColaborativeFiltering, LTRLinearRegressionRecommender),\n",
    "    (NeuralCollaborativeFiltering, RankNetRecommender),\n",
    "    (NeuralCollaborativeFiltering, LTRLinearRegressionRecommender),\n",
    "    (FunkSVDCollaborativeFiltering, RankNetRecommender),\n",
    "    (FunkSVDCollaborativeFiltering, LTRLinearRegressionRecommender),\n",
    "    (SVDALSCollaborativeFiltering, RankNetRecommender),\n",
    "    (SVDALSCollaborativeFiltering, LTRLinearRegressionRecommender),\n",
    "    (SVDCollaborativeFiltering, RankNetRecommender),\n",
    "    (SVDCollaborativeFiltering, LTRLinearRegressionRecommender),\n",
    "    (SVDGradientDescentRecommender, RankNetRecommender),\n",
    "    (SVDGradientDescentRecommender, LTRLinearRegressionRecommender),\n",
    "]\n",
    "\n",
    "for candidate_generator_class, ranker_class in two_stage_combos:\n",
    "    print(\"================================================================\")\n",
    "    print(f\"{candidate_generator_class.__name__} -> {ranker_class.__name__}\")\n",
    "    print(\"Training...\")\n",
    "    candidate_generator = candidate_generator_class(ml_movies_df, ml_users_df)\n",
    "    ranker = ranker_class(ml_movies_df, ml_users_df)\n",
    "    two_stage_recommender = TwoStageRecommender(ml_movies_df, ml_users_df, candidate_generator, ranker)\n",
    "    two_stage_recommender.fit(ml_ratings_train_df)\n",
    "    print(\"\\nEvaluating...\")\n",
    "    metrics = two_stage_recommender.evaluate(ml_ratings_test_df, k=MAX_K)\n",
    "    print(\"Average Precision@K:\", round(np.mean(metrics[\"precision@k\"]), 4))\n",
    "    print(\"Average Recall@K:\", round(np.mean(metrics[\"recall@k\"]), 4))\n",
    "    print(\"Average F1@K:\", round(np.mean(metrics[\"f1@k\"]), 4))\n",
    "    print(\"Average Average Precision:\", round(np.mean(metrics[\"average_precision\"]), 4))\n",
    "    print(\"Best Precision@K:\", round(np.max(metrics[\"precision@k\"]), 4))\n",
    "    print(\"Best Recall@K:\", round(np.max(metrics[\"recall@k\"]), 4))\n",
    "    print(\"Best F1@K:\", round(np.max(metrics[\"f1@k\"]), 4))\n",
    "    print(\"Best Average Precision\", round(np.max(metrics[\"average_precision\"]), 4))\n",
    "    print(\"MRR:\", round(np.mean(metrics[\"reciprocal_rank\"]), 4))\n",
    "    print(\"Average NDCG:\", round(np.mean(metrics[\"ndcg\"]), 4))"
   ]
  },
  {
   "cell_type": "markdown",
   "metadata": {},
   "source": [
    "### The two stage recommendation pipeline reduces the computation costs by ranking only a subset of most relevant items. It also provides the flexibility to use different combination of models for candidate generation and ranking. But such approach introduces extra complexity so it may be harder to debug and suboptimal results in the candidate generation step propagates to the ranking step, acting as bottleneck. Also, candidate generator may eliminate the potential good candidates for the ranker."
   ]
  }
 ],
 "metadata": {
  "kernelspec": {
   "display_name": "venv",
   "language": "python",
   "name": "python3"
  },
  "language_info": {
   "codemirror_mode": {
    "name": "ipython",
    "version": 3
   },
   "file_extension": ".py",
   "mimetype": "text/x-python",
   "name": "python",
   "nbconvert_exporter": "python",
   "pygments_lexer": "ipython3",
   "version": "3.9.19"
  }
 },
 "nbformat": 4,
 "nbformat_minor": 2
}
