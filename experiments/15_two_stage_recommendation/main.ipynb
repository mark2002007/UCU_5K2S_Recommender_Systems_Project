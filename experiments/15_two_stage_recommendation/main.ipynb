{
 "cells": [
  {
   "cell_type": "code",
   "execution_count": 7,
   "metadata": {
    "ExecuteTime": {
     "end_time": "2024-06-16T08:15:59.615835Z",
     "start_time": "2024-06-16T08:15:57.800229Z"
    }
   },
   "outputs": [],
   "source": [
    "import os\n",
    "ROOT = os.path.join('..', '..')\n",
    "import sys\n",
    "sys.path.append(ROOT)\n",
    "# \n",
    "import numpy as np\n",
    "np.random.seed(42)\n",
    "\n",
    "# from src.models import RankNetRecommender"
   ]
  },
  {
   "cell_type": "code",
   "execution_count": 8,
   "metadata": {},
   "outputs": [],
   "source": [
    "from src.utils import read_ml, ml_train_test_split\n",
    "\n",
    "ml_complete_df, ml_users_df, ml_ratings_df, ml_movies_df, ml_genres_df = read_ml()\n",
    "\n",
    "MAX_K = 20\n",
    "ml_ratings_train_df, ml_ratings_test_df = ml_train_test_split(ml_ratings_df=ml_ratings_df, min_user_test_samples=MAX_K)"
   ]
  },
  {
   "cell_type": "code",
   "execution_count": 9,
   "metadata": {},
   "outputs": [
    {
     "name": "stderr",
     "output_type": "stream",
     "text": [
      "/Users/markson/Desktop/UCU/UCU_5K2S_RecommenderSystems_Project/venv/lib/python3.9/site-packages/sklearn/decomposition/_nmf.py:1759: ConvergenceWarning: Maximum number of iterations 200 reached. Increase it to improve convergence.\n",
      "  warnings.warn(\n",
      "Epoch 1/1: 100%|██████████| 121/121 [00:01<00:00, 68.17it/s]\n"
     ]
    },
    {
     "name": "stdout",
     "output_type": "stream",
     "text": [
      "Epoch 1/1, Loss: 0.6936\n"
     ]
    },
    {
     "name": "stderr",
     "output_type": "stream",
     "text": [
      "100%|██████████| 769/769 [01:16<00:00, 10.06it/s]"
     ]
    },
    {
     "name": "stdout",
     "output_type": "stream",
     "text": [
      "Predictive metrics\n",
      "Average Precision@K: 0.0951\n",
      "Average Recall@K: 0.011\n",
      "Average F1@K: 0.0183\n",
      "Average NDCG: 0.2534\n",
      "Mean Reciprocal Rank: 0.7725\n"
     ]
    },
    {
     "name": "stderr",
     "output_type": "stream",
     "text": [
      "\n"
     ]
    }
   ],
   "source": [
    "import numpy as np\n",
    "import pandas as pd\n",
    "from sklearn.decomposition import NMF\n",
    "from sklearn.preprocessing import LabelEncoder\n",
    "from src.models.base import BaseRecommender\n",
    "from src.models import RankNetRecommender\n",
    "import torch\n",
    "\n",
    "class CandidateGenerator:\n",
    "    def __init__(self, n_components=20):\n",
    "        self.n_components = n_components\n",
    "        self.model = NMF(n_components=self.n_components, init='random', random_state=0)\n",
    "        self.user_encoder = LabelEncoder()\n",
    "        self.movie_encoder = LabelEncoder()\n",
    "\n",
    "    def fit(self, ml_ratings_train_df):\n",
    "        self.user_encoder.fit(ml_ratings_train_df['UserID'])\n",
    "        self.movie_encoder.fit(ml_ratings_train_df['MovieID'])\n",
    "        \n",
    "        user_ids = self.user_encoder.transform(ml_ratings_train_df['UserID'])\n",
    "        movie_ids = self.movie_encoder.transform(ml_ratings_train_df['MovieID'])\n",
    "        ratings = ml_ratings_train_df['Rating'].values\n",
    "        \n",
    "        rating_matrix = np.zeros((len(self.user_encoder.classes_), len(self.movie_encoder.classes_)))\n",
    "        rating_matrix[user_ids, movie_ids] = ratings\n",
    "        \n",
    "        self.model.fit(rating_matrix)\n",
    "        self.user_features = self.model.transform(rating_matrix)\n",
    "        self.movie_features = self.model.components_.T\n",
    "\n",
    "    def generate_candidates(self, user_id, top_n=100):\n",
    "        try:\n",
    "            user_index = self.user_encoder.transform([user_id])[0]\n",
    "            user_features = self.user_features[user_index]\n",
    "        except ValueError:\n",
    "            user_features = np.mean(self.user_features, axis=0)\n",
    "        \n",
    "        user_ratings = np.dot(user_features, self.movie_features.T)\n",
    "        \n",
    "        movie_indices = np.argpartition(user_ratings, -top_n)[-top_n:]\n",
    "        movie_ids = self.movie_encoder.inverse_transform(movie_indices)\n",
    "        \n",
    "        return movie_ids, user_ratings[movie_indices]\n",
    "\n",
    "class TwoStageRecommender(BaseRecommender):\n",
    "    def __init__(self, ml_movies_df, ml_users_df, candidate_generator, ranker):\n",
    "        super().__init__(ml_movies_df, ml_users_df)\n",
    "        self.candidate_generator = candidate_generator\n",
    "        self.ranker = ranker\n",
    "\n",
    "    def fit(self, ml_ratings_train_df):\n",
    "        self.candidate_generator.fit(ml_ratings_train_df)\n",
    "        self.ranker.fit(ml_ratings_train_df)\n",
    "\n",
    "    def predict(self, user_id, n_recommendations=10):\n",
    "        candidates, candidate_scores = self.candidate_generator.generate_candidates(user_id, top_n=100)\n",
    "        ranker_scores = self.ranker.predict(user_id, n_recommendations=len(candidates))\n",
    "        \n",
    "        ranker_scores = ranker_scores.reindex(candidates, fill_value=0)\n",
    "        \n",
    "        final_scores = 0.3 * candidate_scores + 0.7 * ranker_scores['Score'].values\n",
    "        \n",
    "        top_indices = np.argpartition(final_scores, -n_recommendations)[-n_recommendations:]\n",
    "        top_candidates = candidates[top_indices]\n",
    "        top_scores = final_scores[top_indices]\n",
    "        \n",
    "        return pd.DataFrame({\n",
    "            'MovieID': top_candidates,\n",
    "            'Score': top_scores\n",
    "        }).set_index('MovieID')\n",
    "\n",
    "# Usage example\n",
    "candidate_generator = CandidateGenerator(n_components=50)\n",
    "ranker = RankNetRecommender(ml_movies_df, ml_users_df, epochs=1)\n",
    "\n",
    "recommender = TwoStageRecommender(ml_movies_df, ml_users_df, candidate_generator, ranker)\n",
    "recommender.fit(ml_ratings_train_df)\n",
    "\n",
    "metrics = recommender.evaluate(ml_ratings_test_df, k=10)\n",
    "print(\"Predictive metrics\")\n",
    "print(\"Average Precision@K:\", round(np.mean(metrics[\"precision@k\"]), 4))\n",
    "print(\"Average Recall@K:\", round(np.mean(metrics[\"recall@k\"]), 4))\n",
    "print(\"Average F1@K:\", round(np.mean(metrics[\"f1@k\"]), 4))\n",
    "print(\"Average NDCG:\", round(np.mean(metrics[\"ndcg\"]), 4))\n",
    "print(\"Mean Reciprocal Rank:\", round(np.mean(metrics[\"reciprocal_rank\"]), 4))"
   ]
  },
  {
   "cell_type": "code",
   "execution_count": 10,
   "metadata": {},
   "outputs": [
    {
     "name": "stderr",
     "output_type": "stream",
     "text": [
      "100%|██████████| 769/769 [01:20<00:00,  9.49it/s]"
     ]
    },
    {
     "name": "stdout",
     "output_type": "stream",
     "text": [
      "Predictive metrics\n",
      "Average Precision@K: 0.1071\n",
      "Average Recall@K: 0.0243\n",
      "Average F1@K: 0.035\n",
      "Average Average Precision: 0.1127\n",
      "\n",
      "Best Precision@K: 0.95\n",
      "Best Recall@K: 0.25\n",
      "Best F1@K: 0.2917\n",
      "Best Average Precision 0.9753\n",
      "\n",
      "Ranking metrics\n",
      "MRR: 0.6105\n",
      "Average NDCG: 0.311\n"
     ]
    },
    {
     "name": "stderr",
     "output_type": "stream",
     "text": [
      "\n"
     ]
    }
   ],
   "source": [
    "metrics = recommender.evaluate(ml_ratings_test_df, k=MAX_K)\n",
    "print(\"Predictive metrics\")\n",
    "print(\"Average Precision@K:\", round(np.mean(metrics[\"precision@k\"]), 4))\n",
    "print(\"Average Recall@K:\", round(np.mean(metrics[\"recall@k\"]), 4))\n",
    "print(\"Average F1@K:\", round(np.mean(metrics[\"f1@k\"]), 4))\n",
    "print(\"Average Average Precision:\", round(np.mean(metrics[\"average_precision\"]), 4))\n",
    "print()\n",
    "print(\"Best Precision@K:\", round(np.max(metrics[\"precision@k\"]), 4))\n",
    "print(\"Best Recall@K:\", round(np.max(metrics[\"recall@k\"]), 4))\n",
    "print(\"Best F1@K:\", round(np.max(metrics[\"f1@k\"]), 4))\n",
    "print(\"Best Average Precision\", round(np.max(metrics[\"average_precision\"]), 4))\n",
    "print()\n",
    "print(\"Ranking metrics\")\n",
    "print(\"MRR:\", round(np.mean(metrics[\"reciprocal_rank\"]), 4))\n",
    "print(\"Average NDCG:\", round(np.mean(metrics[\"ndcg\"]), 4))"
   ]
  },
  {
   "cell_type": "code",
   "execution_count": null,
   "metadata": {},
   "outputs": [],
   "source": []
  }
 ],
 "metadata": {
  "kernelspec": {
   "display_name": "venv",
   "language": "python",
   "name": "python3"
  },
  "language_info": {
   "codemirror_mode": {
    "name": "ipython",
    "version": 3
   },
   "file_extension": ".py",
   "mimetype": "text/x-python",
   "name": "python",
   "nbconvert_exporter": "python",
   "pygments_lexer": "ipython3",
   "version": "3.9.19"
  }
 },
 "nbformat": 4,
 "nbformat_minor": 2
}
