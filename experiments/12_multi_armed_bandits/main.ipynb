{
 "cells": [
  {
   "cell_type": "code",
   "execution_count": 1,
   "metadata": {
    "ExecuteTime": {
     "end_time": "2024-06-16T08:15:59.615835Z",
     "start_time": "2024-06-16T08:15:57.800229Z"
    }
   },
   "outputs": [],
   "source": [
    "import os\n",
    "ROOT = os.path.join('..', '..')\n",
    "import sys\n",
    "sys.path.append(ROOT)\n",
    "# \n",
    "import numpy as np\n",
    "np.random.seed(42)\n",
    "\n",
    "from src.models import MultiArmedBanditsRecommender"
   ]
  },
  {
   "cell_type": "code",
   "execution_count": 2,
   "metadata": {},
   "outputs": [],
   "source": [
    "from src.utils import read_ml, ml_train_test_split\n",
    "\n",
    "ml_complete_df, ml_users_df, ml_ratings_df, ml_movies_df, ml_genres_df = read_ml()\n",
    "\n",
    "MAX_K = 20\n",
    "ml_ratings_train_df, ml_ratings_test_df = ml_train_test_split(ml_ratings_df=ml_ratings_df, min_user_test_samples=MAX_K)"
   ]
  },
  {
   "cell_type": "code",
   "execution_count": 3,
   "metadata": {},
   "outputs": [],
   "source": [
    "n_iter = 50000"
   ]
  },
  {
   "cell_type": "code",
   "execution_count": 4,
   "metadata": {},
   "outputs": [
    {
     "name": "stderr",
     "output_type": "stream",
     "text": [
      "100%|██████████| 50000/50000 [00:04<00:00, 11004.65it/s] top movies (id: rating):  1663: 5.00,  2860: 5.00,  3120: 5.00,  2842: 5.00,   667: 5.00]\n",
      "100%|██████████| 50000/50000 [00:04<00:00, 10999.41it/s, top movies (id: rating):  1663: 5.00,  2860: 5.00,  3120: 5.00,  2842: 5.00,   667: 5.00]\n"
     ]
    }
   ],
   "source": [
    "recommender = MultiArmedBanditsRecommender(ml_movies_df, ml_users_df)\n",
    "recommender.fit(ml_ratings_train_df, strategy='epsilon', epsilon=0.5, iterations=n_iter)"
   ]
  },
  {
   "cell_type": "code",
   "execution_count": 5,
   "metadata": {},
   "outputs": [
    {
     "name": "stderr",
     "output_type": "stream",
     "text": [
      "100%|██████████| 769/769 [00:06<00:00, 117.37it/s]"
     ]
    },
    {
     "name": "stdout",
     "output_type": "stream",
     "text": [
      "Predictive metrics\n",
      "Average Precision@K: 0.0714\n",
      "Average Recall@K: 0.0088\n",
      "Average F1@K: 0.0142\n",
      "Average Average Precision: 0.0923\n",
      "\n",
      "Best Precision@K: 0.65\n",
      "Best Recall@K: 0.0909\n",
      "Best F1@K: 0.0984\n",
      "Best Average Precision 0.7669\n",
      "\n",
      "Ranking metrics\n",
      "MRR: 0.741\n",
      "Average NDCG: 0.3052\n"
     ]
    },
    {
     "name": "stderr",
     "output_type": "stream",
     "text": [
      "\n"
     ]
    }
   ],
   "source": [
    "metrics = recommender.evaluate(ml_ratings_test_df, k=MAX_K)\n",
    "print(\"Predictive metrics\")\n",
    "print(\"Average Precision@K:\", round(np.mean(metrics[\"precision@k\"]), 4))\n",
    "print(\"Average Recall@K:\", round(np.mean(metrics[\"recall@k\"]), 4))\n",
    "print(\"Average F1@K:\", round(np.mean(metrics[\"f1@k\"]), 4))\n",
    "print(\"Average Average Precision:\", round(np.mean(metrics[\"average_precision\"]), 4))\n",
    "print()\n",
    "print(\"Best Precision@K:\", round(np.max(metrics[\"precision@k\"]), 4))\n",
    "print(\"Best Recall@K:\", round(np.max(metrics[\"recall@k\"]), 4))\n",
    "print(\"Best F1@K:\", round(np.max(metrics[\"f1@k\"]), 4))\n",
    "print(\"Best Average Precision\", round(np.max(metrics[\"average_precision\"]), 4))\n",
    "print()\n",
    "print(\"Ranking metrics\")\n",
    "print(\"MRR:\", round(np.mean(metrics[\"reciprocal_rank\"]), 4))\n",
    "print(\"Average NDCG:\", round(np.mean(metrics[\"ndcg\"]), 4))"
   ]
  },
  {
   "cell_type": "code",
   "execution_count": 6,
   "metadata": {},
   "outputs": [
    {
     "name": "stderr",
     "output_type": "stream",
     "text": [
      "100%|██████████| 50000/50000 [00:13<00:00, 3584.92it/s] top movies (id: rating):  1070: 5.00,  1663: 5.00,  3232: 5.00,  2930: 5.00,  2196: 5.00]\n",
      "100%|██████████| 50000/50000 [00:13<00:00, 3583.95it/s, top movies (id: rating):  1070: 5.00,  1663: 5.00,  3232: 5.00,  2930: 5.00,  2196: 5.00]\n"
     ]
    }
   ],
   "source": [
    "recommender = MultiArmedBanditsRecommender(ml_movies_df, ml_users_df)\n",
    "recommender.fit(ml_ratings_train_df, strategy='ucb', c=2, iterations=n_iter)"
   ]
  },
  {
   "cell_type": "code",
   "execution_count": 7,
   "metadata": {},
   "outputs": [
    {
     "name": "stderr",
     "output_type": "stream",
     "text": [
      "100%|██████████| 769/769 [00:06<00:00, 115.56it/s]"
     ]
    },
    {
     "name": "stdout",
     "output_type": "stream",
     "text": [
      "Predictive metrics\n",
      "Average Precision@K: 0.0714\n",
      "Average Recall@K: 0.0088\n",
      "Average F1@K: 0.0142\n",
      "Average Average Precision: 0.0923\n",
      "\n",
      "Best Precision@K: 0.65\n",
      "Best Recall@K: 0.0909\n",
      "Best F1@K: 0.0984\n",
      "Best Average Precision 0.7669\n",
      "\n",
      "Ranking metrics\n",
      "MRR: 0.741\n",
      "Average NDCG: 0.3052\n"
     ]
    },
    {
     "name": "stderr",
     "output_type": "stream",
     "text": [
      "\n"
     ]
    }
   ],
   "source": [
    "metrics = recommender.evaluate(ml_ratings_test_df, k=MAX_K)\n",
    "print(\"Predictive metrics\")\n",
    "print(\"Average Precision@K:\", round(np.mean(metrics[\"precision@k\"]), 4))\n",
    "print(\"Average Recall@K:\", round(np.mean(metrics[\"recall@k\"]), 4))\n",
    "print(\"Average F1@K:\", round(np.mean(metrics[\"f1@k\"]), 4))\n",
    "print(\"Average Average Precision:\", round(np.mean(metrics[\"average_precision\"]), 4))\n",
    "print()\n",
    "print(\"Best Precision@K:\", round(np.max(metrics[\"precision@k\"]), 4))\n",
    "print(\"Best Recall@K:\", round(np.max(metrics[\"recall@k\"]), 4))\n",
    "print(\"Best F1@K:\", round(np.max(metrics[\"f1@k\"]), 4))\n",
    "print(\"Best Average Precision\", round(np.max(metrics[\"average_precision\"]), 4))\n",
    "print()\n",
    "print(\"Ranking metrics\")\n",
    "print(\"MRR:\", round(np.mean(metrics[\"reciprocal_rank\"]), 4))\n",
    "print(\"Average NDCG:\", round(np.mean(metrics[\"ndcg\"]), 4))"
   ]
  },
  {
   "cell_type": "code",
   "execution_count": 8,
   "metadata": {},
   "outputs": [
    {
     "name": "stderr",
     "output_type": "stream",
     "text": [
      "100%|██████████| 50000/50000 [00:21<00:00, 2322.45it/s] top movies (id: rating):  2196: 5.00,  3232: 5.00,  2191: 5.00,  2055: 5.00,  1070: 5.00]\n",
      "100%|██████████| 50000/50000 [00:21<00:00, 2322.26it/s, top movies (id: rating):  2196: 5.00,  3232: 5.00,  2191: 5.00,  2055: 5.00,  1070: 5.00]\n"
     ]
    }
   ],
   "source": [
    "recommender = MultiArmedBanditsRecommender(ml_movies_df, ml_users_df)\n",
    "recommender.fit(ml_ratings_train_df, strategy='thompson', iterations=n_iter, alpha_prior=1, beta_prior=1)"
   ]
  },
  {
   "cell_type": "code",
   "execution_count": 10,
   "metadata": {},
   "outputs": [
    {
     "name": "stderr",
     "output_type": "stream",
     "text": [
      "100%|██████████| 769/769 [00:06<00:00, 116.44it/s]"
     ]
    },
    {
     "name": "stdout",
     "output_type": "stream",
     "text": [
      "Predictive metrics\n",
      "Average Precision@K: 0.0714\n",
      "Average Recall@K: 0.0088\n",
      "Average F1@K: 0.0142\n",
      "Average Average Precision: 0.0923\n",
      "\n",
      "Best Precision@K: 0.65\n",
      "Best Recall@K: 0.0909\n",
      "Best F1@K: 0.0984\n",
      "Best Average Precision 0.7669\n",
      "\n",
      "Ranking metrics\n",
      "MRR: 0.741\n",
      "Average NDCG: 0.3052\n"
     ]
    },
    {
     "name": "stderr",
     "output_type": "stream",
     "text": [
      "\n"
     ]
    }
   ],
   "source": [
    "metrics = recommender.evaluate(ml_ratings_test_df, k=MAX_K)\n",
    "print(\"Predictive metrics\")\n",
    "print(\"Average Precision@K:\", round(np.mean(metrics[\"precision@k\"]), 4))\n",
    "print(\"Average Recall@K:\", round(np.mean(metrics[\"recall@k\"]), 4))\n",
    "print(\"Average F1@K:\", round(np.mean(metrics[\"f1@k\"]), 4))\n",
    "print(\"Average Average Precision:\", round(np.mean(metrics[\"average_precision\"]), 4))\n",
    "print()\n",
    "print(\"Best Precision@K:\", round(np.max(metrics[\"precision@k\"]), 4))\n",
    "print(\"Best Recall@K:\", round(np.max(metrics[\"recall@k\"]), 4))\n",
    "print(\"Best F1@K:\", round(np.max(metrics[\"f1@k\"]), 4))\n",
    "print(\"Best Average Precision\", round(np.max(metrics[\"average_precision\"]), 4))\n",
    "print()\n",
    "print(\"Ranking metrics\")\n",
    "print(\"MRR:\", round(np.mean(metrics[\"reciprocal_rank\"]), 4))\n",
    "print(\"Average NDCG:\", round(np.mean(metrics[\"ndcg\"]), 4))"
   ]
  }
 ],
 "metadata": {
  "kernelspec": {
   "display_name": "venv",
   "language": "python",
   "name": "python3"
  },
  "language_info": {
   "codemirror_mode": {
    "name": "ipython",
    "version": 3
   },
   "file_extension": ".py",
   "mimetype": "text/x-python",
   "name": "python",
   "nbconvert_exporter": "python",
   "pygments_lexer": "ipython3",
   "version": "3.9.19"
  }
 },
 "nbformat": 4,
 "nbformat_minor": 2
}
